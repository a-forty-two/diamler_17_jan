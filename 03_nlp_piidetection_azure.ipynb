{
  "nbformat": 4,
  "nbformat_minor": 0,
  "metadata": {
    "colab": {
      "name": "03 nlp azure.ipynb",
      "provenance": [],
      "authorship_tag": "ABX9TyN368XvltdOEjnuT2OgFyEo",
      "include_colab_link": true
    },
    "kernelspec": {
      "name": "python3",
      "display_name": "Python 3"
    },
    "language_info": {
      "name": "python"
    }
  },
  "cells": [
    {
      "cell_type": "markdown",
      "metadata": {
        "id": "view-in-github",
        "colab_type": "text"
      },
      "source": [
        "<a href=\"https://colab.research.google.com/github/a-forty-two/diamler_17_jan/blob/main/03_nlp_piidetection_azure.ipynb\" target=\"_parent\"><img src=\"https://colab.research.google.com/assets/colab-badge.svg\" alt=\"Open In Colab\"/></a>"
      ]
    },
    {
      "cell_type": "code",
      "execution_count": 3,
      "metadata": {
        "colab": {
          "base_uri": "https://localhost:8080/",
          "height": 714
        },
        "id": "oUZsS7XeJl-2",
        "outputId": "0bb55f33-bf21-4f9a-c3fb-f0da7b3215c0"
      },
      "outputs": [
        {
          "output_type": "stream",
          "name": "stdout",
          "text": [
            "Requirement already satisfied: azure-ai-textanalytics==5.1.0 in /usr/local/lib/python3.7/dist-packages (5.1.0)\n",
            "Requirement already satisfied: msrest>=0.6.21 in /usr/local/lib/python3.7/dist-packages (from azure-ai-textanalytics==5.1.0) (0.6.21)\n",
            "Requirement already satisfied: azure-core<2.0.0,>=1.14.0 in /usr/local/lib/python3.7/dist-packages (from azure-ai-textanalytics==5.1.0) (1.21.1)\n",
            "Requirement already satisfied: six>=1.11.0 in /usr/local/lib/python3.7/dist-packages (from azure-ai-textanalytics==5.1.0) (1.15.0)\n",
            "Requirement already satisfied: azure-common~=1.1 in /usr/local/lib/python3.7/dist-packages (from azure-ai-textanalytics==5.1.0) (1.1.27)\n",
            "Requirement already satisfied: requests>=2.18.4 in /usr/local/lib/python3.7/dist-packages (from azure-core<2.0.0,>=1.14.0->azure-ai-textanalytics==5.1.0) (2.23.0)\n",
            "Requirement already satisfied: isodate>=0.6.0 in /usr/local/lib/python3.7/dist-packages (from msrest>=0.6.21->azure-ai-textanalytics==5.1.0) (0.6.1)\n",
            "Requirement already satisfied: certifi>=2017.4.17 in /usr/local/lib/python3.7/dist-packages (from msrest>=0.6.21->azure-ai-textanalytics==5.1.0) (2021.10.8)\n",
            "Requirement already satisfied: requests-oauthlib>=0.5.0 in /usr/local/lib/python3.7/dist-packages (from msrest>=0.6.21->azure-ai-textanalytics==5.1.0) (1.3.0)\n",
            "Requirement already satisfied: chardet<4,>=3.0.2 in /usr/local/lib/python3.7/dist-packages (from requests>=2.18.4->azure-core<2.0.0,>=1.14.0->azure-ai-textanalytics==5.1.0) (3.0.4)\n",
            "Requirement already satisfied: urllib3!=1.25.0,!=1.25.1,<1.26,>=1.21.1 in /usr/local/lib/python3.7/dist-packages (from requests>=2.18.4->azure-core<2.0.0,>=1.14.0->azure-ai-textanalytics==5.1.0) (1.24.3)\n",
            "Requirement already satisfied: idna<3,>=2.5 in /usr/local/lib/python3.7/dist-packages (from requests>=2.18.4->azure-core<2.0.0,>=1.14.0->azure-ai-textanalytics==5.1.0) (2.10)\n",
            "Requirement already satisfied: oauthlib>=3.0.0 in /usr/local/lib/python3.7/dist-packages (from requests-oauthlib>=0.5.0->msrest>=0.6.21->azure-ai-textanalytics==5.1.0) (3.1.1)\n",
            "Collecting azure-storage-blob\n",
            "  Downloading azure_storage_blob-12.9.0-py2.py3-none-any.whl (356 kB)\n",
            "\u001b[K     |████████████████████████████████| 356 kB 24.5 MB/s \n",
            "\u001b[?25hCollecting cryptography>=2.1.4\n",
            "  Downloading cryptography-36.0.1-cp36-abi3-manylinux_2_24_x86_64.whl (3.6 MB)\n",
            "\u001b[K     |████████████████████████████████| 3.6 MB 58.6 MB/s \n",
            "\u001b[?25hRequirement already satisfied: azure-core<2.0.0,>=1.10.0 in /usr/local/lib/python3.7/dist-packages (from azure-storage-blob) (1.21.1)\n",
            "Requirement already satisfied: msrest>=0.6.21 in /usr/local/lib/python3.7/dist-packages (from azure-storage-blob) (0.6.21)\n",
            "Requirement already satisfied: six>=1.11.0 in /usr/local/lib/python3.7/dist-packages (from azure-core<2.0.0,>=1.10.0->azure-storage-blob) (1.15.0)\n",
            "Requirement already satisfied: requests>=2.18.4 in /usr/local/lib/python3.7/dist-packages (from azure-core<2.0.0,>=1.10.0->azure-storage-blob) (2.23.0)\n",
            "Requirement already satisfied: cffi>=1.12 in /usr/local/lib/python3.7/dist-packages (from cryptography>=2.1.4->azure-storage-blob) (1.15.0)\n",
            "Requirement already satisfied: pycparser in /usr/local/lib/python3.7/dist-packages (from cffi>=1.12->cryptography>=2.1.4->azure-storage-blob) (2.21)\n",
            "Requirement already satisfied: certifi>=2017.4.17 in /usr/local/lib/python3.7/dist-packages (from msrest>=0.6.21->azure-storage-blob) (2021.10.8)\n",
            "Requirement already satisfied: requests-oauthlib>=0.5.0 in /usr/local/lib/python3.7/dist-packages (from msrest>=0.6.21->azure-storage-blob) (1.3.0)\n",
            "Requirement already satisfied: isodate>=0.6.0 in /usr/local/lib/python3.7/dist-packages (from msrest>=0.6.21->azure-storage-blob) (0.6.1)\n",
            "Requirement already satisfied: urllib3!=1.25.0,!=1.25.1,<1.26,>=1.21.1 in /usr/local/lib/python3.7/dist-packages (from requests>=2.18.4->azure-core<2.0.0,>=1.10.0->azure-storage-blob) (1.24.3)\n",
            "Requirement already satisfied: idna<3,>=2.5 in /usr/local/lib/python3.7/dist-packages (from requests>=2.18.4->azure-core<2.0.0,>=1.10.0->azure-storage-blob) (2.10)\n",
            "Requirement already satisfied: chardet<4,>=3.0.2 in /usr/local/lib/python3.7/dist-packages (from requests>=2.18.4->azure-core<2.0.0,>=1.10.0->azure-storage-blob) (3.0.4)\n",
            "Requirement already satisfied: oauthlib>=3.0.0 in /usr/local/lib/python3.7/dist-packages (from requests-oauthlib>=0.5.0->msrest>=0.6.21->azure-storage-blob) (3.1.1)\n",
            "Installing collected packages: cryptography, azure-storage-blob\n",
            "Successfully installed azure-storage-blob-12.9.0 cryptography-36.0.1\n"
          ]
        },
        {
          "output_type": "display_data",
          "data": {
            "application/vnd.colab-display-data+json": {
              "pip_warning": {
                "packages": [
                  "azure"
                ]
              }
            }
          },
          "metadata": {}
        }
      ],
      "source": [
        "!pip install azure-ai-textanalytics==5.1.0\n",
        "!pip install azure-storage-blob"
      ]
    },
    {
      "cell_type": "code",
      "source": [
        "key = \"dbe17db2747c4135815c88519deb9dfa\"\n",
        "endpoint = \"https://iyakajhoka.cognitiveservices.azure.com/\"\n",
        "\n",
        "from azure.ai.textanalytics import TextAnalyticsClient\n",
        "from azure.core.credentials import AzureKeyCredential\n",
        "\n",
        "ta_credential = AzureKeyCredential(key)\n",
        "client = TextAnalyticsClient(\n",
        "            endpoint=endpoint, \n",
        "            credential=ta_credential)\n"
      ],
      "metadata": {
        "id": "8Msk1cKHJuLP"
      },
      "execution_count": 2,
      "outputs": []
    },
    {
      "cell_type": "code",
      "source": [
        "from azure.storage.blob import BlobServiceClient\n",
        "azaccesskey = 'OfNDTm/gkMeRZ0L6mgKedUChEKkg8Wc0fKWplJS3EZK4EwS+1zk4GsaxCfiF4X7C4Gxdeo+Rd/41jH+nbG3LfQ=='\n",
        "service = BlobServiceClient(account_url=\"https://shaktimanlikesbananana.blob.core.windows.net\", credential=azaccesskey)"
      ],
      "metadata": {
        "id": "T2U6DsXSPmSn"
      },
      "execution_count": 4,
      "outputs": []
    },
    {
      "cell_type": "code",
      "source": [
        "from azure.storage.blob import BlobClient\n",
        "constring = 'DefaultEndpointsProtocol=https;AccountName=shaktimanlikesbananana;AccountKey=OfNDTm/gkMeRZ0L6mgKedUChEKkg8Wc0fKWplJS3EZK4EwS+1zk4GsaxCfiF4X7C4Gxdeo+Rd/41jH+nbG3LfQ==;EndpointSuffix=core.windows.net'\n",
        "blob = BlobClient.from_connection_string(conn_str=constring, container_name=\"text\", blob_name=\"pii.txt\")\n",
        "# blob-> written in binary\n",
        "with open(\"pii.txt\", \"wb\") as my_blob:\n",
        "    blob_data = blob.download_blob()\n",
        "    blob_data.readinto(my_blob)"
      ],
      "metadata": {
        "id": "_RjItgbeP3Ok"
      },
      "execution_count": 7,
      "outputs": []
    },
    {
      "cell_type": "code",
      "source": [
        "# text-> read as text\n",
        "mydata = open(\"pii.txt\", \"rt\").read()\n",
        "mydata"
      ],
      "metadata": {
        "colab": {
          "base_uri": "https://localhost:8080/",
          "height": 53
        },
        "id": "ylmxku5FRX16",
        "outputId": "dc7a5b5c-f37b-49ca-e96e-33f6f4592a92"
      },
      "execution_count": 8,
      "outputs": [
        {
          "output_type": "execute_result",
          "data": {
            "application/vnd.google.colaboratory.intrinsic+json": {
              "type": "string"
            },
            "text/plain": [
              "'My name is Pikachu Pandey. My phone number is 991-111-1111.\\n\\nI live at 221 Baker Street, Ghost Lake, Screamville. \\n'"
            ]
          },
          "metadata": {},
          "execution_count": 8
        }
      ]
    },
    {
      "cell_type": "code",
      "source": [
        "mydata = mydata.replace(\"\\n\",\"\")\n",
        "sentokens = mydata.split('.')\n",
        "print(sentokens)"
      ],
      "metadata": {
        "colab": {
          "base_uri": "https://localhost:8080/"
        },
        "id": "GWrw03WxRscI",
        "outputId": "0f0bd07b-c368-4434-8218-5f4319d3bbd3"
      },
      "execution_count": 16,
      "outputs": [
        {
          "output_type": "stream",
          "name": "stdout",
          "text": [
            "['My name is Pikachu Pandey', ' My phone number is 991-111-1111', 'I live at 221 Baker Street, Ghost Lake, Screamville', ' ']\n"
          ]
        }
      ]
    },
    {
      "cell_type": "code",
      "source": [
        "\n",
        "\n",
        "# Example method for detecting sensitive information (PII) from text \n",
        "def pii_recognition_example(client, mydata):\n",
        "    documents = mydata\n",
        "    response = client.recognize_pii_entities(documents, language=\"en\")\n",
        "    result = [doc for doc in response if not doc.is_error]\n",
        "    for doc in result:\n",
        "        print(\"Redacted Text: {}\".format(doc.redacted_text))\n",
        "        for entity in doc.entities:\n",
        "            print(\"Entity: {}\".format(entity.text))\n",
        "            print(\"\\tCategory: {}\".format(entity.category))\n",
        "            print(\"\\tConfidence Score: {}\".format(entity.confidence_score))\n",
        "            print(\"\\tOffset: {}\".format(entity.offset))\n",
        "            print(\"\\tLength: {}\".format(entity.length))\n"
      ],
      "metadata": {
        "id": "P7yFed9JONzE"
      },
      "execution_count": 17,
      "outputs": []
    },
    {
      "cell_type": "code",
      "source": [
        "pii_recognition_example(client, sentokens)"
      ],
      "metadata": {
        "colab": {
          "base_uri": "https://localhost:8080/"
        },
        "id": "l2r6nf9nS1FV",
        "outputId": "e33b3529-202b-47e6-b0f7-7a322005df95"
      },
      "execution_count": 18,
      "outputs": [
        {
          "output_type": "stream",
          "name": "stdout",
          "text": [
            "Redacted Text: My name is **************\n",
            "Entity: Pikachu Pandey\n",
            "\tCategory: Person\n",
            "\tConfidence Score: 0.94\n",
            "\tOffset: 11\n",
            "\tLength: 14\n",
            "Redacted Text:  My phone number is ************\n",
            "Entity: 991-111-1111\n",
            "\tCategory: PhoneNumber\n",
            "\tConfidence Score: 0.8\n",
            "\tOffset: 20\n",
            "\tLength: 12\n",
            "Redacted Text: I live at *****************************************\n",
            "Entity: 221 Baker Street, Ghost Lake, Screamville\n",
            "\tCategory: Address\n",
            "\tConfidence Score: 0.84\n",
            "\tOffset: 10\n",
            "\tLength: 41\n"
          ]
        }
      ]
    },
    {
      "cell_type": "code",
      "source": [
        ""
      ],
      "metadata": {
        "id": "eAFYvqBAS5yS"
      },
      "execution_count": null,
      "outputs": []
    }
  ]
}