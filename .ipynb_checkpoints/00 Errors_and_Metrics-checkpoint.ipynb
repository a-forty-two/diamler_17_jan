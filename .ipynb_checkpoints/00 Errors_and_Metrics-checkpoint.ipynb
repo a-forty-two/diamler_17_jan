{
 "cells": [
  {
   "cell_type": "markdown",
   "metadata": {
    "colab_type": "text",
    "id": "view-in-github"
   },
   "source": [
    "<a href=\"https://colab.research.google.com/github/a-forty-two/diamler_17_jan/blob/main/00%20Errors_and_Metrics.ipynb\" target=\"_parent\"><img src=\"https://colab.research.google.com/assets/colab-badge.svg\" alt=\"Open In Colab\"/></a>"
   ]
  },
  {
   "cell_type": "code",
   "execution_count": 1,
   "metadata": {
    "id": "0I_h25mIKH2y"
   },
   "outputs": [],
   "source": [
    "# input-> dataset\n",
    "# identify-> Input Features (X) and Output Label (Y)\n",
    "# output-> after ML-> ML Equation \n",
    "# y=mx + c-> regression \n",
    "# y<=mx + c; y> mx+c-> binary classification\n",
    "# usage-> ML equation-> PREDICT the values"
   ]
  },
  {
   "cell_type": "code",
   "execution_count": 2,
   "metadata": {
    "id": "4q5NwVbAMLlW"
   },
   "outputs": [],
   "source": [
    "# divide-> training and scoring \n",
    "# training-> to teach the model\n",
    "# scoring-> to test the model "
   ]
  },
  {
   "cell_type": "code",
   "execution_count": 3,
   "metadata": {
    "id": "RWeDfnQFMS_c"
   },
   "outputs": [],
   "source": [
    "# once the model is ready-> predictions P emerging out of equation\n",
    "\n",
    "# the difference between our known results (from Score dataset)\n",
    "# and the predictions P is called ERROR \n"
   ]
  },
  {
   "cell_type": "code",
   "execution_count": 4,
   "metadata": {
    "id": "x18puxFNM95g"
   },
   "outputs": [],
   "source": [
    "# ytest = [0,1,0,1,-1,-1]\n",
    "# P = [0,-1,0,-1,1,1]\n",
    "# difference between ytest and P\n",
    "# ytest-P = [ 0-0, 1-(-1), 0-0, 1-(-1), -1-(+1), -1-(+1) ]\n",
    "# ytest-P = [0, 2, 0, 2, -2, -2]\n",
    "# total error= 0+2+0+2-2-2?\n",
    "# Does this mean my total error was 0?"
   ]
  },
  {
   "cell_type": "code",
   "execution_count": 5,
   "metadata": {
    "id": "3buZO7A6Nes9"
   },
   "outputs": [],
   "source": [
    "# Zero Error is impossible and it has ALREADY been observed that\n",
    "# our error is most surely not NULL! "
   ]
  },
  {
   "cell_type": "code",
   "execution_count": 7,
   "metadata": {
    "id": "X1g5ahIINthf"
   },
   "outputs": [],
   "source": [
    "# 2 approaches\n",
    "# 1st- Absolute Values\n",
    "# 2nd- Square the Values"
   ]
  },
  {
   "cell_type": "code",
   "execution_count": 8,
   "metadata": {
    "id": "bMjl_AQeNwmq"
   },
   "outputs": [],
   "source": [
    "# 1st Absolute Values\n",
    "# ytest = [0,1,0,1,-1,-1]\n",
    "# P = [0,-1,0,-1,1,1]\n",
    "# ytest_abs = | ytest - P | = [0, 2, 0, 2 , 2, 2]\n",
    "# Absolute Error= 0+2+0+2+2+2 = 8\n",
    "# Mean Absolute Error= absolute error/N = 8/6 = 1.3333\n",
    "# 7X1 = 7 +- 1.3333"
   ]
  },
  {
   "cell_type": "code",
   "execution_count": null,
   "metadata": {
    "id": "8ta1PZO0O7dE"
   },
   "outputs": [],
   "source": [
    "# Square the values\n",
    "# ytest = [0,1,0,1,-1,-1]\n",
    "# P = [0,-1,0,-1,1,1]\n",
    "# Squared Errors = [0, 4, 0, 4, 4, 4]\n",
    "# Total Suquared Errors = 16\n",
    "# Mean Squared Error = TotalSquaredError/N = 16/6 = 2.666\n",
    "# Root Mean Squared Error = root(MeanSquaredError)"
   ]
  },
  {
   "cell_type": "code",
   "execution_count": 2,
   "metadata": {
    "id": "RaMfE1IuPsFw"
   },
   "outputs": [
    {
     "ename": "ModuleNotFoundError",
     "evalue": "No module named 'sklearn'",
     "output_type": "error",
     "traceback": [
      "\u001b[1;31m---------------------------------------------------------------------------\u001b[0m",
      "\u001b[1;31mModuleNotFoundError\u001b[0m                       Traceback (most recent call last)",
      "\u001b[1;32m~\\AppData\\Local\\Temp/ipykernel_3384/2275448297.py\u001b[0m in \u001b[0;36m<module>\u001b[1;34m\u001b[0m\n\u001b[1;32m----> 1\u001b[1;33m \u001b[1;32mfrom\u001b[0m \u001b[0msklearn\u001b[0m\u001b[1;33m.\u001b[0m\u001b[0mmetrics\u001b[0m \u001b[1;32mimport\u001b[0m \u001b[0mmean_squared_error\u001b[0m\u001b[1;33m,\u001b[0m \u001b[0mmean_absolute_error\u001b[0m\u001b[1;33m\u001b[0m\u001b[1;33m\u001b[0m\u001b[0m\n\u001b[0m\u001b[0;32m      2\u001b[0m \u001b[0mytest\u001b[0m \u001b[1;33m=\u001b[0m \u001b[1;33m[\u001b[0m\u001b[1;36m0\u001b[0m\u001b[1;33m,\u001b[0m\u001b[1;36m1\u001b[0m\u001b[1;33m,\u001b[0m\u001b[1;36m0\u001b[0m\u001b[1;33m,\u001b[0m\u001b[1;36m1\u001b[0m\u001b[1;33m,\u001b[0m\u001b[1;33m-\u001b[0m\u001b[1;36m1\u001b[0m\u001b[1;33m,\u001b[0m\u001b[1;33m-\u001b[0m\u001b[1;36m1\u001b[0m\u001b[1;33m]\u001b[0m\u001b[1;33m\u001b[0m\u001b[1;33m\u001b[0m\u001b[0m\n\u001b[0;32m      3\u001b[0m \u001b[0mP\u001b[0m \u001b[1;33m=\u001b[0m \u001b[1;33m[\u001b[0m\u001b[1;36m0\u001b[0m\u001b[1;33m,\u001b[0m\u001b[1;33m-\u001b[0m\u001b[1;36m1\u001b[0m\u001b[1;33m,\u001b[0m\u001b[1;36m0\u001b[0m\u001b[1;33m,\u001b[0m\u001b[1;33m-\u001b[0m\u001b[1;36m1\u001b[0m\u001b[1;33m,\u001b[0m\u001b[1;36m1\u001b[0m\u001b[1;33m,\u001b[0m\u001b[1;36m1\u001b[0m\u001b[1;33m]\u001b[0m\u001b[1;33m\u001b[0m\u001b[1;33m\u001b[0m\u001b[0m\n",
      "\u001b[1;31mModuleNotFoundError\u001b[0m: No module named 'sklearn'"
     ]
    }
   ],
   "source": [
    "from sklearn.metrics import mean_squared_error, mean_absolute_error\n",
    "ytest = [0,1,0,1,-1,-1]\n",
    "P = [0,-1,0,-1,1,1]\n"
   ]
  },
  {
   "cell_type": "code",
   "execution_count": 10,
   "metadata": {
    "colab": {
     "base_uri": "https://localhost:8080/"
    },
    "id": "MikOVoXmPqFP",
    "outputId": "67328844-06c9-4171-c48c-031e4a2769c9"
   },
   "outputs": [
    {
     "data": {
      "text/plain": [
       "1.3333333333333333"
      ]
     },
     "execution_count": 10,
     "metadata": {},
     "output_type": "execute_result"
    }
   ],
   "source": [
    "mean_absolute_error(ytest, P)"
   ]
  },
  {
   "cell_type": "code",
   "execution_count": 11,
   "metadata": {
    "colab": {
     "base_uri": "https://localhost:8080/"
    },
    "id": "3K2qWWsHPusF",
    "outputId": "e112fbd2-f512-4e0b-c7cf-899c3d2ab320"
   },
   "outputs": [
    {
     "data": {
      "text/plain": [
       "2.6666666666666665"
      ]
     },
     "execution_count": 11,
     "metadata": {},
     "output_type": "execute_result"
    }
   ],
   "source": [
    "mean_squared_error(ytest, P)"
   ]
  },
  {
   "cell_type": "code",
   "execution_count": 13,
   "metadata": {
    "colab": {
     "base_uri": "https://localhost:8080/"
    },
    "id": "D3DWxnXoPy8W",
    "outputId": "b1c24d18-1b1e-40e9-ab59-8f3c65e31f11"
   },
   "outputs": [
    {
     "data": {
      "text/plain": [
       "1.632993161855452"
      ]
     },
     "execution_count": 13,
     "metadata": {},
     "output_type": "execute_result"
    }
   ],
   "source": [
    "# root mean squared error\n",
    "mean_squared_error(ytest,P, squared=False)"
   ]
  },
  {
   "cell_type": "code",
   "execution_count": null,
   "metadata": {
    "id": "ddFleBlxQMlx"
   },
   "outputs": [],
   "source": []
  }
 ],
 "metadata": {
  "colab": {
   "authorship_tag": "ABX9TyO9osIlR7RfLBEaiaOADYYV",
   "include_colab_link": true,
   "name": "Errors and Metrics.ipynb",
   "provenance": []
  },
  "kernelspec": {
   "display_name": "Python 3 (ipykernel)",
   "language": "python",
   "name": "python3"
  },
  "language_info": {
   "codemirror_mode": {
    "name": "ipython",
    "version": 3
   },
   "file_extension": ".py",
   "mimetype": "text/x-python",
   "name": "python",
   "nbconvert_exporter": "python",
   "pygments_lexer": "ipython3",
   "version": "3.9.7"
  }
 },
 "nbformat": 4,
 "nbformat_minor": 1
}
