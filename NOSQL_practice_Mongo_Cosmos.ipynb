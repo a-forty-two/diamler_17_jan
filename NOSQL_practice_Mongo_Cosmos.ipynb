{
  "nbformat": 4,
  "nbformat_minor": 0,
  "metadata": {
    "colab": {
      "name": "006 PyMongo Cosmos.ipynb",
      "provenance": [],
      "collapsed_sections": [],
      "authorship_tag": "ABX9TyNJ2aA0BztbPOlsF7IZEsgc",
      "include_colab_link": true
    },
    "kernelspec": {
      "name": "python3",
      "display_name": "Python 3"
    },
    "language_info": {
      "name": "python"
    }
  },
  "cells": [
    {
      "cell_type": "markdown",
      "metadata": {
        "id": "view-in-github",
        "colab_type": "text"
      },
      "source": [
        "<a href=\"https://colab.research.google.com/github/a-forty-two/diamler_17_jan/blob/main/NOSQL_practice_Mongo_Cosmos.ipynb\" target=\"_parent\"><img src=\"https://colab.research.google.com/assets/colab-badge.svg\" alt=\"Open In Colab\"/></a>"
      ]
    },
    {
      "cell_type": "code",
      "metadata": {
        "id": "4J2wIcM1-ZdB"
      },
      "source": [
        "# PLEASE DO NOT CHANGE THIS LINE\n",
        "import pymongo\n",
        "uri = \"mongodb://otteropotamus:NFC4WLfaKQIQnzHQcfYHexo42Zs8DMc1qjir45Nj0rocRu2kHforIOkl2QWKVuXA8HKCLwJwpXEiZM6Hrmpf8w==@otteropotamus.mongo.cosmos.azure.com:10255/?ssl=true&retrywrites=false&replicaSet=globaldb&maxIdleTimeMS=120000&appName=@otteropotamus@\"\n",
        "client = pymongo.MongoClient(uri)"
      ],
      "execution_count": 1,
      "outputs": []
    },
    {
      "cell_type": "code",
      "metadata": {
        "id": "D1UWc_tb1vAU"
      },
      "source": [
        "mydb = client[\"hippo\"] # PLEASE DO NOT CHANGE THIS LINE"
      ],
      "execution_count": null,
      "outputs": []
    },
    {
      "cell_type": "code",
      "metadata": {
        "id": "ViuCq-5D87BV"
      },
      "source": [
        "mycol = mydb[\"fish\"] # Change collection name 'fish' to anything else that you like!"
      ],
      "execution_count": null,
      "outputs": []
    },
    {
      "cell_type": "code",
      "metadata": {
        "id": "s-j7opwR9HFW"
      },
      "source": [
        "mydict = { \"name\": \"John\", \"address\": \"Highway 37\" }\n",
        "\n",
        "x = mycol.insert_one(mydict)"
      ],
      "execution_count": null,
      "outputs": []
    },
    {
      "cell_type": "code",
      "metadata": {
        "id": "McCQQaXI9SOe"
      },
      "source": [
        "mydict = { \"name\": \"Shrimp\", \"age\": 30 }\n",
        "\n",
        "x = mycol.insert_one(mydict)"
      ],
      "execution_count": null,
      "outputs": []
    },
    {
      "cell_type": "code",
      "metadata": {
        "id": "BDOiHbc-G7lM"
      },
      "source": [
        ""
      ],
      "execution_count": null,
      "outputs": []
    },
    {
      "cell_type": "code",
      "metadata": {
        "id": "n0EgDSQq9qIL"
      },
      "source": [
        "r2 = { \"name\": \"Shrimp\", \"complex\": mydict , \"subjects\":[\"eng\",\"fr\",\"gt\"]}\n",
        "\n",
        "x = mycol.insert_one(r2)"
      ],
      "execution_count": null,
      "outputs": []
    },
    {
      "cell_type": "code",
      "metadata": {
        "colab": {
          "base_uri": "https://localhost:8080/"
        },
        "id": "Bu_SKVlg94LP",
        "outputId": "272fd7c5-504a-4dff-9e1b-721fc7e58a8d"
      },
      "source": [
        "# MongoDB-> Document Database \n",
        "for x in mycol.find():\n",
        "  print(x)"
      ],
      "execution_count": null,
      "outputs": [
        {
          "output_type": "stream",
          "name": "stdout",
          "text": [
            "{'_id': ObjectId('613996d34935f8f434aba158'), 'name': 'John', 'address': 'Highway 37'}\n",
            "{'_id': ObjectId('613997344935f8f434aba159'), 'name': 'Shrimp', 'age': 30}\n",
            "{'_id': ObjectId('6139976d4935f8f434aba15a'), 'name': 'Shrimp', 'complex': {'name': 'Shrimp', 'age': 30, '_id': ObjectId('613997344935f8f434aba159')}, 'subjects': ['eng', 'fr', 'gt']}\n",
            "{'_id': ObjectId('6139a0a9554d2b4274a73902'), 'name': 'John', 'address': 'Highway 37'}\n",
            "{'_id': ObjectId('6139a0aa554d2b4274a73903'), 'name': 'Shrimp', 'age': 30}\n",
            "{'_id': ObjectId('6139a0b2554d2b4274a73904'), 'name': 'Shrimp', 'age': 30}\n",
            "{'_id': ObjectId('6139a0d2554d2b4274a73905'), 'name': 'Shrimp', 'complex': {'name': 'Shrimp', 'age': 30, '_id': ObjectId('6139a0b2554d2b4274a73904')}, 'subjects': ['eng', 'fr', 'gt']}\n"
          ]
        }
      ]
    },
    {
      "cell_type": "code",
      "metadata": {
        "colab": {
          "base_uri": "https://localhost:8080/"
        },
        "id": "1hWjlFs2-d7f",
        "outputId": "38737295-6a88-4504-90bf-9027b99b5453"
      },
      "source": [
        "for x in mycol.find({\"name\":\"Shrimp\", \"age\":30}).limit(1):\n",
        "  print(x)"
      ],
      "execution_count": null,
      "outputs": [
        {
          "output_type": "stream",
          "name": "stdout",
          "text": [
            "{'_id': ObjectId('613997344935f8f434aba159'), 'name': 'Shrimp', 'age': 30}\n",
            "{'_id': ObjectId('6139a0aa554d2b4274a73903'), 'name': 'Shrimp', 'age': 30}\n",
            "{'_id': ObjectId('6139a0b2554d2b4274a73904'), 'name': 'Shrimp', 'age': 30}\n",
            "{'_id': ObjectId('6139a2b3fb85be65f17561c0'), 'name': 'Shrimp', 'age': 30}\n",
            "{'_id': ObjectId('6139a388706de25d2cf2ed80'), 'name': 'Shrimp', 'age': 30}\n"
          ]
        }
      ]
    },
    {
      "cell_type": "code",
      "metadata": {
        "colab": {
          "base_uri": "https://localhost:8080/"
        },
        "id": "PaT8LNoeMFRe",
        "outputId": "7904e511-1692-4b77-b014-adadb3de987b"
      },
      "source": [
        "myquery = { \"name\": { \"$regex\": \"p$\" } } # for example, this is a \n",
        "# regular expression that ends with letter 'p'\n",
        "\n",
        "mydoc = mycol.find(myquery)\n",
        "\n",
        "for x in mydoc:\n",
        "  print(x)"
      ],
      "execution_count": null,
      "outputs": [
        {
          "output_type": "stream",
          "name": "stdout",
          "text": [
            "{'_id': ObjectId('613997344935f8f434aba159'), 'name': 'Shrimp', 'age': 30}\n",
            "{'_id': ObjectId('6139976d4935f8f434aba15a'), 'name': 'Shrimp', 'complex': {'name': 'Shrimp', 'age': 30, '_id': ObjectId('613997344935f8f434aba159')}, 'subjects': ['eng', 'fr', 'gt']}\n",
            "{'_id': ObjectId('6139a0aa554d2b4274a73903'), 'name': 'Shrimp', 'age': 30}\n",
            "{'_id': ObjectId('6139a0b2554d2b4274a73904'), 'name': 'Shrimp', 'age': 30}\n",
            "{'_id': ObjectId('6139a0d2554d2b4274a73905'), 'name': 'Shrimp', 'complex': {'name': 'Shrimp', 'age': 30, '_id': ObjectId('6139a0b2554d2b4274a73904')}, 'subjects': ['eng', 'fr', 'gt']}\n",
            "{'_id': ObjectId('6139a2b3fb85be65f17561c0'), 'name': 'Shrimp', 'age': 30}\n",
            "{'_id': ObjectId('6139a2c0fb85be65f17561c1'), 'name': 'Shrimp', 'complex': {'name': 'Shrimp', 'age': 30, '_id': ObjectId('6139a2b3fb85be65f17561c0')}, 'subjects': ['eng', 'fr', 'gt']}\n",
            "{'_id': ObjectId('6139a388706de25d2cf2ed80'), 'name': 'Shrimp', 'age': 30}\n",
            "{'_id': ObjectId('6139a38d706de25d2cf2ed81'), 'name': 'Shrimp', 'complex': {'name': 'Shrimp', 'age': 30, '_id': ObjectId('6139a388706de25d2cf2ed80')}, 'subjects': ['eng', 'fr', 'gt']}\n",
            "{'_id': ObjectId('6139a4d6fb85be65f17561c5'), 'name': 'Shrimp', 'age': 30}\n",
            "{'_id': ObjectId('6139a4d9fb85be65f17561c6'), 'name': 'Shrimp', 'complex': {'name': 'Shrimp', 'age': 30, '_id': ObjectId('6139a4d6fb85be65f17561c5')}, 'subjects': ['eng', 'fr', 'gt']}\n",
            "{'_id': ObjectId('6139a4e850bae7ad33532b9c'), 'name': 'Shrimp', 'age': 30}\n",
            "{'_id': ObjectId('6139a4ec50bae7ad33532b9d'), 'name': 'Shrimp', 'complex': {'name': 'Shrimp', 'age': 30, '_id': ObjectId('6139a4e850bae7ad33532b9c')}, 'subjects': ['eng', 'fr', 'gt']}\n"
          ]
        }
      ]
    },
    {
      "cell_type": "code",
      "metadata": {
        "id": "_6lUJBBh-kIZ"
      },
      "source": [
        ""
      ],
      "execution_count": null,
      "outputs": []
    },
    {
      "cell_type": "code",
      "metadata": {
        "id": "q7ZND5iA_9ug"
      },
      "source": [
        "\n"
      ],
      "execution_count": null,
      "outputs": []
    },
    {
      "cell_type": "code",
      "metadata": {
        "id": "TAOECAAtAZ7v"
      },
      "source": [
        ""
      ],
      "execution_count": null,
      "outputs": []
    },
    {
      "cell_type": "code",
      "metadata": {
        "id": "Izk3_QuQAov4"
      },
      "source": [
        ""
      ],
      "execution_count": null,
      "outputs": []
    },
    {
      "cell_type": "code",
      "metadata": {
        "id": "LY5uckz_MBAe"
      },
      "source": [
        ""
      ],
      "execution_count": null,
      "outputs": []
    }
  ]
}