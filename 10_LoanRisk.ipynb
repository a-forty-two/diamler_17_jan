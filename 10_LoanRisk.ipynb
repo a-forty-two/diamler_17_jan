{
  "cells": [
    {
      "cell_type": "markdown",
      "metadata": {
        "id": "view-in-github",
        "colab_type": "text"
      },
      "source": [
        "<a href=\"https://colab.research.google.com/github/a-forty-two/diamler_17_jan/blob/main/10_LoanRisk.ipynb\" target=\"_parent\"><img src=\"https://colab.research.google.com/assets/colab-badge.svg\" alt=\"Open In Colab\"/></a>"
      ]
    },
    {
      "cell_type": "markdown",
      "metadata": {
        "id": "wkPV-hJwZRkt"
      },
      "source": [
        "# Python Data Science & Analysis \n",
        "### Project: Credit Risk Assessment "
      ]
    },
    {
      "cell_type": "code",
      "source": [
        ""
      ],
      "metadata": {
        "id": "_nbTF-TJZ1dt"
      },
      "execution_count": null,
      "outputs": []
    },
    {
      "cell_type": "markdown",
      "metadata": {
        "id": "Y3SoP8Y8ZRkw"
      },
      "source": [
        "# Abstract"
      ]
    },
    {
      "cell_type": "markdown",
      "metadata": {
        "id": "oL8W0sFWZRkw"
      },
      "source": [
        "You are hired as part of a data analysis & science team at a fintech start up. The start up has offered loans of $£1,000$ to $1000$ customers in various groups of interest in order to collect data on their likelihood of repayment.  \n",
        "\n",
        "Your role is to offer an account of what factors lead to loan default. And thereby advise the new company on its loan strategy. \n",
        "\n",
        "The company has collected the following data:\n",
        "\n",
        "```\n",
        " \"ID\",         Customer ID\n",
        " \"Income\",     Annual Pre-Tax Income on-application\n",
        " \"Term\" ,      Short or Long Term (6mo or 12mo)\n",
        " \"Balance\",    Current Account Balance on-application\n",
        " \"Debt\" ,      Outstanding Debt on-application\n",
        " \"Score\",      Credit Score (from referencing agency)\n",
        " \"Default\"     Observed Default (True = Default, False = Settle\n",
        "```\n",
        "\n",
        "...and would like a technical report produced which characterises the data collected (quality) and offers analysis. \n",
        "\n"
      ]
    },
    {
      "cell_type": "markdown",
      "metadata": {
        "id": "5T7h-EVuZRky"
      },
      "source": [
        "# Part 1: Data Structure"
      ]
    },
    {
      "cell_type": "markdown",
      "metadata": {
        "id": "uA22Hv0XZRky"
      },
      "source": [
        "### Q. Import pandas"
      ]
    },
    {
      "cell_type": "markdown",
      "metadata": {
        "id": "Fr9x-BtvZRkz"
      },
      "source": [
        "### Q. Read in the loan data"
      ]
    },
    {
      "cell_type": "markdown",
      "metadata": {
        "id": "iINN9rXdZRk3"
      },
      "source": [
        "### Q. Show dataframe (/table) schema & structure"
      ]
    },
    {
      "cell_type": "markdown",
      "metadata": {
        "id": "71vseaWrZRk4"
      },
      "source": [
        "### Q. Review and comment on structure"
      ]
    },
    {
      "cell_type": "markdown",
      "metadata": {
        "id": "Lc5SLwsIZRk4"
      },
      "source": [
        "### Q. Use descriptive statistics to check data for initial quality and sense\n",
        "\n",
        "* HINT: `.describe()` \n",
        "* HINT: `include=`"
      ]
    },
    {
      "cell_type": "markdown",
      "metadata": {
        "id": "4OBaN32UZRk-"
      },
      "source": [
        "### Q. Report specifically on missing data\n",
        "\n",
        "* HINT: `.isna()`\n",
        "* HINT: `.sum()`"
      ]
    },
    {
      "cell_type": "markdown",
      "metadata": {
        "id": "P2m5g3pQZRlC"
      },
      "source": [
        "# Part 2: Data Preparation"
      ]
    },
    {
      "cell_type": "markdown",
      "metadata": {
        "id": "eBi-nnooZRlF"
      },
      "source": [
        "### Q. Create a clean dataset without rows with missing values"
      ]
    },
    {
      "cell_type": "markdown",
      "metadata": {
        "id": "nKmEIB5hZRlF"
      },
      "source": [
        "### Q. Check that dropping rows hasnt biased the data"
      ]
    },
    {
      "cell_type": "markdown",
      "metadata": {
        "id": "QlQ22zZHZRlG"
      },
      "source": [
        "* EXTRA: t-test to establish cleaning hasn't biased..."
      ]
    },
    {
      "cell_type": "markdown",
      "metadata": {
        "id": "PUeED2PwZRlG"
      },
      "source": [
        "# Part 3: Exploratory Numerical Analysis"
      ]
    },
    {
      "cell_type": "markdown",
      "metadata": {
        "id": "yib0ru1QZRlH"
      },
      "source": [
        "### Q. Review possible correlatons"
      ]
    },
    {
      "cell_type": "markdown",
      "metadata": {
        "id": "It2xWs7AZRlI"
      },
      "source": [
        "### Q. Interpret and characterise correlations"
      ]
    },
    {
      "cell_type": "markdown",
      "metadata": {
        "id": "DXEaMk8xZRlI"
      },
      "source": [
        "### Q. Perform a factor analysis using `groupby`"
      ]
    },
    {
      "cell_type": "markdown",
      "metadata": {
        "id": "mGl-4-3LZRlI"
      },
      "source": [
        "# Part 4: Exploratory Visual Analysis"
      ]
    },
    {
      "cell_type": "markdown",
      "metadata": {
        "id": "dUrhR6D8ZRlJ"
      },
      "source": [
        "### Q. Visualize the `Income` distribution"
      ]
    },
    {
      "cell_type": "markdown",
      "metadata": {
        "id": "42a8fGJ2ZRlK"
      },
      "source": [
        "### Q. Visualize Income relationships"
      ]
    },
    {
      "cell_type": "markdown",
      "metadata": {
        "id": "YTgTS2nHZRlK"
      },
      "source": [
        "### Q. Visualize `Default` relationships"
      ]
    },
    {
      "cell_type": "markdown",
      "metadata": {
        "id": "G7KA84lYZRlK"
      },
      "source": [
        "### Q. Extend the visual analysis to explore all columns"
      ]
    },
    {
      "cell_type": "markdown",
      "metadata": {
        "id": "F6y6jkuTZRlL"
      },
      "source": [
        "# Part 5: Stretch"
      ]
    },
    {
      "cell_type": "markdown",
      "metadata": {
        "id": "aqHp-86mZRlL"
      },
      "source": [
        "### Q. Export this document as a report and produce a word version"
      ]
    },
    {
      "cell_type": "code",
      "execution_count": null,
      "metadata": {
        "id": "JOGHZkeHZRlM"
      },
      "outputs": [],
      "source": [
        "!pip install pandoc"
      ]
    },
    {
      "cell_type": "code",
      "execution_count": null,
      "metadata": {
        "id": "unavOfKZZRld"
      },
      "outputs": [],
      "source": [
        "!pandoc -o report.docx *.html "
      ]
    },
    {
      "cell_type": "code",
      "execution_count": null,
      "metadata": {
        "id": "ghESfLfsZRle"
      },
      "outputs": [],
      "source": [
        ""
      ]
    }
  ],
  "metadata": {
    "kernelspec": {
      "display_name": "Python 3",
      "language": "python",
      "name": "python3"
    },
    "language_info": {
      "codemirror_mode": {
        "name": "ipython",
        "version": 3
      },
      "file_extension": ".py",
      "mimetype": "text/x-python",
      "name": "python",
      "nbconvert_exporter": "python",
      "pygments_lexer": "ipython3",
      "version": "3.7.4"
    },
    "colab": {
      "name": "10 LoanRisk.ipynb",
      "provenance": [],
      "include_colab_link": true
    }
  },
  "nbformat": 4,
  "nbformat_minor": 0
}