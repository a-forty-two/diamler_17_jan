{
  "nbformat": 4,
  "nbformat_minor": 0,
  "metadata": {
    "colab": {
      "name": "04 NLTK.ipynb",
      "provenance": [],
      "collapsed_sections": [],
      "authorship_tag": "ABX9TyOUMRumGI3bcvVMpekh8+sO",
      "include_colab_link": true
    },
    "kernelspec": {
      "name": "python3",
      "display_name": "Python 3"
    }
  },
  "cells": [
    {
      "cell_type": "markdown",
      "metadata": {
        "id": "view-in-github",
        "colab_type": "text"
      },
      "source": [
        "<a href=\"https://colab.research.google.com/github/a-forty-two/diamler_17_jan/blob/main/03_NLTK.ipynb\" target=\"_parent\"><img src=\"https://colab.research.google.com/assets/colab-badge.svg\" alt=\"Open In Colab\"/></a>"
      ]
    },
    {
      "cell_type": "code",
      "source": [
        "import nltk\n",
        "nltk.download('all')"
      ],
      "metadata": {
        "id": "8Rs2IEVf5W8I",
        "outputId": "b7d20acc-09d0-48fc-c065-e62659f5d5bb",
        "colab": {
          "base_uri": "https://localhost:8080/"
        }
      },
      "execution_count": 1,
      "outputs": [
        {
          "output_type": "stream",
          "name": "stdout",
          "text": [
            "[nltk_data] Downloading collection 'all'\n",
            "[nltk_data]    | \n",
            "[nltk_data]    | Downloading package abc to /root/nltk_data...\n",
            "[nltk_data]    |   Unzipping corpora/abc.zip.\n",
            "[nltk_data]    | Downloading package alpino to /root/nltk_data...\n",
            "[nltk_data]    |   Unzipping corpora/alpino.zip.\n",
            "[nltk_data]    | Downloading package averaged_perceptron_tagger to\n",
            "[nltk_data]    |     /root/nltk_data...\n",
            "[nltk_data]    |   Unzipping taggers/averaged_perceptron_tagger.zip.\n",
            "[nltk_data]    | Downloading package averaged_perceptron_tagger_ru to\n",
            "[nltk_data]    |     /root/nltk_data...\n",
            "[nltk_data]    |   Unzipping\n",
            "[nltk_data]    |       taggers/averaged_perceptron_tagger_ru.zip.\n",
            "[nltk_data]    | Downloading package basque_grammars to\n",
            "[nltk_data]    |     /root/nltk_data...\n",
            "[nltk_data]    |   Unzipping grammars/basque_grammars.zip.\n",
            "[nltk_data]    | Downloading package biocreative_ppi to\n",
            "[nltk_data]    |     /root/nltk_data...\n",
            "[nltk_data]    |   Unzipping corpora/biocreative_ppi.zip.\n",
            "[nltk_data]    | Downloading package bllip_wsj_no_aux to\n",
            "[nltk_data]    |     /root/nltk_data...\n",
            "[nltk_data]    |   Unzipping models/bllip_wsj_no_aux.zip.\n",
            "[nltk_data]    | Downloading package book_grammars to\n",
            "[nltk_data]    |     /root/nltk_data...\n",
            "[nltk_data]    |   Unzipping grammars/book_grammars.zip.\n",
            "[nltk_data]    | Downloading package brown to /root/nltk_data...\n",
            "[nltk_data]    |   Unzipping corpora/brown.zip.\n",
            "[nltk_data]    | Downloading package brown_tei to /root/nltk_data...\n",
            "[nltk_data]    |   Unzipping corpora/brown_tei.zip.\n",
            "[nltk_data]    | Downloading package cess_cat to /root/nltk_data...\n",
            "[nltk_data]    |   Unzipping corpora/cess_cat.zip.\n",
            "[nltk_data]    | Downloading package cess_esp to /root/nltk_data...\n",
            "[nltk_data]    |   Unzipping corpora/cess_esp.zip.\n",
            "[nltk_data]    | Downloading package chat80 to /root/nltk_data...\n",
            "[nltk_data]    |   Unzipping corpora/chat80.zip.\n",
            "[nltk_data]    | Downloading package city_database to\n",
            "[nltk_data]    |     /root/nltk_data...\n",
            "[nltk_data]    |   Unzipping corpora/city_database.zip.\n",
            "[nltk_data]    | Downloading package cmudict to /root/nltk_data...\n",
            "[nltk_data]    |   Unzipping corpora/cmudict.zip.\n",
            "[nltk_data]    | Downloading package comparative_sentences to\n",
            "[nltk_data]    |     /root/nltk_data...\n",
            "[nltk_data]    |   Unzipping corpora/comparative_sentences.zip.\n",
            "[nltk_data]    | Downloading package comtrans to /root/nltk_data...\n",
            "[nltk_data]    | Downloading package conll2000 to /root/nltk_data...\n",
            "[nltk_data]    |   Unzipping corpora/conll2000.zip.\n",
            "[nltk_data]    | Downloading package conll2002 to /root/nltk_data...\n",
            "[nltk_data]    |   Unzipping corpora/conll2002.zip.\n",
            "[nltk_data]    | Downloading package conll2007 to /root/nltk_data...\n",
            "[nltk_data]    | Downloading package crubadan to /root/nltk_data...\n",
            "[nltk_data]    |   Unzipping corpora/crubadan.zip.\n",
            "[nltk_data]    | Downloading package dependency_treebank to\n",
            "[nltk_data]    |     /root/nltk_data...\n",
            "[nltk_data]    |   Unzipping corpora/dependency_treebank.zip.\n",
            "[nltk_data]    | Downloading package dolch to /root/nltk_data...\n",
            "[nltk_data]    |   Unzipping corpora/dolch.zip.\n",
            "[nltk_data]    | Downloading package europarl_raw to\n",
            "[nltk_data]    |     /root/nltk_data...\n",
            "[nltk_data]    |   Unzipping corpora/europarl_raw.zip.\n",
            "[nltk_data]    | Downloading package floresta to /root/nltk_data...\n",
            "[nltk_data]    |   Unzipping corpora/floresta.zip.\n",
            "[nltk_data]    | Downloading package framenet_v15 to\n",
            "[nltk_data]    |     /root/nltk_data...\n",
            "[nltk_data]    |   Unzipping corpora/framenet_v15.zip.\n",
            "[nltk_data]    | Downloading package framenet_v17 to\n",
            "[nltk_data]    |     /root/nltk_data...\n",
            "[nltk_data]    |   Unzipping corpora/framenet_v17.zip.\n",
            "[nltk_data]    | Downloading package gazetteers to /root/nltk_data...\n",
            "[nltk_data]    |   Unzipping corpora/gazetteers.zip.\n",
            "[nltk_data]    | Downloading package genesis to /root/nltk_data...\n",
            "[nltk_data]    |   Unzipping corpora/genesis.zip.\n",
            "[nltk_data]    | Downloading package gutenberg to /root/nltk_data...\n",
            "[nltk_data]    |   Unzipping corpora/gutenberg.zip.\n",
            "[nltk_data]    | Downloading package ieer to /root/nltk_data...\n",
            "[nltk_data]    |   Unzipping corpora/ieer.zip.\n",
            "[nltk_data]    | Downloading package inaugural to /root/nltk_data...\n",
            "[nltk_data]    |   Unzipping corpora/inaugural.zip.\n",
            "[nltk_data]    | Downloading package indian to /root/nltk_data...\n",
            "[nltk_data]    |   Unzipping corpora/indian.zip.\n",
            "[nltk_data]    | Downloading package jeita to /root/nltk_data...\n",
            "[nltk_data]    | Downloading package kimmo to /root/nltk_data...\n",
            "[nltk_data]    |   Unzipping corpora/kimmo.zip.\n",
            "[nltk_data]    | Downloading package knbc to /root/nltk_data...\n",
            "[nltk_data]    | Downloading package large_grammars to\n",
            "[nltk_data]    |     /root/nltk_data...\n",
            "[nltk_data]    |   Unzipping grammars/large_grammars.zip.\n",
            "[nltk_data]    | Downloading package lin_thesaurus to\n",
            "[nltk_data]    |     /root/nltk_data...\n",
            "[nltk_data]    |   Unzipping corpora/lin_thesaurus.zip.\n",
            "[nltk_data]    | Downloading package mac_morpho to /root/nltk_data...\n",
            "[nltk_data]    |   Unzipping corpora/mac_morpho.zip.\n",
            "[nltk_data]    | Downloading package machado to /root/nltk_data...\n",
            "[nltk_data]    | Downloading package masc_tagged to /root/nltk_data...\n",
            "[nltk_data]    | Downloading package maxent_ne_chunker to\n",
            "[nltk_data]    |     /root/nltk_data...\n",
            "[nltk_data]    |   Unzipping chunkers/maxent_ne_chunker.zip.\n",
            "[nltk_data]    | Downloading package maxent_treebank_pos_tagger to\n",
            "[nltk_data]    |     /root/nltk_data...\n",
            "[nltk_data]    |   Unzipping taggers/maxent_treebank_pos_tagger.zip.\n",
            "[nltk_data]    | Downloading package moses_sample to\n",
            "[nltk_data]    |     /root/nltk_data...\n",
            "[nltk_data]    |   Unzipping models/moses_sample.zip.\n",
            "[nltk_data]    | Downloading package movie_reviews to\n",
            "[nltk_data]    |     /root/nltk_data...\n",
            "[nltk_data]    |   Unzipping corpora/movie_reviews.zip.\n",
            "[nltk_data]    | Downloading package mte_teip5 to /root/nltk_data...\n",
            "[nltk_data]    |   Unzipping corpora/mte_teip5.zip.\n",
            "[nltk_data]    | Downloading package mwa_ppdb to /root/nltk_data...\n",
            "[nltk_data]    |   Unzipping misc/mwa_ppdb.zip.\n",
            "[nltk_data]    | Downloading package names to /root/nltk_data...\n",
            "[nltk_data]    |   Unzipping corpora/names.zip.\n",
            "[nltk_data]    | Downloading package nombank.1.0 to /root/nltk_data...\n",
            "[nltk_data]    | Downloading package nonbreaking_prefixes to\n",
            "[nltk_data]    |     /root/nltk_data...\n",
            "[nltk_data]    |   Unzipping corpora/nonbreaking_prefixes.zip.\n",
            "[nltk_data]    | Downloading package nps_chat to /root/nltk_data...\n",
            "[nltk_data]    |   Unzipping corpora/nps_chat.zip.\n",
            "[nltk_data]    | Downloading package omw to /root/nltk_data...\n",
            "[nltk_data]    |   Unzipping corpora/omw.zip.\n",
            "[nltk_data]    | Downloading package omw-1.4 to /root/nltk_data...\n",
            "[nltk_data]    |   Unzipping corpora/omw-1.4.zip.\n",
            "[nltk_data]    | Downloading package opinion_lexicon to\n",
            "[nltk_data]    |     /root/nltk_data...\n",
            "[nltk_data]    |   Unzipping corpora/opinion_lexicon.zip.\n",
            "[nltk_data]    | Downloading package panlex_swadesh to\n",
            "[nltk_data]    |     /root/nltk_data...\n",
            "[nltk_data]    | Downloading package paradigms to /root/nltk_data...\n",
            "[nltk_data]    |   Unzipping corpora/paradigms.zip.\n",
            "[nltk_data]    | Downloading package pe08 to /root/nltk_data...\n",
            "[nltk_data]    |   Unzipping corpora/pe08.zip.\n",
            "[nltk_data]    | Downloading package perluniprops to\n",
            "[nltk_data]    |     /root/nltk_data...\n",
            "[nltk_data]    |   Unzipping misc/perluniprops.zip.\n",
            "[nltk_data]    | Downloading package pil to /root/nltk_data...\n",
            "[nltk_data]    |   Unzipping corpora/pil.zip.\n",
            "[nltk_data]    | Downloading package pl196x to /root/nltk_data...\n",
            "[nltk_data]    |   Unzipping corpora/pl196x.zip.\n",
            "[nltk_data]    | Downloading package porter_test to /root/nltk_data...\n",
            "[nltk_data]    |   Unzipping stemmers/porter_test.zip.\n",
            "[nltk_data]    | Downloading package ppattach to /root/nltk_data...\n",
            "[nltk_data]    |   Unzipping corpora/ppattach.zip.\n",
            "[nltk_data]    | Downloading package problem_reports to\n",
            "[nltk_data]    |     /root/nltk_data...\n",
            "[nltk_data]    |   Unzipping corpora/problem_reports.zip.\n",
            "[nltk_data]    | Downloading package product_reviews_1 to\n",
            "[nltk_data]    |     /root/nltk_data...\n",
            "[nltk_data]    |   Unzipping corpora/product_reviews_1.zip.\n",
            "[nltk_data]    | Downloading package product_reviews_2 to\n",
            "[nltk_data]    |     /root/nltk_data...\n",
            "[nltk_data]    |   Unzipping corpora/product_reviews_2.zip.\n",
            "[nltk_data]    | Downloading package propbank to /root/nltk_data...\n",
            "[nltk_data]    | Downloading package pros_cons to /root/nltk_data...\n",
            "[nltk_data]    |   Unzipping corpora/pros_cons.zip.\n",
            "[nltk_data]    | Downloading package ptb to /root/nltk_data...\n",
            "[nltk_data]    |   Unzipping corpora/ptb.zip.\n",
            "[nltk_data]    | Downloading package punkt to /root/nltk_data...\n",
            "[nltk_data]    |   Unzipping tokenizers/punkt.zip.\n",
            "[nltk_data]    | Downloading package qc to /root/nltk_data...\n",
            "[nltk_data]    |   Unzipping corpora/qc.zip.\n",
            "[nltk_data]    | Downloading package reuters to /root/nltk_data...\n",
            "[nltk_data]    | Downloading package rslp to /root/nltk_data...\n",
            "[nltk_data]    |   Unzipping stemmers/rslp.zip.\n",
            "[nltk_data]    | Downloading package rte to /root/nltk_data...\n",
            "[nltk_data]    |   Unzipping corpora/rte.zip.\n",
            "[nltk_data]    | Downloading package sample_grammars to\n",
            "[nltk_data]    |     /root/nltk_data...\n",
            "[nltk_data]    |   Unzipping grammars/sample_grammars.zip.\n",
            "[nltk_data]    | Downloading package semcor to /root/nltk_data...\n",
            "[nltk_data]    | Downloading package senseval to /root/nltk_data...\n",
            "[nltk_data]    |   Unzipping corpora/senseval.zip.\n",
            "[nltk_data]    | Downloading package sentence_polarity to\n",
            "[nltk_data]    |     /root/nltk_data...\n",
            "[nltk_data]    |   Unzipping corpora/sentence_polarity.zip.\n",
            "[nltk_data]    | Downloading package sentiwordnet to\n",
            "[nltk_data]    |     /root/nltk_data...\n",
            "[nltk_data]    |   Unzipping corpora/sentiwordnet.zip.\n",
            "[nltk_data]    | Downloading package shakespeare to /root/nltk_data...\n",
            "[nltk_data]    |   Unzipping corpora/shakespeare.zip.\n",
            "[nltk_data]    | Downloading package sinica_treebank to\n",
            "[nltk_data]    |     /root/nltk_data...\n",
            "[nltk_data]    |   Unzipping corpora/sinica_treebank.zip.\n",
            "[nltk_data]    | Downloading package smultron to /root/nltk_data...\n",
            "[nltk_data]    |   Unzipping corpora/smultron.zip.\n",
            "[nltk_data]    | Downloading package snowball_data to\n",
            "[nltk_data]    |     /root/nltk_data...\n",
            "[nltk_data]    | Downloading package spanish_grammars to\n",
            "[nltk_data]    |     /root/nltk_data...\n",
            "[nltk_data]    |   Unzipping grammars/spanish_grammars.zip.\n",
            "[nltk_data]    | Downloading package state_union to /root/nltk_data...\n",
            "[nltk_data]    |   Unzipping corpora/state_union.zip.\n",
            "[nltk_data]    | Downloading package stopwords to /root/nltk_data...\n",
            "[nltk_data]    |   Unzipping corpora/stopwords.zip.\n",
            "[nltk_data]    | Downloading package subjectivity to\n",
            "[nltk_data]    |     /root/nltk_data...\n",
            "[nltk_data]    |   Unzipping corpora/subjectivity.zip.\n",
            "[nltk_data]    | Downloading package swadesh to /root/nltk_data...\n",
            "[nltk_data]    |   Unzipping corpora/swadesh.zip.\n",
            "[nltk_data]    | Downloading package switchboard to /root/nltk_data...\n",
            "[nltk_data]    |   Unzipping corpora/switchboard.zip.\n",
            "[nltk_data]    | Downloading package tagsets to /root/nltk_data...\n",
            "[nltk_data]    |   Unzipping help/tagsets.zip.\n",
            "[nltk_data]    | Downloading package timit to /root/nltk_data...\n",
            "[nltk_data]    |   Unzipping corpora/timit.zip.\n",
            "[nltk_data]    | Downloading package toolbox to /root/nltk_data...\n",
            "[nltk_data]    |   Unzipping corpora/toolbox.zip.\n",
            "[nltk_data]    | Downloading package treebank to /root/nltk_data...\n",
            "[nltk_data]    |   Unzipping corpora/treebank.zip.\n",
            "[nltk_data]    | Downloading package twitter_samples to\n",
            "[nltk_data]    |     /root/nltk_data...\n",
            "[nltk_data]    |   Unzipping corpora/twitter_samples.zip.\n",
            "[nltk_data]    | Downloading package udhr to /root/nltk_data...\n",
            "[nltk_data]    |   Unzipping corpora/udhr.zip.\n",
            "[nltk_data]    | Downloading package udhr2 to /root/nltk_data...\n",
            "[nltk_data]    |   Unzipping corpora/udhr2.zip.\n",
            "[nltk_data]    | Downloading package unicode_samples to\n",
            "[nltk_data]    |     /root/nltk_data...\n",
            "[nltk_data]    |   Unzipping corpora/unicode_samples.zip.\n",
            "[nltk_data]    | Downloading package universal_tagset to\n",
            "[nltk_data]    |     /root/nltk_data...\n",
            "[nltk_data]    |   Unzipping taggers/universal_tagset.zip.\n",
            "[nltk_data]    | Downloading package universal_treebanks_v20 to\n",
            "[nltk_data]    |     /root/nltk_data...\n",
            "[nltk_data]    | Downloading package vader_lexicon to\n",
            "[nltk_data]    |     /root/nltk_data...\n",
            "[nltk_data]    | Downloading package verbnet to /root/nltk_data...\n",
            "[nltk_data]    |   Unzipping corpora/verbnet.zip.\n",
            "[nltk_data]    | Downloading package verbnet3 to /root/nltk_data...\n",
            "[nltk_data]    |   Unzipping corpora/verbnet3.zip.\n",
            "[nltk_data]    | Downloading package webtext to /root/nltk_data...\n",
            "[nltk_data]    |   Unzipping corpora/webtext.zip.\n",
            "[nltk_data]    | Downloading package wmt15_eval to /root/nltk_data...\n",
            "[nltk_data]    |   Unzipping models/wmt15_eval.zip.\n",
            "[nltk_data]    | Downloading package word2vec_sample to\n",
            "[nltk_data]    |     /root/nltk_data...\n",
            "[nltk_data]    |   Unzipping models/word2vec_sample.zip.\n",
            "[nltk_data]    | Downloading package wordnet to /root/nltk_data...\n",
            "[nltk_data]    |   Unzipping corpora/wordnet.zip.\n",
            "[nltk_data]    | Downloading package wordnet2021 to /root/nltk_data...\n",
            "[nltk_data]    |   Unzipping corpora/wordnet2021.zip.\n",
            "[nltk_data]    | Downloading package wordnet31 to /root/nltk_data...\n",
            "[nltk_data]    |   Unzipping corpora/wordnet31.zip.\n",
            "[nltk_data]    | Downloading package wordnet_ic to /root/nltk_data...\n",
            "[nltk_data]    |   Unzipping corpora/wordnet_ic.zip.\n",
            "[nltk_data]    | Downloading package words to /root/nltk_data...\n",
            "[nltk_data]    |   Unzipping corpora/words.zip.\n",
            "[nltk_data]    | Downloading package ycoe to /root/nltk_data...\n",
            "[nltk_data]    |   Unzipping corpora/ycoe.zip.\n",
            "[nltk_data]    | \n",
            "[nltk_data]  Done downloading collection all\n"
          ]
        },
        {
          "output_type": "execute_result",
          "data": {
            "text/plain": [
              "True"
            ]
          },
          "metadata": {},
          "execution_count": 1
        }
      ]
    },
    {
      "cell_type": "code",
      "metadata": {
        "id": "rkuLKQpdwmM8",
        "colab": {
          "base_uri": "https://localhost:8080/"
        },
        "outputId": "e8dd5861-189e-4019-b20f-70117afb0c96"
      },
      "source": [
        "# NLTK -> Natural Language Toolkit \n",
        "\n",
        "import nltk\n",
        "fl = open('text.txt','rt')\n",
        "data = fl.read()\n",
        "from nltk.tokenize import sent_tokenize\n",
        "sent_tokenize(data)"
      ],
      "execution_count": 2,
      "outputs": [
        {
          "output_type": "execute_result",
          "data": {
            "text/plain": [
              "['Mantis shrimp, or stomatopods, are carnivorous marine crustaceans of the order Stomatopoda, branching from other members of the class Malacostraca around 340 million years ago.',\n",
              " '[2] Mantis shrimps typically grow to around 10 cm (3.9 in) in length, while a few can reach up to 38 cm (15 in).',\n",
              " \"[3] A mantis shrimp's carapace (the hard, thick shell that covers crustaceans and some other species) covers only the rear part of the head and the first four segments of the thorax.\",\n",
              " 'Varieties range in colour from shades of brown to vivid colours, with more than 450 species of mantis shrimp being known.',\n",
              " 'They are among the most important predators in many shallow, tropical and subtropical marine habitats.',\n",
              " 'However, despite being common, they are poorly understood, as many species spend most of their lives tucked away in burrows and holes.',\n",
              " '[4]\\n\\nCalled \"sea locusts\" by ancient Assyrians, \"prawn killers\" in Australia,[5] and now sometimes referred to as \"thumb splitters\"—because of the animal\\'s ability to inflict painful wounds if handled incautiously[6]—mantis shrimps have powerful raptorials that are used to attack and kill prey either by spearing, stunning, or dismembering.',\n",
              " 'Some mantis shrimp species have specialised calcified \"clubs\" that can strike with great power, while others have sharp forelimbs used to seize the prey (hence the term \"mantis\" in its common name).',\n",
              " 'Contents\\n1\\tEcology\\n2\\tHabitat\\n3\\tClaws\\n4\\tEyes\\n4.1\\tSuggested advantages of visual system\\n5\\tBehaviour\\n6\\tCulinary uses\\n7\\tAquaria\\n8\\tExample species\\n9\\tSee also\\n10\\tReferences\\n11\\tExternal links\\nEcology\\nAbout 450 species of mantis shrimp have been discovered worldwide; all living species are in the suborder Unipeltata, which arose around 193 million years ago.',\n",
              " '[2][7]\\n\\nThese aggressive and typically solitary sea creatures spend most of their time hiding in rock formations or burrowing intricate passageways in the sea bed.',\n",
              " 'They rarely exit their homes except to feed and relocate, and can be active during the day, nocturnal, or crepuscular (active at twilight), depending on the species.',\n",
              " 'Unlike most crustaceans, they sometimes hunt, chase, and kill prey.',\n",
              " 'Although some live in temperate seas, most species live in tropical and subtropical waters in the Indian and Pacific Oceans between eastern Africa and Hawaii.',\n",
              " 'Habitat\\nMantis shrimp live in burrows where they spend the majority of their time.',\n",
              " '[8] The two different categories of mantis shrimp—spearing and smashing—favour different locations for burrowing.',\n",
              " '[8] The spearing species build their habitat in soft sediments and the smashing species make burrows in hard substrata or coral cavities.',\n",
              " '[8] These two habitats are crucial for their ecology since they use burrows as sites for retreat and as locations for consuming their prey.',\n",
              " '[8] Burrows and coral cavities are also used as sites for mating and for keeping their eggs safe.',\n",
              " \"[8] Stomatopod body size undergoes periodic growth which necessitates finding a new cavity or burrow that will fit the animal's new diameter.\",\n",
              " '[8] Some spearing species can modify their pre-established habitat if the burrow is made of silt or mud, which can be expanded.',\n",
              " \"[8]\\n\\nClaws\\n\\nSquilla mantis, showing the spearing appendages\\n\\nMantis shrimp from the front\\nThe mantis shrimp's second pair of thoracic appendages has been highly adapted for powerful close-range combat.\",\n",
              " 'The appendage differences divide mantis shrimp into two main types: those that hunt by impaling their prey with spear-like structures and those that smash prey with a powerful blow from a heavily mineralised club-like appendage.',\n",
              " 'A considerable amount of damage can be inflicted after impact with these robust, hammer-like claws.',\n",
              " 'This club is further divided into three subregions: the impact region, the periodic region, and the striated region.',\n",
              " 'Mantis shrimp are commonly separated into two distinct groups determined by the type of claws they possess:\\n\\nSmashers possess a much more developed club and a more rudimentary spear (which is nevertheless quite sharp and still used in fights between their own kind); the club is used to bludgeon and smash their meals apart.',\n",
              " 'The inner aspect of the terminal portion of the appendage can also possess a sharp edge, used to cut prey while the mantis shrimp swims.',\n",
              " 'Spearers are armed with spiny appendages - the spines having barbed tips - used to stab and snag prey.',\n",
              " 'Both types strike by rapidly unfolding and swinging their raptorial claws at the prey, and can inflict serious damage on victims significantly greater in size than themselves.',\n",
              " 'In smashers, these two weapons are employed with blinding quickness, with an acceleration of 10,400 g (102,000 m/s2 or 335,000 ft/s2) and speeds of 23 m/s (83 km/h; 51 mph) from a standing start.',\n",
              " '[9] Because they strike so rapidly, they generate vapor-filled bubbles in the water between the appendage and the striking surface—known as cavitation bubbles.',\n",
              " '[9] The collapse of these cavitation bubbles produces measurable forces on their prey in addition to the instantaneous forces of 1,500 newtons that are caused by the impact of the appendage against the striking surface, which means that the prey is hit twice by a single strike; first by the claw and then by the collapsing cavitation bubbles that immediately follow.',\n",
              " '[10] Even if the initial strike misses the prey, the resulting shock wave can be enough to stun or kill.',\n",
              " 'Smashers use this ability to attack crabs, snails, rock oysters, and other molluscs, their blunt clubs enabling them to crack the shells of their prey into pieces.',\n",
              " 'Spearers, however, prefer the meat of softer animals, such as fish, which their barbed claws can more easily slice and snag.',\n",
              " 'The appendages are being studied as a microscale analogue for new macroscale material structures.',\n",
              " '[11]\\n\\nEyes\\n\\nThe front of Lysiosquillina maculata, showing the stalked eyes\\nThe eyes of the mantis shrimp are mounted on mobile stalks and can move independently of each other.',\n",
              " 'They are thought to have the most complex eyes in the animal kingdom and have the most complex visual system ever discovered.',\n",
              " '[12][13][14] Compared with the three types of photoreceptor cells that humans possess in their eyes, the eyes of a mantis shrimp have between 12 and 16 types of photoreceptor cells.',\n",
              " 'Furthermore, some of these shrimp can tune the sensitivity of their long-wavelength colour vision to adapt to their environment.',\n",
              " '[15] This phenomenon, called \"spectral tuning\", is species-specific.',\n",
              " '[16] Cheroske et al.',\n",
              " 'did not observe spectral tuning in Neogonodactylus oerstedii, the species with the most monotonous natural photic environment.',\n",
              " 'In N. bredini, a species with a variety of habitats ranging from a depth of 5 to 10 m (although it can be found down to 20 m below the surface), spectral tuning was observed, but the ability to alter wavelengths of maximum absorbance was not as pronounced as in N. wennerae, a species with much higher ecological/photic habitat diversity.',\n",
              " \"The diversity of spectral tuning in Stomatopoda is also hypothesized to be directly linked to mutations on the opsin gene's chromophore binding pocket.\",\n",
              " '[17]\\n\\nDespite the impressive range of wavelengths that mantis shrimp have the ability to see, they do not have the ability to discriminate wavelengths less than 25 nm apart.',\n",
              " 'It is suggested that not discriminating between closely positioned wavelengths allows these organisms to make determinations of its surroundings with little processing delay.',\n",
              " 'Having little delay in evaluating surroundings is important for mantis shrimp, since they are territorial and frequently in combat.',\n",
              " '[18]\\n\\n\\nClose-up of a mantis shrimp showing the structure of the eyes\\nEach compound eye is made up of tens of thousands of ommatidia, clusters of photoreceptor cells.',\n",
              " '[13] Each eye consists of two flattened hemispheres separated by parallel rows of specialised ommatidia, collectively called the midband.',\n",
              " 'The number of omatidial rows in the midband ranges from two to six.',\n",
              " '[12][13] This divides the eye into three regions.',\n",
              " 'This configuration enables mantis shrimp to see objects with three parts of the same eye.',\n",
              " 'In other words, each eye possesses trinocular vision, and therefore depth perception.',\n",
              " 'The upper and lower hemispheres are used primarily for recognition of form and motion, like the eyes of many other crustaceans.',\n",
              " '[12]\\n\\nMantis shrimp can perceive wavelengths of light ranging from deep ultraviolet (UVB) to far-red (300 to 720 nm) and polarized light.',\n",
              " '[13][18] In mantis shrimp in the superfamilies Gonodactyloidea, Lysiosquilloidea, and Hemisquilloidea, the midband is made up of six omatodial rows.',\n",
              " 'Rows 1 to 4 process colours, while rows 5 and 6 detect circularly or linearly polarized light.',\n",
              " 'Twelve types of photoreceptor cells are in rows 1 to 4, four of which detect ultraviolet light.',\n",
              " '[12][13][18][19]\\n\\nRows 1 to 4 of the midband are specialised for colour vision, from deep ultraviolet to far red.',\n",
              " 'Their UV vision can detect five different frequency bands in the deep ultraviolet.',\n",
              " 'To do this, they use two photoreceptors in combination with four different colour filters.',\n",
              " '[20][21] They are not currently believed to be sensitive to infrared light.',\n",
              " '[22] The optical elements in these rows have eight different classes of visual pigments and the rhabdom (area of eye that absorbs light from a single direction) is divided into three different pigmented layers (tiers), each for different wavelengths.',\n",
              " 'The three tiers in rows 2 and 3 are separated by colour filters (intrarhabdomal filters) that can be divided into four distinct classes, two classes in each row.',\n",
              " 'It is organised like a sandwich - a tier, a colour filter of one class, a tier again, a colour filter of another class, and then a last tier.',\n",
              " 'These colour filters allow the mantis shrimp to see with diverse colour vision.',\n",
              " 'Without the filters, the pigments themselves range only a small segment of the visual spectrum, about 490 to 550 nm.',\n",
              " '[23] Rows 5 and 6 are also segregated into different tiers, but have only one class of visual pigment, the ninth class, and are specialised for polarization vision.',\n",
              " 'Depending upon the species, they can detect circularly polarized light, linearly polarised light, or both.',\n",
              " 'A tenth class of visual pigment is found in the upper and lower hemispheres of the eye.',\n",
              " '[12]\\n\\nSome species have at least 16 photoreceptor types, which are divided into four classes (their spectral sensitivity is further tuned by colour filters in the retinas), 12 for colour analysis in the different wavelengths (including six which are sensitive to ultraviolet light[20][24]) and four for analysing polarised light.',\n",
              " 'By comparison, most humans have only four visual pigments, of which three are dedicated to see colour, and human lenses block ultraviolet light.',\n",
              " 'The visual information leaving the retina seems to be processed into numerous parallel data streams leading into the brain, greatly reducing the analytical requirements at higher levels.',\n",
              " '[25]\\n\\nSix species of mantis shrimp have been reported to be able to detect circularly polarized light, which has not been documented in any other animal, and whether it is present across all species is unknown.',\n",
              " '[26][27][28] Some of their biological quarter-waveplates perform more uniformly over the visual spectrum than any current man-made polarising optics, and this could inspire new types of optical media that would outperform the current generation of Blu-ray Disc technology.',\n",
              " '[29][30]\\n\\nThe species Gonodactylus smithii is the only organism known to simultaneously detect the four linear and two circular polarisation components required to measure all four Stokes parameters, which yield a full description of polarisation.',\n",
              " 'It is thus believed to have optimal polarisation vision.',\n",
              " '[27][31] It is the only animal known to have dynamic polarisation vision.',\n",
              " 'This is achieved by rotational eye movements to maximise the polarisation contrast between the object in focus and its background.',\n",
              " '[32] Since each eye moves independently from the other, it creates two separate streams of visual information.',\n",
              " \"[33]\\n\\nThe midband covers only about 5 to 10° of the visual field at any given instant, but like most crustaceans, mantis shrimps' eyes are mounted on stalks.\",\n",
              " 'In mantis shrimps, the movement of the stalked eye is unusually free, and can be driven up to 70° in all possible axes of movement by eight eyecup muscles divided into six functional groups.',\n",
              " 'By using these muscles to scan the surroundings with the midband, they can add information about forms, shapes, and landscape, which cannot be detected by the upper and lower hemispheres of the eyes.',\n",
              " 'They can also track moving objects using large, rapid eye movements where the two eyes move independently.',\n",
              " 'By combining different techniques, including movements in the same direction, the midband can cover a very wide range of the visual field.',\n",
              " 'The huge diversity seen in mantis shrimp photoreceptors likely comes from ancient gene duplication events.',\n",
              " '[23][34] One interesting consequence of this duplication is the lack of correlation between opsin transcript number and physiologically expressed photoreceptors.',\n",
              " '[23] One species may have six different opsin genes, but only express one spectrally distinct photoreceptor.',\n",
              " 'Over the years, some mantis shrimp species have lost the ancestral phenotype, although some still maintain 16 distinct photoreceptors and four light filters.',\n",
              " 'Species that live in a variety of photic environments have high selective pressure for photoreceptor diversity, and maintain ancestral phenotypes better than species that live in murky waters or are primarily nocturnal.',\n",
              " '[23][35]\\n\\nSuggested advantages of visual system\\n\\nClose-up of the trinocular vision of Pseudosquilla ciliata\\nWhat advantage sensitivity to polarisation confers is unclear; however, polarisation vision is used by other animals for sexual signaling and secret communication that avoids the attention of predators.',\n",
              " '[36] This mechanism could provide an evolutionary advantage; it only requires small changes to the cell in the eye and could easily lead to natural selection.',\n",
              " '[37]\\n\\nThe eyes of mantis shrimps may enable them to recognise different types of coral, prey species (which are often transparent or semitransparent), or predators, such as barracuda, which have shimmering scales.',\n",
              " 'Alternatively, the manner in which they hunt (very rapid movements of the claws) may require very accurate ranging information, which would require accurate depth perception.',\n",
              " 'During mating rituals, mantis shrimps actively fluoresce, and the wavelength of this fluorescence matches the wavelengths detected by their eye pigments.',\n",
              " '[38] Females are only fertile during certain phases of the tidal cycle; the ability to perceive the phase of the moon may, therefore, help prevent wasted mating efforts.',\n",
              " 'It may also give these shrimps information about the size of the tide, which is important to species living in shallow water near the shore.',\n",
              " 'The capacity to see UV light may enable observation of otherwise hard-to-detect prey on coral reefs.',\n",
              " '[24]\\n\\nResearchers suspect that the broader variety of photoreceptors in the eyes of mantis shrimps allows visual information to be preprocessed by the eyes instead of the brain, which would otherwise have to be larger to deal with the complex task of opponent process color perception used by other species, thus requiring more time and energy.',\n",
              " 'While the eyes themselves are complex and not yet fully understood, the principle of the system appears to be simple.',\n",
              " '[39] It has a similar set of sensitivities to the human visual system, but works in the opposite manner.',\n",
              " 'In the human brain, the inferior temporal cortex has a huge number of colour-specific neurons, which process visual impulses from the eyes to create colourful experiences.',\n",
              " 'The mantis shrimp instead uses the different types of photoreceptors in its eyes to perform the same function as the human brain neurons, resulting in a hardwired and more efficient system for an animal that requires rapid colour identification.',\n",
              " 'Humans have fewer types of photoreceptors, but more colour-tuned neurons, while mantis shrimps appears to have fewer colour neurons and more classes of photoreceptors.',\n",
              " '[40]\\n\\nA publication by researchers from the University of Queensland stated that the compound eyes of mantis shrimp can detect cancer and the activity of neurons, because they are sensitive to detecting polarised light that reflects differently from cancerous and healthy tissue.',\n",
              " 'The study claims that this ability can be replicated through a camera through the use of aluminium nanowires to replicate polarisation-filtering microvilli on top of photodiodes.',\n",
              " '[41][42] In February 2016, the shrimps were found to be using a form of reflector of polarised light not seen in nature or human technology before.',\n",
              " 'It allows the manipulation of light across the structure rather than through its depth, the typical way polarisers work.',\n",
              " 'This allows the structure to be both small and microscopically thin, and still be able to produce big, bright, colourful polarised signals.',\n",
              " '[43]\\n\\nBehaviour\\n\\nDrawing of a mantis shrimp by Richard Lydekker, 1896\\nMantis shrimps are long-lived and exhibit complex behaviour, such as ritualised fighting.',\n",
              " 'Some species use fluorescent patterns on their bodies for signalling with their own and maybe even other species, expanding their range of behavioural signals.',\n",
              " 'They can learn and remember well, and are able to recognise individual neighbours with which they frequently interact.',\n",
              " 'They can recognise them by visual signs and even by individual smell.',\n",
              " 'Many have developed complex social behaviours to defend their space from rivals.',\n",
              " 'In a lifetime, they can have as many as 20 or 30 breeding episodes.',\n",
              " \"Depending on the species, the eggs can be laid and kept in a burrow, or they can be carried around under the female's tail until they hatch.\",\n",
              " 'Also depending on the species, males and females may come together only to mate, or they may bond in monogamous, long-term relationships.',\n",
              " '[44]\\n\\nIn the monogamous species, the mantis shrimps remain with the same partner up to 20 years.',\n",
              " 'They share the same burrow and may be able to coordinate their activities.',\n",
              " 'Both sexes often take care of the eggs (bi-parental care).',\n",
              " 'In Pullosquilla and some species in Nannosquilla, the female lays two clutches of eggs – one that the male tends and one that the female tends.',\n",
              " 'In other species, the female looks after the eggs while the male hunts for both of them.',\n",
              " 'After the eggs hatch, the offspring may spend up to three months as plankton.',\n",
              " 'Although stomatopods typically display the standard types of movement seen in true shrimp and lobsters, one species, Nannosquilla decemspinosa, has been observed flipping itself into a crude wheel.',\n",
              " 'The species lives in shallow, sandy areas.',\n",
              " 'At low tides, N. decemspinosa is often stranded by its short rear legs, which are sufficient for movement when the body is supported by water, but not on dry land.',\n",
              " 'The mantis shrimp then performs a forward flip in an attempt to roll towards the next tide pool.',\n",
              " 'N. has been observed to roll repeatedly for 2 m (6.6 ft), but specimens typically travel less than 1 m (3.3 ft).',\n",
              " '[45]\\n\\nCulinary uses\\nWiki letter w.svg\\nThis article is missing information about more specifics on species, better if combined with some list of fisheries.',\n",
              " 'For example, Harpiosquilla harpax and Oratosquilla anomala are commonly mentioned in SE Asian contexts.',\n",
              " 'Please expand the article to include this information.',\n",
              " 'Further details may exist on the talk page.',\n",
              " '(October 2021)\\n\\nMantis shrimp caught at Hậu Lộc, Thanh Hóa, Vietnam\\nIn Japanese cuisine, the mantis shrimp species Oratosquilla oratoria, called shako (蝦蛄), is eaten boiled as a sushi topping, and occasionally raw as sashimi.',\n",
              " \"Mantis shrimps are abundant along Vietnam's coast, known in Vietnamese as bề bề or tôm tít.\",\n",
              " 'In regions such as Nha Trang, they are called bàn chải, named for its resemblance to a scrub brush.',\n",
              " 'The shrimp can be steamed, boiled, grilled, or dried, used with pepper, salt and lime, fish sauce and tamarind, or fennel.',\n",
              " '[46]\\n\\nIn Cantonese cuisine, the mantis shrimp is known as \"urinating shrimp\" (Chinese: 瀨尿蝦; pinyin: lài niào xiā; Jyutping: laaih niu hā) because of their tendency to shoot a jet of water when picked up.',\n",
              " 'After cooking, their flesh is closer to that of lobsters than that of shrimp, and like lobsters, their shells are quite hard and require some pressure to crack.',\n",
              " 'Usually, they are deep fried with garlic and chili peppers.',\n",
              " 'In the Mediterranean countries, the mantis shrimp Squilla mantis is a common seafood, especially on the Adriatic coasts (canocchia) and the Gulf of Cádiz (galera).',\n",
              " 'In the Philippines, the mantis shrimp is known as tatampal, hipong-dapa, pitik-pitik, or alupihang-dagat, and is cooked and eaten like any other shrimp.',\n",
              " 'In Hawaii, some mantis shrimp have grown unusually large in the contaminated water of the Grand Ala Wai Canal in Waikiki.',\n",
              " 'The dangers normally associated with consuming seafood caught in contaminated waters are present in these mantis shrimp.',\n",
              " '[3]\\n\\nAquaria\\n\\nPeacock mantis shrimp\\nSome saltwater aquarists keep stomatopods in captivity.',\n",
              " '[47] The peacock mantis is especially colourful and desired in the trade.',\n",
              " 'While some aquarists value mantis shrimps, others consider them harmful pests, because they are voracious predators, eating other desirable inhabitants of the tank.',\n",
              " 'Additionally, some rock-burrowing species can do more damage to live rock than the fishkeeper would prefer.',\n",
              " 'The live rock with mantis shrimp burrows is considered useful by some in the marine aquarium trade and is often collected.',\n",
              " 'A piece of live rock not uncommonly conveys a live mantis shrimp into an aquarium.',\n",
              " 'Once inside the tank, it may feed on fish and other inhabitants, and is notoriously difficult to catch when established in a well-stocked tank.',\n",
              " '[48] While there are accounts of this shrimp breaking glass tanks, they are rare and are usually the result of the shrimp being kept in too small a tank.',\n",
              " 'While stomatopods do not eat coral, smashers can damage it if they try to make a home within it.']"
            ]
          },
          "metadata": {},
          "execution_count": 2
        }
      ]
    },
    {
      "cell_type": "code",
      "metadata": {
        "id": "L-c54ehuxu01",
        "colab": {
          "base_uri": "https://localhost:8080/"
        },
        "outputId": "da6acafb-9b98-4a96-e8d2-b93f089488d6"
      },
      "source": [
        "\n",
        "txt = 'Hello world, Bye bye world! How are you?'\n",
        "from nltk.tokenize import sent_tokenize\n",
        "sent_tokenize(txt)"
      ],
      "execution_count": 3,
      "outputs": [
        {
          "output_type": "execute_result",
          "data": {
            "text/plain": [
              "['Hello world, Bye bye world!', 'How are you?']"
            ]
          },
          "metadata": {},
          "execution_count": 3
        }
      ]
    },
    {
      "cell_type": "code",
      "metadata": {
        "id": "GFDWPtnoyiCQ",
        "colab": {
          "base_uri": "https://localhost:8080/"
        },
        "outputId": "9934c79f-4b4c-4260-8b1c-a7f42b3e12e2"
      },
      "source": [
        "# foregin languages \n",
        "sent_tokenize('Como estais amigo! No habla espanol', 'spanish')\n"
      ],
      "execution_count": 5,
      "outputs": [
        {
          "output_type": "execute_result",
          "data": {
            "text/plain": [
              "['Como estais amigo!', 'No habla espanol']"
            ]
          },
          "metadata": {},
          "execution_count": 5
        }
      ]
    },
    {
      "cell_type": "code",
      "source": [
        "sent_tokenize('Enchante! Tres bien. Comment allez-vous?', 'french')"
      ],
      "metadata": {
        "id": "djcSVrtt6IdX",
        "outputId": "81dfe0d0-15b9-497c-809b-69e97b5f5f42",
        "colab": {
          "base_uri": "https://localhost:8080/"
        }
      },
      "execution_count": 6,
      "outputs": [
        {
          "output_type": "execute_result",
          "data": {
            "text/plain": [
              "['Enchante!', 'Tres bien.', 'Comment allez-vous?']"
            ]
          },
          "metadata": {},
          "execution_count": 6
        }
      ]
    },
    {
      "cell_type": "code",
      "metadata": {
        "id": "OrbeRAstzPai",
        "colab": {
          "base_uri": "https://localhost:8080/"
        },
        "outputId": "2174448b-4f44-4e06-a90e-76173d8232ae"
      },
      "source": [
        "from nltk.tokenize import word_tokenize\n",
        "txt = 'Hello world, Bye bye world! How are you?'\n",
        "word_tokenize(txt)"
      ],
      "execution_count": 18,
      "outputs": [
        {
          "output_type": "execute_result",
          "data": {
            "text/plain": [
              "['Hello', 'world', ',', 'Bye', 'bye', 'world', '!', 'How', 'are', 'you', '?']"
            ]
          },
          "metadata": {},
          "execution_count": 18
        }
      ]
    },
    {
      "cell_type": "code",
      "metadata": {
        "id": "LiMAy_NAzxgv",
        "colab": {
          "base_uri": "https://localhost:8080/"
        },
        "outputId": "ed6ad2a0-3b7b-4c6c-9162-ac930cdf3a0d"
      },
      "source": [
        "from nltk.corpus import wordnet # wordnet is a thesaurus\n",
        "syn = wordnet.synsets('feel')\n",
        "syn"
      ],
      "execution_count": 22,
      "outputs": [
        {
          "output_type": "execute_result",
          "data": {
            "text/plain": [
              "[Synset('feel.n.01'),\n",
              " Synset('spirit.n.02'),\n",
              " Synset('tactile_property.n.01'),\n",
              " Synset('feel.n.04'),\n",
              " Synset('feel.v.01'),\n",
              " Synset('find.v.05'),\n",
              " Synset('feel.v.03'),\n",
              " Synset('feel.v.04'),\n",
              " Synset('feel.v.05'),\n",
              " Synset('feel.v.06'),\n",
              " Synset('feel.v.07'),\n",
              " Synset('feel.v.08'),\n",
              " Synset('feel.v.09'),\n",
              " Synset('palpate.v.01'),\n",
              " Synset('feel.v.11'),\n",
              " Synset('feel.v.12'),\n",
              " Synset('feel.v.13')]"
            ]
          },
          "metadata": {},
          "execution_count": 22
        }
      ]
    },
    {
      "cell_type": "code",
      "metadata": {
        "id": "Bi9PypNi07De",
        "colab": {
          "base_uri": "https://localhost:8080/"
        },
        "outputId": "eca738c1-46d4-46c4-f51e-740dc76f8a0c"
      },
      "source": [
        "print(syn[0].definition())\n",
        "print(syn[7].definition())"
      ],
      "execution_count": 25,
      "outputs": [
        {
          "output_type": "stream",
          "name": "stdout",
          "text": [
            "an intuitive awareness; \n",
            "be conscious of a physical, mental, or emotional state\n"
          ]
        }
      ]
    },
    {
      "cell_type": "code",
      "metadata": {
        "id": "g4IaS9KA1HUo",
        "colab": {
          "base_uri": "https://localhost:8080/"
        },
        "outputId": "18094003-8af0-4555-ae17-b6313c792a9e"
      },
      "source": [
        "syn[7].examples()"
      ],
      "execution_count": 26,
      "outputs": [
        {
          "output_type": "execute_result",
          "data": {
            "text/plain": [
              "['My cold is gone--I feel fine today',\n",
              " 'She felt tired after the long hike',\n",
              " 'She felt sad after her loss']"
            ]
          },
          "metadata": {},
          "execution_count": 26
        }
      ]
    },
    {
      "cell_type": "code",
      "metadata": {
        "id": "I2vKs5k31Sxl",
        "colab": {
          "base_uri": "https://localhost:8080/"
        },
        "outputId": "1e8a8e95-08fd-4d90-c755-bef0d78bf64e"
      },
      "source": [
        "synos = []\n",
        "for syn in wordnet.synsets('drama'):\n",
        "  print(syn.pos)\n",
        "  for lemma in syn.lemmas():\n",
        "    synos.append(lemma.name())\n",
        "    \n",
        "synos\n",
        "# Synonyms "
      ],
      "execution_count": 31,
      "outputs": [
        {
          "output_type": "stream",
          "name": "stdout",
          "text": [
            "<bound method Synset.pos of Synset('play.n.01')>\n",
            "<bound method Synset.pos of Synset('drama.n.02')>\n",
            "<bound method Synset.pos of Synset('drama.n.03')>\n",
            "<bound method Synset.pos of Synset('drama.n.04')>\n"
          ]
        },
        {
          "output_type": "execute_result",
          "data": {
            "text/plain": [
              "['play', 'drama', 'dramatic_play', 'drama', 'dramatic_event', 'drama', 'drama']"
            ]
          },
          "metadata": {},
          "execution_count": 31
        }
      ]
    },
    {
      "cell_type": "code",
      "metadata": {
        "id": "DwQ4vx0111bh",
        "colab": {
          "base_uri": "https://localhost:8080/"
        },
        "outputId": "87996e2f-adde-44dc-eb56-cf9bed5c089e"
      },
      "source": [
        "synos = []\n",
        "antos = set()\n",
        "for syn in wordnet.synsets('love'):\n",
        "  for lemma in syn.lemmas():\n",
        "    synos.append(lemma.name())\n",
        "    if lemma.antonyms():\n",
        "      antos.add(lemma.antonyms()[0].name())\n",
        "\n",
        "antos"
      ],
      "execution_count": 33,
      "outputs": [
        {
          "output_type": "execute_result",
          "data": {
            "text/plain": [
              "{'hate'}"
            ]
          },
          "metadata": {},
          "execution_count": 33
        }
      ]
    },
    {
      "cell_type": "code",
      "metadata": {
        "id": "tRSkZRhF26UD",
        "colab": {
          "base_uri": "https://localhost:8080/"
        },
        "outputId": "6ea7c6dd-a39a-4f2c-b77d-7541bd7b7763"
      },
      "source": [
        "from nltk import SnowballStemmer\n",
        "myStemmer = SnowballStemmer('english')\n",
        "print(myStemmer.stem('drying'))\n",
        "print(myStemmer.stem('dried'))\n",
        "# stemming result may not be in english dictionary\n",
        "# may-> accidentally but not intentionally in english dictionary"
      ],
      "execution_count": 32,
      "outputs": [
        {
          "output_type": "stream",
          "name": "stdout",
          "text": [
            "dri\n",
            "dri\n"
          ]
        }
      ]
    },
    {
      "cell_type": "code",
      "metadata": {
        "id": "4pWbq1Yf5QVg",
        "colab": {
          "base_uri": "https://localhost:8080/"
        },
        "outputId": "58c8aebd-ec79-4f7e-fdfc-5c4bb67f2ebd"
      },
      "source": [
        "from nltk.stem import WordNetLemmatizer\n",
        "lemma =WordNetLemmatizer()\n",
        "print(lemma.lemmatize('believes'))\n",
        "# STRENGTH -> NLTK, speed-> textacy , simple tasks -> spacy \n",
        "# manipulate the Part-of-speech to get desired result\n",
        "print(lemma.lemmatize('believes', pos='v')) # verb\n",
        "print(lemma.lemmatize('believes', pos='a')) # adjective\n",
        "print(lemma.lemmatize('believes', pos='r')) # adverb\n",
        "print(lemma.lemmatize('believes', pos='n')) # noun\n",
        "print(lemma.lemmatize('dogs'))\n",
        "# Result of LEMMA is in ENGLISH dictionary"
      ],
      "execution_count": 34,
      "outputs": [
        {
          "output_type": "stream",
          "name": "stdout",
          "text": [
            "belief\n",
            "believe\n",
            "believes\n",
            "believes\n",
            "belief\n",
            "dog\n"
          ]
        }
      ]
    },
    {
      "cell_type": "code",
      "metadata": {
        "id": "aLPN6pgZ9jhz",
        "colab": {
          "base_uri": "https://localhost:8080/"
        },
        "outputId": "68bf4b47-30ac-4145-e3a9-71e4c7af7da3"
      },
      "source": [
        "from nltk.corpus import stopwords\n",
        "stopwords.words('english')"
      ],
      "execution_count": 15,
      "outputs": [
        {
          "output_type": "execute_result",
          "data": {
            "text/plain": [
              "['i',\n",
              " 'me',\n",
              " 'my',\n",
              " 'myself',\n",
              " 'we',\n",
              " 'our',\n",
              " 'ours',\n",
              " 'ourselves',\n",
              " 'you',\n",
              " \"you're\",\n",
              " \"you've\",\n",
              " \"you'll\",\n",
              " \"you'd\",\n",
              " 'your',\n",
              " 'yours',\n",
              " 'yourself',\n",
              " 'yourselves',\n",
              " 'he',\n",
              " 'him',\n",
              " 'his',\n",
              " 'himself',\n",
              " 'she',\n",
              " \"she's\",\n",
              " 'her',\n",
              " 'hers',\n",
              " 'herself',\n",
              " 'it',\n",
              " \"it's\",\n",
              " 'its',\n",
              " 'itself',\n",
              " 'they',\n",
              " 'them',\n",
              " 'their',\n",
              " 'theirs',\n",
              " 'themselves',\n",
              " 'what',\n",
              " 'which',\n",
              " 'who',\n",
              " 'whom',\n",
              " 'this',\n",
              " 'that',\n",
              " \"that'll\",\n",
              " 'these',\n",
              " 'those',\n",
              " 'am',\n",
              " 'is',\n",
              " 'are',\n",
              " 'was',\n",
              " 'were',\n",
              " 'be',\n",
              " 'been',\n",
              " 'being',\n",
              " 'have',\n",
              " 'has',\n",
              " 'had',\n",
              " 'having',\n",
              " 'do',\n",
              " 'does',\n",
              " 'did',\n",
              " 'doing',\n",
              " 'a',\n",
              " 'an',\n",
              " 'the',\n",
              " 'and',\n",
              " 'but',\n",
              " 'if',\n",
              " 'or',\n",
              " 'because',\n",
              " 'as',\n",
              " 'until',\n",
              " 'while',\n",
              " 'of',\n",
              " 'at',\n",
              " 'by',\n",
              " 'for',\n",
              " 'with',\n",
              " 'about',\n",
              " 'against',\n",
              " 'between',\n",
              " 'into',\n",
              " 'through',\n",
              " 'during',\n",
              " 'before',\n",
              " 'after',\n",
              " 'above',\n",
              " 'below',\n",
              " 'to',\n",
              " 'from',\n",
              " 'up',\n",
              " 'down',\n",
              " 'in',\n",
              " 'out',\n",
              " 'on',\n",
              " 'off',\n",
              " 'over',\n",
              " 'under',\n",
              " 'again',\n",
              " 'further',\n",
              " 'then',\n",
              " 'once',\n",
              " 'here',\n",
              " 'there',\n",
              " 'when',\n",
              " 'where',\n",
              " 'why',\n",
              " 'how',\n",
              " 'all',\n",
              " 'any',\n",
              " 'both',\n",
              " 'each',\n",
              " 'few',\n",
              " 'more',\n",
              " 'most',\n",
              " 'other',\n",
              " 'some',\n",
              " 'such',\n",
              " 'no',\n",
              " 'nor',\n",
              " 'not',\n",
              " 'only',\n",
              " 'own',\n",
              " 'same',\n",
              " 'so',\n",
              " 'than',\n",
              " 'too',\n",
              " 'very',\n",
              " 's',\n",
              " 't',\n",
              " 'can',\n",
              " 'will',\n",
              " 'just',\n",
              " 'don',\n",
              " \"don't\",\n",
              " 'should',\n",
              " \"should've\",\n",
              " 'now',\n",
              " 'd',\n",
              " 'll',\n",
              " 'm',\n",
              " 'o',\n",
              " 're',\n",
              " 've',\n",
              " 'y',\n",
              " 'ain',\n",
              " 'aren',\n",
              " \"aren't\",\n",
              " 'couldn',\n",
              " \"couldn't\",\n",
              " 'didn',\n",
              " \"didn't\",\n",
              " 'doesn',\n",
              " \"doesn't\",\n",
              " 'hadn',\n",
              " \"hadn't\",\n",
              " 'hasn',\n",
              " \"hasn't\",\n",
              " 'haven',\n",
              " \"haven't\",\n",
              " 'isn',\n",
              " \"isn't\",\n",
              " 'ma',\n",
              " 'mightn',\n",
              " \"mightn't\",\n",
              " 'mustn',\n",
              " \"mustn't\",\n",
              " 'needn',\n",
              " \"needn't\",\n",
              " 'shan',\n",
              " \"shan't\",\n",
              " 'shouldn',\n",
              " \"shouldn't\",\n",
              " 'wasn',\n",
              " \"wasn't\",\n",
              " 'weren',\n",
              " \"weren't\",\n",
              " 'won',\n",
              " \"won't\",\n",
              " 'wouldn',\n",
              " \"wouldn't\"]"
            ]
          },
          "metadata": {},
          "execution_count": 15
        }
      ]
    },
    {
      "cell_type": "code",
      "metadata": {
        "id": "_HIarzv24AjS",
        "colab": {
          "base_uri": "https://localhost:8080/"
        },
        "outputId": "8f5e5691-b607-46bd-e8c4-6f3f110f1153"
      },
      "source": [
        "SnowballStemmer.languages"
      ],
      "execution_count": 16,
      "outputs": [
        {
          "output_type": "execute_result",
          "data": {
            "text/plain": [
              "('arabic',\n",
              " 'danish',\n",
              " 'dutch',\n",
              " 'english',\n",
              " 'finnish',\n",
              " 'french',\n",
              " 'german',\n",
              " 'hungarian',\n",
              " 'italian',\n",
              " 'norwegian',\n",
              " 'porter',\n",
              " 'portuguese',\n",
              " 'romanian',\n",
              " 'russian',\n",
              " 'spanish',\n",
              " 'swedish')"
            ]
          },
          "metadata": {},
          "execution_count": 16
        }
      ]
    },
    {
      "cell_type": "code",
      "metadata": {
        "id": "xUoHUkBt4cAB",
        "colab": {
          "base_uri": "https://localhost:8080/"
        },
        "outputId": "11fe0154-f114-45c7-a738-ca171f230a66"
      },
      "source": [
        "print(myStemmer.stem('14 dresses'))\n",
        "# ENGLISH -> numbers"
      ],
      "execution_count": 17,
      "outputs": [
        {
          "output_type": "stream",
          "name": "stdout",
          "text": [
            "14 dress\n"
          ]
        }
      ]
    },
    {
      "cell_type": "code",
      "metadata": {
        "id": "b41BxJRn8ORp"
      },
      "source": [
        ""
      ],
      "execution_count": null,
      "outputs": []
    }
  ]
}