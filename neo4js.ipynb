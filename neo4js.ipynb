{
  "nbformat": 4,
  "nbformat_minor": 0,
  "metadata": {
    "colab": {
      "name": "neo4js.ipynb",
      "provenance": [],
      "collapsed_sections": [],
      "authorship_tag": "ABX9TyOey91Rry8pmrkYhcFYFqAS",
      "include_colab_link": true
    },
    "kernelspec": {
      "name": "python3",
      "display_name": "Python 3"
    },
    "language_info": {
      "name": "python"
    }
  },
  "cells": [
    {
      "cell_type": "markdown",
      "metadata": {
        "id": "view-in-github",
        "colab_type": "text"
      },
      "source": [
        "<a href=\"https://colab.research.google.com/github/a-forty-two/diamler_17_jan/blob/main/neo4js.ipynb\" target=\"_parent\"><img src=\"https://colab.research.google.com/assets/colab-badge.svg\" alt=\"Open In Colab\"/></a>"
      ]
    },
    {
      "cell_type": "markdown",
      "metadata": {
        "id": "dWTSXoNCs5tQ"
      },
      "source": [
        ""
      ]
    },
    {
      "cell_type": "code",
      "metadata": {
        "colab": {
          "base_uri": "https://localhost:8080/"
        },
        "id": "x2iJ5GvTS-NK",
        "outputId": "53fe1ab0-4e09-4206-a566-ae50669ce919"
      },
      "source": [
        "!pip install neo4j"
      ],
      "execution_count": 1,
      "outputs": [
        {
          "output_type": "stream",
          "name": "stdout",
          "text": [
            "Collecting neo4j\n",
            "  Downloading neo4j-4.4.1.tar.gz (89 kB)\n",
            "\u001b[?25l\r\u001b[K     |███▊                            | 10 kB 16.5 MB/s eta 0:00:01\r\u001b[K     |███████▍                        | 20 kB 18.1 MB/s eta 0:00:01\r\u001b[K     |███████████                     | 30 kB 11.8 MB/s eta 0:00:01\r\u001b[K     |██████████████▊                 | 40 kB 8.5 MB/s eta 0:00:01\r\u001b[K     |██████████████████▍             | 51 kB 8.0 MB/s eta 0:00:01\r\u001b[K     |██████████████████████          | 61 kB 8.1 MB/s eta 0:00:01\r\u001b[K     |█████████████████████████▊      | 71 kB 7.7 MB/s eta 0:00:01\r\u001b[K     |█████████████████████████████▍  | 81 kB 8.5 MB/s eta 0:00:01\r\u001b[K     |████████████████████████████████| 89 kB 3.2 MB/s \n",
            "\u001b[?25hRequirement already satisfied: pytz in /usr/local/lib/python3.7/dist-packages (from neo4j) (2018.9)\n",
            "Building wheels for collected packages: neo4j\n",
            "  Building wheel for neo4j (setup.py) ... \u001b[?25l\u001b[?25hdone\n",
            "  Created wheel for neo4j: filename=neo4j-4.4.1-py3-none-any.whl size=114783 sha256=e30496331818695a8f7d536d5b236883e53161cbbe2ea293e12f4f36113cb2c8\n",
            "  Stored in directory: /root/.cache/pip/wheels/fd/15/02/8379f87426cd1b74fd5891f49df9fb978423feb97650cd639b\n",
            "Successfully built neo4j\n",
            "Installing collected packages: neo4j\n",
            "Successfully installed neo4j-4.4.1\n"
          ]
        }
      ]
    },
    {
      "cell_type": "code",
      "metadata": {
        "id": "SznL4xmnT4Pz"
      },
      "source": [
        "# PLEASE REPLACE these details from your deployment at https://sandbox.neo4j.com/ \n",
        "# After Login-> New Project -> select any project\n",
        "\n",
        "\n",
        "import neo4j\n",
        "from neo4j import GraphDatabase\n",
        "# Correct and Secure practice is to save these values as secrets, environment variables or as config file. But since we are in noteboo\n",
        "# lets hardcode it for now\n",
        "uri = 'bolt://52.200.126.225:7687' # replace with your sandbox URL\n",
        "# entities connected to each \n",
        "# properties\n",
        "user = 'neo4j'\n",
        "# GRAPH-> NO SQL Transactional DBs, Relational DBs\n",
        "\n",
        "password = 'apprehension-account-peas'\n",
        "driver =  GraphDatabase.driver(uri, auth=(user, password))"
      ],
      "execution_count": 2,
      "outputs": []
    },
    {
      "cell_type": "code",
      "metadata": {
        "id": "-lBkxVASUQ_O"
      },
      "source": [
        "# now that we know there is no syntax error, let's define the connection properly as a class\n",
        "# otherwise we will have to worry about open ended connections \n",
        "\n",
        "class Driver:\n",
        "    def __init__(this, uri, user, password):\n",
        "        this.driver = GraphDatabase.driver(uri, auth=(user, password))\n",
        "    def close(this):\n",
        "        this.driver.close()\n",
        "# __init__ is the constructor of the class, referred by the THIS pointer"
      ],
      "execution_count": null,
      "outputs": []
    },
    {
      "cell_type": "code",
      "metadata": {
        "id": "Ohb8FiD-XKLy"
      },
      "source": [
        "# now let's update our class to execute queries for us\n",
        "class Driver:\n",
        "    def __init__(this, uri, user, password):\n",
        "      this.driver = GraphDatabase.driver(uri, auth=(user, password))\n",
        "    def close(this):\n",
        "      this.driver.close()\n",
        "      \n",
        "    def executequery(this, query, parameters=None, db=None):\n",
        "      session = this.driver.session(database=db) if db is not None else this.driver.session()\n",
        "      response = []\n",
        "      try:\n",
        "        response = list(session.run(query, parameters))\n",
        "      except Exception as e:\n",
        "        print(\"Query failed:\", e)\n",
        "      finally: \n",
        "        if session is not None:\n",
        "          session.close()\n",
        "        return response\n",
        "\n",
        "\n"
      ],
      "execution_count": 3,
      "outputs": []
    },
    {
      "cell_type": "code",
      "metadata": {
        "id": "JdQQhl9xZDim"
      },
      "source": [
        "# 4 ways of creating NODES:\n",
        "# ()                  //anonymous node (no label or variable) can refer to any node in the database\n",
        "# (p:Person)          //using variable p and label Person\n",
        "# (:Technology)       //no variable, label Technology\n",
        "# (work:Company)      //using variable work and label Company"
      ],
      "execution_count": null,
      "outputs": []
    },
    {
      "cell_type": "code",
      "metadata": {
        "id": "utL9G_zFZklm"
      },
      "source": [
        "query = 'CREATE (t:trainer)-[:EATS]->(f:food)'\n",
        "\n",
        "mydriver = Driver(uri, user, password)"
      ],
      "execution_count": null,
      "outputs": []
    },
    {
      "cell_type": "code",
      "metadata": {
        "colab": {
          "base_uri": "https://localhost:8080/"
        },
        "id": "Zvvkh_EmaFSp",
        "outputId": "9b520e14-d3f4-4f05-a7fa-2af85768765e"
      },
      "source": [
        "mydriver.executequery(query)"
      ],
      "execution_count": null,
      "outputs": [
        {
          "output_type": "execute_result",
          "data": {
            "text/plain": [
              "[]"
            ]
          },
          "metadata": {
            "tags": []
          },
          "execution_count": 30
        }
      ]
    },
    {
      "cell_type": "code",
      "metadata": {
        "colab": {
          "base_uri": "https://localhost:8080/"
        },
        "id": "GKshMvOZaIJ0",
        "outputId": "03430094-6e01-47aa-c69d-e6d6d44ebc6f"
      },
      "source": [
        "query = 'CREATE (t:trainer {name: \"Deepanshu\"})-[rel:LIKES]->(f:food {type: \"pasta\"})'\n",
        "mydriver.executequery(query)"
      ],
      "execution_count": null,
      "outputs": [
        {
          "output_type": "execute_result",
          "data": {
            "text/plain": [
              "[]"
            ]
          },
          "metadata": {
            "tags": []
          },
          "execution_count": 33
        }
      ]
    },
    {
      "cell_type": "code",
      "metadata": {
        "id": "NrQr0-WwbBst"
      },
      "source": [
        "trainers = ['Deepanshu', 'Batman', 'Goofy']\n",
        "food = ['pasta', 'chola bhatura', 'air']\n",
        "for c in range(3):\n",
        "  query = 'CREATE (t:trainer {name: \"'+trainers[c]+'\"})-[rel:LIKES]->(f:food {type:\"'+food[c]+'\"})'\n",
        "  mydriver.executequery(query)"
      ],
      "execution_count": null,
      "outputs": []
    },
    {
      "cell_type": "code",
      "metadata": {
        "colab": {
          "base_uri": "https://localhost:8080/"
        },
        "id": "ORTxtj3LcL2P",
        "outputId": "64c4a5ca-091a-402d-8a84-53f2a5392369"
      },
      "source": [
        "query = 'MATCH (t:trainer) RETURN t'\n",
        "mydriver.executequery(query)"
      ],
      "execution_count": null,
      "outputs": [
        {
          "output_type": "execute_result",
          "data": {
            "text/plain": [
              "[<Record t=<Node id=0 labels=frozenset({'trainer'}) properties={}>>,\n",
              " <Record t=<Node id=2 labels=frozenset({'trainer'}) properties={}>>,\n",
              " <Record t=<Node id=4 labels=frozenset({'trainer'}) properties={'name': 'Deepanshu'}>>,\n",
              " <Record t=<Node id=6 labels=frozenset({'trainer'}) properties={'name': 'Deepanshu'}>>,\n",
              " <Record t=<Node id=8 labels=frozenset({'trainer'}) properties={'name': 'Batman'}>>,\n",
              " <Record t=<Node id=10 labels=frozenset({'trainer'}) properties={'name': 'Goofy'}>>]"
            ]
          },
          "metadata": {
            "tags": []
          },
          "execution_count": 35
        }
      ]
    },
    {
      "cell_type": "code",
      "metadata": {
        "colab": {
          "base_uri": "https://localhost:8080/"
        },
        "id": "2GGWEzHRcfK-",
        "outputId": "6250899f-8838-4733-b751-86e08da57a10"
      },
      "source": [
        "query = 'MATCH (t:trainer {name: \"Batman\"})-[:LIKES]->(f:food) RETURN f'\n",
        "mydriver.executequery(query)"
      ],
      "execution_count": null,
      "outputs": [
        {
          "output_type": "execute_result",
          "data": {
            "text/plain": [
              "[<Record f=<Node id=9 labels=frozenset({'food'}) properties={'type': 'chola bhatura'}>>]"
            ]
          },
          "metadata": {
            "tags": []
          },
          "execution_count": 39
        }
      ]
    },
    {
      "cell_type": "code",
      "metadata": {
        "colab": {
          "base_uri": "https://localhost:8080/"
        },
        "id": "4Mk13aUwdOv9",
        "outputId": "b6104ad4-3a1f-4e6d-f323-8b8ce8af9dda"
      },
      "source": [
        "query = 'MATCH (t:trainer)-[:LIKES]->(f:food {type: \"pasta\"}) RETURN t'\n",
        "mydriver.executequery(query)"
      ],
      "execution_count": null,
      "outputs": [
        {
          "output_type": "execute_result",
          "data": {
            "text/plain": [
              "[<Record t=<Node id=4 labels=frozenset({'trainer'}) properties={'name': 'Deepanshu'}>>,\n",
              " <Record t=<Node id=6 labels=frozenset({'trainer'}) properties={'name': 'Deepanshu'}>>]"
            ]
          },
          "metadata": {
            "tags": []
          },
          "execution_count": 40
        }
      ]
    },
    {
      "cell_type": "code",
      "metadata": {
        "id": "_5MCv0EvdtXU"
      },
      "source": [
        "trainers = ['Deepanshu', 'Batman', 'Goofy','Deepanshu', 'Batman', 'Goofy']\n",
        "students = ['humans', 'monkeys', 'monkeys', 'pikachus', 'girraffe', 'cats',]\n",
        "for c in range(6):\n",
        "  query = 'CREATE (t:trainer {name: \"'+trainers[c]+'\"})-[rel:TEACHES]->(s:student {gene:\"'+students[c]+'\"})'\n",
        "  mydriver.executequery(query)"
      ],
      "execution_count": null,
      "outputs": []
    },
    {
      "cell_type": "code",
      "metadata": {
        "colab": {
          "base_uri": "https://localhost:8080/"
        },
        "id": "7kajAP3Afo-i",
        "outputId": "02245b41-9fcb-4e71-bbbc-2a2a0590e531"
      },
      "source": [
        "query = 'MATCH (t:trainer) -[:TEACHES]->(s:student) RETURN t'\n",
        "mydriver.executequery(query)"
      ],
      "execution_count": null,
      "outputs": [
        {
          "output_type": "execute_result",
          "data": {
            "text/plain": [
              "[<Record t=<Node id=12 labels=frozenset({'trainer'}) properties={'name': 'Deepanshu'}>>,\n",
              " <Record t=<Node id=14 labels=frozenset({'trainer'}) properties={'name': 'Batman'}>>,\n",
              " <Record t=<Node id=16 labels=frozenset({'trainer'}) properties={'name': 'Goofy'}>>,\n",
              " <Record t=<Node id=18 labels=frozenset({'trainer'}) properties={'name': 'Deepanshu'}>>,\n",
              " <Record t=<Node id=20 labels=frozenset({'trainer'}) properties={'name': 'Batman'}>>,\n",
              " <Record t=<Node id=22 labels=frozenset({'trainer'}) properties={'name': 'Goofy'}>>]"
            ]
          },
          "metadata": {
            "tags": []
          },
          "execution_count": 42
        }
      ]
    },
    {
      "cell_type": "code",
      "metadata": {
        "colab": {
          "base_uri": "https://localhost:8080/"
        },
        "id": "4djS3DNwf6x_",
        "outputId": "d33fafbf-6c26-4d02-e2c9-ce7e0665e6eb"
      },
      "source": [
        "query = 'MATCH (t:trainer {name: \"Batman\"}) SET t.birthdate = date(\"1980-01-01\") RETURN t'\n",
        "mydriver.executequery(query)\n",
        "query = 'MATCH (t:trainer) RETURN t'\n",
        "mydriver.executequery(query)"
      ],
      "execution_count": null,
      "outputs": [
        {
          "output_type": "execute_result",
          "data": {
            "text/plain": [
              "[<Record t=<Node id=0 labels=frozenset({'trainer'}) properties={}>>,\n",
              " <Record t=<Node id=2 labels=frozenset({'trainer'}) properties={}>>,\n",
              " <Record t=<Node id=4 labels=frozenset({'trainer'}) properties={'name': 'Deepanshu'}>>,\n",
              " <Record t=<Node id=6 labels=frozenset({'trainer'}) properties={'name': 'Deepanshu'}>>,\n",
              " <Record t=<Node id=8 labels=frozenset({'trainer'}) properties={'name': 'Batman', 'birthdate': neo4j.time.Date(1980, 1, 1)}>>,\n",
              " <Record t=<Node id=10 labels=frozenset({'trainer'}) properties={'name': 'Goofy'}>>,\n",
              " <Record t=<Node id=12 labels=frozenset({'trainer'}) properties={'name': 'Deepanshu'}>>,\n",
              " <Record t=<Node id=14 labels=frozenset({'trainer'}) properties={'name': 'Batman', 'birthdate': neo4j.time.Date(1980, 1, 1)}>>,\n",
              " <Record t=<Node id=16 labels=frozenset({'trainer'}) properties={'name': 'Goofy'}>>,\n",
              " <Record t=<Node id=18 labels=frozenset({'trainer'}) properties={'name': 'Deepanshu'}>>,\n",
              " <Record t=<Node id=20 labels=frozenset({'trainer'}) properties={'name': 'Batman', 'birthdate': neo4j.time.Date(1980, 1, 1)}>>,\n",
              " <Record t=<Node id=22 labels=frozenset({'trainer'}) properties={'name': 'Goofy'}>>]"
            ]
          },
          "metadata": {
            "tags": []
          },
          "execution_count": 45
        }
      ]
    },
    {
      "cell_type": "code",
      "metadata": {
        "id": "BK3Zy6Achy3q"
      },
      "source": [
        "query = 'MATCH (t:trainer)-[tea:TEACHES]-(s:student) RETURN t.name,tea.id,s.gene'\n",
        "results = mydriver.executequery(query)"
      ],
      "execution_count": null,
      "outputs": []
    },
    {
      "cell_type": "code",
      "metadata": {
        "colab": {
          "base_uri": "https://localhost:8080/"
        },
        "id": "V4ilLUdpivLf",
        "outputId": "1d8ae391-74c5-4b1e-ecef-18c3740ddd8d"
      },
      "source": [
        "results"
      ],
      "execution_count": null,
      "outputs": [
        {
          "output_type": "execute_result",
          "data": {
            "text/plain": [
              "[<Record t.name='Deepanshu' tea.id=None s.gene='humans'>,\n",
              " <Record t.name='Batman' tea.id=None s.gene='monkeys'>,\n",
              " <Record t.name='Goofy' tea.id=None s.gene='monkeys'>,\n",
              " <Record t.name='Deepanshu' tea.id=None s.gene='pikachus'>,\n",
              " <Record t.name='Batman' tea.id=None s.gene='girraffe'>,\n",
              " <Record t.name='Goofy' tea.id=None s.gene='cats'>]"
            ]
          },
          "metadata": {
            "tags": []
          },
          "execution_count": 55
        }
      ]
    },
    {
      "cell_type": "code",
      "metadata": {
        "colab": {
          "base_uri": "https://localhost:8080/"
        },
        "id": "JcEJHMtIox88",
        "outputId": "a1d69dd6-2810-4615-f5f0-497819b132cd"
      },
      "source": [
        "# Where clause\n",
        "query='MATCH (d:trainer) WHERE d.name = \"Deepanshu\" RETURN d'\n",
        "mydriver.executequery(query)"
      ],
      "execution_count": null,
      "outputs": [
        {
          "output_type": "execute_result",
          "data": {
            "text/plain": [
              "[<Record d=<Node id=4 labels=frozenset({'trainer'}) properties={'name': 'Deepanshu'}>>,\n",
              " <Record d=<Node id=6 labels=frozenset({'trainer'}) properties={'name': 'Deepanshu'}>>,\n",
              " <Record d=<Node id=12 labels=frozenset({'trainer'}) properties={'name': 'Deepanshu'}>>,\n",
              " <Record d=<Node id=18 labels=frozenset({'trainer'}) properties={'name': 'Deepanshu'}>>]"
            ]
          },
          "metadata": {
            "tags": []
          },
          "execution_count": 57
        }
      ]
    },
    {
      "cell_type": "code",
      "metadata": {
        "colab": {
          "base_uri": "https://localhost:8080/"
        },
        "id": "OObGmFQHpSna",
        "outputId": "40b2df12-ad3e-451a-ebee-d74235fe65d9"
      },
      "source": [
        "query = 'MATCH (d:trainer) WHERE NOT d.name = \"Deepanshu\" RETURN d.name, d.birthdate'\n",
        "mydriver.executequery(query)\n",
        "# as we can see, d.birthdate is None for values that didnt have the property. SO we should find a way to eliminate such records"
      ],
      "execution_count": null,
      "outputs": [
        {
          "output_type": "execute_result",
          "data": {
            "text/plain": [
              "[<Record d.name='Batman' d.birthdate=neo4j.time.Date(1980, 1, 1)>,\n",
              " <Record d.name='Goofy' d.birthdate=None>,\n",
              " <Record d.name='Batman' d.birthdate=neo4j.time.Date(1980, 1, 1)>,\n",
              " <Record d.name='Goofy' d.birthdate=None>,\n",
              " <Record d.name='Batman' d.birthdate=neo4j.time.Date(1980, 1, 1)>,\n",
              " <Record d.name='Goofy' d.birthdate=None>]"
            ]
          },
          "metadata": {
            "tags": []
          },
          "execution_count": 59
        }
      ]
    },
    {
      "cell_type": "code",
      "metadata": {
        "colab": {
          "base_uri": "https://localhost:8080/"
        },
        "id": "SU2FbXcdrmx8",
        "outputId": "7f87b257-9f64-44f8-a78b-7ba5ebbd60da"
      },
      "source": [
        "query = 'MATCH (d:trainer) WHERE exists(d.birthdate) RETURN d.name, d.birthdate'\n",
        "mydriver.executequery(query)\n",
        "# this query selected only the Nodes where the birthdate property existed "
      ],
      "execution_count": null,
      "outputs": [
        {
          "output_type": "execute_result",
          "data": {
            "text/plain": [
              "[<Record d.name='Batman' d.birthdate=neo4j.time.Date(1980, 1, 1)>,\n",
              " <Record d.name='Batman' d.birthdate=neo4j.time.Date(1980, 1, 1)>,\n",
              " <Record d.name='Batman' d.birthdate=neo4j.time.Date(1980, 1, 1)>]"
            ]
          },
          "metadata": {
            "tags": []
          },
          "execution_count": 65
        }
      ]
    },
    {
      "cell_type": "code",
      "metadata": {
        "colab": {
          "base_uri": "https://localhost:8080/"
        },
        "id": "Uj9TKOPOsTjU",
        "outputId": "4f66d4e9-2626-4f4e-84ed-bac8154d2f07"
      },
      "source": [
        "query = 'MATCH (d:trainer)-[rel:LIKES]->(f:food) WHERE exists(d.birthdate) RETURN d.name, d.birthdate, f.type'\n",
        "mydriver.executequery(query)"
      ],
      "execution_count": null,
      "outputs": [
        {
          "output_type": "execute_result",
          "data": {
            "text/plain": [
              "[<Record d.name='Batman' d.birthdate=neo4j.time.Date(1980, 1, 1) f.type='chola bhatura'>]"
            ]
          },
          "metadata": {
            "tags": []
          },
          "execution_count": 72
        }
      ]
    },
    {
      "cell_type": "code",
      "metadata": {
        "id": "VyZ7mFAHptjh"
      },
      "source": [
        "# setting some numerical properties randomly to do math ops\n",
        "trainers = ['Deepanshu', 'Batman', 'Goofy']\n",
        "import random\n",
        "def sendRandomNumber():\n",
        "  return int(random.random()*1000)\n",
        "\n",
        "for trainer in trainers:\n",
        "  query = 'MATCH (t:trainer {name: \"'+trainer+'\"}) SET t.age = '+str(sendRandomNumber())+' RETURN t'\n",
        "  mydriver.executequery(query)"
      ],
      "execution_count": null,
      "outputs": []
    },
    {
      "cell_type": "code",
      "metadata": {
        "colab": {
          "base_uri": "https://localhost:8080/"
        },
        "id": "UAMUgX0YqnAT",
        "outputId": "a94428c0-8ca7-483b-8cba-5c82a630cc77"
      },
      "source": [
        "query = 'MATCH (t:trainer) RETURN t'\n",
        "mydriver.executequery(query)"
      ],
      "execution_count": null,
      "outputs": [
        {
          "output_type": "execute_result",
          "data": {
            "text/plain": [
              "[<Record t=<Node id=0 labels=frozenset({'trainer'}) properties={}>>,\n",
              " <Record t=<Node id=2 labels=frozenset({'trainer'}) properties={}>>,\n",
              " <Record t=<Node id=4 labels=frozenset({'trainer'}) properties={'name': 'Deepanshu', 'age': 675}>>,\n",
              " <Record t=<Node id=6 labels=frozenset({'trainer'}) properties={'name': 'Deepanshu', 'age': 675}>>,\n",
              " <Record t=<Node id=8 labels=frozenset({'trainer'}) properties={'name': 'Batman', 'birthdate': neo4j.time.Date(1980, 1, 1), 'age': 529}>>,\n",
              " <Record t=<Node id=10 labels=frozenset({'trainer'}) properties={'name': 'Goofy', 'age': 796}>>,\n",
              " <Record t=<Node id=12 labels=frozenset({'trainer'}) properties={'name': 'Deepanshu', 'age': 675}>>,\n",
              " <Record t=<Node id=14 labels=frozenset({'trainer'}) properties={'name': 'Batman', 'birthdate': neo4j.time.Date(1980, 1, 1), 'age': 529}>>,\n",
              " <Record t=<Node id=16 labels=frozenset({'trainer'}) properties={'name': 'Goofy', 'age': 796}>>,\n",
              " <Record t=<Node id=18 labels=frozenset({'trainer'}) properties={'name': 'Deepanshu', 'age': 675}>>,\n",
              " <Record t=<Node id=20 labels=frozenset({'trainer'}) properties={'name': 'Batman', 'birthdate': neo4j.time.Date(1980, 1, 1), 'age': 529}>>,\n",
              " <Record t=<Node id=22 labels=frozenset({'trainer'}) properties={'name': 'Goofy', 'age': 796}>>]"
            ]
          },
          "metadata": {
            "tags": []
          },
          "execution_count": 63
        }
      ]
    },
    {
      "cell_type": "code",
      "metadata": {
        "colab": {
          "base_uri": "https://localhost:8080/"
        },
        "id": "9rOtua6Sq2Ut",
        "outputId": "2d243de1-ae44-42a9-b383-2acbc0a09ee2"
      },
      "source": [
        "query = 'MATCH (t:trainer) WHERE 550 <= t.age <= 800 RETURN t'\n",
        "mydriver.executequery(query)"
      ],
      "execution_count": null,
      "outputs": [
        {
          "output_type": "execute_result",
          "data": {
            "text/plain": [
              "[<Record t=<Node id=4 labels=frozenset({'trainer'}) properties={'name': 'Deepanshu', 'age': 675}>>,\n",
              " <Record t=<Node id=6 labels=frozenset({'trainer'}) properties={'name': 'Deepanshu', 'age': 675}>>,\n",
              " <Record t=<Node id=10 labels=frozenset({'trainer'}) properties={'name': 'Goofy', 'age': 796}>>,\n",
              " <Record t=<Node id=12 labels=frozenset({'trainer'}) properties={'name': 'Deepanshu', 'age': 675}>>,\n",
              " <Record t=<Node id=16 labels=frozenset({'trainer'}) properties={'name': 'Goofy', 'age': 796}>>,\n",
              " <Record t=<Node id=18 labels=frozenset({'trainer'}) properties={'name': 'Deepanshu', 'age': 675}>>,\n",
              " <Record t=<Node id=22 labels=frozenset({'trainer'}) properties={'name': 'Goofy', 'age': 796}>>]"
            ]
          },
          "metadata": {
            "tags": []
          },
          "execution_count": 64
        }
      ]
    },
    {
      "cell_type": "code",
      "metadata": {
        "colab": {
          "base_uri": "https://localhost:8080/"
        },
        "id": "UP3e_s8ZrOe3",
        "outputId": "d3796bf7-f323-407c-d413-6fdc46b3d7a5"
      },
      "source": [
        "# fuzzy searches\n",
        "query = 'MATCH (t:trainer) WHERE t.name STARTS WITH \"G\" RETURN t.name'\n",
        "print(mydriver.executequery(query))\n",
        "query = 'MATCH (t:trainer) WHERE t.name CONTAINS \"a\" RETURN t.name'\n",
        "print(mydriver.executequery(query))\n",
        "query = 'MATCH (t:trainer) WHERE t.name ENDS WITH \"u\" RETURN t.name'\n",
        "print(mydriver.executequery(query))\n"
      ],
      "execution_count": null,
      "outputs": [
        {
          "output_type": "stream",
          "text": [
            "[<Record t.name='Goofy'>, <Record t.name='Goofy'>, <Record t.name='Goofy'>]\n",
            "[<Record t.name='Deepanshu'>, <Record t.name='Deepanshu'>, <Record t.name='Batman'>, <Record t.name='Deepanshu'>, <Record t.name='Batman'>, <Record t.name='Deepanshu'>, <Record t.name='Batman'>]\n",
            "[<Record t.name='Deepanshu'>, <Record t.name='Deepanshu'>, <Record t.name='Deepanshu'>, <Record t.name='Deepanshu'>]\n"
          ],
          "name": "stdout"
        }
      ]
    },
    {
      "cell_type": "code",
      "metadata": {
        "colab": {
          "base_uri": "https://localhost:8080/"
        },
        "id": "WI9g__RgvEC3",
        "outputId": "c2b2ffa3-565f-4b21-cedd-15722af595a7"
      },
      "source": [
        "query = 'MATCH (t:trainer) WHERE t.name =~ \"Go.*\" RETURN t.name'\n",
        "print(mydriver.executequery(query))\n",
        "# . (single character)\n",
        "# * (wild card)\n",
        "# .* -> single characters any number of time\n",
        "# Go.* -> Go followed by any number of characters"
      ],
      "execution_count": null,
      "outputs": [
        {
          "output_type": "stream",
          "text": [
            "[<Record t.name='Goofy'>, <Record t.name='Goofy'>, <Record t.name='Goofy'>]\n"
          ],
          "name": "stdout"
        }
      ]
    },
    {
      "cell_type": "code",
      "metadata": {
        "colab": {
          "base_uri": "https://localhost:8080/"
        },
        "id": "RWvG2VODthUJ",
        "outputId": "4cd8770f-b074-4709-eb7d-acc4c6767152"
      },
      "source": [
        "query = 'MATCH (t:trainer) WHERE t.name =~ \".*an.*\" RETURN t.name'\n",
        "print(mydriver.executequery(query))\n",
        "\n",
        "# .*an.* -> characters, an present, more characters "
      ],
      "execution_count": null,
      "outputs": [
        {
          "output_type": "stream",
          "text": [
            "[<Record t.name='Deepanshu'>, <Record t.name='Deepanshu'>, <Record t.name='Batman'>, <Record t.name='Deepanshu'>, <Record t.name='Batman'>, <Record t.name='Deepanshu'>, <Record t.name='Batman'>]\n"
          ],
          "name": "stdout"
        }
      ]
    },
    {
      "cell_type": "code",
      "metadata": {
        "colab": {
          "base_uri": "https://localhost:8080/"
        },
        "id": "FaRJ7HXuutAM",
        "outputId": "2f1a5fcd-26b4-4ff1-83f5-a2b84ff77a48"
      },
      "source": [
        "query = 'MATCH (t:trainer)-[tea:TEACHES]-(s:student) WHERE exists((:trainer)-[:LIKES]->(:food)) RETURN t.name,s.gene'\n",
        "mydriver.executequery(query)"
      ],
      "execution_count": null,
      "outputs": [
        {
          "output_type": "execute_result",
          "data": {
            "text/plain": [
              "[<Record t.name='Deepanshu' s.gene='humans'>,\n",
              " <Record t.name='Batman' s.gene='monkeys'>,\n",
              " <Record t.name='Goofy' s.gene='monkeys'>,\n",
              " <Record t.name='Deepanshu' s.gene='pikachus'>,\n",
              " <Record t.name='Batman' s.gene='girraffe'>,\n",
              " <Record t.name='Goofy' s.gene='cats'>]"
            ]
          },
          "metadata": {
            "tags": []
          },
          "execution_count": 89
        }
      ]
    },
    {
      "cell_type": "code",
      "metadata": {
        "colab": {
          "base_uri": "https://localhost:8080/"
        },
        "id": "4Q_qjwJfv597",
        "outputId": "f1e302f7-61fe-4751-b93b-67ed3222997f"
      },
      "source": [
        "# inbuilt functions\n",
        "query = 'CALL dbms.functions()'\n",
        "mydriver.executequery(query)"
      ],
      "execution_count": null,
      "outputs": [
        {
          "output_type": "execute_result",
          "data": {
            "text/plain": [
              "[<Record name='abs' signature='abs(input :: INTEGER?) :: (INTEGER?)' category='Numeric' description='Returns the absolute value of an integer.' aggregating=False defaultBuiltInRoles=['admin', 'reader', 'editor', 'publisher', 'architect']>,\n",
              " <Record name='abs' signature='abs(input :: FLOAT?) :: (FLOAT?)' category='Numeric' description='Returns the absolute value of a floating point number.' aggregating=False defaultBuiltInRoles=['admin', 'reader', 'editor', 'publisher', 'architect']>,\n",
              " <Record name='acos' signature='acos(input :: FLOAT?) :: (FLOAT?)' category='Trigonometric' description='Returns the arccosine of a number in radians.' aggregating=False defaultBuiltInRoles=['admin', 'reader', 'editor', 'publisher', 'architect']>,\n",
              " <Record name='all' signature='all(variable :: VARIABLE IN list :: LIST OF ANY? WHERE predicate :: ANY?) :: (BOOLEAN?)' category='Predicate' description='Returns true if the predicate holds for all elements in the given list.' aggregating=False defaultBuiltInRoles=['admin', 'reader', 'editor', 'publisher', 'architect']>,\n",
              " <Record name='any' signature='any(variable :: VARIABLE IN list :: LIST OF ANY? WHERE predicate :: ANY?) :: (BOOLEAN?)' category='Predicate' description='Returns true if the predicate holds for at least one element in the given list.' aggregating=False defaultBuiltInRoles=['admin', 'reader', 'editor', 'publisher', 'architect']>,\n",
              " <Record name='apoc.agg.first' signature='apoc.agg.first(value :: ANY?) :: (ANY?)' category='' description='apoc.agg.first(value) - returns first value' aggregating=True defaultBuiltInRoles=['admin', 'reader', 'editor', 'publisher', 'architect']>,\n",
              " <Record name='apoc.agg.graph' signature='apoc.agg.graph(element :: ANY?) :: (MAP?)' category='' description='apoc.agg.graph(path) - returns map of graph {nodes, relationships} of all distinct nodes and relationships' aggregating=True defaultBuiltInRoles=['admin', 'reader', 'editor', 'publisher', 'architect']>,\n",
              " <Record name='apoc.agg.last' signature='apoc.agg.last(value :: ANY?) :: (ANY?)' category='' description='apoc.agg.last(value) - returns last value' aggregating=True defaultBuiltInRoles=['admin', 'reader', 'editor', 'publisher', 'architect']>,\n",
              " <Record name='apoc.agg.maxItems' signature='apoc.agg.maxItems(item :: ANY?, value :: ANY?, groupLimit = -1 :: INTEGER?) :: (ANY?)' category='' description='apoc.agg.maxItems(item, value, groupLimit: -1) - returns a map {items:[], value:n} where `value` is the maximum value present, and `items` are all items with the same value. The number of items can be optionally limited.' aggregating=True defaultBuiltInRoles=['admin', 'reader', 'editor', 'publisher', 'architect']>,\n",
              " <Record name='apoc.agg.median' signature='apoc.agg.median(value :: ANY?) :: (ANY?)' category='' description='apoc.agg.median(number) - returns median for non-null numeric values' aggregating=True defaultBuiltInRoles=['admin', 'reader', 'editor', 'publisher', 'architect']>,\n",
              " <Record name='apoc.agg.minItems' signature='apoc.agg.minItems(item :: ANY?, value :: ANY?, groupLimit = -1 :: INTEGER?) :: (ANY?)' category='' description='apoc.agg.minItems(item, value, groupLimit: -1) - returns a map {items:[], value:n} where `value` is the minimum value present, and `items` are all items with the same value. The number of items can be optionally limited.' aggregating=True defaultBuiltInRoles=['admin', 'reader', 'editor', 'publisher', 'architect']>,\n",
              " <Record name='apoc.agg.nth' signature='apoc.agg.nth(value :: ANY?, value :: INTEGER?) :: (ANY?)' category='' description='apoc.agg.nth(value,offset) - returns value of nth row (or -1 for last)' aggregating=True defaultBuiltInRoles=['admin', 'reader', 'editor', 'publisher', 'architect']>,\n",
              " <Record name='apoc.agg.percentiles' signature='apoc.agg.percentiles(value :: NUMBER?, percentiles = [0.5, 0.75, 0.9, 0.95, 0.99] :: LIST? OF FLOAT?) :: (LIST? OF ANY?)' category='' description='apoc.agg.percentiles(value,[percentiles = 0.5,0.75,0.9,0.95,0.99]) - returns given percentiles for values' aggregating=True defaultBuiltInRoles=['admin', 'reader', 'editor', 'publisher', 'architect']>,\n",
              " <Record name='apoc.agg.product' signature='apoc.agg.product(number :: NUMBER?) :: (NUMBER?)' category='' description='apoc.agg.product(number) - returns given product for non-null values' aggregating=True defaultBuiltInRoles=['admin', 'reader', 'editor', 'publisher', 'architect']>,\n",
              " <Record name='apoc.agg.slice' signature='apoc.agg.slice(value :: ANY?, from = 0 :: INTEGER?, to = -1 :: INTEGER?) :: (LIST? OF ANY?)' category='' description='apoc.agg.slice(value, start, length) - returns subset of non-null values, start is 0 based and length can be -1' aggregating=True defaultBuiltInRoles=['admin', 'reader', 'editor', 'publisher', 'architect']>,\n",
              " <Record name='apoc.agg.statistics' signature='apoc.agg.statistics(value :: NUMBER?, percentiles = [0.5, 0.75, 0.9, 0.95, 0.99] :: LIST? OF FLOAT?) :: (MAP?)' category='' description='apoc.agg.statistics(value,[percentiles = 0.5,0.75,0.9,0.95,0.99]) - returns numeric statistics (percentiles, min,minNonZero,max,total,mean,stdev) for values' aggregating=True defaultBuiltInRoles=['admin', 'reader', 'editor', 'publisher', 'architect']>,\n",
              " <Record name='apoc.any.properties' signature='apoc.any.properties(thing :: ANY?, keys = null :: LIST? OF STRING?) :: (MAP?)' category='' description='returns properties for virtual and real, nodes, rels and maps' aggregating=False defaultBuiltInRoles=['admin', 'reader', 'editor', 'publisher', 'architect']>,\n",
              " <Record name='apoc.any.property' signature='apoc.any.property(thing :: ANY?, key :: STRING?) :: (ANY?)' category='' description='returns property for virtual and real, nodes, rels and maps' aggregating=False defaultBuiltInRoles=['admin', 'reader', 'editor', 'publisher', 'architect']>,\n",
              " <Record name='apoc.bitwise.op' signature='apoc.bitwise.op(a :: INTEGER?, operator :: STRING?, b :: INTEGER?) :: (INTEGER?)' category='' description=\"apoc.bitwise.op(60,'|',13) bitwise operations a & b, a | b, a ^ b, ~a, a >> b, a >>> b, a << b. returns the result of the bitwise operation\" aggregating=False defaultBuiltInRoles=['admin', 'reader', 'editor', 'publisher', 'architect']>,\n",
              " <Record name='apoc.coll.avg' signature='apoc.coll.avg(numbers :: LIST? OF NUMBER?) :: (FLOAT?)' category='' description='apoc.coll.avg([0.5,1,2.3])' aggregating=False defaultBuiltInRoles=['admin', 'reader', 'editor', 'publisher', 'architect']>,\n",
              " <Record name='apoc.coll.combinations' signature='apoc.coll.combinations(coll :: LIST? OF ANY?, minSelect :: INTEGER?, maxSelect = -1 :: INTEGER?) :: (LIST? OF ANY?)' category='' description='apoc.coll.combinations(coll, minSelect, maxSelect:minSelect) - Returns collection of all combinations of list elements of selection size between minSelect and maxSelect (default:minSelect), inclusive' aggregating=False defaultBuiltInRoles=['admin', 'reader', 'editor', 'publisher', 'architect']>,\n",
              " <Record name='apoc.coll.contains' signature='apoc.coll.contains(coll :: LIST? OF ANY?, value :: ANY?) :: (BOOLEAN?)' category='' description='apoc.coll.contains(coll, value) optimized contains operation (using a HashSet) (returns single row or not)' aggregating=False defaultBuiltInRoles=['admin', 'reader', 'editor', 'publisher', 'architect']>,\n",
              " <Record name='apoc.coll.containsAll' signature='apoc.coll.containsAll(coll :: LIST? OF ANY?, values :: LIST? OF ANY?) :: (BOOLEAN?)' category='' description='apoc.coll.containsAll(coll, values) optimized contains-all operation (using a HashSet) (returns single row or not)' aggregating=False defaultBuiltInRoles=['admin', 'reader', 'editor', 'publisher', 'architect']>,\n",
              " <Record name='apoc.coll.containsAllSorted' signature='apoc.coll.containsAllSorted(coll :: LIST? OF ANY?, values :: LIST? OF ANY?) :: (BOOLEAN?)' category='' description='apoc.coll.containsAllSorted(coll, value) optimized contains-all on a sorted list operation (Collections.binarySearch) (returns single row or not)' aggregating=False defaultBuiltInRoles=['admin', 'reader', 'editor', 'publisher', 'architect']>,\n",
              " <Record name='apoc.coll.containsDuplicates' signature='apoc.coll.containsDuplicates(coll :: LIST? OF ANY?) :: (BOOLEAN?)' category='' description='apoc.coll.containsDuplicates(coll) - returns true if a collection contains duplicate elements' aggregating=False defaultBuiltInRoles=['admin', 'reader', 'editor', 'publisher', 'architect']>,\n",
              " <Record name='apoc.coll.containsSorted' signature='apoc.coll.containsSorted(coll :: LIST? OF ANY?, value :: ANY?) :: (BOOLEAN?)' category='' description='apoc.coll.containsSorted(coll, value) optimized contains on a sorted list operation (Collections.binarySearch) (returns single row or not)' aggregating=False defaultBuiltInRoles=['admin', 'reader', 'editor', 'publisher', 'architect']>,\n",
              " <Record name='apoc.coll.different' signature='apoc.coll.different(values :: LIST? OF ANY?) :: (BOOLEAN?)' category='' description='apoc.coll.different(values) - returns true if values are different' aggregating=False defaultBuiltInRoles=['admin', 'reader', 'editor', 'publisher', 'architect']>,\n",
              " <Record name='apoc.coll.disjunction' signature='apoc.coll.disjunction(first :: LIST? OF ANY?, second :: LIST? OF ANY?) :: (LIST? OF ANY?)' category='' description='apoc.coll.disjunction(first, second) - returns the disjunct set of the two lists' aggregating=False defaultBuiltInRoles=['admin', 'reader', 'editor', 'publisher', 'architect']>,\n",
              " <Record name='apoc.coll.dropDuplicateNeighbors' signature='apoc.coll.dropDuplicateNeighbors(list :: LIST? OF ANY?) :: (LIST? OF ANY?)' category='' description='apoc.coll.dropDuplicateNeighbors(list) - remove duplicate consecutive objects in a list' aggregating=False defaultBuiltInRoles=['admin', 'reader', 'editor', 'publisher', 'architect']>,\n",
              " <Record name='apoc.coll.duplicates' signature='apoc.coll.duplicates(coll :: LIST? OF ANY?) :: (LIST? OF ANY?)' category='' description='apoc.coll.duplicates(coll) - returns a list of duplicate items in the collection' aggregating=False defaultBuiltInRoles=['admin', 'reader', 'editor', 'publisher', 'architect']>,\n",
              " <Record name='apoc.coll.duplicatesWithCount' signature='apoc.coll.duplicatesWithCount(coll :: LIST? OF ANY?) :: (LIST? OF ANY?)' category='' description='apoc.coll.duplicatesWithCount(coll) - returns a list of duplicate items in the collection and their count, keyed by `item` and `count` (e.g., `[{item: xyz, count:2}, {item:zyx, count:5}]`)' aggregating=False defaultBuiltInRoles=['admin', 'reader', 'editor', 'publisher', 'architect']>,\n",
              " <Record name='apoc.coll.fill' signature='apoc.coll.fill(item :: STRING?, count :: INTEGER?) :: (LIST? OF ANY?)' category='' description='apoc.coll.fill(item, count) - returns a list with the given count of items' aggregating=False defaultBuiltInRoles=['admin', 'reader', 'editor', 'publisher', 'architect']>,\n",
              " <Record name='apoc.coll.flatten' signature='apoc.coll.flatten(coll :: LIST? OF ANY?, recursive = false :: BOOLEAN?) :: (LIST? OF ANY?)' category='' description='apoc.coll.flatten(coll, [recursive]) - flattens list (nested if recursive is true)' aggregating=False defaultBuiltInRoles=['admin', 'reader', 'editor', 'publisher', 'architect']>,\n",
              " <Record name='apoc.coll.frequencies' signature='apoc.coll.frequencies(coll :: LIST? OF ANY?) :: (LIST? OF ANY?)' category='' description='apoc.coll.frequencies(coll) - returns a list of frequencies of the items in the collection, keyed by `item` and `count` (e.g., `[{item: xyz, count:2}, {item:zyx, count:5}, {item:abc, count:1}]`)' aggregating=False defaultBuiltInRoles=['admin', 'reader', 'editor', 'publisher', 'architect']>,\n",
              " <Record name='apoc.coll.frequenciesAsMap' signature='apoc.coll.frequenciesAsMap(coll :: LIST? OF ANY?) :: (MAP?)' category='' description='apoc.coll.frequenciesAsMap(coll) - return a map of frequencies of the items in the collection, key `item`, value `count` (e.g., `{1:2, 2:1}`)' aggregating=False defaultBuiltInRoles=['admin', 'reader', 'editor', 'publisher', 'architect']>,\n",
              " <Record name='apoc.coll.indexOf' signature='apoc.coll.indexOf(coll :: LIST? OF ANY?, value :: ANY?) :: (INTEGER?)' category='' description='apoc.coll.indexOf(coll, value) | position of value in the list' aggregating=False defaultBuiltInRoles=['admin', 'reader', 'editor', 'publisher', 'architect']>,\n",
              " <Record name='apoc.coll.insert' signature='apoc.coll.insert(coll :: LIST? OF ANY?, index :: INTEGER?, value :: ANY?) :: (LIST? OF ANY?)' category='' description='apoc.coll.insert(coll, index, value) | insert value at index' aggregating=False defaultBuiltInRoles=['admin', 'reader', 'editor', 'publisher', 'architect']>,\n",
              " <Record name='apoc.coll.insertAll' signature='apoc.coll.insertAll(coll :: LIST? OF ANY?, index :: INTEGER?, values :: LIST? OF ANY?) :: (LIST? OF ANY?)' category='' description='apoc.coll.insertAll(coll, index, values) | insert values at index' aggregating=False defaultBuiltInRoles=['admin', 'reader', 'editor', 'publisher', 'architect']>,\n",
              " <Record name='apoc.coll.intersection' signature='apoc.coll.intersection(first :: LIST? OF ANY?, second :: LIST? OF ANY?) :: (LIST? OF ANY?)' category='' description='apoc.coll.intersection(first, second) - returns the unique intersection of the two lists' aggregating=False defaultBuiltInRoles=['admin', 'reader', 'editor', 'publisher', 'architect']>,\n",
              " <Record name='apoc.coll.isEqualCollection' signature='apoc.coll.isEqualCollection(coll :: LIST? OF ANY?, values :: LIST? OF ANY?) :: (BOOLEAN?)' category='' description='apoc.coll.isEqualCollection(coll, values) return true if two collections contain the same elements with the same cardinality in any order (using a HashMap)' aggregating=False defaultBuiltInRoles=['admin', 'reader', 'editor', 'publisher', 'architect']>,\n",
              " <Record name='apoc.coll.max' signature='apoc.coll.max(values :: LIST? OF ANY?) :: (ANY?)' category='' description='apoc.coll.max([0.5,1,2.3])' aggregating=False defaultBuiltInRoles=['admin', 'reader', 'editor', 'publisher', 'architect']>,\n",
              " <Record name='apoc.coll.min' signature='apoc.coll.min(values :: LIST? OF ANY?) :: (ANY?)' category='' description='apoc.coll.min([0.5,1,2.3])' aggregating=False defaultBuiltInRoles=['admin', 'reader', 'editor', 'publisher', 'architect']>,\n",
              " <Record name='apoc.coll.occurrences' signature='apoc.coll.occurrences(coll :: LIST? OF ANY?, item :: ANY?) :: (INTEGER?)' category='' description='apoc.coll.occurrences(coll, item) - returns the count of the given item in the collection' aggregating=False defaultBuiltInRoles=['admin', 'reader', 'editor', 'publisher', 'architect']>,\n",
              " <Record name='apoc.coll.pairWithOffset' signature='apoc.coll.pairWithOffset(values :: LIST? OF ANY?, offset :: INTEGER?) :: (LIST? OF ANY?)' category='' description='apoc.coll.pairWithOffset(values, offset) - returns a list of pairs defined by the offset' aggregating=False defaultBuiltInRoles=['admin', 'reader', 'editor', 'publisher', 'architect']>,\n",
              " <Record name='apoc.coll.pairs' signature='apoc.coll.pairs(list :: LIST? OF ANY?) :: (LIST? OF ANY?)' category='' description='apoc.coll.pairs([1,2,3]) returns [1,2],[2,3],[3,null] ' aggregating=False defaultBuiltInRoles=['admin', 'reader', 'editor', 'publisher', 'architect']>,\n",
              " <Record name='apoc.coll.pairsMin' signature='apoc.coll.pairsMin(list :: LIST? OF ANY?) :: (LIST? OF ANY?)' category='' description='apoc.coll.pairsMin([1,2,3]) returns [1,2],[2,3]' aggregating=False defaultBuiltInRoles=['admin', 'reader', 'editor', 'publisher', 'architect']>,\n",
              " <Record name='apoc.coll.partition' signature='apoc.coll.partition(values :: LIST? OF ANY?, batchSize :: INTEGER?) :: (LIST? OF ANY?)' category='' description='apoc.coll.partition(list,batchSize)' aggregating=False defaultBuiltInRoles=['admin', 'reader', 'editor', 'publisher', 'architect']>,\n",
              " <Record name='apoc.coll.randomItem' signature='apoc.coll.randomItem(coll :: LIST? OF ANY?) :: (ANY?)' category='' description='apoc.coll.randomItem(coll)- returns a random item from the list, or null on an empty or null list' aggregating=False defaultBuiltInRoles=['admin', 'reader', 'editor', 'publisher', 'architect']>,\n",
              " <Record name='apoc.coll.randomItems' signature='apoc.coll.randomItems(coll :: LIST? OF ANY?, itemCount :: INTEGER?, allowRepick = false :: BOOLEAN?) :: (LIST? OF ANY?)' category='' description='apoc.coll.randomItems(coll, itemCount, allowRepick: false) - returns a list of itemCount random items from the original list, optionally allowing picked elements to be picked again' aggregating=False defaultBuiltInRoles=['admin', 'reader', 'editor', 'publisher', 'architect']>,\n",
              " <Record name='apoc.coll.remove' signature='apoc.coll.remove(coll :: LIST? OF ANY?, index :: INTEGER?, length = 1 :: INTEGER?) :: (LIST? OF ANY?)' category='' description='apoc.coll.remove(coll, index, [length=1]) | remove range of values from index to length' aggregating=False defaultBuiltInRoles=['admin', 'reader', 'editor', 'publisher', 'architect']>,\n",
              " <Record name='apoc.coll.removeAll' signature='apoc.coll.removeAll(first :: LIST? OF ANY?, second :: LIST? OF ANY?) :: (LIST? OF ANY?)' category='' description='apoc.coll.removeAll(first, second) - returns first list with all elements of second list removed' aggregating=False defaultBuiltInRoles=['admin', 'reader', 'editor', 'publisher', 'architect']>,\n",
              " <Record name='apoc.coll.reverse' signature='apoc.coll.reverse(coll :: LIST? OF ANY?) :: (LIST? OF ANY?)' category='' description='apoc.coll.reverse(coll) - returns reversed list' aggregating=False defaultBuiltInRoles=['admin', 'reader', 'editor', 'publisher', 'architect']>,\n",
              " <Record name='apoc.coll.runningTotal' signature='apoc.coll.runningTotal(list :: LIST? OF NUMBER?) :: (LIST? OF ANY?)' category='' description='apoc.coll.runningTotal(list1) - returns an accumulative array. For example apoc.coll.runningTotal([1,2,3.5]) return [1,3,6.5]' aggregating=False defaultBuiltInRoles=['admin', 'reader', 'editor', 'publisher', 'architect']>,\n",
              " <Record name='apoc.coll.set' signature='apoc.coll.set(coll :: LIST? OF ANY?, index :: INTEGER?, value :: ANY?) :: (LIST? OF ANY?)' category='' description='apoc.coll.set(coll, index, value) | set index to value' aggregating=False defaultBuiltInRoles=['admin', 'reader', 'editor', 'publisher', 'architect']>,\n",
              " <Record name='apoc.coll.shuffle' signature='apoc.coll.shuffle(coll :: LIST? OF ANY?) :: (LIST? OF ANY?)' category='' description='apoc.coll.shuffle(coll) - returns the shuffled list' aggregating=False defaultBuiltInRoles=['admin', 'reader', 'editor', 'publisher', 'architect']>,\n",
              " <Record name='apoc.coll.sort' signature='apoc.coll.sort(coll :: LIST? OF ANY?) :: (LIST? OF ANY?)' category='' description='apoc.coll.sort(coll) sort on Collections' aggregating=False defaultBuiltInRoles=['admin', 'reader', 'editor', 'publisher', 'architect']>,\n",
              " <Record name='apoc.coll.sortMaps' signature='apoc.coll.sortMaps(coll :: LIST? OF MAP?, prop :: STRING?) :: (LIST? OF ANY?)' category='' description=\"apoc.coll.sortMaps([maps], 'name') - sort maps by property\" aggregating=False defaultBuiltInRoles=['admin', 'reader', 'editor', 'publisher', 'architect']>,\n",
              " <Record name='apoc.coll.sortMulti' signature='apoc.coll.sortMulti(coll :: LIST? OF MAP?, orderFields = [] :: LIST? OF STRING?, limit = -1 :: INTEGER?, skip = 0 :: INTEGER?) :: (LIST? OF ANY?)' category='' description=\"apoc.coll.sortMulti(coll, ['^name','age'],[limit],[skip]) - sort list of maps by several sort fields (ascending with ^ prefix) and optionally applies limit and skip\" aggregating=False defaultBuiltInRoles=['admin', 'reader', 'editor', 'publisher', 'architect']>,\n",
              " <Record name='apoc.coll.sortNodes' signature='apoc.coll.sortNodes(coll :: LIST? OF NODE?, prop :: STRING?) :: (LIST? OF ANY?)' category='' description=\"apoc.coll.sortNodes([nodes], 'name') sort nodes by property\" aggregating=False defaultBuiltInRoles=['admin', 'reader', 'editor', 'publisher', 'architect']>,\n",
              " <Record name='apoc.coll.sortText' signature='apoc.coll.sortText(coll :: LIST? OF STRING?, conf = {} :: MAP?) :: (LIST? OF ANY?)' category='' description='apoc.coll.sortText(coll) sort on string based collections' aggregating=False defaultBuiltInRoles=['admin', 'reader', 'editor', 'publisher', 'architect']>,\n",
              " <Record name='apoc.coll.subtract' signature='apoc.coll.subtract(first :: LIST? OF ANY?, second :: LIST? OF ANY?) :: (LIST? OF ANY?)' category='' description='apoc.coll.subtract(first, second) - returns unique set of first list with all elements of second list removed' aggregating=False defaultBuiltInRoles=['admin', 'reader', 'editor', 'publisher', 'architect']>,\n",
              " <Record name='apoc.coll.sum' signature='apoc.coll.sum(numbers :: LIST? OF NUMBER?) :: (FLOAT?)' category='' description='apoc.coll.sum([0.5,1,2.3])' aggregating=False defaultBuiltInRoles=['admin', 'reader', 'editor', 'publisher', 'architect']>,\n",
              " <Record name='apoc.coll.sumLongs' signature='apoc.coll.sumLongs(numbers :: LIST? OF NUMBER?) :: (INTEGER?)' category='' description='apoc.coll.sumLongs([1,3,3])' aggregating=False defaultBuiltInRoles=['admin', 'reader', 'editor', 'publisher', 'architect']>,\n",
              " <Record name='apoc.coll.toSet' signature='apoc.coll.toSet(values :: LIST? OF ANY?) :: (LIST? OF ANY?)' category='' description='apoc.coll.toSet([list]) returns a unique list backed by a set' aggregating=False defaultBuiltInRoles=['admin', 'reader', 'editor', 'publisher', 'architect']>,\n",
              " <Record name='apoc.coll.union' signature='apoc.coll.union(first :: LIST? OF ANY?, second :: LIST? OF ANY?) :: (LIST? OF ANY?)' category='' description='apoc.coll.union(first, second) - creates the distinct union of the 2 lists' aggregating=False defaultBuiltInRoles=['admin', 'reader', 'editor', 'publisher', 'architect']>,\n",
              " <Record name='apoc.coll.unionAll' signature='apoc.coll.unionAll(first :: LIST? OF ANY?, second :: LIST? OF ANY?) :: (LIST? OF ANY?)' category='' description='apoc.coll.unionAll(first, second) - creates the full union with duplicates of the two lists' aggregating=False defaultBuiltInRoles=['admin', 'reader', 'editor', 'publisher', 'architect']>,\n",
              " <Record name='apoc.coll.zip' signature='apoc.coll.zip(list1 :: LIST? OF ANY?, list2 :: LIST? OF ANY?) :: (LIST? OF ANY?)' category='' description='apoc.coll.zip([list1],[list2])' aggregating=False defaultBuiltInRoles=['admin', 'reader', 'editor', 'publisher', 'architect']>,\n",
              " <Record name='apoc.convert.fromJsonList' signature='apoc.convert.fromJsonList(list :: STRING?, path =  :: STRING?) :: (LIST? OF ANY?)' category='' description=\"apoc.convert.fromJsonList('[1,2,3]'[,'json-path'])\" aggregating=False defaultBuiltInRoles=['admin', 'reader', 'editor', 'publisher', 'architect']>,\n",
              " <Record name='apoc.convert.fromJsonMap' signature='apoc.convert.fromJsonMap(map :: STRING?, path =  :: STRING?) :: (MAP?)' category='' description='apoc.convert.fromJsonMap(\\'{\"a\":42,\"b\":\"foo\",\"c\":[1,2,3]}\\'[,\\'json-path\\'])' aggregating=False defaultBuiltInRoles=['admin', 'reader', 'editor', 'publisher', 'architect']>,\n",
              " <Record name='apoc.convert.getJsonProperty' signature='apoc.convert.getJsonProperty(node :: NODE?, key :: STRING?, path =  :: STRING?) :: (ANY?)' category='' description=\"apoc.convert.getJsonProperty(node,key[,'json-path']) - converts serialized JSON in property back to original object\" aggregating=False defaultBuiltInRoles=['admin', 'reader', 'editor', 'publisher', 'architect']>,\n",
              " <Record name='apoc.convert.getJsonPropertyMap' signature='apoc.convert.getJsonPropertyMap(node :: NODE?, key :: STRING?, path =  :: STRING?) :: (MAP?)' category='' description=\"apoc.convert.getJsonPropertyMap(node,key[,'json-path']) - converts serialized JSON in property back to map\" aggregating=False defaultBuiltInRoles=['admin', 'reader', 'editor', 'publisher', 'architect']>,\n",
              " <Record name='apoc.convert.toBoolean' signature='apoc.convert.toBoolean(bool :: ANY?) :: (BOOLEAN?)' category='' description=\"apoc.convert.toBoolean(value) | tries it's best to convert the value to a boolean\" aggregating=False defaultBuiltInRoles=['admin', 'reader', 'editor', 'publisher', 'architect']>,\n",
              " <Record name='apoc.convert.toBooleanList' signature='apoc.convert.toBooleanList(list :: ANY?) :: (LIST? OF ANY?)' category='' description=\"apoc.convert.toBooleanList(value) | tries it's best to convert the value to a list of booleans\" aggregating=False defaultBuiltInRoles=['admin', 'reader', 'editor', 'publisher', 'architect']>,\n",
              " <Record name='apoc.convert.toFloat' signature='apoc.convert.toFloat(object :: ANY?) :: (FLOAT?)' category='' description=\"apoc.convert.toFloat(value) | tries it's best to convert the value to a float\" aggregating=False defaultBuiltInRoles=['admin', 'reader', 'editor', 'publisher', 'architect']>,\n",
              " <Record name='apoc.convert.toIntList' signature='apoc.convert.toIntList(list :: ANY?) :: (LIST? OF ANY?)' category='' description=\"apoc.convert.toIntList(value) | tries it's best to convert the value to a list of integers\" aggregating=False defaultBuiltInRoles=['admin', 'reader', 'editor', 'publisher', 'architect']>,\n",
              " <Record name='apoc.convert.toInteger' signature='apoc.convert.toInteger(object :: ANY?) :: (INTEGER?)' category='' description=\"apoc.convert.toInteger(value) | tries it's best to convert the value to an integer\" aggregating=False defaultBuiltInRoles=['admin', 'reader', 'editor', 'publisher', 'architect']>,\n",
              " <Record name='apoc.convert.toJson' signature='apoc.convert.toJson(value :: ANY?) :: (STRING?)' category='' description='apoc.convert.toJson([1,2,3]) or toJson({a:42,b:\"foo\",c:[1,2,3]}) or toJson(NODE/REL/PATH)' aggregating=False defaultBuiltInRoles=['admin', 'reader', 'editor', 'publisher', 'architect']>,\n",
              " <Record name='apoc.convert.toList' signature='apoc.convert.toList(list :: ANY?) :: (LIST? OF ANY?)' category='' description=\"apoc.convert.toList(value) | tries it's best to convert the value to a list\" aggregating=False defaultBuiltInRoles=['admin', 'reader', 'editor', 'publisher', 'architect']>,\n",
              " <Record name='apoc.convert.toMap' signature='apoc.convert.toMap(map :: ANY?) :: (MAP?)' category='' description=\"apoc.convert.toMap(value) | tries it's best to convert the value to a map\" aggregating=False defaultBuiltInRoles=['admin', 'reader', 'editor', 'publisher', 'architect']>,\n",
              " <Record name='apoc.convert.toNode' signature='apoc.convert.toNode(node :: ANY?) :: (NODE?)' category='' description=\"apoc.convert.toNode(value) | tries it's best to convert the value to a node\" aggregating=False defaultBuiltInRoles=['admin', 'reader', 'editor', 'publisher', 'architect']>,\n",
              " <Record name='apoc.convert.toNodeList' signature='apoc.convert.toNodeList(list :: ANY?) :: (LIST? OF ANY?)' category='' description=\"apoc.convert.toNodeList(value) | tries it's best to convert the value to a list of nodes\" aggregating=False defaultBuiltInRoles=['admin', 'reader', 'editor', 'publisher', 'architect']>,\n",
              " <Record name='apoc.convert.toRelationship' signature='apoc.convert.toRelationship(relationship :: ANY?) :: (RELATIONSHIP?)' category='' description=\"apoc.convert.toRelationship(value) | tries it's best to convert the value to a relationship\" aggregating=False defaultBuiltInRoles=['admin', 'reader', 'editor', 'publisher', 'architect']>,\n",
              " <Record name='apoc.convert.toRelationshipList' signature='apoc.convert.toRelationshipList(list :: ANY?) :: (LIST? OF ANY?)' category='' description=\"apoc.convert.toRelationshipList(value) | tries it's best to convert the value to a list of relationships\" aggregating=False defaultBuiltInRoles=['admin', 'reader', 'editor', 'publisher', 'architect']>,\n",
              " <Record name='apoc.convert.toSet' signature='apoc.convert.toSet(list :: ANY?) :: (LIST? OF ANY?)' category='' description=\"apoc.convert.toSet(value) | tries it's best to convert the value to a set\" aggregating=False defaultBuiltInRoles=['admin', 'reader', 'editor', 'publisher', 'architect']>,\n",
              " <Record name='apoc.convert.toSortedJsonMap' signature='apoc.convert.toSortedJsonMap(value :: ANY?, ignoreCase = true :: BOOLEAN?) :: (STRING?)' category='' description='apoc.convert.toSortedJsonMap(node|map, ignoreCase:true) - returns a JSON map with keys sorted alphabetically, with optional case sensitivity' aggregating=False defaultBuiltInRoles=['admin', 'reader', 'editor', 'publisher', 'architect']>,\n",
              " <Record name='apoc.convert.toString' signature='apoc.convert.toString(string :: ANY?) :: (STRING?)' category='' description=\"apoc.convert.toString(value) | tries it's best to convert the value to a string\" aggregating=False defaultBuiltInRoles=['admin', 'reader', 'editor', 'publisher', 'architect']>,\n",
              " <Record name='apoc.convert.toStringList' signature='apoc.convert.toStringList(list :: ANY?) :: (LIST? OF ANY?)' category='' description=\"apoc.convert.toStringList(value) | tries it's best to convert the value to a list of strings\" aggregating=False defaultBuiltInRoles=['admin', 'reader', 'editor', 'publisher', 'architect']>,\n",
              " <Record name='apoc.create.uuid' signature='apoc.create.uuid() :: (STRING?)' category='' description='apoc.create.uuid() - creates an UUID' aggregating=False defaultBuiltInRoles=['admin', 'reader', 'editor', 'publisher', 'architect']>,\n",
              " <Record name='apoc.create.vNode' signature='apoc.create.vNode(label :: LIST? OF STRING?, props = {} :: MAP?) :: (NODE?)' category='' description=\"apoc.create.vNode(['Label'], {key:value,...}) returns a virtual node\" aggregating=False defaultBuiltInRoles=['admin', 'reader', 'editor', 'publisher', 'architect']>,\n",
              " <Record name='apoc.create.vRelationship' signature='apoc.create.vRelationship(from :: NODE?, relType :: STRING?, props :: MAP?, to :: NODE?) :: (RELATIONSHIP?)' category='' description=\"apoc.create.vRelationship(nodeFrom,'KNOWS',{key:value,...}, nodeTo) returns a virtual relationship\" aggregating=False defaultBuiltInRoles=['admin', 'reader', 'editor', 'publisher', 'architect']>,\n",
              " <Record name='apoc.create.virtual.fromNode' signature='apoc.create.virtual.fromNode(node :: NODE?, propertyNames :: LIST? OF STRING?) :: (NODE?)' category='' description='apoc.create.virtual.fromNode(node, [propertyNames]) returns a virtual node built from an existing node with only the requested properties' aggregating=False defaultBuiltInRoles=['admin', 'reader', 'editor', 'publisher', 'architect']>,\n",
              " <Record name='apoc.cypher.runFirstColumn' signature='apoc.cypher.runFirstColumn(cypher :: STRING?, params :: MAP?, expectMultipleValues = true :: BOOLEAN?) :: (ANY?)' category='' description='use either apoc.cypher.runFirstColumnMany for a list return or apoc.cypher.runFirstColumnSingle for returning the first row of the first column' aggregating=False defaultBuiltInRoles=['admin', 'reader', 'editor', 'publisher', 'architect']>,\n",
              " <Record name='apoc.cypher.runFirstColumnMany' signature='apoc.cypher.runFirstColumnMany(cypher :: STRING?, params :: MAP?) :: (LIST? OF ANY?)' category='' description='apoc.cypher.runFirstColumnMany(statement, params) - executes statement with given parameters, returns first column only collected into a list, params are available as identifiers' aggregating=False defaultBuiltInRoles=['admin', 'reader', 'editor', 'publisher', 'architect']>,\n",
              " <Record name='apoc.cypher.runFirstColumnSingle' signature='apoc.cypher.runFirstColumnSingle(cypher :: STRING?, params :: MAP?) :: (ANY?)' category='' description='apoc.cypher.runFirstColumnSingle(statement, params) - executes statement with given parameters, returns first element of the first column only, params are available as identifiers' aggregating=False defaultBuiltInRoles=['admin', 'reader', 'editor', 'publisher', 'architect']>,\n",
              " <Record name='apoc.data.domain' signature='apoc.data.domain(url_or_email_address :: STRING?) :: (STRING?)' category='' description=\"apoc.data.domain('url_or_email_address') YIELD domain - extract the domain name from a url or an email address. If nothing was found, yield null.\" aggregating=False defaultBuiltInRoles=['admin', 'reader', 'editor', 'publisher', 'architect']>,\n",
              " <Record name='apoc.data.url' signature='apoc.data.url(url :: STRING?) :: (MAP?)' category='' description=\"apoc.data.url('url') as {protocol,host,port,path,query,file,anchor,user} | turn URL into map structure\" aggregating=False defaultBuiltInRoles=['admin', 'reader', 'editor', 'publisher', 'architect']>,\n",
              " <Record name='apoc.date.add' signature='apoc.date.add(time :: INTEGER?, unit :: STRING?, addValue :: INTEGER?, addUnit :: STRING?) :: (INTEGER?)' category='' description=\"apoc.date.add(12345, 'ms', -365, 'd') - given a timestamp in one time unit, adds a value of the specified time unit\" aggregating=False defaultBuiltInRoles=['admin', 'reader', 'editor', 'publisher', 'architect']>,\n",
              " <Record name='apoc.date.convert' signature='apoc.date.convert(time :: INTEGER?, unit :: STRING?, toUnit :: STRING?) :: (INTEGER?)' category='' description=\"apoc.date.convert(12345, 'ms', 'd') - convert a timestamp in one time unit into one of a different time unit\" aggregating=False defaultBuiltInRoles=['admin', 'reader', 'editor', 'publisher', 'architect']>,\n",
              " <Record name='apoc.date.convertFormat' signature='apoc.date.convertFormat(temporal :: STRING?, currentFormat :: STRING?, convertTo = yyyy-MM-dd :: STRING?) :: (STRING?)' category='' description=\"apoc.date.convertFormat('Tue, 14 May 2019 14:52:06 -0400', 'rfc_1123_date_time', 'iso_date_time') - convert a String of one date format into a String of another date format.\" aggregating=False defaultBuiltInRoles=['admin', 'reader', 'editor', 'publisher', 'architect']>,\n",
              " <Record name='apoc.date.currentTimestamp' signature='apoc.date.currentTimestamp() :: (INTEGER?)' category='' description='apoc.date.currentTimestamp() - returns System.currentTimeMillis() at the time it was called. The value is current throughout transaction execution, and is different from Cypher’s timestamp() function, which does not update within a transaction.' aggregating=False defaultBuiltInRoles=['admin', 'reader', 'editor', 'publisher', 'architect']>,\n",
              " <Record name='apoc.date.field' signature='apoc.date.field(time :: INTEGER?, unit = d :: STRING?, timezone = UTC :: STRING?) :: (INTEGER?)' category='' description=\"apoc.date.field(12345,('ms|s|m|h|d|month|year'),('TZ')\" aggregating=False defaultBuiltInRoles=['admin', 'reader', 'editor', 'publisher', 'architect']>,\n",
              " <Record name='apoc.date.fields' signature='apoc.date.fields(date :: STRING?, pattern = yyyy-MM-dd HH:mm:ss :: STRING?) :: (MAP?)' category='' description=\"apoc.date.fields('2012-12-23',('yyyy-MM-dd')) - return columns and a map representation of date parsed with the given format with entries for years,months,weekdays,days,hours,minutes,seconds,zoneid\" aggregating=False defaultBuiltInRoles=['admin', 'reader', 'editor', 'publisher', 'architect']>,\n",
              " <Record name='apoc.date.format' signature='apoc.date.format(time :: INTEGER?, unit = ms :: STRING?, format = yyyy-MM-dd HH:mm:ss :: STRING?, timezone =  :: STRING?) :: (STRING?)' category='' description=\"apoc.date.format(12345,('ms|s|m|h|d'),('yyyy-MM-dd HH:mm:ss zzz'),('TZ')) - get string representation of time value optionally using the specified unit (default ms) using specified format (default ISO) and specified time zone (default current TZ)\" aggregating=False defaultBuiltInRoles=['admin', 'reader', 'editor', 'publisher', 'architect']>,\n",
              " <Record name='apoc.date.fromISO8601' signature='apoc.date.fromISO8601(time :: STRING?) :: (INTEGER?)' category='' description=\"apoc.date.fromISO8601('yyyy-MM-ddTHH:mm:ss.SSSZ') - return number representation of time in EPOCH format\" aggregating=False defaultBuiltInRoles=['admin', 'reader', 'editor', 'publisher', 'architect']>,\n",
              " <Record name='apoc.date.parse' signature='apoc.date.parse(time :: STRING?, unit = ms :: STRING?, format = yyyy-MM-dd HH:mm:ss :: STRING?, timezone =  :: STRING?) :: (INTEGER?)' category='' description=\"apoc.date.parse('2012-12-23','ms|s|m|h|d','yyyy-MM-dd') - parse date string using the specified format into the specified time unit\" aggregating=False defaultBuiltInRoles=['admin', 'reader', 'editor', 'publisher', 'architect']>,\n",
              " <Record name='apoc.date.parseAsZonedDateTime' signature='apoc.date.parseAsZonedDateTime(time :: STRING?, format = yyyy-MM-dd HH:mm:ss :: STRING?, timezone = UTC :: STRING?) :: (DATETIME?)' category='' description=\"apoc.date.parseAsZonedDateTime('2012-12-23 23:59:59','yyyy-MM-dd HH:mm:ss', 'UTC-hour-offset') - parse date string using the specified format to specified timezone\" aggregating=False defaultBuiltInRoles=['admin', 'reader', 'editor', 'publisher', 'architect']>,\n",
              " <Record name='apoc.date.systemTimezone' signature='apoc.date.systemTimezone() :: (STRING?)' category='' description='apoc.date.systemTimezone() - returns the system timezone display name' aggregating=False defaultBuiltInRoles=['admin', 'reader', 'editor', 'publisher', 'architect']>,\n",
              " <Record name='apoc.date.toISO8601' signature='apoc.date.toISO8601(time :: INTEGER?, unit = ms :: STRING?) :: (STRING?)' category='' description=\"apoc.date.toISO8601(12345,('ms|s|m|h|d') - return string representation of time in ISO8601 format\" aggregating=False defaultBuiltInRoles=['admin', 'reader', 'editor', 'publisher', 'architect']>,\n",
              " <Record name='apoc.date.toYears' signature='apoc.date.toYears(value :: ANY?, format = yyyy-MM-dd HH:mm:ss :: STRING?) :: (FLOAT?)' category='' description='toYears(timestamp) or toYears(date[,format]) - converts timestamp into floating point years' aggregating=False defaultBuiltInRoles=['admin', 'reader', 'editor', 'publisher', 'architect']>,\n",
              " <Record name='apoc.diff.nodes' signature='apoc.diff.nodes(leftNode :: NODE?, rightNode :: NODE?) :: (MAP?)' category='' description='' aggregating=False defaultBuiltInRoles=['admin', 'reader', 'editor', 'publisher', 'architect']>,\n",
              " <Record name='apoc.hashing.fingerprint' signature='apoc.hashing.fingerprint(some object :: ANY?, propertyExcludes = [] :: LIST? OF STRING?) :: (STRING?)' category='' description='calculate a checksum (md5) over a node or a relationship. This deals gracefully with array properties. Two identical entities do share the same hash.' aggregating=False defaultBuiltInRoles=['admin', 'reader', 'editor', 'publisher', 'architect']>,\n",
              " <Record name='apoc.hashing.fingerprintGraph' signature='apoc.hashing.fingerprintGraph(propertyExcludes = [] :: LIST? OF STRING?) :: (STRING?)' category='' description='calculate a checksum (md5) over a the full graph. Be aware that this function does use in-memomry datastructures depending on the size of your graph.' aggregating=False defaultBuiltInRoles=['admin', 'reader', 'editor', 'publisher', 'architect']>,\n",
              " <Record name='apoc.hashing.fingerprinting' signature='apoc.hashing.fingerprinting(some object :: ANY?, conf = {} :: MAP?) :: (STRING?)' category='' description='calculate a checksum (md5) over a node or a relationship. This deals gracefully with array properties. Two identical entities do share the same hash.' aggregating=False defaultBuiltInRoles=['admin', 'reader', 'editor', 'publisher', 'architect']>,\n",
              " <Record name='apoc.json.path' signature='apoc.json.path(json :: STRING?, path = $ :: STRING?) :: (ANY?)' category='' description=\"apoc.json.path('{json}','json-path')\" aggregating=False defaultBuiltInRoles=['admin', 'reader', 'editor', 'publisher', 'architect']>,\n",
              " <Record name='apoc.label.exists' signature='apoc.label.exists(node :: ANY?, label :: STRING?) :: (BOOLEAN?)' category='' description='apoc.label.exists(element, label) - returns true or false related to label existance' aggregating=False defaultBuiltInRoles=['admin', 'reader', 'editor', 'publisher', 'architect']>,\n",
              " <Record name='apoc.map.clean' signature='apoc.map.clean(map :: MAP?, keys :: LIST? OF STRING?, values :: LIST? OF ANY?) :: (MAP?)' category='' description='apoc.map.clean(map,[skip,keys],[skip,values]) yield map filters the keys and values contained in those lists, good for data cleaning from CSV/JSON' aggregating=False defaultBuiltInRoles=['admin', 'reader', 'editor', 'publisher', 'architect']>,\n",
              " <Record name='apoc.map.flatten' signature='apoc.map.flatten(map :: MAP?, delimiter = . :: STRING?) :: (MAP?)' category='' description=\"apoc.map.flatten(map, delimiter:'.') yield map - flattens nested items in map using dot notation\" aggregating=False defaultBuiltInRoles=['admin', 'reader', 'editor', 'publisher', 'architect']>,\n",
              " <Record name='apoc.map.fromLists' signature='apoc.map.fromLists(keys :: LIST? OF STRING?, values :: LIST? OF ANY?) :: (MAP?)' category='' description='apoc.map.fromLists([keys],[values])' aggregating=False defaultBuiltInRoles=['admin', 'reader', 'editor', 'publisher', 'architect']>,\n",
              " <Record name='apoc.map.fromNodes' signature='apoc.map.fromNodes(label :: STRING?, property :: STRING?) :: (MAP?)' category='' description='apoc.map.fromNodes(label, property)' aggregating=False defaultBuiltInRoles=['admin', 'reader', 'editor', 'publisher', 'architect']>,\n",
              " <Record name='apoc.map.fromPairs' signature='apoc.map.fromPairs(pairs :: LIST? OF LIST? OF ANY?) :: (MAP?)' category='' description='apoc.map.fromPairs([[key,value],[key2,value2],...])' aggregating=False defaultBuiltInRoles=['admin', 'reader', 'editor', 'publisher', 'architect']>,\n",
              " <Record name='apoc.map.fromValues' signature='apoc.map.fromValues(values :: LIST? OF ANY?) :: (MAP?)' category='' description='apoc.map.fromValues([key1,value1,key2,value2,...])' aggregating=False defaultBuiltInRoles=['admin', 'reader', 'editor', 'publisher', 'architect']>,\n",
              " <Record name='apoc.map.get' signature='apoc.map.get(map :: MAP?, key :: STRING?, value = null :: ANY?, fail = true :: BOOLEAN?) :: (ANY?)' category='' description=\"apoc.map.get(map,key,[default],[fail=true]) - returns value for key or throws exception if key doesn't exist and no default given\" aggregating=False defaultBuiltInRoles=['admin', 'reader', 'editor', 'publisher', 'architect']>,\n",
              " <Record name='apoc.map.groupBy' signature='apoc.map.groupBy(values :: LIST? OF ANY?, key :: STRING?) :: (MAP?)' category='' description=\"apoc.map.groupBy([maps/nodes/relationships],'key') yield value - creates a map of the list keyed by the given property, with single values\" aggregating=False defaultBuiltInRoles=['admin', 'reader', 'editor', 'publisher', 'architect']>,\n",
              " <Record name='apoc.map.groupByMulti' signature='apoc.map.groupByMulti(values :: LIST? OF ANY?, key :: STRING?) :: (MAP?)' category='' description=\"apoc.map.groupByMulti([maps/nodes/relationships],'key') yield value - creates a map of the list keyed by the given property, with list values\" aggregating=False defaultBuiltInRoles=['admin', 'reader', 'editor', 'publisher', 'architect']>,\n",
              " <Record name='apoc.map.merge' signature='apoc.map.merge(first :: MAP?, second :: MAP?) :: (MAP?)' category='' description='apoc.map.merge(first,second) - merges two maps' aggregating=False defaultBuiltInRoles=['admin', 'reader', 'editor', 'publisher', 'architect']>,\n",
              " <Record name='apoc.map.mergeList' signature='apoc.map.mergeList(maps :: LIST? OF MAP?) :: (MAP?)' category='' description='apoc.map.mergeList([{maps}]) yield value - merges all maps in the list into one' aggregating=False defaultBuiltInRoles=['admin', 'reader', 'editor', 'publisher', 'architect']>,\n",
              " <Record name='apoc.map.mget' signature='apoc.map.mget(map :: MAP?, keys :: LIST? OF STRING?, values = [] :: LIST? OF ANY?, fail = true :: BOOLEAN?) :: (LIST? OF ANY?)' category='' description=\"apoc.map.mget(map,key,[defaults],[fail=true])  - returns list of values for keys or throws exception if one of the key doesn't exist and no default value given at that position\" aggregating=False defaultBuiltInRoles=['admin', 'reader', 'editor', 'publisher', 'architect']>,\n",
              " <Record name='apoc.map.removeKey' signature='apoc.map.removeKey(map :: MAP?, key :: STRING?, config = {} :: MAP?) :: (MAP?)' category='' description='apoc.map.removeKey(map,key,{recursive:true/false}) - remove the key from the map (recursively if recursive is true)' aggregating=False defaultBuiltInRoles=['admin', 'reader', 'editor', 'publisher', 'architect']>,\n",
              " <Record name='apoc.map.removeKeys' signature='apoc.map.removeKeys(map :: MAP?, keys :: LIST? OF STRING?, config = {} :: MAP?) :: (MAP?)' category='' description='apoc.map.removeKeys(map,[keys],{recursive:true/false}) - remove the keys from the map (recursively if recursive is true)' aggregating=False defaultBuiltInRoles=['admin', 'reader', 'editor', 'publisher', 'architect']>,\n",
              " <Record name='apoc.map.setEntry' signature='apoc.map.setEntry(map :: MAP?, key :: STRING?, value :: ANY?) :: (MAP?)' category='' description='apoc.map.setEntry(map,key,value)' aggregating=False defaultBuiltInRoles=['admin', 'reader', 'editor', 'publisher', 'architect']>,\n",
              " <Record name='apoc.map.setKey' signature='apoc.map.setKey(map :: MAP?, key :: STRING?, value :: ANY?) :: (MAP?)' category='' description='apoc.map.setKey(map,key,value)' aggregating=False defaultBuiltInRoles=['admin', 'reader', 'editor', 'publisher', 'architect']>,\n",
              " <Record name='apoc.map.setLists' signature='apoc.map.setLists(map :: MAP?, keys :: LIST? OF STRING?, values :: LIST? OF ANY?) :: (MAP?)' category='' description='apoc.map.setLists(map,[keys],[values])' aggregating=False defaultBuiltInRoles=['admin', 'reader', 'editor', 'publisher', 'architect']>,\n",
              " <Record name='apoc.map.setPairs' signature='apoc.map.setPairs(map :: MAP?, pairs :: LIST? OF LIST? OF ANY?) :: (MAP?)' category='' description='apoc.map.setPairs(map,[[key1,value1],[key2,value2])' aggregating=False defaultBuiltInRoles=['admin', 'reader', 'editor', 'publisher', 'architect']>,\n",
              " <Record name='apoc.map.setValues' signature='apoc.map.setValues(map :: MAP?, pairs :: LIST? OF ANY?) :: (MAP?)' category='' description='apoc.map.setValues(map,[key1,value1,key2,value2])' aggregating=False defaultBuiltInRoles=['admin', 'reader', 'editor', 'publisher', 'architect']>,\n",
              " <Record name='apoc.map.sortedProperties' signature='apoc.map.sortedProperties(map :: MAP?, ignoreCase = true :: BOOLEAN?) :: (LIST? OF ANY?)' category='' description='apoc.map.sortedProperties(map, ignoreCase:true) - returns a list of key/value list pairs, with pairs sorted by keys alphabetically, with optional case sensitivity' aggregating=False defaultBuiltInRoles=['admin', 'reader', 'editor', 'publisher', 'architect']>,\n",
              " <Record name='apoc.map.submap' signature='apoc.map.submap(map :: MAP?, keys :: LIST? OF STRING?, values = [] :: LIST? OF ANY?, fail = true :: BOOLEAN?) :: (MAP?)' category='' description=\"apoc.map.submap(map,keys,[defaults],[fail=true])  - returns submap for keys or throws exception if one of the key doesn't exist and no default value given at that position\" aggregating=False defaultBuiltInRoles=['admin', 'reader', 'editor', 'publisher', 'architect']>,\n",
              " <Record name='apoc.map.updateTree' signature='apoc.map.updateTree(tree :: MAP?, key :: STRING?, data :: LIST? OF LIST? OF ANY?) :: (MAP?)' category='' description='apoc.map.updateTree(tree,key,[[value,{data}]]) returns map - adds the {data} map on each level of the nested tree, where the key-value pairs match' aggregating=False defaultBuiltInRoles=['admin', 'reader', 'editor', 'publisher', 'architect']>,\n",
              " <Record name='apoc.map.values' signature='apoc.map.values(map :: MAP?, keys = [] :: LIST? OF STRING?, addNullsForMissing = false :: BOOLEAN?) :: (LIST? OF ANY?)' category='' description='apoc.map.values(map, [key1,key2,key3,...],[addNullsForMissing]) returns list of values indicated by the keys' aggregating=False defaultBuiltInRoles=['admin', 'reader', 'editor', 'publisher', 'architect']>,\n",
              " <Record name='apoc.math.maxByte' signature='apoc.math.maxByte() :: (INTEGER?)' category='' description='apoc.math.maxByte() | return the maximum value an byte can have' aggregating=False defaultBuiltInRoles=['admin', 'reader', 'editor', 'publisher', 'architect']>,\n",
              " <Record name='apoc.math.maxDouble' signature='apoc.math.maxDouble() :: (FLOAT?)' category='' description='apoc.math.maxDouble() | return the largest positive finite value of type double' aggregating=False defaultBuiltInRoles=['admin', 'reader', 'editor', 'publisher', 'architect']>,\n",
              " <Record name='apoc.math.maxInt' signature='apoc.math.maxInt() :: (INTEGER?)' category='' description='apoc.math.maxInt() | return the maximum value an int can have' aggregating=False defaultBuiltInRoles=['admin', 'reader', 'editor', 'publisher', 'architect']>,\n",
              " <Record name='apoc.math.maxLong' signature='apoc.math.maxLong() :: (INTEGER?)' category='' description='apoc.math.maxLong() | return the maximum value a long can have' aggregating=False defaultBuiltInRoles=['admin', 'reader', 'editor', 'publisher', 'architect']>,\n",
              " <Record name='apoc.math.minByte' signature='apoc.math.minByte() :: (INTEGER?)' category='' description='apoc.math.minByte() | return the minimum value an byte can have' aggregating=False defaultBuiltInRoles=['admin', 'reader', 'editor', 'publisher', 'architect']>,\n",
              " <Record name='apoc.math.minDouble' signature='apoc.math.minDouble() :: (FLOAT?)' category='' description='apoc.math.minDouble() | return the smallest positive nonzero value of type double' aggregating=False defaultBuiltInRoles=['admin', 'reader', 'editor', 'publisher', 'architect']>,\n",
              " <Record name='apoc.math.minInt' signature='apoc.math.minInt() :: (INTEGER?)' category='' description='apoc.math.minInt() | return the minimum value an int can have' aggregating=False defaultBuiltInRoles=['admin', 'reader', 'editor', 'publisher', 'architect']>,\n",
              " <Record name='apoc.math.minLong' signature='apoc.math.minLong() :: (INTEGER?)' category='' description='apoc.math.minLong() | return the minimum value a long can have' aggregating=False defaultBuiltInRoles=['admin', 'reader', 'editor', 'publisher', 'architect']>,\n",
              " <Record name='apoc.math.round' signature='apoc.math.round(value :: FLOAT?, precision = 0 :: INTEGER?, mode = HALF_UP :: STRING?) :: (FLOAT?)' category='' description=\"apoc.math.round(value,[precision],mode=['CEILING','FLOOR','UP','DOWN','HALF_EVEN','HALF_DOWN','HALF_UP','DOWN','UNNECESSARY'])\" aggregating=False defaultBuiltInRoles=['admin', 'reader', 'editor', 'publisher', 'architect']>,\n",
              " <Record name='apoc.meta.cypher.isType' signature='apoc.meta.cypher.isType(value :: ANY?, type :: STRING?) :: (BOOLEAN?)' category='' description='apoc.meta.cypher.isType(value,type) - returns a row if type name matches none if not (INTEGER,FLOAT,STRING,BOOLEAN,RELATIONSHIP,NODE,PATH,NULL,MAP,LIST OF <TYPE>,POINT,DATE,DATE_TIME,LOCAL_TIME,LOCAL_DATE_TIME,TIME,DURATION)' aggregating=False defaultBuiltInRoles=['admin', 'reader', 'editor', 'publisher', 'architect']>,\n",
              " <Record name='apoc.meta.cypher.type' signature='apoc.meta.cypher.type(value :: ANY?) :: (STRING?)' category='' description='apoc.meta.cypher.type(value) - type name of a value (INTEGER,FLOAT,STRING,BOOLEAN,RELATIONSHIP,NODE,PATH,NULL,MAP,LIST OF <TYPE>,POINT,DATE,DATE_TIME,LOCAL_TIME,LOCAL_DATE_TIME,TIME,DURATION)' aggregating=False defaultBuiltInRoles=['admin', 'reader', 'editor', 'publisher', 'architect']>,\n",
              " <Record name='apoc.meta.cypher.types' signature='apoc.meta.cypher.types(properties :: ANY?) :: (MAP?)' category='' description='apoc.meta.cypher.types(node-relationship-map)  - returns a map of keys to types' aggregating=False defaultBuiltInRoles=['admin', 'reader', 'editor', 'publisher', 'architect']>,\n",
              " <Record name='apoc.meta.isType' signature='apoc.meta.isType(value :: ANY?, type :: STRING?) :: (BOOLEAN?)' category='' description='apoc.meta.isType(value,type) - returns a row if type name matches none if not (INTEGER,FLOAT,STRING,BOOLEAN,RELATIONSHIP,NODE,PATH,NULL,UNKNOWN,MAP,LIST)' aggregating=False defaultBuiltInRoles=['admin', 'reader', 'editor', 'publisher', 'architect']>,\n",
              " <Record name='apoc.meta.type' signature='apoc.meta.type(value :: ANY?) :: (STRING?)' category='' description='apoc.meta.type(value) - type name of a value (INTEGER,FLOAT,STRING,BOOLEAN,RELATIONSHIP,NODE,PATH,NULL,UNKNOWN,MAP,LIST)' aggregating=False defaultBuiltInRoles=['admin', 'reader', 'editor', 'publisher', 'architect']>,\n",
              " <Record name='apoc.meta.typeName' signature='apoc.meta.typeName(value :: ANY?) :: (STRING?)' category='' description='apoc.meta.typeName(value) - type name of a value (INTEGER,FLOAT,STRING,BOOLEAN,RELATIONSHIP,NODE,PATH,NULL,UNKNOWN,MAP,LIST)' aggregating=False defaultBuiltInRoles=['admin', 'reader', 'editor', 'publisher', 'architect']>,\n",
              " <Record name='apoc.meta.types' signature='apoc.meta.types(properties :: ANY?) :: (MAP?)' category='' description='apoc.meta.types(node-relationship-map)  - returns a map of keys to types' aggregating=False defaultBuiltInRoles=['admin', 'reader', 'editor', 'publisher', 'architect']>,\n",
              " <Record name='apoc.node.degree' signature='apoc.node.degree(node :: NODE?, types =  :: STRING?) :: (INTEGER?)' category='' description=\"apoc.node.degree(node, rel-direction-pattern) - returns total degrees of the given relationships in the pattern, can use '>' or '<' for all outgoing or incoming relationships\" aggregating=False defaultBuiltInRoles=['admin', 'reader', 'editor', 'publisher', 'architect']>,\n",
              " <Record name='apoc.node.degree.in' signature='apoc.node.degree.in(node :: NODE?, types =  :: STRING?) :: (INTEGER?)' category='' description='apoc.node.degree.in(node, relationshipName) - returns total number number of incoming relationships' aggregating=False defaultBuiltInRoles=['admin', 'reader', 'editor', 'publisher', 'architect']>,\n",
              " <Record name='apoc.node.degree.out' signature='apoc.node.degree.out(node :: NODE?, types =  :: STRING?) :: (INTEGER?)' category='' description='apoc.node.degree.out(node, relationshipName) - returns total number number of outgoing relationships' aggregating=False defaultBuiltInRoles=['admin', 'reader', 'editor', 'publisher', 'architect']>,\n",
              " <Record name='apoc.node.id' signature='apoc.node.id(node :: NODE?) :: (INTEGER?)' category='' description='returns id for (virtual) nodes' aggregating=False defaultBuiltInRoles=['admin', 'reader', 'editor', 'publisher', 'architect']>,\n",
              " <Record name='apoc.node.labels' signature='apoc.node.labels(node :: NODE?) :: (LIST? OF ANY?)' category='' description='returns labels for (virtual) nodes' aggregating=False defaultBuiltInRoles=['admin', 'reader', 'editor', 'publisher', 'architect']>,\n",
              " <Record name='apoc.node.relationship.exists' signature='apoc.node.relationship.exists(node :: NODE?, types =  :: STRING?) :: (BOOLEAN?)' category='' description='apoc.node.relationship.exists(node, rel-direction-pattern) - returns true when the node has the relationships of the pattern' aggregating=False defaultBuiltInRoles=['admin', 'reader', 'editor', 'publisher', 'architect']>,\n",
              " <Record name='apoc.node.relationship.types' signature='apoc.node.relationship.types(node :: NODE?, types =  :: STRING?) :: (LIST? OF ANY?)' category='' description='apoc.node.relationship.types(node, rel-direction-pattern) - returns a list of distinct relationship types' aggregating=False defaultBuiltInRoles=['admin', 'reader', 'editor', 'publisher', 'architect']>,\n",
              " <Record name='apoc.node.relationships.exist' signature='apoc.node.relationships.exist(node :: NODE?, types =  :: STRING?) :: (MAP?)' category='' description='apoc.node.relationships.exist(node, rel-direction-pattern) - returns a map with rel-pattern, boolean for the given relationship patterns' aggregating=False defaultBuiltInRoles=['admin', 'reader', 'editor', 'publisher', 'architect']>,\n",
              " <Record name='apoc.nodes.connected' signature='apoc.nodes.connected(start :: NODE?, start :: NODE?, types =  :: STRING?) :: (BOOLEAN?)' category='' description='apoc.nodes.connected(start, end, rel-direction-pattern) - returns true when the node is connected to the other node, optimized for dense nodes' aggregating=False defaultBuiltInRoles=['admin', 'reader', 'editor', 'publisher', 'architect']>,\n",
              " <Record name='apoc.nodes.isDense' signature='apoc.nodes.isDense(node :: NODE?) :: (BOOLEAN?)' category='' description='apoc.nodes.isDense(node) - returns true if it is a dense node' aggregating=False defaultBuiltInRoles=['admin', 'reader', 'editor', 'publisher', 'architect']>,\n",
              " <Record name='apoc.nodes.relationship.types' signature='apoc.nodes.relationship.types(ids :: ANY?, types =  :: STRING?) :: (LIST? OF ANY?)' category='' description='apoc.nodes.relationship.types(node|nodes|id|[ids], rel-direction-pattern) - returns a list of maps where each one has two fields: `node` which is the node subject of the analysis and `types` which is a list of distinct relationship types' aggregating=False defaultBuiltInRoles=['admin', 'reader', 'editor', 'publisher', 'architect']>,\n",
              " <Record name='apoc.nodes.relationships.exist' signature='apoc.nodes.relationships.exist(ids :: ANY?, types =  :: STRING?) :: (LIST? OF ANY?)' category='' description='apoc.nodes.relationships.exist(node|nodes|id|[ids], rel-direction-pattern) - returns a list of maps where each one has two fields: `node` which is the node subject of the analysis and `exists` which is a map with rel-pattern, boolean for the given relationship patterns' aggregating=False defaultBuiltInRoles=['admin', 'reader', 'editor', 'publisher', 'architect']>,\n",
              " <Record name='apoc.number.arabicToRoman' signature='apoc.number.arabicToRoman(number :: ANY?) :: (STRING?)' category='' description='apoc.number.arabicToRoman(number)  | convert arabic numbers to roman' aggregating=False defaultBuiltInRoles=['admin', 'reader', 'editor', 'publisher', 'architect']>,\n",
              " <Record name='apoc.number.exact.add' signature='apoc.number.exact.add(stringA :: STRING?, stringB :: STRING?) :: (STRING?)' category='' description=\"apoc.number.exact.add(stringA,stringB) - return the sum's result of two large numbers\" aggregating=False defaultBuiltInRoles=['admin', 'reader', 'editor', 'publisher', 'architect']>,\n",
              " <Record name='apoc.number.exact.div' signature='apoc.number.exact.div(stringA :: STRING?, stringB :: STRING?, precision = 0 :: INTEGER?, roundingMode = HALF_UP :: STRING?) :: (STRING?)' category='' description=\"apoc.number.exact.div(stringA,stringB,[prec],[roundingModel]) - return the division's result of two large numbers\" aggregating=False defaultBuiltInRoles=['admin', 'reader', 'editor', 'publisher', 'architect']>,\n",
              " <Record name='apoc.number.exact.mul' signature='apoc.number.exact.mul(stringA :: STRING?, stringB :: STRING?, precision = 0 :: INTEGER?, roundingMode = HALF_UP :: STRING?) :: (STRING?)' category='' description=\"apoc.number.exact.mul(stringA,stringB,[prec],[roundingModel]) - return the multiplication's result of two large numbers \" aggregating=False defaultBuiltInRoles=['admin', 'reader', 'editor', 'publisher', 'architect']>,\n",
              " <Record name='apoc.number.exact.sub' signature='apoc.number.exact.sub(stringA :: STRING?, stringB :: STRING?) :: (STRING?)' category='' description=\"apoc.number.exact.sub(stringA,stringB) - return the substraction's of two large numbers\" aggregating=False defaultBuiltInRoles=['admin', 'reader', 'editor', 'publisher', 'architect']>,\n",
              " <Record name='apoc.number.exact.toExact' signature='apoc.number.exact.toExact(number :: INTEGER?) :: (INTEGER?)' category='' description='apoc.number.exact.toExact(number) - return the exact value' aggregating=False defaultBuiltInRoles=['admin', 'reader', 'editor', 'publisher', 'architect']>,\n",
              " <Record name='apoc.number.exact.toFloat' signature='apoc.number.exact.toFloat(stringA :: STRING?, precision = 0 :: INTEGER?, roundingMode = HALF_UP :: STRING?) :: (FLOAT?)' category='' description='apoc.number.exact.toFloat(string,[prec],[roundingMode]) - return the Float value of a large number' aggregating=False defaultBuiltInRoles=['admin', 'reader', 'editor', 'publisher', 'architect']>,\n",
              " <Record name='apoc.number.exact.toInteger' signature='apoc.number.exact.toInteger(stringA :: STRING?, precision = 0 :: INTEGER?, roundingMode = HALF_UP :: STRING?) :: (INTEGER?)' category='' description='apoc.number.exact.toInteger(string,[prec],[roundingMode]) - return the Integer value of a large number' aggregating=False defaultBuiltInRoles=['admin', 'reader', 'editor', 'publisher', 'architect']>,\n",
              " <Record name='apoc.number.format' signature='apoc.number.format(number :: ANY?, pattern =  :: STRING?, lang =  :: STRING?) :: (STRING?)' category='' description='apoc.number.format(number)  | format a long or double using the default system pattern and language to produce a string' aggregating=False defaultBuiltInRoles=['admin', 'reader', 'editor', 'publisher', 'architect']>,\n",
              " <Record name='apoc.number.parseFloat' signature='apoc.number.parseFloat(text :: STRING?, pattern =  :: STRING?, lang =  :: STRING?) :: (FLOAT?)' category='' description='apoc.number.parseFloat(text)  | parse a text using the default system pattern and language to produce a double' aggregating=False defaultBuiltInRoles=['admin', 'reader', 'editor', 'publisher', 'architect']>,\n",
              " <Record name='apoc.number.parseInt' signature='apoc.number.parseInt(text :: STRING?, pattern =  :: STRING?, lang =  :: STRING?) :: (INTEGER?)' category='' description='apoc.number.parseInt(text)  | parse a text using the default system pattern and language to produce a long' aggregating=False defaultBuiltInRoles=['admin', 'reader', 'editor', 'publisher', 'architect']>,\n",
              " <Record name='apoc.number.romanToArabic' signature='apoc.number.romanToArabic(romanNumber :: STRING?) :: (NUMBER?)' category='' description='apoc.number.romanToArabic(romanNumber)  | convert roman numbers to arabic' aggregating=False defaultBuiltInRoles=['admin', 'reader', 'editor', 'publisher', 'architect']>,\n",
              " <Record name='apoc.path.combine' signature='apoc.path.combine(first :: PATH?, second :: PATH?) :: (PATH?)' category='' description='apoc.path.combine(path1, path2) - combines the paths into one if the connecting node matches' aggregating=False defaultBuiltInRoles=['admin', 'reader', 'editor', 'publisher', 'architect']>,\n",
              " <Record name='apoc.path.create' signature='apoc.path.create(startNode :: NODE?, rels = [] :: LIST? OF RELATIONSHIP?) :: (PATH?)' category='' description='apoc.path.create(startNode,[rels]) - creates a path instance of the given elements' aggregating=False defaultBuiltInRoles=['admin', 'reader', 'editor', 'publisher', 'architect']>,\n",
              " <Record name='apoc.path.elements' signature='apoc.path.elements(path :: PATH?) :: (LIST? OF ANY?)' category='' description='apoc.path.elements(path) - returns a list of node-relationship-node-...' aggregating=False defaultBuiltInRoles=['admin', 'reader', 'editor', 'publisher', 'architect']>,\n",
              " <Record name='apoc.path.slice' signature='apoc.path.slice(path :: PATH?, offset = 0 :: INTEGER?, length = -1 :: INTEGER?) :: (PATH?)' category='' description='apoc.path.slice(path, [offset], [length]) - creates a sub-path with the given offset and length' aggregating=False defaultBuiltInRoles=['admin', 'reader', 'editor', 'publisher', 'architect']>,\n",
              " <Record name='apoc.rel.endNode' signature='apoc.rel.endNode(rel :: RELATIONSHIP?) :: (NODE?)' category='' description='returns endNode for (virtual) relationships' aggregating=False defaultBuiltInRoles=['admin', 'reader', 'editor', 'publisher', 'architect']>,\n",
              " <Record name='apoc.rel.id' signature='apoc.rel.id(rel :: RELATIONSHIP?) :: (INTEGER?)' category='' description='returns id for (virtual) relationships' aggregating=False defaultBuiltInRoles=['admin', 'reader', 'editor', 'publisher', 'architect']>,\n",
              " <Record name='apoc.rel.startNode' signature='apoc.rel.startNode(rel :: RELATIONSHIP?) :: (NODE?)' category='' description='returns startNode for (virtual) relationships' aggregating=False defaultBuiltInRoles=['admin', 'reader', 'editor', 'publisher', 'architect']>,\n",
              " <Record name='apoc.rel.type' signature='apoc.rel.type(rel :: RELATIONSHIP?) :: (STRING?)' category='' description='returns type for (virtual) relationships' aggregating=False defaultBuiltInRoles=['admin', 'reader', 'editor', 'publisher', 'architect']>,\n",
              " <Record name='apoc.schema.node.constraintExists' signature='apoc.schema.node.constraintExists(labelName :: STRING?, propertyName :: LIST? OF STRING?) :: (BOOLEAN?)' category='' description='RETURN apoc.schema.node.constraintExists(labelName, propertyNames)' aggregating=False defaultBuiltInRoles=['admin', 'reader', 'editor', 'publisher', 'architect']>,\n",
              " <Record name='apoc.schema.node.indexExists' signature='apoc.schema.node.indexExists(labelName :: STRING?, propertyName :: LIST? OF STRING?) :: (BOOLEAN?)' category='' description='RETURN apoc.schema.node.indexExists(labelName, propertyNames)' aggregating=False defaultBuiltInRoles=['admin', 'reader', 'editor', 'publisher', 'architect']>,\n",
              " <Record name='apoc.schema.relationship.constraintExists' signature='apoc.schema.relationship.constraintExists(type :: STRING?, propertyName :: LIST? OF STRING?) :: (BOOLEAN?)' category='' description='RETURN apoc.schema.relationship.constraintExists(type, propertyNames)' aggregating=False defaultBuiltInRoles=['admin', 'reader', 'editor', 'publisher', 'architect']>,\n",
              " <Record name='apoc.scoring.existence' signature='apoc.scoring.existence(score :: INTEGER?, exists :: BOOLEAN?) :: (FLOAT?)' category='' description='apoc.scoring.existence(5, true) returns the provided score if true, 0 if false' aggregating=False defaultBuiltInRoles=['admin', 'reader', 'editor', 'publisher', 'architect']>,\n",
              " <Record name='apoc.scoring.pareto' signature='apoc.scoring.pareto(minimumThreshold :: INTEGER?, eightyPercentValue :: INTEGER?, maximumValue :: INTEGER?, score :: INTEGER?) :: (FLOAT?)' category='' description='apoc.scoring.pareto(10, 20, 100, 11) applies a Pareto scoring function over the inputs' aggregating=False defaultBuiltInRoles=['admin', 'reader', 'editor', 'publisher', 'architect']>,\n",
              " <Record name='apoc.static.get' signature='apoc.static.get(key :: STRING?) :: (ANY?)' category='' description='apoc.static.get(name) - returns statically stored value from config (apoc.static.<key>) or server lifetime storage' aggregating=False defaultBuiltInRoles=['admin', 'reader', 'editor', 'publisher', 'architect']>,\n",
              " <Record name='apoc.static.getAll' signature='apoc.static.getAll(prefix :: STRING?) :: (MAP?)' category='' description='apoc.static.getAll(prefix) - returns statically stored values from config (apoc.static.<prefix>.*) or server lifetime storage' aggregating=False defaultBuiltInRoles=['admin', 'reader', 'editor', 'publisher', 'architect']>,\n",
              " <Record name='apoc.temporal.format' signature='apoc.temporal.format(temporal :: ANY?, format = yyyy-MM-dd :: STRING?) :: (STRING?)' category='' description='apoc.temporal.format(input, format) | Format a temporal value' aggregating=False defaultBuiltInRoles=['admin', 'reader', 'editor', 'publisher', 'architect']>,\n",
              " <Record name='apoc.temporal.formatDuration' signature='apoc.temporal.formatDuration(input :: ANY?, format :: STRING?) :: (STRING?)' category='' description='apoc.temporal.formatDuration(input, format) | Format a Duration' aggregating=False defaultBuiltInRoles=['admin', 'reader', 'editor', 'publisher', 'architect']>,\n",
              " <Record name='apoc.temporal.toZonedTemporal' signature='apoc.temporal.toZonedTemporal(time :: STRING?, format = yyyy-MM-dd HH:mm:ss :: STRING?, timezone = UTC :: STRING?) :: (DATETIME?)' category='' description=\"apoc.temporal.toZonedTemporal('2012-12-23 23:59:59','yyyy-MM-dd HH:mm:ss', 'UTC-hour-offset') parse date string using the specified format to specified timezone\" aggregating=False defaultBuiltInRoles=['admin', 'reader', 'editor', 'publisher', 'architect']>,\n",
              " <Record name='apoc.text.base64Decode' signature='apoc.text.base64Decode(text :: STRING?) :: (STRING?)' category='' description='apoc.text.base64Decode(text) YIELD value - Decode Base64 encoded string' aggregating=False defaultBuiltInRoles=['admin', 'reader', 'editor', 'publisher', 'architect']>,\n",
              " <Record name='apoc.text.base64Encode' signature='apoc.text.base64Encode(text :: STRING?) :: (STRING?)' category='' description='apoc.text.base64Encode(text) YIELD value - Encode a string with Base64' aggregating=False defaultBuiltInRoles=['admin', 'reader', 'editor', 'publisher', 'architect']>,\n",
              " <Record name='apoc.text.base64UrlDecode' signature='apoc.text.base64UrlDecode(url :: STRING?) :: (STRING?)' category='' description='apoc.text.base64UrlDecode(url) YIELD value - Decode Base64 encoded url' aggregating=False defaultBuiltInRoles=['admin', 'reader', 'editor', 'publisher', 'architect']>,\n",
              " <Record name='apoc.text.base64UrlEncode' signature='apoc.text.base64UrlEncode(url :: STRING?) :: (STRING?)' category='' description='apoc.text.base64UrlEncode(text) YIELD value - Encode a url with Base64' aggregating=False defaultBuiltInRoles=['admin', 'reader', 'editor', 'publisher', 'architect']>,\n",
              " <Record name='apoc.text.byteCount' signature='apoc.text.byteCount(text :: STRING?, charset = UTF-8 :: STRING?) :: (INTEGER?)' category='' description='apoc.text.byteCount(text,[charset]) - return size of text in bytes' aggregating=False defaultBuiltInRoles=['admin', 'reader', 'editor', 'publisher', 'architect']>,\n",
              " <Record name='apoc.text.bytes' signature='apoc.text.bytes(text :: STRING?, charset = UTF-8 :: STRING?) :: (LIST? OF ANY?)' category='' description='apoc.text.bytes(text,[charset]) - return bytes of the text' aggregating=False defaultBuiltInRoles=['admin', 'reader', 'editor', 'publisher', 'architect']>,\n",
              " <Record name='apoc.text.camelCase' signature='apoc.text.camelCase(text :: STRING?) :: (STRING?)' category='' description='apoc.text.camelCase(text) YIELD value - Convert a string to camelCase' aggregating=False defaultBuiltInRoles=['admin', 'reader', 'editor', 'publisher', 'architect']>,\n",
              " <Record name='apoc.text.capitalize' signature='apoc.text.capitalize(text :: STRING?) :: (STRING?)' category='' description='apoc.text.capitalize(text) YIELD value - capitalise the first letter of the word' aggregating=False defaultBuiltInRoles=['admin', 'reader', 'editor', 'publisher', 'architect']>,\n",
              " <Record name='apoc.text.capitalizeAll' signature='apoc.text.capitalizeAll(text :: STRING?) :: (STRING?)' category='' description='apoc.text.capitalizeAll(text) YIELD value - capitalise the first letter of every word in the text' aggregating=False defaultBuiltInRoles=['admin', 'reader', 'editor', 'publisher', 'architect']>,\n",
              " <Record name='apoc.text.charAt' signature='apoc.text.charAt(text :: STRING?, index :: INTEGER?) :: (INTEGER?)' category='' description='apoc.text.charAt(text, index) - the decimal value of the character at the given index' aggregating=False defaultBuiltInRoles=['admin', 'reader', 'editor', 'publisher', 'architect']>,\n",
              " <Record name='apoc.text.clean' signature='apoc.text.clean(text :: STRING?) :: (STRING?)' category='' description='apoc.text.clean(text) - strip the given string of everything except alpha numeric characters and convert it to lower case.' aggregating=False defaultBuiltInRoles=['admin', 'reader', 'editor', 'publisher', 'architect']>,\n",
              " <Record name='apoc.text.code' signature='apoc.text.code(codepoint :: INTEGER?) :: (STRING?)' category='' description='apoc.text.code(codepoint) - Returns the unicode character of the given codepoint' aggregating=False defaultBuiltInRoles=['admin', 'reader', 'editor', 'publisher', 'architect']>,\n",
              " <Record name='apoc.text.compareCleaned' signature='apoc.text.compareCleaned(text1 :: STRING?, text2 :: STRING?) :: (BOOLEAN?)' category='' description='apoc.text.compareCleaned(text1, text2) - compare the given strings stripped of everything except alpha numeric characters converted to lower case.' aggregating=False defaultBuiltInRoles=['admin', 'reader', 'editor', 'publisher', 'architect']>,\n",
              " <Record name='apoc.text.decapitalize' signature='apoc.text.decapitalize(text :: STRING?) :: (STRING?)' category='' description='apoc.text.decapitalize(text) YIELD value - decapitalize the first letter of the word' aggregating=False defaultBuiltInRoles=['admin', 'reader', 'editor', 'publisher', 'architect']>,\n",
              " <Record name='apoc.text.decapitalizeAll' signature='apoc.text.decapitalizeAll(text :: STRING?) :: (STRING?)' category='' description='apoc.text.decapitalizeAll(text) YIELD value - decapitalize the first letter of all words' aggregating=False defaultBuiltInRoles=['admin', 'reader', 'editor', 'publisher', 'architect']>,\n",
              " <Record name='apoc.text.distance' signature='apoc.text.distance(text1 :: STRING?, text2 :: STRING?) :: (INTEGER?)' category='' description='apoc.text.distance(text1, text2) - compare the given strings with the Levenshtein distance algorithm.' aggregating=False defaultBuiltInRoles=['admin', 'reader', 'editor', 'publisher', 'architect']>,\n",
              " <Record name='apoc.text.doubleMetaphone' signature='apoc.text.doubleMetaphone(value :: STRING?) :: (STRING?)' category='' description='apoc.text.doubleMetaphone(value) yield value - Compute the Double Metaphone phonetic encoding of all words of the text value' aggregating=False defaultBuiltInRoles=['admin', 'reader', 'editor', 'publisher', 'architect']>,\n",
              " <Record name='apoc.text.format' signature='apoc.text.format(text :: STRING?, params :: LIST? OF ANY?, language = en :: STRING?) :: (STRING?)' category='' description='apoc.text.format(text,[params],language) - sprintf format the string with the params given' aggregating=False defaultBuiltInRoles=['admin', 'reader', 'editor', 'publisher', 'architect']>,\n",
              " <Record name='apoc.text.fuzzyMatch' signature='apoc.text.fuzzyMatch(text1 :: STRING?, text2 :: STRING?) :: (BOOLEAN?)' category='' description='apoc.text.fuzzyMatch(text1, text2) - check if 2 words can be matched in a fuzzy way. Depending on the length of the String it will allow more characters that needs to be edited to match the second String.' aggregating=False defaultBuiltInRoles=['admin', 'reader', 'editor', 'publisher', 'architect']>,\n",
              " <Record name='apoc.text.hammingDistance' signature='apoc.text.hammingDistance(text1 :: STRING?, text2 :: STRING?) :: (INTEGER?)' category='' description='apoc.text.hammingDistance(text1, text2) - compare the given strings with the Hamming distance algorithm.' aggregating=False defaultBuiltInRoles=['admin', 'reader', 'editor', 'publisher', 'architect']>,\n",
              " <Record name='apoc.text.hexCharAt' signature='apoc.text.hexCharAt(text :: STRING?, index :: INTEGER?) :: (STRING?)' category='' description='apoc.text.hexCharAt(text, index) - the hex value string of the character at the given index' aggregating=False defaultBuiltInRoles=['admin', 'reader', 'editor', 'publisher', 'architect']>,\n",
              " <Record name='apoc.text.hexValue' signature='apoc.text.hexValue(value :: INTEGER?) :: (STRING?)' category='' description='apoc.text.hexValue(value) - the hex value string of the given number' aggregating=False defaultBuiltInRoles=['admin', 'reader', 'editor', 'publisher', 'architect']>,\n",
              " <Record name='apoc.text.indexOf' signature='apoc.text.indexOf(text :: STRING?, lookup :: STRING?, from = 0 :: INTEGER?, to = -1 :: INTEGER?) :: (INTEGER?)' category='' description='apoc.text.indexOf(text, lookup, from=0, to=-1==len) - find the first occurence of the lookup string in the text, from inclusive, to exclusive, -1 if not found, null if text is null.' aggregating=False defaultBuiltInRoles=['admin', 'reader', 'editor', 'publisher', 'architect']>,\n",
              " <Record name='apoc.text.indexesOf' signature='apoc.text.indexesOf(text :: STRING?, lookup :: STRING?, from = 0 :: INTEGER?, to = -1 :: INTEGER?) :: (LIST? OF ANY?)' category='' description='apoc.text.indexesOf(text, lookup, from=0, to=-1==len) - finds all occurences of the lookup string in the text, return list, from inclusive, to exclusive, empty list if not found, null if text is null.' aggregating=False defaultBuiltInRoles=['admin', 'reader', 'editor', 'publisher', 'architect']>,\n",
              " <Record name='apoc.text.jaroWinklerDistance' signature='apoc.text.jaroWinklerDistance(text1 :: STRING?, text2 :: STRING?) :: (FLOAT?)' category='' description='apoc.text.jaroWinklerDistance(text1, text2) - compare the given strings with the Jaro-Winkler distance algorithm.' aggregating=False defaultBuiltInRoles=['admin', 'reader', 'editor', 'publisher', 'architect']>,\n",
              " <Record name='apoc.text.join' signature='apoc.text.join(texts :: LIST? OF STRING?, delimiter :: STRING?) :: (STRING?)' category='' description=\"apoc.text.join(['text1','text2',...], delimiter) - join the given strings with the given delimiter.\" aggregating=False defaultBuiltInRoles=['admin', 'reader', 'editor', 'publisher', 'architect']>,\n",
              " <Record name='apoc.text.levenshteinDistance' signature='apoc.text.levenshteinDistance(text1 :: STRING?, text2 :: STRING?) :: (INTEGER?)' category='' description='apoc.text.levenshteinDistance(text1, text2) - compare the given strings with the Levenshtein distance algorithm.' aggregating=False defaultBuiltInRoles=['admin', 'reader', 'editor', 'publisher', 'architect']>,\n",
              " <Record name='apoc.text.levenshteinSimilarity' signature='apoc.text.levenshteinSimilarity(text1 :: STRING?, text2 :: STRING?) :: (FLOAT?)' category='' description='apoc.text.levenshteinSimilarity(text1, text2) - calculate the similarity (a value within 0 and 1) between two texts.' aggregating=False defaultBuiltInRoles=['admin', 'reader', 'editor', 'publisher', 'architect']>,\n",
              " <Record name='apoc.text.lpad' signature='apoc.text.lpad(text :: STRING?, count :: INTEGER?, delim =   :: STRING?) :: (STRING?)' category='' description='apoc.text.lpad(text,count,delim) YIELD value - left pad the string to the given width' aggregating=False defaultBuiltInRoles=['admin', 'reader', 'editor', 'publisher', 'architect']>,\n",
              " <Record name='apoc.text.phonetic' signature='apoc.text.phonetic(value :: STRING?) :: (STRING?)' category='' description='apoc.text.phonetic(text) yield value - Compute the US_ENGLISH phonetic soundex encoding of all words of the text' aggregating=False defaultBuiltInRoles=['admin', 'reader', 'editor', 'publisher', 'architect']>,\n",
              " <Record name='apoc.text.random' signature='apoc.text.random(length :: INTEGER?, valid = A-Za-z0-9 :: STRING?) :: (STRING?)' category='' description='apoc.text.random(length, valid) YIELD value - generate a random string' aggregating=False defaultBuiltInRoles=['admin', 'reader', 'editor', 'publisher', 'architect']>,\n",
              " <Record name='apoc.text.regexGroups' signature='apoc.text.regexGroups(text :: STRING?, regex :: STRING?) :: (LIST? OF ANY?)' category='' description='apoc.text.regexGroups(text, regex) - return all matching groups of the regex on the given text.' aggregating=False defaultBuiltInRoles=['admin', 'reader', 'editor', 'publisher', 'architect']>,\n",
              " <Record name='apoc.text.regreplace' signature='apoc.text.regreplace(text :: STRING?, regex :: STRING?, replacement :: STRING?) :: (STRING?)' category='' description='apoc.text.regreplace(text, regex, replacement) - replace each substring of the given string that matches the given regular expression with the given replacement.' aggregating=False defaultBuiltInRoles=['admin', 'reader', 'editor', 'publisher', 'architect']>,\n",
              " <Record name='apoc.text.repeat' signature='apoc.text.repeat(item :: STRING?, count :: INTEGER?) :: (STRING?)' category='' description='apoc.text.repeat(item, count) - string multiplication' aggregating=False defaultBuiltInRoles=['admin', 'reader', 'editor', 'publisher', 'architect']>,\n",
              " <Record name='apoc.text.replace' signature='apoc.text.replace(text :: STRING?, regex :: STRING?, replacement :: STRING?) :: (STRING?)' category='' description='apoc.text.replace(text, regex, replacement) - replace each substring of the given string that matches the given regular expression with the given replacement.' aggregating=False defaultBuiltInRoles=['admin', 'reader', 'editor', 'publisher', 'architect']>,\n",
              " <Record name='apoc.text.rpad' signature='apoc.text.rpad(text :: STRING?, count :: INTEGER?, delim =   :: STRING?) :: (STRING?)' category='' description='apoc.text.rpad(text,count,delim) YIELD value - right pad the string to the given width' aggregating=False defaultBuiltInRoles=['admin', 'reader', 'editor', 'publisher', 'architect']>,\n",
              " <Record name='apoc.text.slug' signature='apoc.text.slug(text :: STRING?, delim = - :: STRING?) :: (STRING?)' category='' description='apoc.text.slug(text, delim) - slug the text with the given delimiter' aggregating=False defaultBuiltInRoles=['admin', 'reader', 'editor', 'publisher', 'architect']>,\n",
              " <Record name='apoc.text.snakeCase' signature='apoc.text.snakeCase(text :: STRING?) :: (STRING?)' category='' description='apoc.text.snakeCase(text) YIELD value - Convert a string to snake-case' aggregating=False defaultBuiltInRoles=['admin', 'reader', 'editor', 'publisher', 'architect']>,\n",
              " <Record name='apoc.text.sorensenDiceSimilarity' signature='apoc.text.sorensenDiceSimilarity(text1 :: STRING?, text2 :: STRING?, languageTag = en :: STRING?) :: (FLOAT?)' category='' description='apoc.text.sorensenDiceSimilarityWithLanguage(text1, text2, languageTag) - compare the given strings with the Sørensen–Dice coefficient formula, with the provided IETF language tag' aggregating=False defaultBuiltInRoles=['admin', 'reader', 'editor', 'publisher', 'architect']>,\n",
              " <Record name='apoc.text.split' signature='apoc.text.split(text :: STRING?, regex :: STRING?, limit = 0 :: INTEGER?) :: (LIST? OF ANY?)' category='' description='apoc.text.split(text, regex, limit) - splits the given text around matches of the given regex.' aggregating=False defaultBuiltInRoles=['admin', 'reader', 'editor', 'publisher', 'architect']>,\n",
              " <Record name='apoc.text.swapCase' signature='apoc.text.swapCase(text :: STRING?) :: (STRING?)' category='' description='apoc.text.swapCase(text) YIELD value - Swap the case of a string' aggregating=False defaultBuiltInRoles=['admin', 'reader', 'editor', 'publisher', 'architect']>,\n",
              " <Record name='apoc.text.toCypher' signature='apoc.text.toCypher(value :: ANY?, config = {} :: MAP?) :: (STRING?)' category='' description=\"apoc.text.toCypher(value, {skipKeys,keepKeys,skipValues,keepValues,skipNull,node,relationship,start,end}) | tries it's best to convert the value to a cypher-property-string\" aggregating=False defaultBuiltInRoles=['admin', 'reader', 'editor', 'publisher', 'architect']>,\n",
              " <Record name='apoc.text.toUpperCase' signature='apoc.text.toUpperCase(text :: STRING?) :: (STRING?)' category='' description='apoc.text.toUpperCase(text) YIELD value - Convert a string to UPPER_CASE' aggregating=False defaultBuiltInRoles=['admin', 'reader', 'editor', 'publisher', 'architect']>,\n",
              " <Record name='apoc.text.upperCamelCase' signature='apoc.text.upperCamelCase(text :: STRING?) :: (STRING?)' category='' description='apoc.text.upperCamelCase(text) YIELD value - Convert a string to camelCase' aggregating=False defaultBuiltInRoles=['admin', 'reader', 'editor', 'publisher', 'architect']>,\n",
              " <Record name='apoc.text.urldecode' signature='apoc.text.urldecode(text :: STRING?) :: (STRING?)' category='' description='apoc.text.urldecode(text) - return the urldecoded text' aggregating=False defaultBuiltInRoles=['admin', 'reader', 'editor', 'publisher', 'architect']>,\n",
              " <Record name='apoc.text.urlencode' signature='apoc.text.urlencode(text :: STRING?) :: (STRING?)' category='' description='apoc.text.urlencode(text) - return the urlencoded text' aggregating=False defaultBuiltInRoles=['admin', 'reader', 'editor', 'publisher', 'architect']>,\n",
              " <Record name='apoc.trigger.nodesByLabel' signature='apoc.trigger.nodesByLabel(labelEntries :: ANY?, label :: STRING?) :: (LIST? OF ANY?)' category='' description='' aggregating=False defaultBuiltInRoles=['admin', 'reader', 'editor', 'publisher', 'architect']>,\n",
              " <Record name='apoc.trigger.propertiesByKey' signature='apoc.trigger.propertiesByKey(propertyEntries :: MAP?, key :: STRING?) :: (LIST? OF ANY?)' category='' description='' aggregating=False defaultBuiltInRoles=['admin', 'reader', 'editor', 'publisher', 'architect']>,\n",
              " <Record name='apoc.ttl.config' signature='apoc.ttl.config() :: (MAP?)' category='' description='' aggregating=False defaultBuiltInRoles=['admin', 'reader', 'editor', 'publisher', 'architect']>,\n",
              " <Record name='apoc.util.compress' signature='apoc.util.compress(data :: STRING?, config = {} :: MAP?) :: (BYTEARRAY?)' category='' description='apoc.util.compress(string, {config}) | return a compressed byte[] in various format from a string' aggregating=False defaultBuiltInRoles=['admin', 'reader', 'editor', 'publisher', 'architect']>,\n",
              " <Record name='apoc.util.decompress' signature='apoc.util.decompress(data :: BYTEARRAY?, config = {} :: MAP?) :: (STRING?)' category='' description='apoc.util.decompress(compressed, {config}) | return a string from a compressed byte[] in various format' aggregating=False defaultBuiltInRoles=['admin', 'reader', 'editor', 'publisher', 'architect']>,\n",
              " <Record name='apoc.util.md5' signature='apoc.util.md5(values :: LIST? OF ANY?) :: (STRING?)' category='' description='apoc.util.md5([values]) | computes the md5 of the concatenation of all string values of the list' aggregating=False defaultBuiltInRoles=['admin', 'reader', 'editor', 'publisher', 'architect']>,\n",
              " <Record name='apoc.util.sha1' signature='apoc.util.sha1(values :: LIST? OF ANY?) :: (STRING?)' category='' description='apoc.util.sha1([values]) | computes the sha1 of the concatenation of all string values of the list' aggregating=False defaultBuiltInRoles=['admin', 'reader', 'editor', 'publisher', 'architect']>,\n",
              " <Record name='apoc.util.sha256' signature='apoc.util.sha256(values :: LIST? OF ANY?) :: (STRING?)' category='' description='apoc.util.sha256([values]) | computes the sha256 of the concatenation of all string values of the list' aggregating=False defaultBuiltInRoles=['admin', 'reader', 'editor', 'publisher', 'architect']>,\n",
              " <Record name='apoc.util.sha384' signature='apoc.util.sha384(values :: LIST? OF ANY?) :: (STRING?)' category='' description='apoc.util.sha384([values]) | computes the sha384 of the concatenation of all string values of the list' aggregating=False defaultBuiltInRoles=['admin', 'reader', 'editor', 'publisher', 'architect']>,\n",
              " <Record name='apoc.util.sha512' signature='apoc.util.sha512(values :: LIST? OF ANY?) :: (STRING?)' category='' description='apoc.util.sha512([values]) | computes the sha512 of the concatenation of all string values of the list' aggregating=False defaultBuiltInRoles=['admin', 'reader', 'editor', 'publisher', 'architect']>,\n",
              " <Record name='apoc.util.validatePredicate' signature='apoc.util.validatePredicate(predicate :: BOOLEAN?, message :: STRING?, params :: LIST? OF ANY?) :: (BOOLEAN?)' category='' description='apoc.util.validatePredicate(predicate, message, params) | if the predicate yields to true raise an exception else returns true, for use inside WHERE subclauses' aggregating=False defaultBuiltInRoles=['admin', 'reader', 'editor', 'publisher', 'architect']>,\n",
              " <Record name='apoc.version' signature='apoc.version() :: (STRING?)' category='' description='RETURN apoc.version() | return the current APOC installed version' aggregating=False defaultBuiltInRoles=['admin', 'reader', 'editor', 'publisher', 'architect']>,\n",
              " <Record name='apoc.xml.parse' signature='apoc.xml.parse(data :: STRING?, path = / :: STRING?, config = {} :: MAP?, simple = false :: BOOLEAN?) :: (MAP?)' category='' description='RETURN apoc.xml.parse(<xml string>, <xPath string>, config, false) AS value' aggregating=False defaultBuiltInRoles=['admin', 'reader', 'editor', 'publisher', 'architect']>,\n",
              " <Record name='asin' signature='asin(input :: FLOAT?) :: (FLOAT?)' category='Trigonometric' description='Returns the arcsine of a number in radians.' aggregating=False defaultBuiltInRoles=['admin', 'reader', 'editor', 'publisher', 'architect']>,\n",
              " <Record name='atan' signature='atan(input :: FLOAT?) :: (FLOAT?)' category='Trigonometric' description='Returns the arctangent of a number in radians.' aggregating=False defaultBuiltInRoles=['admin', 'reader', 'editor', 'publisher', 'architect']>,\n",
              " <Record name='atan2' signature='atan2(y :: FLOAT?, x :: FLOAT?) :: (FLOAT?)' category='Trigonometric' description='Returns the arctangent2 of a set of coordinates in radians.' aggregating=False defaultBuiltInRoles=['admin', 'reader', 'editor', 'publisher', 'architect']>,\n",
              " <Record name='avg' signature='avg(input :: INTEGER?) :: (INTEGER?)' category='Aggregating' description='Returns the average of a set of integer values.' aggregating=True defaultBuiltInRoles=['admin', 'reader', 'editor', 'publisher', 'architect']>,\n",
              " <Record name='avg' signature='avg(input :: FLOAT?) :: (FLOAT?)' category='Aggregating' description='Returns the average of a set of floating point values.' aggregating=True defaultBuiltInRoles=['admin', 'reader', 'editor', 'publisher', 'architect']>,\n",
              " <Record name='avg' signature='avg(input :: DURATION?) :: (DURATION?)' category='Aggregating' description='Returns the average of a set of duration values.' aggregating=True defaultBuiltInRoles=['admin', 'reader', 'editor', 'publisher', 'architect']>,\n",
              " <Record name='ceil' signature='ceil(input :: FLOAT?) :: (FLOAT?)' category='Numeric' description='Returns the smallest floating point number that is greater than or equal to a number and equal to a mathematical integer.' aggregating=False defaultBuiltInRoles=['admin', 'reader', 'editor', 'publisher', 'architect']>,\n",
              " <Record name='coalesce' signature='coalesce(input :: ANY?) :: (ANY?)' category='Scalar' description='Returns the first non-null value in a list of expressions.' aggregating=False defaultBuiltInRoles=['admin', 'reader', 'editor', 'publisher', 'architect']>,\n",
              " <Record name='collect' signature='collect(input :: ANY?) :: (LIST? OF ANY?)' category='Aggregating' description='Returns a list containing the values returned by an expression.' aggregating=True defaultBuiltInRoles=['admin', 'reader', 'editor', 'publisher', 'architect']>,\n",
              " <Record name='cos' signature='cos(input :: FLOAT?) :: (FLOAT?)' category='Trigonometric' description='Returns the cosine  of a number.' aggregating=False defaultBuiltInRoles=['admin', 'reader', 'editor', 'publisher', 'architect']>,\n",
              " <Record name='cot' signature='cot(input :: FLOAT?) :: (FLOAT?)' category='Trigonometric' description='Returns the cotangent of a number.' aggregating=False defaultBuiltInRoles=['admin', 'reader', 'editor', 'publisher', 'architect']>,\n",
              " <Record name='count' signature='count(input :: ANY?) :: (INTEGER?)' category='Aggregating' description='Returns the number of values or rows.' aggregating=True defaultBuiltInRoles=['admin', 'reader', 'editor', 'publisher', 'architect']>,\n",
              " <Record name='date' signature='date(input = DEFAULT_TEMPORAL_ARGUMENT :: ANY?) :: (DATE?)' category='Temporal' description='Create a Date instant.' aggregating=False defaultBuiltInRoles=['admin', 'reader', 'editor', 'publisher', 'architect']>,\n",
              " <Record name='date.realtime' signature='date.realtime(timezone = DEFAULT_TEMPORAL_ARGUMENT :: ANY?) :: (DATE?)' category='Temporal' description='Get the current Date instant using the realtime clock.' aggregating=False defaultBuiltInRoles=['admin', 'reader', 'editor', 'publisher', 'architect']>,\n",
              " <Record name='date.statement' signature='date.statement(timezone = DEFAULT_TEMPORAL_ARGUMENT :: ANY?) :: (DATE?)' category='Temporal' description='Get the current Date instant using the statement clock.' aggregating=False defaultBuiltInRoles=['admin', 'reader', 'editor', 'publisher', 'architect']>,\n",
              " <Record name='date.transaction' signature='date.transaction(timezone = DEFAULT_TEMPORAL_ARGUMENT :: ANY?) :: (DATE?)' category='Temporal' description='Get the current Date instant using the transaction clock.' aggregating=False defaultBuiltInRoles=['admin', 'reader', 'editor', 'publisher', 'architect']>,\n",
              " <Record name='date.truncate' signature='date.truncate(unit :: STRING?, input = DEFAULT_TEMPORAL_ARGUMENT :: ANY?, fields = null :: MAP?) :: (DATE?)' category='Temporal' description='Truncate the input temporal value to a Date instant using the specified unit.' aggregating=False defaultBuiltInRoles=['admin', 'reader', 'editor', 'publisher', 'architect']>,\n",
              " <Record name='datetime' signature='datetime(input = DEFAULT_TEMPORAL_ARGUMENT :: ANY?) :: (DATETIME?)' category='Temporal' description='Create a DateTime instant.' aggregating=False defaultBuiltInRoles=['admin', 'reader', 'editor', 'publisher', 'architect']>,\n",
              " <Record name='datetime.fromepoch' signature='datetime.fromepoch(seconds :: NUMBER?, nanoseconds :: NUMBER?) :: (DATETIME?)' category='Temporal' description='Create a DateTime given the seconds and nanoseconds since the start of the epoch.' aggregating=False defaultBuiltInRoles=['admin', 'reader', 'editor', 'publisher', 'architect']>,\n",
              " <Record name='datetime.fromepochmillis' signature='datetime.fromepochmillis(milliseconds :: NUMBER?) :: (DATETIME?)' category='Temporal' description='Create a DateTime given the milliseconds since the start of the epoch.' aggregating=False defaultBuiltInRoles=['admin', 'reader', 'editor', 'publisher', 'architect']>,\n",
              " <Record name='datetime.realtime' signature='datetime.realtime(timezone = DEFAULT_TEMPORAL_ARGUMENT :: ANY?) :: (DATETIME?)' category='Temporal' description='Get the current DateTime instant using the realtime clock.' aggregating=False defaultBuiltInRoles=['admin', 'reader', 'editor', 'publisher', 'architect']>,\n",
              " <Record name='datetime.statement' signature='datetime.statement(timezone = DEFAULT_TEMPORAL_ARGUMENT :: ANY?) :: (DATETIME?)' category='Temporal' description='Get the current DateTime instant using the statement clock.' aggregating=False defaultBuiltInRoles=['admin', 'reader', 'editor', 'publisher', 'architect']>,\n",
              " <Record name='datetime.transaction' signature='datetime.transaction(timezone = DEFAULT_TEMPORAL_ARGUMENT :: ANY?) :: (DATETIME?)' category='Temporal' description='Get the current DateTime instant using the transaction clock.' aggregating=False defaultBuiltInRoles=['admin', 'reader', 'editor', 'publisher', 'architect']>,\n",
              " <Record name='datetime.truncate' signature='datetime.truncate(unit :: STRING?, input = DEFAULT_TEMPORAL_ARGUMENT :: ANY?, fields = null :: MAP?) :: (DATETIME?)' category='Temporal' description='Truncate the input temporal value to a DateTime instant using the specified unit.' aggregating=False defaultBuiltInRoles=['admin', 'reader', 'editor', 'publisher', 'architect']>,\n",
              " <Record name='degrees' signature='degrees(input :: FLOAT?) :: (FLOAT?)' category='Trigonometric' description='Converts radians to degrees.' aggregating=False defaultBuiltInRoles=['admin', 'reader', 'editor', 'publisher', 'architect']>,\n",
              " <Record name='distance' signature='distance(from :: POINT?, to :: POINT?) :: (FLOAT?)' category='Spatial' description='Returns a floating point number representing the geodesic distance between any two points in the same CRS.' aggregating=False defaultBuiltInRoles=['admin', 'reader', 'editor', 'publisher', 'architect']>,\n",
              " <Record name='duration' signature='duration(input :: ANY?) :: (DURATION?)' category='Temporal' description='Construct a Duration value.' aggregating=False defaultBuiltInRoles=['admin', 'reader', 'editor', 'publisher', 'architect']>,\n",
              " <Record name='duration.between' signature='duration.between(from :: ANY?, to :: ANY?) :: (DURATION?)' category='Temporal' description=\"Compute the duration between the 'from' instant (inclusive) and the 'to' instant (exclusive) in logical units.\" aggregating=False defaultBuiltInRoles=['admin', 'reader', 'editor', 'publisher', 'architect']>,\n",
              " <Record name='duration.inDays' signature='duration.inDays(from :: ANY?, to :: ANY?) :: (DURATION?)' category='Temporal' description=\"Compute the duration between the 'from' instant (inclusive) and the 'to' instant (exclusive) in days.\" aggregating=False defaultBuiltInRoles=['admin', 'reader', 'editor', 'publisher', 'architect']>,\n",
              " <Record name='duration.inMonths' signature='duration.inMonths(from :: ANY?, to :: ANY?) :: (DURATION?)' category='Temporal' description=\"Compute the duration between the 'from' instant (inclusive) and the 'to' instant (exclusive) in months.\" aggregating=False defaultBuiltInRoles=['admin', 'reader', 'editor', 'publisher', 'architect']>,\n",
              " <Record name='duration.inSeconds' signature='duration.inSeconds(from :: ANY?, to :: ANY?) :: (DURATION?)' category='Temporal' description=\"Compute the duration between the 'from' instant (inclusive) and the 'to' instant (exclusive) in seconds.\" aggregating=False defaultBuiltInRoles=['admin', 'reader', 'editor', 'publisher', 'architect']>,\n",
              " <Record name='e' signature='e() :: (FLOAT?)' category='Logarithmic' description='Returns the base of the natural logarithm, e.' aggregating=False defaultBuiltInRoles=['admin', 'reader', 'editor', 'publisher', 'architect']>,\n",
              " <Record name='endNode' signature='endnode(input :: RELATIONSHIP?) :: (NODE?)' category='Scalar' description='Returns the end node of a relationship.' aggregating=False defaultBuiltInRoles=['admin', 'reader', 'editor', 'publisher', 'architect']>,\n",
              " <Record name='exists' signature='exists(input :: ANY?) :: (BOOLEAN?)' category='Predicate' description='Returns true if a match for the pattern exists in the graph, or if the specified property exists in the node, relationship or map.' aggregating=False defaultBuiltInRoles=['admin', 'reader', 'editor', 'publisher', 'architect']>,\n",
              " <Record name='exp' signature='exp(input :: FLOAT?) :: (FLOAT?)' category='Logarithmic' description='Returns e^n, where e is the base of the natural logarithm, and n is the value of the argument expression.' aggregating=False defaultBuiltInRoles=['admin', 'reader', 'editor', 'publisher', 'architect']>,\n",
              " <Record name='file' signature='file() :: (STRING?)' category='Scalar' description='Returns the absolute path of the file that LOAD CSV is using.' aggregating=False defaultBuiltInRoles=['admin', 'reader', 'editor', 'publisher', 'architect']>,\n",
              " <Record name='floor' signature='floor(input :: FLOAT?) :: (FLOAT?)' category='Numeric' description='Returns the largest floating point number that is less than or equal to a number and equal to a mathematical integer.' aggregating=False defaultBuiltInRoles=['admin', 'reader', 'editor', 'publisher', 'architect']>,\n",
              " <Record name='gds.alpha.linkprediction.adamicAdar' signature='gds.alpha.linkprediction.adamicAdar(node1 :: NODE?, node2 :: NODE?, config = {} :: MAP?) :: (FLOAT?)' category='' description='Given two nodes, calculate Adamic Adar similarity' aggregating=False defaultBuiltInRoles=['admin', 'reader', 'editor', 'publisher', 'architect']>,\n",
              " <Record name='gds.alpha.linkprediction.commonNeighbors' signature='gds.alpha.linkprediction.commonNeighbors(node1 :: NODE?, node2 :: NODE?, config = {} :: MAP?) :: (FLOAT?)' category='' description='Given two nodes, returns the number of common neighbors' aggregating=False defaultBuiltInRoles=['admin', 'reader', 'editor', 'publisher', 'architect']>,\n",
              " <Record name='gds.alpha.linkprediction.preferentialAttachment' signature='gds.alpha.linkprediction.preferentialAttachment(node1 :: NODE?, node2 :: NODE?, config = {} :: MAP?) :: (FLOAT?)' category='' description='Given two nodes, calculate Preferential Attachment' aggregating=False defaultBuiltInRoles=['admin', 'reader', 'editor', 'publisher', 'architect']>,\n",
              " <Record name='gds.alpha.linkprediction.resourceAllocation' signature='gds.alpha.linkprediction.resourceAllocation(node1 :: NODE?, node2 :: NODE?, config = {} :: MAP?) :: (FLOAT?)' category='' description='Given two nodes, calculate Resource Allocation similarity' aggregating=False defaultBuiltInRoles=['admin', 'reader', 'editor', 'publisher', 'architect']>,\n",
              " <Record name='gds.alpha.linkprediction.sameCommunity' signature='gds.alpha.linkprediction.sameCommunity(node1 :: NODE?, node2 :: NODE?, communityProperty = community :: STRING?) :: (FLOAT?)' category='' description='Given two nodes, indicates if they have the same community' aggregating=False defaultBuiltInRoles=['admin', 'reader', 'editor', 'publisher', 'architect']>,\n",
              " <Record name='gds.alpha.linkprediction.totalNeighbors' signature='gds.alpha.linkprediction.totalNeighbors(node1 :: NODE?, node2 :: NODE?, config = {} :: MAP?) :: (FLOAT?)' category='' description='Given two nodes, calculate Total Neighbors' aggregating=False defaultBuiltInRoles=['admin', 'reader', 'editor', 'publisher', 'architect']>,\n",
              " <Record name='gds.alpha.ml.oneHotEncoding' signature='gds.alpha.ml.oneHotEncoding(availableValues :: LIST? OF ANY?, selectedValues :: LIST? OF ANY?) :: (LIST? OF ANY?)' category='' description='RETURN gds.alpha.ml.oneHotEncoding(availableValues, selectedValues) - return a list of selected values in a one hot encoding format.' aggregating=False defaultBuiltInRoles=['admin', 'reader', 'editor', 'publisher', 'architect']>,\n",
              " <Record name='gds.alpha.similarity.asVector' signature='gds.alpha.similarity.asVector(node :: NODE?, weight :: FLOAT?) :: (LIST? OF ANY?)' category='' description='RETURN gds.alpha.similarity.asVector(map) - Builds a vector of maps containing items and weights' aggregating=True defaultBuiltInRoles=['admin', 'reader', 'editor', 'publisher', 'architect']>,\n",
              " <Record name='gds.alpha.similarity.cosine' signature='gds.alpha.similarity.cosine(vector1 :: LIST? OF NUMBER?, vector2 :: LIST? OF NUMBER?) :: (FLOAT?)' category='' description='RETURN gds.alpha.similarity.cosine(vector1, vector2) - Given two collection vectors, calculate cosine similarity' aggregating=False defaultBuiltInRoles=['admin', 'reader', 'editor', 'publisher', 'architect']>,\n",
              " <Record name='gds.alpha.similarity.euclidean' signature='gds.alpha.similarity.euclidean(vector1 :: LIST? OF NUMBER?, vector2 :: LIST? OF NUMBER?) :: (FLOAT?)' category='' description='RETURN gds.alpha.similarity.euclidean(vector1, vector2) - Given two collection vectors, calculate similarity based on euclidean distance' aggregating=False defaultBuiltInRoles=['admin', 'reader', 'editor', 'publisher', 'architect']>,\n",
              " <Record name='gds.alpha.similarity.euclideanDistance' signature='gds.alpha.similarity.euclideanDistance(vector1 :: LIST? OF NUMBER?, vector2 :: LIST? OF NUMBER?) :: (FLOAT?)' category='' description='RETURN gds.alpha.similarity.euclideanDistance(vector1, vector2) - Given two collection vectors, calculate the euclidean distance (square root of the sum of the squared differences)' aggregating=False defaultBuiltInRoles=['admin', 'reader', 'editor', 'publisher', 'architect']>,\n",
              " <Record name='gds.alpha.similarity.jaccard' signature='gds.alpha.similarity.jaccard(vector1 :: LIST? OF NUMBER?, vector2 :: LIST? OF NUMBER?) :: (FLOAT?)' category='' description='RETURN gds.alpha.similarity.jaccard(vector1, vector2) - Given two collection vectors, calculate Jaccard similarity' aggregating=False defaultBuiltInRoles=['admin', 'reader', 'editor', 'publisher', 'architect']>,\n",
              " <Record name='gds.alpha.similarity.overlap' signature='gds.alpha.similarity.overlap(vector1 :: LIST? OF NUMBER?, vector2 :: LIST? OF NUMBER?) :: (FLOAT?)' category='' description='RETURN gds.alpha.similarity.overlap(vector1, vector2) - Given two collection vectors, calculate overlap similarity' aggregating=False defaultBuiltInRoles=['admin', 'reader', 'editor', 'publisher', 'architect']>,\n",
              " <Record name='gds.alpha.similarity.pearson' signature='gds.alpha.similarity.pearson(vector1 :: ANY?, vector2 :: ANY?, config = {} :: MAP?) :: (FLOAT?)' category='' description='RETURN gds.alpha.similarity.pearson(vector1, vector2) - Given two collection vectors, calculate pearson similarity' aggregating=False defaultBuiltInRoles=['admin', 'reader', 'editor', 'publisher', 'architect']>,\n",
              " <Record name='gds.graph.exists' signature='gds.graph.exists(graphName :: STRING?) :: (BOOLEAN?)' category='' description='Checks if a graph exists in the catalog.' aggregating=False defaultBuiltInRoles=['admin', 'reader', 'editor', 'publisher', 'architect']>,\n",
              " <Record name='gds.util.NaN' signature='gds.util.NaN() :: (FLOAT?)' category='' description='RETURN gds.util.NaN() - Returns NaN as a Cypher value.' aggregating=False defaultBuiltInRoles=['admin', 'reader', 'editor', 'publisher', 'architect']>,\n",
              " <Record name='gds.util.asNode' signature='gds.util.asNode(nodeId :: NUMBER?) :: (NODE?)' category='' description='RETURN gds.util.asNode(nodeId) - Return the node objects for the given node id or null if none exists.' aggregating=False defaultBuiltInRoles=['admin', 'reader', 'editor', 'publisher', 'architect']>,\n",
              " <Record name='gds.util.asNodes' signature='gds.util.asNodes(nodeIds :: LIST? OF NUMBER?) :: (LIST? OF ANY?)' category='' description='RETURN gds.util.asNodes(nodeIds) - Return the node objects for the given node ids or an empty list if none exists.' aggregating=False defaultBuiltInRoles=['admin', 'reader', 'editor', 'publisher', 'architect']>,\n",
              " <Record name='gds.util.infinity' signature='gds.util.infinity() :: (FLOAT?)' category='' description='RETURN gds.util.infinity() - Return infinity as a Cypher value.' aggregating=False defaultBuiltInRoles=['admin', 'reader', 'editor', 'publisher', 'architect']>,\n",
              " <Record name='gds.util.isFinite' signature='gds.util.isFinite(value :: NUMBER?) :: (BOOLEAN?)' category='' description='RETURN gds.util.isFinite(value) - Return true iff the given argument is a finite value (not ±Infinity, NaN, or null).' aggregating=False defaultBuiltInRoles=['admin', 'reader', 'editor', 'publisher', 'architect']>,\n",
              " <Record name='gds.util.isInfinite' signature='gds.util.isInfinite(value :: NUMBER?) :: (BOOLEAN?)' category='' description='RETURN gds.util.isInfinite(value) - Return true iff the given argument is not a finite value (not ±Infinity, NaN, or null).' aggregating=False defaultBuiltInRoles=['admin', 'reader', 'editor', 'publisher', 'architect']>,\n",
              " <Record name='gds.util.nodeProperty' signature='gds.util.nodeProperty(graphName :: STRING?, nodeId :: NUMBER?, propertyKey :: STRING?, nodeLabel = * :: STRING?) :: (ANY?)' category='' description='Returns a node property value from a named in-memory graph.' aggregating=False defaultBuiltInRoles=['admin', 'reader', 'editor', 'publisher', 'architect']>,\n",
              " <Record name='gds.version' signature='gds.version() :: (STRING?)' category='' description='RETURN gds.version() | Return the installed graph data science library version.' aggregating=False defaultBuiltInRoles=['admin', 'reader', 'editor', 'publisher', 'architect']>,\n",
              " <Record name='haversin' signature='haversin(input :: FLOAT?) :: (FLOAT?)' category='Trigonometric' description='Returns half the versine of a number.' aggregating=False defaultBuiltInRoles=['admin', 'reader', 'editor', 'publisher', 'architect']>,\n",
              " <Record name='head' signature='head(list :: LIST? OF ANY?) :: (ANY?)' category='Scalar' description='Returns the first element in a list.' aggregating=False defaultBuiltInRoles=['admin', 'reader', 'editor', 'publisher', 'architect']>,\n",
              " <Record name='id' signature='id(input :: NODE?) :: (INTEGER?)' category='Scalar' description='Returns the id of a node.' aggregating=False defaultBuiltInRoles=['admin', 'reader', 'editor', 'publisher', 'architect']>,\n",
              " <Record name='id' signature='id(input :: RELATIONSHIP?) :: (INTEGER?)' category='Scalar' description='Returns the id of a relationship.' aggregating=False defaultBuiltInRoles=['admin', 'reader', 'editor', 'publisher', 'architect']>,\n",
              " <Record name='keys' signature='keys(input :: NODE?) :: (LIST? OF STRING?)' category='List' description='Returns a list containing the string representations for all the property names of a node.' aggregating=False defaultBuiltInRoles=['admin', 'reader', 'editor', 'publisher', 'architect']>,\n",
              " <Record name='keys' signature='keys(input :: RELATIONSHIP?) :: (LIST? OF STRING?)' category='List' description='Returns a list containing the string representations for all the property names of a relationship' aggregating=False defaultBuiltInRoles=['admin', 'reader', 'editor', 'publisher', 'architect']>,\n",
              " <Record name='keys' signature='keys(input :: MAP?) :: (LIST? OF STRING?)' category='List' description='Returns a list containing the string representations for all the property names of a map.' aggregating=False defaultBuiltInRoles=['admin', 'reader', 'editor', 'publisher', 'architect']>,\n",
              " <Record name='labels' signature='labels(input :: NODE?) :: (LIST? OF STRING?)' category='List' description='Returns a list containing the string representations for all the labels of a node.' aggregating=False defaultBuiltInRoles=['admin', 'reader', 'editor', 'publisher', 'architect']>,\n",
              " <Record name='last' signature='last(list :: LIST? OF ANY?) :: (ANY?)' category='Scalar' description='Returns the last element in a list.' aggregating=False defaultBuiltInRoles=['admin', 'reader', 'editor', 'publisher', 'architect']>,\n",
              " <Record name='left' signature='left(original :: STRING?, length :: INTEGER?) :: (STRING?)' category='String' description='Returns a string containing the specified number of leftmost characters of the original string.' aggregating=False defaultBuiltInRoles=['admin', 'reader', 'editor', 'publisher', 'architect']>,\n",
              " <Record name='length' signature='length(input :: PATH?) :: (INTEGER?)' category='Scalar' description='Returns the length of a path.' aggregating=False defaultBuiltInRoles=['admin', 'reader', 'editor', 'publisher', 'architect']>,\n",
              " <Record name='linenumber' signature='linenumber() :: (INTEGER?)' category='Scalar' description='Returns the line number that LOAD CSV is currently using.' aggregating=False defaultBuiltInRoles=['admin', 'reader', 'editor', 'publisher', 'architect']>,\n",
              " <Record name='localdatetime' signature='localdatetime(input = DEFAULT_TEMPORAL_ARGUMENT :: ANY?) :: (LOCALDATETIME?)' category='Temporal' description='Create a LocalDateTime instant.' aggregating=False defaultBuiltInRoles=['admin', 'reader', 'editor', 'publisher', 'architect']>,\n",
              " <Record name='localdatetime.realtime' signature='localdatetime.realtime(timezone = DEFAULT_TEMPORAL_ARGUMENT :: ANY?) :: (LOCALDATETIME?)' category='Temporal' description='Get the current LocalDateTime instant using the realtime clock.' aggregating=False defaultBuiltInRoles=['admin', 'reader', 'editor', 'publisher', 'architect']>,\n",
              " <Record name='localdatetime.statement' signature='localdatetime.statement(timezone = DEFAULT_TEMPORAL_ARGUMENT :: ANY?) :: (LOCALDATETIME?)' category='Temporal' description='Get the current LocalDateTime instant using the statement clock.' aggregating=False defaultBuiltInRoles=['admin', 'reader', 'editor', 'publisher', 'architect']>,\n",
              " <Record name='localdatetime.transaction' signature='localdatetime.transaction(timezone = DEFAULT_TEMPORAL_ARGUMENT :: ANY?) :: (LOCALDATETIME?)' category='Temporal' description='Get the current LocalDateTime instant using the transaction clock.' aggregating=False defaultBuiltInRoles=['admin', 'reader', 'editor', 'publisher', 'architect']>,\n",
              " <Record name='localdatetime.truncate' signature='localdatetime.truncate(unit :: STRING?, input = DEFAULT_TEMPORAL_ARGUMENT :: ANY?, fields = null :: MAP?) :: (LOCALDATETIME?)' category='Temporal' description='Truncate the input temporal value to a LocalDateTime instant using the specified unit.' aggregating=False defaultBuiltInRoles=['admin', 'reader', 'editor', 'publisher', 'architect']>,\n",
              " <Record name='localtime' signature='localtime(input = DEFAULT_TEMPORAL_ARGUMENT :: ANY?) :: (LOCALTIME?)' category='Temporal' description='Create a LocalTime instant.' aggregating=False defaultBuiltInRoles=['admin', 'reader', 'editor', 'publisher', 'architect']>,\n",
              " <Record name='localtime.realtime' signature='localtime.realtime(timezone = DEFAULT_TEMPORAL_ARGUMENT :: ANY?) :: (LOCALTIME?)' category='Temporal' description='Get the current LocalTime instant using the realtime clock.' aggregating=False defaultBuiltInRoles=['admin', 'reader', 'editor', 'publisher', 'architect']>,\n",
              " <Record name='localtime.statement' signature='localtime.statement(timezone = DEFAULT_TEMPORAL_ARGUMENT :: ANY?) :: (LOCALTIME?)' category='Temporal' description='Get the current LocalTime instant using the statement clock.' aggregating=False defaultBuiltInRoles=['admin', 'reader', 'editor', 'publisher', 'architect']>,\n",
              " <Record name='localtime.transaction' signature='localtime.transaction(timezone = DEFAULT_TEMPORAL_ARGUMENT :: ANY?) :: (LOCALTIME?)' category='Temporal' description='Get the current LocalTime instant using the transaction clock.' aggregating=False defaultBuiltInRoles=['admin', 'reader', 'editor', 'publisher', 'architect']>,\n",
              " <Record name='localtime.truncate' signature='localtime.truncate(unit :: STRING?, input = DEFAULT_TEMPORAL_ARGUMENT :: ANY?, fields = null :: MAP?) :: (LOCALTIME?)' category='Temporal' description='Truncate the input temporal value to a LocalTime instant using the specified unit.' aggregating=False defaultBuiltInRoles=['admin', 'reader', 'editor', 'publisher', 'architect']>,\n",
              " <Record name='log' signature='log(input :: FLOAT?) :: (FLOAT?)' category='Logarithmic' description='Returns the natural logarithm of a number.' aggregating=False defaultBuiltInRoles=['admin', 'reader', 'editor', 'publisher', 'architect']>,\n",
              " <Record name='log10' signature='log10(input :: FLOAT?) :: (FLOAT?)' category='Logarithmic' description='Returns the common logarithm (base 10) of a number.' aggregating=False defaultBuiltInRoles=['admin', 'reader', 'editor', 'publisher', 'architect']>,\n",
              " <Record name='ltrim' signature='ltrim(input :: STRING?) :: (STRING?)' category='String' description='Returns the original string with leading whitespace removed.' aggregating=False defaultBuiltInRoles=['admin', 'reader', 'editor', 'publisher', 'architect']>,\n",
              " <Record name='max' signature='max(input :: ANY?) :: (ANY?)' category='Aggregating' description='Returns the maximum value in a set of values.' aggregating=True defaultBuiltInRoles=['admin', 'reader', 'editor', 'publisher', 'architect']>,\n",
              " <Record name='min' signature='min(input :: ANY?) :: (ANY?)' category='Aggregating' description='Returns the minimum value in a set of values.' aggregating=True defaultBuiltInRoles=['admin', 'reader', 'editor', 'publisher', 'architect']>,\n",
              " <Record name='n10s.inference.hasLabel' signature='n10s.inference.hasLabel(node :: NODE?, label :: STRING?, params = {} :: MAP?) :: (BOOLEAN?)' category='' description=\"semantics.inference.hasLabel(node,'label',{}) - checks whether node is explicitly or implicitly labeled as 'label'.\" aggregating=False defaultBuiltInRoles=['admin', 'reader', 'editor', 'publisher', 'architect']>,\n",
              " <Record name='n10s.inference.inCategory' signature='n10s.inference.inCategory(node :: NODE?, category :: NODE?, params = {} :: MAP?) :: (BOOLEAN?)' category='' description='semantics.inference.inCategory(node, category, {}) - checks whether node is explicitly or implicitly in a category.' aggregating=False defaultBuiltInRoles=['admin', 'reader', 'editor', 'publisher', 'architect']>,\n",
              " <Record name='n10s.rdf.fullUriFromShortForm' signature='n10s.rdf.fullUriFromShortForm(short :: STRING?) :: (STRING?)' category='' description='Returns the expanded (full) IRI given a shortened one created in the load process with semantics.importRDF' aggregating=False defaultBuiltInRoles=['admin', 'reader', 'editor', 'publisher', 'architect']>,\n",
              " <Record name='n10s.rdf.getDataType' signature='n10s.rdf.getDataType(literal :: ANY?) :: (STRING?)' category='' description='Returns the XMLSchema or custom datatype of a property when present' aggregating=False defaultBuiltInRoles=['admin', 'reader', 'editor', 'publisher', 'architect']>,\n",
              " <Record name='n10s.rdf.getIRILocalName' signature='n10s.rdf.getIRILocalName(url :: STRING?) :: (STRING?)' category='' description='Returns the local part of an IRI' aggregating=False defaultBuiltInRoles=['admin', 'reader', 'editor', 'publisher', 'architect']>,\n",
              " <Record name='n10s.rdf.getIRINamespace' signature='n10s.rdf.getIRINamespace(url :: STRING?) :: (STRING?)' category='' description='Returns the namespace part of an IRI' aggregating=False defaultBuiltInRoles=['admin', 'reader', 'editor', 'publisher', 'architect']>,\n",
              " <Record name='n10s.rdf.getLangTag' signature='n10s.rdf.getLangTag(value :: ANY?) :: (STRING?)' category='' description='Returns the language tag of a value. Returns null if the value is not a string orif the string has no language tag' aggregating=False defaultBuiltInRoles=['admin', 'reader', 'editor', 'publisher', 'architect']>,\n",
              " <Record name='n10s.rdf.getLangValue' signature='n10s.rdf.getLangValue(lang :: STRING?, values :: ANY?) :: (STRING?)' category='' description=\"Returns the first value with the language tag passed as first argument or null if there's not a value for the provided tag\" aggregating=False defaultBuiltInRoles=['admin', 'reader', 'editor', 'publisher', 'architect']>,\n",
              " <Record name='n10s.rdf.getValue' signature='n10s.rdf.getValue(literal :: STRING?) :: (STRING?)' category='' description='Returns the value of a datatype of a property after stripping out the datatype information when present' aggregating=False defaultBuiltInRoles=['admin', 'reader', 'editor', 'publisher', 'architect']>,\n",
              " <Record name='n10s.rdf.hasLangTag' signature='n10s.rdf.hasLangTag(lang :: STRING?, value :: ANY?) :: (BOOLEAN?)' category='' description='Returns false if the value is not a string or if the string is not tagged with the  given language tag' aggregating=False defaultBuiltInRoles=['admin', 'reader', 'editor', 'publisher', 'architect']>,\n",
              " <Record name='n10s.rdf.shortFormFromFullUri' signature='n10s.rdf.shortFormFromFullUri(uri :: STRING?) :: (STRING?)' category='' description='Returns the shortened version of an IRI using the existing namespace definitions' aggregating=False defaultBuiltInRoles=['admin', 'reader', 'editor', 'publisher', 'architect']>,\n",
              " <Record name='nodes' signature='nodes(input :: PATH?) :: (LIST? OF NODE?)' category='List' description='Returns a list containing all the nodes in a path.' aggregating=False defaultBuiltInRoles=['admin', 'reader', 'editor', 'publisher', 'architect']>,\n",
              " <Record name='none' signature='none(variable :: VARIABLE IN list :: LIST OF ANY? WHERE predicate :: ANY?) :: (BOOLEAN?)' category='Predicate' description='Returns true if the predicate holds for no element in the given list.' aggregating=False defaultBuiltInRoles=['admin', 'reader', 'editor', 'publisher', 'architect']>,\n",
              " <Record name='percentileCont' signature='percentilecont(input :: FLOAT?, percentile :: FLOAT?) :: (FLOAT?)' category='Aggregating' description='Returns the percentile of a value over a group using linear interpolation.' aggregating=True defaultBuiltInRoles=['admin', 'reader', 'editor', 'publisher', 'architect']>,\n",
              " <Record name='percentileDisc' signature='percentiledisc(input :: INTEGER?, percentile :: FLOAT?) :: (INTEGER?)' category='Aggregating' description='Returns the nearest integer value to the given percentile over a group using a rounding method.' aggregating=True defaultBuiltInRoles=['admin', 'reader', 'editor', 'publisher', 'architect']>,\n",
              " <Record name='percentileDisc' signature='percentiledisc(input :: FLOAT?, percentile :: FLOAT?) :: (FLOAT?)' category='Aggregating' description='Returns the nearest floating point value to the given percentile over a group using a rounding method.' aggregating=True defaultBuiltInRoles=['admin', 'reader', 'editor', 'publisher', 'architect']>,\n",
              " <Record name='pi' signature='pi() :: (FLOAT?)' category='Trigonometric' description='Returns the mathematical constant pi.' aggregating=False defaultBuiltInRoles=['admin', 'reader', 'editor', 'publisher', 'architect']>,\n",
              " <Record name='point' signature='point(input :: MAP?) :: (POINT?)' category='Spatial' description='Returns a 2D or 3D point object, given two or respectively three coordinate values in the Cartesian coordinate system or WGS 84 geographic coordinate system.' aggregating=False defaultBuiltInRoles=['admin', 'reader', 'editor', 'publisher', 'architect']>,\n",
              " <Record name='properties' signature='properties(input :: NODE?) :: (MAP?)' category='Scalar' description='Returns a map containing all the properties of a node.' aggregating=False defaultBuiltInRoles=['admin', 'reader', 'editor', 'publisher', 'architect']>,\n",
              " <Record name='properties' signature='properties(input :: RELATIONSHIP?) :: (MAP?)' category='Scalar' description='Returns a map containing all the properties of a relationship.' aggregating=False defaultBuiltInRoles=['admin', 'reader', 'editor', 'publisher', 'architect']>,\n",
              " <Record name='properties' signature='properties(input :: MAP?) :: (MAP?)' category='Scalar' description='Returns a map containing all the properties of a map.' aggregating=False defaultBuiltInRoles=['admin', 'reader', 'editor', 'publisher', 'architect']>,\n",
              " <Record name='radians' signature='radians(input :: FLOAT?) :: (FLOAT?)' category='Trigonometric' description='Converts degrees to radians.' aggregating=False defaultBuiltInRoles=['admin', 'reader', 'editor', 'publisher', 'architect']>,\n",
              " <Record name='rand' signature='rand() :: (FLOAT?)' category='Numeric' description='Returns a random floating point number in the range from 0 (inclusive) to 1 (exclusive); i.e. [0,1).' aggregating=False defaultBuiltInRoles=['admin', 'reader', 'editor', 'publisher', 'architect']>,\n",
              " <Record name='randomUUID' signature='randomuuid() :: (STRING?)' category='Scalar' description='Generates a random UUID.' aggregating=False defaultBuiltInRoles=['admin', 'reader', 'editor', 'publisher', 'architect']>,\n",
              " <Record name='range' signature='range(start :: INTEGER?, end :: INTEGER?) :: (LIST? OF INTEGER?)' category='List' description='Returns a list comprising all integer values within a specified range.' aggregating=False defaultBuiltInRoles=['admin', 'reader', 'editor', 'publisher', 'architect']>,\n",
              " <Record name='range' signature='range(start :: INTEGER?, end :: INTEGER?, step :: INTEGER?) :: (LIST? OF INTEGER?)' category='List' description='Returns a list comprising all integer values within a specified range created with step length.' aggregating=False defaultBuiltInRoles=['admin', 'reader', 'editor', 'publisher', 'architect']>,\n",
              " <Record name='reduce' signature='reduce(accumulator :: VARIABLE = initial :: ANY?, variable :: VARIABLE IN list :: LIST OF ANY? | expression :: ANY) :: (ANY?)' category='List' description='Runs an expression against individual elements of a list, storing the result of the expression in an accumulator.' aggregating=False defaultBuiltInRoles=['admin', 'reader', 'editor', 'publisher', 'architect']>,\n",
              " <Record name='relationships' signature='relationships(input :: PATH?) :: (LIST? OF RELATIONSHIP?)' category='List' description='Returns a list containing all the relationships in a path.' aggregating=False defaultBuiltInRoles=['admin', 'reader', 'editor', 'publisher', 'architect']>,\n",
              " <Record name='replace' signature='replace(original :: STRING?, search :: STRING?, replace :: STRING?) :: (STRING?)' category='String' description='Returns a string in which all occurrences of a specified search string in the original string have been replaced by another (specified) replace string.' aggregating=False defaultBuiltInRoles=['admin', 'reader', 'editor', 'publisher', 'architect']>,\n",
              " <Record name='reverse' signature='reverse(input :: STRING?) :: (STRING?)' category='String' description='Returns a string in which the order of all characters in the original string have been reversed.' aggregating=False defaultBuiltInRoles=['admin', 'reader', 'editor', 'publisher', 'architect']>,\n",
              " <Record name='reverse' signature='reverse(input :: LIST? OF ANY?) :: (LIST? OF ANY?)' category='List' description='Returns a list in which the order of all elements in the original list have been reversed.' aggregating=False defaultBuiltInRoles=['admin', 'reader', 'editor', 'publisher', 'architect']>,\n",
              " <Record name='right' signature='right(original :: STRING?, length :: INTEGER?) :: (STRING?)' category='String' description='Returns a string containing the specified number of rightmost characters of the original string.' aggregating=False defaultBuiltInRoles=['admin', 'reader', 'editor', 'publisher', 'architect']>,\n",
              " <Record name='round' signature='round(input :: FLOAT?) :: (FLOAT?)' category='Numeric' description='Returns the value of a number rounded to the nearest integer.' aggregating=False defaultBuiltInRoles=['admin', 'reader', 'editor', 'publisher', 'architect']>,\n",
              " <Record name='round' signature='round(value :: FLOAT?, precision :: NUMBER?) :: (FLOAT?)' category='Numeric' description='Returns the value of a number rounded to the specified precision using rounding mode HALF_UP.' aggregating=False defaultBuiltInRoles=['admin', 'reader', 'editor', 'publisher', 'architect']>,\n",
              " <Record name='round' signature='round(value :: FLOAT?, precision :: NUMBER?, mode :: STRING?) :: (FLOAT?)' category='Numeric' description='Returns the value of a number rounded to the specified precision with the specified rounding mode.' aggregating=False defaultBuiltInRoles=['admin', 'reader', 'editor', 'publisher', 'architect']>,\n",
              " <Record name='rtrim' signature='rtrim(input :: STRING?) :: (STRING?)' category='String' description='Returns the original string with trailing whitespace removed.' aggregating=False defaultBuiltInRoles=['admin', 'reader', 'editor', 'publisher', 'architect']>,\n",
              " <Record name='sign' signature='sign(input :: INTEGER?) :: (INTEGER?)' category='Numeric' description='Returns the signum of an integer number: 0 if the number is 0, -1 for any negative number, and 1 for any positive number.' aggregating=False defaultBuiltInRoles=['admin', 'reader', 'editor', 'publisher', 'architect']>,\n",
              " <Record name='sign' signature='sign(input :: FLOAT?) :: (INTEGER?)' category='Numeric' description='Returns the signum of a floating point number: 0 if the number is 0, -1 for any negative number, and 1 for any positive number.' aggregating=False defaultBuiltInRoles=['admin', 'reader', 'editor', 'publisher', 'architect']>,\n",
              " <Record name='sin' signature='sin(input :: FLOAT?) :: (FLOAT?)' category='Trigonometric' description='Returns the sine of a number.' aggregating=False defaultBuiltInRoles=['admin', 'reader', 'editor', 'publisher', 'architect']>,\n",
              " <Record name='single' signature='single(variable :: VARIABLE IN list :: LIST OF ANY? WHERE predicate :: ANY?) :: (BOOLEAN?)' category='Predicate' description='Returns true if the predicate holds for exactly one of the elements in the given list.' aggregating=False defaultBuiltInRoles=['admin', 'reader', 'editor', 'publisher', 'architect']>,\n",
              " <Record name='size' signature='size(input :: LIST? OF ANY?) :: (INTEGER?)' category='Scalar' description='Returns the number of items in a list.' aggregating=False defaultBuiltInRoles=['admin', 'reader', 'editor', 'publisher', 'architect']>,\n",
              " <Record name='size' signature='size(input :: STRING?) :: (INTEGER?)' category='Scalar' description='Returns the number of Unicode characters in a string.' aggregating=False defaultBuiltInRoles=['admin', 'reader', 'editor', 'publisher', 'architect']>,\n",
              " <Record name='split' signature='split(original :: STRING?, splitDelimiter :: STRING?) :: (LIST? OF STRING?)' category='String' description='Returns a list of strings resulting from the splitting of the original string around matches of the given delimiter.' aggregating=False defaultBuiltInRoles=['admin', 'reader', 'editor', 'publisher', 'architect']>,\n",
              " <Record name='split' signature='split(original :: STRING?, splitDelimiters :: LIST? OF STRING?) :: (LIST? OF STRING?)' category='String' description='Returns a list of strings resulting from the splitting of the original string around matches of any of the given delimiters.' aggregating=False defaultBuiltInRoles=['admin', 'reader', 'editor', 'publisher', 'architect']>,\n",
              " <Record name='sqrt' signature='sqrt(input :: FLOAT?) :: (FLOAT?)' category='Logarithmic' description='Returns the square root of a number.' aggregating=False defaultBuiltInRoles=['admin', 'reader', 'editor', 'publisher', 'architect']>,\n",
              " <Record name='startNode' signature='startnode(input :: RELATIONSHIP?) :: (NODE?)' category='Scalar' description='Returns the start node of a relationship.' aggregating=False defaultBuiltInRoles=['admin', 'reader', 'editor', 'publisher', 'architect']>,\n",
              " <Record name='stdev' signature='stdev(input :: FLOAT?) :: (FLOAT?)' category='Aggregating' description='Returns the standard deviation for the given value over a group for a sample of a population.' aggregating=True defaultBuiltInRoles=['admin', 'reader', 'editor', 'publisher', 'architect']>,\n",
              " <Record name='stdevp' signature='stdevp(input :: FLOAT?) :: (FLOAT?)' category='Aggregating' description='Returns the standard deviation for the given value over a group for an entire population.' aggregating=True defaultBuiltInRoles=['admin', 'reader', 'editor', 'publisher', 'architect']>,\n",
              " <Record name='substring' signature='substring(original :: STRING?, start :: INTEGER?) :: (STRING?)' category='String' description='Returns a substring of the original string, beginning with a 0-based index start.' aggregating=False defaultBuiltInRoles=['admin', 'reader', 'editor', 'publisher', 'architect']>,\n",
              " <Record name='substring' signature='substring(original :: STRING?, start :: INTEGER?, length :: INTEGER?) :: (STRING?)' category='String' description=\"Returns a substring of length 'length' of the original string, beginning with a 0-based index start.\" aggregating=False defaultBuiltInRoles=['admin', 'reader', 'editor', 'publisher', 'architect']>,\n",
              " <Record name='sum' signature='sum(input :: INTEGER?) :: (INTEGER?)' category='Aggregating' description='Returns the sum of a set of integers' aggregating=True defaultBuiltInRoles=['admin', 'reader', 'editor', 'publisher', 'architect']>,\n",
              " <Record name='sum' signature='sum(input :: FLOAT?) :: (FLOAT?)' category='Aggregating' description='Returns the sum of a set of floats' aggregating=True defaultBuiltInRoles=['admin', 'reader', 'editor', 'publisher', 'architect']>,\n",
              " <Record name='sum' signature='sum(input :: DURATION?) :: (DURATION?)' category='Aggregating' description='Returns the sum of a set of durations' aggregating=True defaultBuiltInRoles=['admin', 'reader', 'editor', 'publisher', 'architect']>,\n",
              " <Record name='tail' signature='tail(input :: LIST? OF ANY?) :: (LIST? OF ANY?)' category='List' description='Returns all but the first element in a list.' aggregating=False defaultBuiltInRoles=['admin', 'reader', 'editor', 'publisher', 'architect']>,\n",
              " <Record name='tan' signature='tan(input :: FLOAT?) :: (FLOAT?)' category='Trigonometric' description='Returns the tangent of a number.' aggregating=False defaultBuiltInRoles=['admin', 'reader', 'editor', 'publisher', 'architect']>,\n",
              " <Record name='time' signature='time(input = DEFAULT_TEMPORAL_ARGUMENT :: ANY?) :: (TIME?)' category='Temporal' description='Create a Time instant.' aggregating=False defaultBuiltInRoles=['admin', 'reader', 'editor', 'publisher', 'architect']>,\n",
              " <Record name='time.realtime' signature='time.realtime(timezone = DEFAULT_TEMPORAL_ARGUMENT :: ANY?) :: (TIME?)' category='Temporal' description='Get the current Time instant using the realtime clock.' aggregating=False defaultBuiltInRoles=['admin', 'reader', 'editor', 'publisher', 'architect']>,\n",
              " <Record name='time.statement' signature='time.statement(timezone = DEFAULT_TEMPORAL_ARGUMENT :: ANY?) :: (TIME?)' category='Temporal' description='Get the current Time instant using the statement clock.' aggregating=False defaultBuiltInRoles=['admin', 'reader', 'editor', 'publisher', 'architect']>,\n",
              " <Record name='time.transaction' signature='time.transaction(timezone = DEFAULT_TEMPORAL_ARGUMENT :: ANY?) :: (TIME?)' category='Temporal' description='Get the current Time instant using the transaction clock.' aggregating=False defaultBuiltInRoles=['admin', 'reader', 'editor', 'publisher', 'architect']>,\n",
              " <Record name='time.truncate' signature='time.truncate(unit :: STRING?, input = DEFAULT_TEMPORAL_ARGUMENT :: ANY?, fields = null :: MAP?) :: (TIME?)' category='Temporal' description='Truncate the input temporal value to a Time instant using the specified unit.' aggregating=False defaultBuiltInRoles=['admin', 'reader', 'editor', 'publisher', 'architect']>,\n",
              " <Record name='toBoolean' signature='toBoolean(input :: STRING?) :: (BOOLEAN?)' category='Scalar' description='Converts a string value to a boolean value.' aggregating=False defaultBuiltInRoles=['admin', 'reader', 'editor', 'publisher', 'architect']>,\n",
              " <Record name='toFloat' signature='tofloat(input :: STRING?) :: (FLOAT?)' category='Scalar' description='Converts a string value to a floating point value.' aggregating=False defaultBuiltInRoles=['admin', 'reader', 'editor', 'publisher', 'architect']>,\n",
              " <Record name='toFloat' signature='tofloat(input :: NUMBER?) :: (FLOAT?)' category='Scalar' description='Converts an integer value to a floating point value.' aggregating=False defaultBuiltInRoles=['admin', 'reader', 'editor', 'publisher', 'architect']>,\n",
              " <Record name='toInteger' signature='tointeger(input :: STRING?) :: (INTEGER?)' category='Scalar' description='Converts a string value to an integer value.' aggregating=False defaultBuiltInRoles=['admin', 'reader', 'editor', 'publisher', 'architect']>,\n",
              " <Record name='toInteger' signature='tointeger(input :: NUMBER?) :: (INTEGER?)' category='Scalar' description='Converts a floating point value to an integer value.' aggregating=False defaultBuiltInRoles=['admin', 'reader', 'editor', 'publisher', 'architect']>,\n",
              " <Record name='toLower' signature='tolower(input :: STRING?) :: (STRING?)' category='String' description='Returns the original string in lowercase.' aggregating=False defaultBuiltInRoles=['admin', 'reader', 'editor', 'publisher', 'architect']>,\n",
              " <Record name='toString' signature='toString(input :: ANY?) :: (STRING?)' category='String' description='Converts an integer, float, boolean or temporal type (i.e. Date, Time, LocalTime, DateTime, LocalDateTime or Duration) value to a string.' aggregating=False defaultBuiltInRoles=['admin', 'reader', 'editor', 'publisher', 'architect']>,\n",
              " <Record name='toUpper' signature='toupper(input :: STRING?) :: (STRING?)' category='String' description='Returns the original string in uppercase.' aggregating=False defaultBuiltInRoles=['admin', 'reader', 'editor', 'publisher', 'architect']>,\n",
              " <Record name='trim' signature='trim(input :: STRING?) :: (STRING?)' category='String' description='Returns the original string with leading and trailing whitespace removed.' aggregating=False defaultBuiltInRoles=['admin', 'reader', 'editor', 'publisher', 'architect']>,\n",
              " <Record name='type' signature='type(input :: RELATIONSHIP?) :: (STRING?)' category='Scalar' description='Returns the string representation of the relationship type.' aggregating=False defaultBuiltInRoles=['admin', 'reader', 'editor', 'publisher', 'architect']>]"
            ]
          },
          "metadata": {
            "tags": []
          },
          "execution_count": 91
        }
      ]
    },
    {
      "cell_type": "code",
      "metadata": {
        "id": "7ceSdaJTw0sv"
      },
      "source": [
        ""
      ],
      "execution_count": null,
      "outputs": []
    }
  ]
}