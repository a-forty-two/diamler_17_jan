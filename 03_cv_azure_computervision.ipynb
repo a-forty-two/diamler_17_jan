{
  "nbformat": 4,
  "nbformat_minor": 0,
  "metadata": {
    "colab": {
      "name": "03_cv_azure_computervision.ipynb",
      "provenance": [],
      "authorship_tag": "ABX9TyMLmomvLLdLkBjwd8pO/W8/",
      "include_colab_link": true
    },
    "kernelspec": {
      "name": "python3",
      "display_name": "Python 3"
    },
    "language_info": {
      "name": "python"
    }
  },
  "cells": [
    {
      "cell_type": "markdown",
      "metadata": {
        "id": "view-in-github",
        "colab_type": "text"
      },
      "source": [
        "<a href=\"https://colab.research.google.com/github/a-forty-two/diamler_17_jan/blob/main/03_cv_azure_computervision.ipynb\" target=\"_parent\"><img src=\"https://colab.research.google.com/assets/colab-badge.svg\" alt=\"Open In Colab\"/></a>"
      ]
    },
    {
      "cell_type": "code",
      "execution_count": 1,
      "metadata": {
        "colab": {
          "base_uri": "https://localhost:8080/"
        },
        "id": "VywjqnEhlhDA",
        "outputId": "12639045-949e-4802-c8ef-4204aed177b5"
      },
      "outputs": [
        {
          "output_type": "stream",
          "name": "stdout",
          "text": [
            "Collecting azure-cognitiveservices-vision-computervision\n",
            "  Downloading azure_cognitiveservices_vision_computervision-0.9.0-py2.py3-none-any.whl (39 kB)\n",
            "Collecting azure-common~=1.1\n",
            "  Downloading azure_common-1.1.27-py2.py3-none-any.whl (12 kB)\n",
            "Collecting msrest>=0.5.0\n",
            "  Downloading msrest-0.6.21-py2.py3-none-any.whl (85 kB)\n",
            "\u001b[K     |████████████████████████████████| 85 kB 2.8 MB/s \n",
            "\u001b[?25hRequirement already satisfied: requests-oauthlib>=0.5.0 in /usr/local/lib/python3.7/dist-packages (from msrest>=0.5.0->azure-cognitiveservices-vision-computervision) (1.3.0)\n",
            "Requirement already satisfied: certifi>=2017.4.17 in /usr/local/lib/python3.7/dist-packages (from msrest>=0.5.0->azure-cognitiveservices-vision-computervision) (2021.10.8)\n",
            "Collecting isodate>=0.6.0\n",
            "  Downloading isodate-0.6.1-py2.py3-none-any.whl (41 kB)\n",
            "\u001b[K     |████████████████████████████████| 41 kB 580 kB/s \n",
            "\u001b[?25hRequirement already satisfied: requests~=2.16 in /usr/local/lib/python3.7/dist-packages (from msrest>=0.5.0->azure-cognitiveservices-vision-computervision) (2.23.0)\n",
            "Requirement already satisfied: six in /usr/local/lib/python3.7/dist-packages (from isodate>=0.6.0->msrest>=0.5.0->azure-cognitiveservices-vision-computervision) (1.15.0)\n",
            "Requirement already satisfied: idna<3,>=2.5 in /usr/local/lib/python3.7/dist-packages (from requests~=2.16->msrest>=0.5.0->azure-cognitiveservices-vision-computervision) (2.10)\n",
            "Requirement already satisfied: chardet<4,>=3.0.2 in /usr/local/lib/python3.7/dist-packages (from requests~=2.16->msrest>=0.5.0->azure-cognitiveservices-vision-computervision) (3.0.4)\n",
            "Requirement already satisfied: urllib3!=1.25.0,!=1.25.1,<1.26,>=1.21.1 in /usr/local/lib/python3.7/dist-packages (from requests~=2.16->msrest>=0.5.0->azure-cognitiveservices-vision-computervision) (1.24.3)\n",
            "Requirement already satisfied: oauthlib>=3.0.0 in /usr/local/lib/python3.7/dist-packages (from requests-oauthlib>=0.5.0->msrest>=0.5.0->azure-cognitiveservices-vision-computervision) (3.1.1)\n",
            "Installing collected packages: isodate, msrest, azure-common, azure-cognitiveservices-vision-computervision\n",
            "Successfully installed azure-cognitiveservices-vision-computervision-0.9.0 azure-common-1.1.27 isodate-0.6.1 msrest-0.6.21\n",
            "Requirement already satisfied: pillow in /usr/local/lib/python3.7/dist-packages (7.1.2)\n"
          ]
        }
      ],
      "source": [
        "!pip install --upgrade azure-cognitiveservices-vision-computervision\n",
        "!pip install pillow"
      ]
    },
    {
      "cell_type": "code",
      "source": [
        "from azure.cognitiveservices.vision.computervision import ComputerVisionClient\n",
        "from azure.cognitiveservices.vision.computervision.models import OperationStatusCodes\n",
        "from azure.cognitiveservices.vision.computervision.models import VisualFeatureTypes\n",
        "from msrest.authentication import CognitiveServicesCredentials\n",
        "\n",
        "from array import array\n",
        "import os\n",
        "from PIL import Image\n",
        "import sys\n",
        "import time"
      ],
      "metadata": {
        "id": "WXcPBtGflu4s"
      },
      "execution_count": 2,
      "outputs": []
    },
    {
      "cell_type": "code",
      "source": [
        "subscription_key = \"8234a200bf504e939da34a7228b87dca\"\n",
        "endpoint = \"https://potatoisblue.cognitiveservices.azure.com/\""
      ],
      "metadata": {
        "id": "mlV2vvkHl_xS"
      },
      "execution_count": 3,
      "outputs": []
    },
    {
      "cell_type": "code",
      "source": [
        "#authenticate our notebook for azure computer vision\n",
        "cvcredentials = CognitiveServicesCredentials(subscription_key)\n",
        "computervision_client = ComputerVisionClient(endpoint, cvcredentials)"
      ],
      "metadata": {
        "id": "xCwWq4hJoWDV"
      },
      "execution_count": 4,
      "outputs": []
    },
    {
      "cell_type": "code",
      "source": [
        "baseurl = 'https://shaktimanlikesbananana.blob.core.windows.net/images/'\n",
        "imgname = ['mantisshrimp', 'timessquare', 'rickandmorty','logos']\n",
        "imgurl = {}\n",
        "for i in range(4):\n",
        "  fname =  baseurl + 'cv000' + str(i+1) + '.jpeg'\n",
        "  imgurl[imgname[i]] = fname\n",
        "imgurl"
      ],
      "metadata": {
        "colab": {
          "base_uri": "https://localhost:8080/"
        },
        "id": "UcIe232poqse",
        "outputId": "493ad088-b630-4ecc-d117-e5058eca48e1"
      },
      "execution_count": 9,
      "outputs": [
        {
          "output_type": "execute_result",
          "data": {
            "text/plain": [
              "{'logos': 'https://shaktimanlikesbananana.blob.core.windows.net/images/cv0004.jpeg',\n",
              " 'mantisshrimp': 'https://shaktimanlikesbananana.blob.core.windows.net/images/cv0001.jpeg',\n",
              " 'rickandmorty': 'https://shaktimanlikesbananana.blob.core.windows.net/images/cv0003.jpeg',\n",
              " 'timessquare': 'https://shaktimanlikesbananana.blob.core.windows.net/images/cv0002.jpeg'}"
            ]
          },
          "metadata": {},
          "execution_count": 9
        }
      ]
    },
    {
      "cell_type": "code",
      "source": [
        "for imname, imgur in imgurl.items():\n",
        "  description_results = computervision_client.describe_image(imgur)\n",
        "  print('Image = ' + imname)\n",
        "  print()\n",
        "  # Get the captions (descriptions) from the response, with confidence level\n",
        "  print(\"Description of remote image: \")\n",
        "  if (len(description_results.captions) == 0):\n",
        "      print(\"No description detected.\")\n",
        "      print('****')\n",
        "  else:\n",
        "      for caption in description_results.captions:\n",
        "          print(\"'{}' with confidence {:.2f}%\".format(caption.text, caption.confidence * 100))\n",
        "      print('****')"
      ],
      "metadata": {
        "colab": {
          "base_uri": "https://localhost:8080/"
        },
        "id": "UrZKf3ZBu4rv",
        "outputId": "c1c11f00-a3fb-49bc-8b72-99a693594038"
      },
      "execution_count": 10,
      "outputs": [
        {
          "output_type": "stream",
          "name": "stdout",
          "text": [
            "Image = mantisshrimp\n",
            "\n",
            "Description of remote image: \n",
            "'a colorful sea creature' with confidence 48.79%\n",
            "****\n",
            "Image = timessquare\n",
            "\n",
            "Description of remote image: \n",
            "'a city street at night' with confidence 53.49%\n",
            "****\n",
            "Image = rickandmorty\n",
            "\n",
            "Description of remote image: \n",
            "'diagram' with confidence 56.77%\n",
            "****\n",
            "Image = logos\n",
            "\n",
            "Description of remote image: \n",
            "'logo, company name' with confidence 99.99%\n",
            "****\n"
          ]
        }
      ]
    },
    {
      "cell_type": "code",
      "source": [
        "for imname, imgur in imgurl.items():\n",
        "\n",
        "  remote_image_features = [\"categories\"]\n",
        "  # Call API with URL and features\n",
        "  categorize_results_remote = computervision_client.analyze_image(imgur , remote_image_features)\n",
        "  print(imname)\n",
        "  # Print results with confidence score\n",
        "  print(\"Categories from remote image: \")\n",
        "  if (len(categorize_results_remote.categories) == 0):\n",
        "      print(\"No categories detected.\")\n",
        "      print('*****')\n",
        "  else:\n",
        "      for category in categorize_results_remote.categories:\n",
        "          print(\"'{}' with confidence {:.2f}%\".format(category.name, category.score * 100))\n",
        "      print('*****')"
      ],
      "metadata": {
        "colab": {
          "base_uri": "https://localhost:8080/"
        },
        "id": "J06CTF-VwIXE",
        "outputId": "56a06a86-05dd-4606-ff44-17261dc54b74"
      },
      "execution_count": 12,
      "outputs": [
        {
          "output_type": "stream",
          "name": "stdout",
          "text": [
            "mantisshrimp\n",
            "Categories from remote image: \n",
            "'others_' with confidence 0.39%\n",
            "'outdoor_' with confidence 1.56%\n",
            "*****\n",
            "timessquare\n",
            "Categories from remote image: \n",
            "'abstract_' with confidence 0.39%\n",
            "'outdoor_' with confidence 2.34%\n",
            "*****\n",
            "rickandmorty\n",
            "Categories from remote image: \n",
            "'others_' with confidence 0.39%\n",
            "'people_' with confidence 44.92%\n",
            "*****\n",
            "logos\n",
            "Categories from remote image: \n",
            "'others_' with confidence 1.17%\n",
            "'text_sign' with confidence 38.67%\n",
            "*****\n"
          ]
        }
      ]
    },
    {
      "cell_type": "code",
      "source": [
        "for imname, imgur in imgurl.items():\n",
        "\n",
        "  # Call API with remote image\n",
        "  tags_result_remote = computervision_client.tag_image(imgur)\n",
        "  print(imname)\n",
        "  # Print results with confidence score\n",
        "  print(\"Tags in the remote image: \")\n",
        "  if (len(tags_result_remote.tags) == 0):\n",
        "      print(\"No tags detected.\")\n",
        "      print('****')\n",
        "  else:\n",
        "      for tag in tags_result_remote.tags:\n",
        "          print(\"'{}' with confidence {:.2f}%\".format(tag.name, tag.confidence * 100))\n",
        "      print('****')"
      ],
      "metadata": {
        "colab": {
          "base_uri": "https://localhost:8080/"
        },
        "id": "BWGXnD_T4JSZ",
        "outputId": "7722610d-5fc9-4ef2-f57c-30487dcf3503"
      },
      "execution_count": 18,
      "outputs": [
        {
          "output_type": "stream",
          "name": "stdout",
          "text": [
            "mantisshrimp\n",
            "Tags in the remote image: \n",
            "'animal' with confidence 99.83%\n",
            "'invertebrate' with confidence 98.23%\n",
            "'crustacean' with confidence 87.05%\n",
            "'ground' with confidence 72.67%\n",
            "'shrimp' with confidence 61.79%\n",
            "'underwater' with confidence 54.75%\n",
            "****\n",
            "timessquare\n",
            "Tags in the remote image: \n",
            "'building' with confidence 99.40%\n",
            "'outdoor' with confidence 96.95%\n",
            "'street' with confidence 96.89%\n",
            "'night' with confidence 92.43%\n",
            "'vehicle' with confidence 92.00%\n",
            "'car' with confidence 90.38%\n",
            "'downtown' with confidence 89.53%\n",
            "'metropolitan area' with confidence 88.98%\n",
            "'metropolis' with confidence 88.40%\n",
            "'skyscraper' with confidence 87.93%\n",
            "'urban area' with confidence 86.72%\n",
            "'mixed-use' with confidence 85.23%\n",
            "'traffic' with confidence 84.28%\n",
            "'city' with confidence 81.53%\n",
            "'light' with confidence 80.33%\n",
            "'rain' with confidence 79.73%\n",
            "'wet' with confidence 69.42%\n",
            "'reflection' with confidence 62.56%\n",
            "'rainy' with confidence 56.56%\n",
            "'cityscape' with confidence 50.77%\n",
            "****\n",
            "rickandmorty\n",
            "Tags in the remote image: \n",
            "'human face' with confidence 92.46%\n",
            "'animated cartoon' with confidence 92.16%\n",
            "'animation' with confidence 91.38%\n",
            "'illustration' with confidence 89.31%\n",
            "'pc game' with confidence 86.20%\n",
            "'fiction' with confidence 86.09%\n",
            "'anime' with confidence 86.02%\n",
            "'cartoon' with confidence 83.40%\n",
            "'art' with confidence 44.78%\n",
            "****\n",
            "logos\n",
            "Tags in the remote image: \n",
            "'text' with confidence 99.99%\n",
            "'screenshot' with confidence 97.79%\n",
            "'logo' with confidence 95.51%\n",
            "'font' with confidence 91.63%\n",
            "'brand' with confidence 90.44%\n",
            "'graphics' with confidence 86.37%\n",
            "'graphic design' with confidence 86.11%\n",
            "'design' with confidence 61.11%\n",
            "****\n"
          ]
        }
      ]
    },
    {
      "cell_type": "code",
      "source": [
        "for imname, imgur in imgurl.items():\n",
        "  detect_objects_results_remote = computervision_client.detect_objects(imgur)\n",
        "  print('*****')\n",
        "  print(imname)\n",
        "  # Print detected objects results with bounding boxes\n",
        "  print(\"Detecting objects in remote image:\")\n",
        "  if len(detect_objects_results_remote.objects) == 0:\n",
        "      print(\"No objects detected.\")\n",
        "  else:\n",
        "      for object in detect_objects_results_remote.objects:\n",
        "          print(\"object at location {}, {}, {}, {}\".format( \\\n",
        "          object.rectangle.x, object.rectangle.x + object.rectangle.w, \\\n",
        "          object.rectangle.y, object.rectangle.y + object.rectangle.h))"
      ],
      "metadata": {
        "colab": {
          "base_uri": "https://localhost:8080/"
        },
        "id": "BsRIAqMi4Xba",
        "outputId": "642354f9-ce63-45b9-8cc6-21101c5fd6dc"
      },
      "execution_count": 19,
      "outputs": [
        {
          "output_type": "stream",
          "name": "stdout",
          "text": [
            "*****\n",
            "mantisshrimp\n",
            "Detecting objects in remote image:\n",
            "object at location 48, 1266, 90, 1018\n",
            "*****\n",
            "timessquare\n",
            "Detecting objects in remote image:\n",
            "object at location 1917, 2429, 923, 1150\n",
            "*****\n",
            "rickandmorty\n",
            "Detecting objects in remote image:\n",
            "No objects detected.\n",
            "*****\n",
            "logos\n",
            "Detecting objects in remote image:\n",
            "No objects detected.\n"
          ]
        }
      ]
    },
    {
      "cell_type": "code",
      "source": [
        "\n",
        "for imgname, imgur in imgurl.items():\n",
        "    \n",
        "  remote_image_url_faces = imgur\n",
        "  # Select the visual feature(s) you want.\n",
        "  remote_image_features = [\"faces\"]\n",
        "  # Call the API with remote URL and features\n",
        "  detect_faces_results_remote = computervision_client.analyze_image(remote_image_url_faces, remote_image_features)\n",
        "  print('****')\n",
        "  print(imgname)\n",
        "  # Print the results with gender, age, and bounding box\n",
        "  print(\"Faces in the remote image: \")\n",
        "  if (len(detect_faces_results_remote.faces) == 0):\n",
        "      print(\"No faces detected.\")\n",
        "  else:\n",
        "      for face in detect_faces_results_remote.faces:\n",
        "          print(\"'{}' of age {} at location {}, {}, {}, {}\".format(face.gender, face.age, \\\n",
        "          face.face_rectangle.left, face.face_rectangle.top, \\\n",
        "          face.face_rectangle.left + face.face_rectangle.width, \\\n",
        "          face.face_rectangle.top + face.face_rectangle.height))"
      ],
      "metadata": {
        "colab": {
          "base_uri": "https://localhost:8080/"
        },
        "id": "0vtUDtSU5aWT",
        "outputId": "c2327722-7433-49c5-e761-a7472f67ce27"
      },
      "execution_count": 20,
      "outputs": [
        {
          "output_type": "stream",
          "name": "stdout",
          "text": [
            "****\n",
            "mantisshrimp\n",
            "Faces in the remote image: \n",
            "No faces detected.\n",
            "****\n",
            "timessquare\n",
            "Faces in the remote image: \n",
            "'Male' of age 30 at location 1644, 115, 1708, 179\n",
            "****\n",
            "rickandmorty\n",
            "Faces in the remote image: \n",
            "No faces detected.\n",
            "****\n",
            "logos\n",
            "Faces in the remote image: \n",
            "No faces detected.\n"
          ]
        }
      ]
    },
    {
      "cell_type": "code",
      "source": [
        ""
      ],
      "metadata": {
        "id": "ZYAD5lI-59Ga"
      },
      "execution_count": null,
      "outputs": []
    }
  ]
}