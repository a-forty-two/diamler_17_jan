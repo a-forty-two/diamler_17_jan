{
  "nbformat": 4,
  "nbformat_minor": 0,
  "metadata": {
    "colab": {
      "name": "PythonFundamentals.ipynb",
      "provenance": [],
      "authorship_tag": "ABX9TyM+cjgV17VA35tNQip+qQQG",
      "include_colab_link": true
    },
    "kernelspec": {
      "name": "python3",
      "display_name": "Python 3"
    },
    "language_info": {
      "name": "python"
    }
  },
  "cells": [
    {
      "cell_type": "markdown",
      "metadata": {
        "id": "view-in-github",
        "colab_type": "text"
      },
      "source": [
        "<a href=\"https://colab.research.google.com/github/a-forty-two/diamler_17_jan/blob/main/PythonFundamentals.ipynb\" target=\"_parent\"><img src=\"https://colab.research.google.com/assets/colab-badge.svg\" alt=\"Open In Colab\"/></a>"
      ]
    },
    {
      "cell_type": "code",
      "execution_count": 1,
      "metadata": {
        "id": "5cK-se0hNSE7"
      },
      "outputs": [],
      "source": [
        "def fnname(args1, args2):\n",
        "  # do something\n",
        "  return args1+args2\n"
      ]
    },
    {
      "cell_type": "code",
      "source": [
        "# Series and Propagation\n",
        "# constructor styles:\n",
        "#  1) __init__ -> initialization very similar to C++ style constructors \n",
        "#  2) __iter__ -> init as an ITERATOR instead \n",
        "# next = num_prev1 + num_prev2 \n",
        "class Fibonacci:\n",
        "  def __iter__(this): # first arg is ALWAYS an object referring to itself\n",
        "    this.n1 = -1\n",
        "    this.n2 = 1\n",
        "    return this \n",
        "  def __next__(this):\n",
        "    this.n3 = this.n1 + this.n2\n",
        "    this.n1 = this.n2\n",
        "    this.n2 = this.n3 \n",
        "    return this.n3\n",
        "\n"
      ],
      "metadata": {
        "id": "O5kI0nvmN3kR"
      },
      "execution_count": 2,
      "outputs": []
    },
    {
      "cell_type": "code",
      "source": [
        "sequence = Fibonacci()\n",
        "seq = iter(sequence)"
      ],
      "metadata": {
        "id": "BmxLPpUkPZ5d"
      },
      "execution_count": 7,
      "outputs": []
    },
    {
      "cell_type": "code",
      "source": [
        "next(seq)"
      ],
      "metadata": {
        "colab": {
          "base_uri": "https://localhost:8080/"
        },
        "id": "YEC41nX5PqNF",
        "outputId": "d43ad9d1-d603-4222-b75b-57fb4974df90"
      },
      "execution_count": 8,
      "outputs": [
        {
          "output_type": "execute_result",
          "data": {
            "text/plain": [
              "0"
            ]
          },
          "metadata": {},
          "execution_count": 8
        }
      ]
    },
    {
      "cell_type": "code",
      "source": [
        "for i in range(20):\n",
        "  print(next(seq), end=' ')"
      ],
      "metadata": {
        "colab": {
          "base_uri": "https://localhost:8080/"
        },
        "id": "q1FCfYpFP5wF",
        "outputId": "eaf0dc36-abcd-4dd3-bc63-04729a8d4ad0"
      },
      "execution_count": 9,
      "outputs": [
        {
          "output_type": "stream",
          "name": "stdout",
          "text": [
            "1 1 2 3 5 8 13 21 34 55 89 144 233 377 610 987 1597 2584 4181 6765 "
          ]
        }
      ]
    },
    {
      "cell_type": "code",
      "source": [
        "# no polymorphism:\n",
        "def pikachu(abc):\n",
        "  return abc+1\n",
        "\n",
        "def pikachu():\n",
        "  print(\"bye bye world\")"
      ],
      "metadata": {
        "id": "VGiPOIkwP-iG"
      },
      "execution_count": 10,
      "outputs": []
    },
    {
      "cell_type": "code",
      "source": [
        "# we expect error on below\n",
        "pikachu(123)"
      ],
      "metadata": {
        "colab": {
          "base_uri": "https://localhost:8080/",
          "height": 184
        },
        "id": "7vr0SOVHQXlQ",
        "outputId": "cdf2caba-9ebc-4ee6-8595-706e3995a737"
      },
      "execution_count": 11,
      "outputs": [
        {
          "output_type": "error",
          "ename": "TypeError",
          "evalue": "ignored",
          "traceback": [
            "\u001b[0;31m---------------------------------------------------------------------------\u001b[0m",
            "\u001b[0;31mTypeError\u001b[0m                                 Traceback (most recent call last)",
            "\u001b[0;32m<ipython-input-11-dbfce278defa>\u001b[0m in \u001b[0;36m<module>\u001b[0;34m()\u001b[0m\n\u001b[1;32m      1\u001b[0m \u001b[0;31m# we expect error on below\u001b[0m\u001b[0;34m\u001b[0m\u001b[0;34m\u001b[0m\u001b[0;34m\u001b[0m\u001b[0m\n\u001b[0;32m----> 2\u001b[0;31m \u001b[0mpikachu\u001b[0m\u001b[0;34m(\u001b[0m\u001b[0;36m123\u001b[0m\u001b[0;34m)\u001b[0m\u001b[0;34m\u001b[0m\u001b[0;34m\u001b[0m\u001b[0m\n\u001b[0m",
            "\u001b[0;31mTypeError\u001b[0m: pikachu() takes 0 positional arguments but 1 was given"
          ]
        }
      ]
    },
    {
      "cell_type": "code",
      "source": [
        "pikachu()"
      ],
      "metadata": {
        "colab": {
          "base_uri": "https://localhost:8080/"
        },
        "id": "-MoUmK0iQcb-",
        "outputId": "fb9bad30-0648-47c2-a28b-1e02d8699590"
      },
      "execution_count": 13,
      "outputs": [
        {
          "output_type": "stream",
          "name": "stdout",
          "text": [
            "bye bye world\n"
          ]
        }
      ]
    },
    {
      "cell_type": "code",
      "source": [
        "# default args can be used\n",
        "def pikachu(a, b=1):\n",
        "  print(b+a)"
      ],
      "metadata": {
        "id": "UObTUtSLQipb"
      },
      "execution_count": 14,
      "outputs": []
    },
    {
      "cell_type": "code",
      "source": [
        "pikachu(42,1)"
      ],
      "metadata": {
        "colab": {
          "base_uri": "https://localhost:8080/"
        },
        "id": "eIhcJIDzQ2kH",
        "outputId": "eee0720f-3de9-49ef-c6ae-6b35299751eb"
      },
      "execution_count": 17,
      "outputs": [
        {
          "output_type": "stream",
          "name": "stdout",
          "text": [
            "43\n"
          ]
        }
      ]
    },
    {
      "cell_type": "code",
      "source": [
        "pikachu(42)"
      ],
      "metadata": {
        "colab": {
          "base_uri": "https://localhost:8080/"
        },
        "id": "To9CWuiWQ3k3",
        "outputId": "fff2d919-4a57-43a1-bba5-547e2aa42a4e"
      },
      "execution_count": 16,
      "outputs": [
        {
          "output_type": "stream",
          "name": "stdout",
          "text": [
            "43\n"
          ]
        }
      ]
    },
    {
      "cell_type": "code",
      "source": [
        "# 1 line execution capability!\n",
        "# syntax\n",
        "# var_name = lambda inputs : what to do with those inputs\n",
        "\n",
        "pikachu = lambda x,y: x**y "
      ],
      "metadata": {
        "id": "C6cczlCSQ4kJ"
      },
      "execution_count": 18,
      "outputs": []
    },
    {
      "cell_type": "code",
      "source": [
        "pikachu(5,2)"
      ],
      "metadata": {
        "colab": {
          "base_uri": "https://localhost:8080/"
        },
        "id": "6g-pBeEJTjC1",
        "outputId": "28f6ba79-1191-433d-ef25-d2e6318badd0"
      },
      "execution_count": 19,
      "outputs": [
        {
          "output_type": "execute_result",
          "data": {
            "text/plain": [
              "25"
            ]
          },
          "metadata": {},
          "execution_count": 19
        }
      ]
    },
    {
      "cell_type": "code",
      "source": [
        "def powers(y):\n",
        "  return lambda x: x**y "
      ],
      "metadata": {
        "id": "rP4p2pGuTlRV"
      },
      "execution_count": 26,
      "outputs": []
    },
    {
      "cell_type": "code",
      "source": [
        "square_power = powers(2) # y is made constant to 2\n",
        "cube_power = powers(3) # y is made constant to 3\n",
        "# now we have 2 LAMBDA functions!"
      ],
      "metadata": {
        "id": "T4uH3WgSTwmg"
      },
      "execution_count": 27,
      "outputs": []
    },
    {
      "cell_type": "code",
      "source": [
        "square_power(6)"
      ],
      "metadata": {
        "colab": {
          "base_uri": "https://localhost:8080/"
        },
        "id": "6_MB-JoYT9uQ",
        "outputId": "c9b45d35-5d1a-4030-8361-8a8dbc9f0092"
      },
      "execution_count": 28,
      "outputs": [
        {
          "output_type": "execute_result",
          "data": {
            "text/plain": [
              "36"
            ]
          },
          "metadata": {},
          "execution_count": 28
        }
      ]
    },
    {
      "cell_type": "code",
      "source": [
        "cube_power(3)"
      ],
      "metadata": {
        "colab": {
          "base_uri": "https://localhost:8080/"
        },
        "id": "kjbt3CkWUsmz",
        "outputId": "47ce94f5-65bf-49ee-e63f-e4d110c4cb99"
      },
      "execution_count": 29,
      "outputs": [
        {
          "output_type": "execute_result",
          "data": {
            "text/plain": [
              "27"
            ]
          },
          "metadata": {},
          "execution_count": 29
        }
      ]
    },
    {
      "cell_type": "code",
      "source": [
        "# Lambdas-> help with massive transformation logics"
      ],
      "metadata": {
        "id": "tjTC-F0PU3jv"
      },
      "execution_count": 30,
      "outputs": []
    },
    {
      "cell_type": "code",
      "source": [
        "# datasets-> strings \n",
        "# Mumbai, Delhi, Bengaluru -> 0,1,2 \n",
        "\n",
        "# LABEL ENCODING -> strings into numbers! \n",
        "# FILTER the data, dictionary\n",
        "\n",
        "# "
      ],
      "metadata": {
        "id": "25YyjhRKVDgb"
      },
      "execution_count": 31,
      "outputs": []
    },
    {
      "cell_type": "code",
      "source": [
        "dx = ['Mum','Del','Ben','Mum','Del','Ben','Mum','Del','Ben','Mum','Del','Ben']"
      ],
      "metadata": {
        "id": "Vg-MUTyXVX9R"
      },
      "execution_count": 40,
      "outputs": []
    },
    {
      "cell_type": "code",
      "source": [
        "dictionary = {'Mum':0,'Del':1,'Ben':2}"
      ],
      "metadata": {
        "id": "MKgKi5f5VduU"
      },
      "execution_count": 33,
      "outputs": []
    },
    {
      "cell_type": "code",
      "source": [
        "tx = lambda x : dictionary[x]"
      ],
      "metadata": {
        "id": "3STKTLaQVmjk"
      },
      "execution_count": 34,
      "outputs": []
    },
    {
      "cell_type": "code",
      "source": [
        "import numpy as np\n",
        "dx = map(tx,dx)\n"
      ],
      "metadata": {
        "id": "ApnPDIduVsw2"
      },
      "execution_count": 42,
      "outputs": []
    },
    {
      "cell_type": "code",
      "source": [
        "list(dx)"
      ],
      "metadata": {
        "colab": {
          "base_uri": "https://localhost:8080/"
        },
        "id": "GZfcDNYdVvTF",
        "outputId": "60dfbc38-94a7-46b7-a136-16985cb20d80"
      },
      "execution_count": 44,
      "outputs": [
        {
          "output_type": "execute_result",
          "data": {
            "text/plain": [
              "[0, 1, 2, 0, 1, 2, 0, 1, 2, 0, 1, 2]"
            ]
          },
          "metadata": {},
          "execution_count": 44
        }
      ]
    },
    {
      "cell_type": "code",
      "source": [
        "# tabular-> CSV, TSV, Excel, SQL DBs \n",
        "# file-> small-> images, text, binary, \n",
        "#        large-> Apache parquet, columnar (cassandra, HBase, Hive), Apache ORC, \n",
        "#                  Apache Avro (streaming- games, IoT, sensors)\n",
        "\n"
      ],
      "metadata": {
        "id": "5tcMKdEgWecL"
      },
      "execution_count": 45,
      "outputs": []
    },
    {
      "cell_type": "code",
      "source": [
        "# small data-> that can be stored in 1 machine\n",
        "# big data-> that CAN NOT be stored in just 1 machine\n",
        "# 1 Machine can store 2 numbers\n",
        "# [1,2,3] -> Big data\n",
        "\n",
        "# OLTP-> SQL Server, MySQL, PostgreSQL-> \n",
        "# Linked List approach \n",
        "# M1-> [1,2] , M2-> [3]"
      ],
      "metadata": {
        "id": "YGqQmpbEYxlS"
      },
      "execution_count": 46,
      "outputs": []
    },
    {
      "cell_type": "code",
      "source": [
        "# if M1 is updating, power cut, calamity-> UNAVAILABLE\n",
        "# 1,2 -> will be lost!"
      ],
      "metadata": {
        "id": "nlwRcqmrZPNq"
      },
      "execution_count": 47,
      "outputs": []
    },
    {
      "cell_type": "code",
      "source": [
        "# Replication approach\n",
        "# M1-> [1,2] , M2-> [3]\n",
        "# M3-> [1,2] , M4-> [3]\n",
        "# BUT-> to store 3 numbers, now we need 4 machines!"
      ],
      "metadata": {
        "id": "sZX4vkMVZXqf"
      },
      "execution_count": 48,
      "outputs": []
    },
    {
      "cell_type": "code",
      "source": [
        "#This approach of replication for available works only with SMALL data\n",
        "# with OLTP"
      ],
      "metadata": {
        "id": "g0L3XBMbZhjg"
      },
      "execution_count": 49,
      "outputs": []
    },
    {
      "cell_type": "code",
      "source": [
        "# for OLAP, we perform SHARDING \n",
        "\n",
        "# M1 -> [1,2]\n",
        "# M2-> [2,3]\n",
        "# M3-> [3,1]\n",
        "\n",
        "# if M1 was out, we still have 1,2,3 available in \n",
        "# other 2 machines!\n",
        "\n",
        "# Replication is for disaster recovery here, not for fault tolerance!\n",
        "\n",
        "\n"
      ],
      "metadata": {
        "id": "8RxVe01iZt4a"
      },
      "execution_count": 50,
      "outputs": []
    },
    {
      "cell_type": "code",
      "source": [
        "!echo \"pikachu is very hungry today.\" > abc.txt\n",
        "!ls "
      ],
      "metadata": {
        "colab": {
          "base_uri": "https://localhost:8080/"
        },
        "id": "3OWdQlBsaDMG",
        "outputId": "80f6f60f-e041-47bb-dbea-37066681fece"
      },
      "execution_count": 51,
      "outputs": [
        {
          "output_type": "stream",
          "name": "stdout",
          "text": [
            "abc.txt  sample_data\n"
          ]
        }
      ]
    },
    {
      "cell_type": "code",
      "source": [
        "!cat abc.txt"
      ],
      "metadata": {
        "colab": {
          "base_uri": "https://localhost:8080/"
        },
        "id": "T6htYB-vaoRK",
        "outputId": "89481dd1-8357-4a25-a3f8-5990235300f8"
      },
      "execution_count": 52,
      "outputs": [
        {
          "output_type": "stream",
          "name": "stdout",
          "text": [
            "pikachu is very hungry today.\n"
          ]
        }
      ]
    },
    {
      "cell_type": "code",
      "source": [
        "data = open('abc.txt', 'rb') # read binary\n",
        "data.read()"
      ],
      "metadata": {
        "colab": {
          "base_uri": "https://localhost:8080/"
        },
        "id": "tG4VlVxiarUR",
        "outputId": "16e7b513-dec8-4632-bb48-0071cc662ff1"
      },
      "execution_count": 54,
      "outputs": [
        {
          "output_type": "execute_result",
          "data": {
            "text/plain": [
              "b'pikachu is very hungry today.\\n'"
            ]
          },
          "metadata": {},
          "execution_count": 54
        }
      ]
    },
    {
      "cell_type": "code",
      "source": [
        "data = open('abc.txt', 'rt') # read text\n",
        "random_data = data.read()\n",
        "random_data"
      ],
      "metadata": {
        "colab": {
          "base_uri": "https://localhost:8080/",
          "height": 35
        },
        "id": "gf_Bii3la7n4",
        "outputId": "e17d4141-3dd6-4fae-945c-7c1cce524a56"
      },
      "execution_count": 71,
      "outputs": [
        {
          "output_type": "execute_result",
          "data": {
            "application/vnd.google.colaboratory.intrinsic+json": {
              "type": "string"
            },
            "text/plain": [
              "'pikachu is very hungry today.\\n'"
            ]
          },
          "metadata": {},
          "execution_count": 71
        }
      ]
    },
    {
      "cell_type": "code",
      "source": [
        "data2 = open('blah.csv', 'wt')\n",
        "print(random_data)\n",
        "data2.write(str(random_data.split()))\n"
      ],
      "metadata": {
        "colab": {
          "base_uri": "https://localhost:8080/"
        },
        "id": "KXphMXnubHBr",
        "outputId": "d77003c3-9ccd-419b-9fad-a56dccf46234"
      },
      "execution_count": 73,
      "outputs": [
        {
          "output_type": "stream",
          "name": "stdout",
          "text": [
            "pikachu is very hungry today.\n",
            "\n"
          ]
        },
        {
          "output_type": "execute_result",
          "data": {
            "text/plain": [
              "45"
            ]
          },
          "metadata": {},
          "execution_count": 73
        }
      ]
    },
    {
      "cell_type": "code",
      "source": [
        "data2.close()"
      ],
      "metadata": {
        "id": "ovopGhQ4bffr"
      },
      "execution_count": 74,
      "outputs": []
    },
    {
      "cell_type": "code",
      "source": [
        "!ls"
      ],
      "metadata": {
        "colab": {
          "base_uri": "https://localhost:8080/"
        },
        "id": "rHxwu18XcBjb",
        "outputId": "1533dcb7-8b47-4e1c-d0e5-94d6249ca458"
      },
      "execution_count": 75,
      "outputs": [
        {
          "output_type": "stream",
          "name": "stdout",
          "text": [
            "abc.txt  blah.csv  sample_data\n"
          ]
        }
      ]
    },
    {
      "cell_type": "code",
      "source": [
        "!cat blah.csv"
      ],
      "metadata": {
        "colab": {
          "base_uri": "https://localhost:8080/"
        },
        "id": "9tXdn_fgcDQ6",
        "outputId": "3970a2ea-3bfd-45ce-fb0a-da705549925d"
      },
      "execution_count": 76,
      "outputs": [
        {
          "output_type": "stream",
          "name": "stdout",
          "text": [
            "['pikachu', 'is', 'very', 'hungry', 'today.']"
          ]
        }
      ]
    },
    {
      "cell_type": "code",
      "source": [
        "!ls"
      ],
      "metadata": {
        "colab": {
          "base_uri": "https://localhost:8080/"
        },
        "id": "8z5aM28WcFJj",
        "outputId": "1c6b46a9-7506-414c-8969-56b126e040c7"
      },
      "execution_count": 77,
      "outputs": [
        {
          "output_type": "stream",
          "name": "stdout",
          "text": [
            "00001.png  abc.txt  blah.csv  sample_data\n"
          ]
        }
      ]
    },
    {
      "cell_type": "code",
      "source": [
        "img1 = open('00001.png', 'rb')"
      ],
      "metadata": {
        "id": "T1wFts2BdKxk"
      },
      "execution_count": 78,
      "outputs": []
    },
    {
      "cell_type": "code",
      "source": [
        "imgdata = img1.read()"
      ],
      "metadata": {
        "id": "N6PeSzwjdQJ9"
      },
      "execution_count": 79,
      "outputs": []
    },
    {
      "cell_type": "code",
      "source": [
        "imgdata"
      ],
      "metadata": {
        "colab": {
          "base_uri": "https://localhost:8080/"
        },
        "id": "MHzjbdeFdTr7",
        "outputId": "fef96a41-c5aa-4ada-912f-19b6940d376a"
      },
      "execution_count": 80,
      "outputs": [
        {
          "output_type": "execute_result",
          "data": {
            "text/plain": [
              "b'\\x89PNG\\r\\n\\x1a\\n\\x00\\x00\\x00\\rIHDR\\x00\\x00\\x00@\\x00\\x00\\x00@\\x08\\x02\\x00\\x00\\x00%\\x0b\\xe6\\x89\\x00\\x00 \\x00IDATh\\x81M\\x9aY\\xac\\xae\\xe7U\\xdf\\xd7\\xf0<\\xef\\xf0M{\\xfc\\xf6\\xdeg\\x9f\\xd1\\xc7>\\x1e\\x8eGb\\xc7!qp\\x9c\\xe0\\x90P\\n\\x89\\x1a\\xb5\\x94\"T\\x86\\x80*\\xb5\\xcaM{\\xc3Eo:PT\\t\\xa4\"\\x15\\xa9\\x02\\xa4\\x8a\\x96P5$PH\\n\\xc1\\x818\\xc6!`\\'\\x8e\\x9d89\\x1e\\xce\\xb1}\\xe6=\\x7f\\xf3;=\\xcfZ\\xab\\x17\\xefv\\xd4O\\xfbbK\\xdf\\xc5\\xf7\\xacw\\xad\\xf5_\\xbf\\xffz^\\xfc\\x93\\xdf\\xfd\\xf7i\\'\\xf5f\\xb5 ;\\x95&\\x12rwy%\\xd63ry\\xda\\xe9H5\\x8a\\x8a\\x00\\x0bSwXOR\\x82XB\\xdd\\xf8\\xe5\\xe5U\\xd5\\xc2w1Le6\\x99\\xe6i\\x97\\xd2\\xa4\\xbf\\xb4\\x12\\x83\\x05=d\\x07\\x8e\\\\\\xeeW\\x85\\xeby5GI\\xeb`\\x9b+4=\\xac\\x88\\xfc\\xb4\\xd6~\\x7f\\x85\\x9dW\\x89*\\r\\xd1\\xe2\\xe6\\xce\\xe5\\xe5d=\\x1b\\x9c\\xe8\\xf7\\xfbI\\xe2\\xdf\\xbare\\xb0\\xb4\\x12c\\x10\\x03\\x00s\\xe4\\x06K\\x83\\xa6\\xae\\xbcK\\x9dg@\\x04\\x80\\xa2X\\xa4i\\xea\\x8c\\x98\\x9co\\xaa\\x9as\\x1b\\x1f\\x95\\xdb[\\xa7\\xd9a\\x92\\xa4~em<\\x9b\\xee\\x1c\\xdd\\x8au\\xbd\\xbd4\\xbc|m?@\\x91\\xfat\\x1emei+\\xcd={\\xee\\xf8\\xee\\xee\\xfe8\\x05\\xbfu\\xe6\\xc2\\xe1\\xfeQ?\\xef\\x96UE\\xa49\\xbb\\xe1\\xd2\\xf2\\xf0\\xc4\\xc6\\x9b;\\xd7\\x06\\xbd.\\xdc\\x9e\\x99\\x13i\\xc2|\\xbe\\\\\\xba\\xcc\\x91\\xcb\\x1cTM\\xc3\\xa1\\xc9\\xd2<H\\xbcqs4\\\\\\xbd{\\xfb\\xc46:\\n1Ng\\xd5\\xd2\\xcaPbX_\\x1fN\\xa6\\xd34\\xcb\\x07\\xbd\\xfe\\xc1\\xd1\\x88\\xa2\\xce\\x8a\\x91\\xf9\\xb4\\x93g\\x12\\x83\\xe3\\x84\\xd9\\xf1\\'?\\xfe\\x81b>\\xa5\\xdc\\x19\\xdb\\x85\\xf3\\xf7\\xa3\\xf7\\xb7\\xf7n\\x07\\xab&\\xc5\\x01)e\\xae\\x9f$]A^Z\\xdaX\\xcc\\xcb\\x83\\xa3\\xf1\\xb9s\\x17\\xd1\\xa7k+\\x9d\\xa2\\xa8\\xa7\\x85\\xb1K\\x9b\\xa6J:\\x04\\xc4\\xcew\\x0cyk\\xb8z\\xef=\\xf7\\xe6]?k\\x16UQ0\\xbb\\xf9\\x0c\\xc5\\xdc\\xca\\xf2f\\x7fy=a\\xf6>\\x01\\x80\\xa2\\x9a\\xf7;\\x9d$M$j\\x9a$\"\\x84\\x84\\xb3\\xe9$\\nt;Y\\x9a\\xf0\\xea\\xdar\\x88RUMU\\xd6o\\\\\\xbe\\x8a\\xd2T\\xb1D\\x87\\xa2\\x90\\xb0W\\xa3,K\\xa3\\x02\\xff\\xfcO\\xff\\xc3<\\xe7,\\xf3\\xfd\\xee\\xe6\\xac\\x9e3@\\x15\\xa6P-\\xaa\\x10Ol\\x9ec\\xe2$\\xc7\\x00U\\x14\\x18\\xae\\x9d\\\\[\\xdd@N\\xaa\\xa6\\xe9\\xa6\\xe9p\\xb8\\xe2]u\\xef]\\'\\x07\\x83\\xfc`ow<\\x19S\\xd2\\xed\\xa5xr\\xbb\\x83\\xd0L\\x8a\\xb1\"41\\x86\\xd9\\x9c\\x92>S^\\xc5Z\\x94\\x8b&\\x96U\\x05H\\x1a\\xea$O\\x12Ng\\xf3\\x05\\xbb\\xa4\\xd7\\xef:\\x06\\x03\\xe7\\xc8\\xa2\\x00 T\\xb5Lg\\xd3\\xa3\\x83\\xfd\\xa2\\\\\\xf4\\xfa\\x99\\x02\\x98\\xe9\\xb8\\xd8c\\xe7\\xf2l\\xd0T\\xc5d2\\xf6Y\\x87\\x7f\\xf1\\x17>\\x95g\\x83$\\x1d\\xf4z)F+\\xea\\xd2\\xa7\\xde\\xa8\\xeb\\xb9\\xb7>\\xc8\\xd7\\x86~Z\\x8fg\\xb3\\x99\\x83\\xac\\x0e\\x1a\\x01\\x17Uun{mc\\xa3W7\\xf5bZ\\x84zts\\xef\\xe0`l\\xcb\\xeb\\'\\x1c\\xfb\\xf5>\\x85\\xe9\\r#hB#&\\xd1\\xc2xZ\\x91O=u\\xd5|\\x13e6\\x1aUM\\xd9\\xeb\\xe4>IM-\\x84\\x98e\\x89\\xf3\\xd4\\xebd\\xbdn\\x07\\xd9\\x16\\xf3\"\\n\\x82)!\\xb1O\\r\\xc9\\xa79 \\xb0s\\xce\\xb9\\xd5\\x95S\\xac`\\xa8F\\x9cvzh\\xc8\\xff\\xe4\\x13\\x1f\\xbc2z\\xcdG\\xd7\\xd4E\\x9d\\xd0\\xad\\xc3\\xeb{\\xc5\\xed\\xbd\\xf1\\xf5%\\xec\\xddu\\xd7\\xfa\\xad\\xc3\\xdd\\xe9\\xe4\\xe8\\xfb\\xd7^Sb\\xd6\\xacn\\x8a\\xb5^\\xb6\\xb2B\\xb3\\xd1\\xe8\\x9dk\\x93[{\\xf3\\xabo\\xdf\\\\\\xe9f\\x0f<pw\\xea\\xe9pR(V)\\x91O\\xfd\\xbc\\xacv\\x8f\\x0e=9OLF\\x92*\\xa3\\x01\\xa4\\xc0l*Q\\xa5\\x97\\xa5\\x87\\xfb\\xa3\\x10\\x9aN\\x96\\xf6z\\x9d4\\xc5\\x12\\x8b\\xdb\\x87\\x07\\x0e\\xbbu],\\x9af4\\x9dO\\'c$\\x16@DtIF\\xec\\r\\xd4\\xb1\\xab\\xabR\\r\\x92$5\\x8b\\x0e\\xb9\\x7f\\xd7\\xea\\xfd\\x00n\\xd6\\x1c-vGu3_\\x1bl\\x976^\\xdb\\xc8\\xaf\\xbc\\xf3FY\\x9b\\x94v~\\xf5Ad7::<8<tg7\\xc6\\xa3\\xb2\\xe7(\\x94\\xd8\\xedd\\xc3\\xf5;O\\x9dH\\x01\\x16.5\\x88\\xc1Eq\\x83\\xfc\\xd6\\xc1\\xc1\\xf2\\xeaZ\\xd8\\xbf\\x1e\\x00%I\\xebY8\\xdc\\x7f\\xbb\\xdf__\\xeb\\x9e\\xdb\\x19\\x1f\\xac\\xad\\r\\xe7\\xd3\\x89t\\xdd\\xf2\\xea\\xc0\\x11F\\xb0\\xf1h\\x1cl4\\x9b\\x1flm\\x9c[\\x94\\x08Ij!\\xf6\\xfb9\\x98\\x1a\\x98O\\xf3\\xa6,\\xba\\xdd\\x0e\\x1a\\xce\\x17\\xd3J\\xad\\xd3[\\xd6\\x18\\xab\\xbaB\\x00\\x97w\\xfaY\\xce.A7\\xcdzY$G\\x8e`\\xf9\\xd4\\xc9(\\xb3W_\\xbd\\xea0\\xd9\\xd8\\xb8c:\\x9a!`\\xb7\\xdbq\\xcce\\xa5\\xa1\\x8c\\xd3\\x08\\x1bgN\\xac\\xf4\\xfa\\xfd%\\'a2\\x19O\\xc7GU\\xea\\x07U3>\\x1a-\\x86\\'N\\x1eMF\\xddd#\\xc4<#\\xa8\\x0cs\\x1dd\\x11\\x9aXonn\\xef\\xee\\xect\\xfb\\x9d\\xaa)c\\xdd\\xd4u\\\\YN\\xbaKxt\\x04\\xbd\\xfep\\xb2 \\xc3&D\\x8d\\xd2\\x98j\\x92\\xa5\\x84D\\x84Y\\xa73\\x99\\x8d;\\xce\\xa9\\x8a\\'\\x978nLE,\\x8a\\xb8\\xa2*\\xa24\\xb1\\x9c\\xa5\\xd9Z\\x9a\\r\\x16\\xe5\"h3)\\x0e\\xb4.\\x07~\\xfd\\xd6\\xe8\\xb0\\xdb\\xaf}\\xe2\\xb2\\xbcS\\xcc\\x17i\\xde-\\xca\\x05\\xa4K\\xc33C\\x88qQ\\x1d\\xc6\\x18\\xeb\"\\xce\\x17b\\xbe;\\x19\\x1f\\xf6\\xb2\\x90\\xfbtwt\\x88\\xb5\\x05\\xe8\\xd7b\\xb3\\xa9u:\\xe9\\xf6\\xda}\\x8bE1\\x9d\\x15j\\x8b\\xa5\\xe5AQ\\x94!\\xd6\\x1d\\x9fd>\\x19\\x8d\\x0fv\\xc7\\xf3\\x8c\\xf2Y\\x0c\\xfd$\\x17\\xd5\\xc4{JR\\xc7NM\\x90@E\\x9b\\xaa\\x90\\xc5\\xf8\\xe6h|\\xe2\\x8e{\\x9c\\xf3f@\\xc4\\xd3\\xe9\\xb4l\\x823m\\xaaY\\x85\\xae\\x7f\\xf9\\xea\\xed\\xed\\xe5b\\xbe\\xb3s\\xbb\\x9e\\x9f\\xdb\\xec9\\xd7\\t\\x89\\xebuV\\x80\\x92\\xbc\\xe3\\x9a\\xbaI;=D\\x1c,\\xad\\x81J\\xa8\\x8bn\\x86\\xb1\\xa9\\x9b\\xb9F\\xec\\xf3rR\\xd7\\xa5\\xcba\\xb8\\xb1\\x16C\\xc3b7\\xa6\\xb3\\xbe\\xd7N\\xb6\\xb6~r\\xbb\\xae\\x9b\\xfd\\xc3\\x83\\xa2,\\xd1\\xd0y\\x1e\\x8d\\xc6\\x9b\\xeb\\xeb\\xde%\\xf3\\xc5\\xe8\\xda\\xd1\\xce\\xb0\\xd3\\x19\\x8f\\xab[\\x8b\\xd1\\xf6p\\xcb\\xf9d\\xb5\\xbfR\\xd4\\x05\\x04\\xc9\\xb2\\xac,\\x0b\\x04\\x9a/\\xe6\\x14\\xa5\\x8a\\xdc]\\xdf\\xacb\\x93 6\\x8bY\\x1d\\xe3\\xd1h\\xec\\x92\\xc4\\xcd\\xa6\\x85\\xf3i7M~\\xeb\\xb7\\xbfp\\xf7\\x99\\xe5\\'\\x7f\\xe4=\\xfd\\xfe\\xf2\\xbc\\xd64q>KW\\xf3\\x15\\x9f\\xa4M\\x08\\x1e1\\xc6\\x86)U\\x8d\\x80v\\xb0\\xb3\\xb3\\xb9\\xd4\\x19\\xcfk\\xecx\\xc9\\xae\\xc5E\\xe8\\xd8zN\\xbd\\xa6\\x0c\\x8b\\xaa\\xe1&&\\xb5Q\\x92\\x951\\xbc\\xfd\\xceU\\x91@\\x80i\\x9ad\\xbe\\xc3\\xcc\\x9d\\x8e\\x16Mst\\xfb\\xb6qU/\\xa6{b\\xb3\\xaa9\\xb5}n\\xd0\\x1fr\\x92\\x1c\\x8e\\x0f%*9\\xc2\\x1aF\\xe3Q\\xd3\\xc4,\\xcb\\x18L\\x11\\x01\\\\\\x0c\\x12\\xeb\\xc5\\xe1\\xc1\\xc1\\xbc,\\xd7V\\x96\\x10\\x08?\\xff\\x07\\xbf\\x95\\xe7\\xf9\\xe5\\xb7\\xdf\\x9e\\xec\\x1d\\\\|\\xe0\\xc2\\\\\\xe6[+\\xab\\xf3\\xa9\\x86\\xb0P\\x80\\xf5\\xf5\\x93bV,\\xe6\\xb1\\xae\\x8d \\xf1ISU{\\x07G\\xec\\xac\\xe6\\x11\\xf5\\x0bD\\n\\xa1\\x1ef\\xe7sY\\x89q\\x91\\xf8(\\xa6\\x08\\x83\\xac300\\x03`b$\\x8aM\\x8c16!\\x04\\x89\\x1a\\x02\\x82)K/\\xcfH\\xfd\\\\g(\\x8d\\x87\\x8eaJD*\\x11\\x11\\t\\xa0\\taii5H=\\x9b\\x17K\\x83\\x011Ue\\x83\\x04\"BH\\xec\\x98\\x10B\\x13\\xf0\\xcf\\xff\\xf8wB\\x08\\xa6j\\x88\\xa3\\xf1\\x84e\\xba\\xb4\\xb4\\x89>\\xa9\\x9a\\x10\\x9ah*\\x80\\xc0\\n\\xec\\x18\\x08\\xd89\\x00*\\x8a\\xc5\\xd1x\\x97\\x13K9)\\x16u\\xbf7P \\x8b\\xc2\\x04UU\\xaa\\x94\\xdd\\xfe\\xbas\\x99!2B\\x14\\t!\\x88a\\x96\\xb8\\xa6\\x110\\x89!\\xaa\\xc5,u`\\x1cP\\x12\\x98#:v\\xcbi\\xd6I\\x12_\\x96\\xd5d2\\xdb\\xda\\\\\\xdf\\xdf?\\xf2\\xde\\x0f\\xd7\\xd7\\r\\x8c\\x92\\xb4\\x9c\\xcf\\x14\\x81\\x00\\x91\\x90\\xc8\\x01\"\"z\\xef\\xf0\\xb3\\xff\\xfd7$\\xc6\\xa8q1+$\\x8as\\xcc\\xcc!\\x04\"\\xect:\\x8ey\\xb6(\\xbd\\xc7\\xd4\\xa5I\\x9a\\xd4Uejb\\xc2\\xe4\\xb2\\xd4\\xd7Q\\x11 \\x86\\xba\\xdbs\\xb3I\\xc1\\x94\\xb1G\\xefR1iB\\x04\\x033E@\\xf2\\xd8\\xd4\\xe2\\x1cfi\\xbe\\x98-z=.Js\\xce\\x85\\x10\\xeb\\xaa\\x00\\xa04u\\xec\\xbc\\x88\\x06\\x91N\\x9e\\xabX\\x14Q\\x15D\\x004&of\\xa2\\x9ae9\\x11F\\x11\\x00\\xd5F\\x9a\\x18\\xd8\\xb1\\xdb\\xdf;\\x000\\x00\\x00\\x80\\xbc\\x93\\x87\\xba\\nM\\xf4\\xec]\\xe2\\xea\\xa2.\\x10\\t!F\\xab\\xeb\\x8a\\x16\\x95\\xf3n\\xbeX \\xb2sa4\\x9dk\\x08\\xc4D\\xe4\\x16\\x8bjem\\xbd,\\x0b\\x04&f4\\x97w\\x06fj\\xa2f\\x8aD\\x83>\\x87&\\xd6u\\xb5\\xba>D$N\\x82\\x8a\\xac\\xafuB\\xa8\\\\\\xd6\\x03rE1\\xcf\\xbcgG\\xa1\\x89\\xc4\\x9c&iU,\\\\\\xe2L,\\xaa\\x10\\xb3c\\'\\xaajBHEQ\\xf46\\x07`Z\\x14\\xa5[[^2\\x00Uu\\xccEU$i\\xda\\xe9\\xe4`\\xd4\\xc4\\xe8\\x9cu{\\x9d\\x10\\x84\\xd8! {d\\xe7\\xd6\\xc2\\n\\xb1W\\x13&\\xcf\\x0c\\xaa\\x02\\x86>I\\x00\\xc0`E\\xa2\"\\x19\\x02!\\x82\\xf7\\x89\\x8a\\x8a\\t(8F\\xec2\\x11\\x82\\xa1\\x9a 9\\x000S\\x97\\x0f\\xaa\\xd1\\xde\\xda\\xe2\\xea\\x99A~c\\xde\\x9f4T\\x10\\x9b\\xc4~\\xb7[\\x94\\xa5\\x89\\xaa)!\\x10\\xa1hT5\\x15A\\xa2\\xba\\xa9\\x0f\\xf6\\xf7\\x9d\\xf7\\xa1i\\xdc\\xbc\\xac\\x88\\x89\\x88\\x82(\\x91s>Eb\\x00K(e&\\x03\\xf2\\t\\xc5\\x10]\\xe2EM\\xeb\\x9a\\xd9\\x01B\\xe2\\xbcw\\x89\\x01\\x00s].\\xca\\xb2\\x881\\xb0\\xf3\\x04$&\\x8e|\\x08\\xa5\\x8a!3;\\x06#@\\xd1 \\x06\\xd6\\x04q\\x8e\\xca\\xb2\\xd0&\\x8c\\xaf\\xefn\\xe4\\xd6\\x89\\xb7\\xbfz\\xf3\\xd0%\\x83$\\xa1_\\xf9\\xc9\\x87\\xdf\\xba\\xbd\\xf8\\xde\\xa8\\xfe\\xab\\x17\\xf6\\x97:Yn\\xc9\"\\x98\\xc4\\x18B}\\xee\\xdczge\\x90\\xe7]\\xe7\\xfc\\xd2`P\\xd7\\x8d\\x82\\xf5z}\\'\\x86\\x04\\xcc\\x9c\\xcc\\x17s\\xcf\\x84\\x04b:\\x9b\\x8c\\xb3\\xc4K\\xd3\\x10\\x91\\xcb\\xbaj\\x80\\x14\\xca\\xa2D&\\x02R5t\\xa8!\\x1a\\x02\\x0211@\\xf4>Q-\\xc5\\xcc3E\\x15P04\\x04\\x8e\\xb1\\x8eQ\\xd2$%\"U3P\\xc7\\x9e(y\\xf1[\\x97\\xfa\\xf3\\xeb\\xf7\\xdf\\xd3y\\xf9\\x8d\\xdb_\\xb9\\xe17\\x86\\xee\\xd3O\\xae\\xbeq\\xe5\\xe6\\xe5\\xdb\\xb3{7\\xf3?\\x9d\\x14K\\x04e\\xb3\\x98+\\x81\\x02\\x98\\x1c\\xec\\x1c\\x9c\\x18l\\xd4\\xd3\\x10b\\x056A \\xe78\\xc6\\xe8\\xca2\\x16\\xaa\\xce7u\\x15\\xba\\x9d|\\xbe\\x98;\\xef\\x88\\xd2:\\x92\\x02H\\x88\\x16\\x16\\xa6\\xa2f\\x12\\xea4\\xcb\\x99\\xb9\\xae\\xcb,\\xeb\\x00h\\x8c\\x06f\\x01 \\xcb\\xd2\\xaa.\\x00\\xd0\\x0cT\\xc8\\xb9\\xb4\\n\\x05\\x02e\\x99\\xf3>\\xebt]\\x0c\\x91\\x99E\\xa2\\xe3d\\xb1(\\x17\\xd1\\xcfwn>\\xb4:.\\xe2RU\\xd5?\\xb4\\xdd\\xd9C\\xb8\\xfbd\\xef\\x1b\\xdf\\xbcvm\\xd1{\\xf2\\xb1\\xb3\\x1b\\xb6\\xf3\\xdc\\xb3\\xaf\\xf6{\\xb9\\xcf\\x92\\xbc\\xdb\\xed9\\xfb\\xf6\\x0b\\xd7\\x7f\\xee\\xfe\\x87\\x9b\\xd9<\\xcb2\\xb5(\\xd1Bh|\\x9a\\xf0\\x8f}\\xf4)UU\\xb54K\\x14\\xcc\\x11\\x8a\\x1a3;\\xe7\\x00!I3\\x04\\xf4\\x89O\\\\\\n\\xe8\\x009qI\\x9auc\\x88F\\xce\\xccBT\\xefR\\x00V#UP#\\x00\\xac\\xeaF\\x15\\r!4\\xa1*\\xab\\xa6\\xaeLa\\xbe\\x98^\\xbfqc\\xbe\\x98\\xf7V\\xcf-a}Wz\\xb0\\xa85\\xeb\\xafNg\\x93\\xb7\\x8e\\x9a_\\xfd\\x99\\xc7.\\xdcw\\xe6\\xec\\xd9\\x8d\\xc7\\x1f>\\xb3\\x7f\\xe5\\xd2\\xc7\\x7f\\xec\\x83\\xa7/\\xdc?\\'5\\xe7*\\xc0\\x90\\xf4~\\xe4#O\\x81JU/\\x8a\\xba\\xa8\\xca*\\x84\\x00\\xc8D\\xe8\\xe6\\x8bR\\xc4\\x98(DA$\\xe7\\x08\\x91\\x9b\\x10\\xeb\\xa6q\\xce\\xd7M\\xc3d\\x8c\\x1cE\\x889\\xc6X\\xd55\"$i\\xe6\\x93\\xc4b\\x84\\x9c\\xcc\\xc4L=b\\x14\\x8e\\x1a\\xd1\\xc01{\\xef\\xc8\\xb9\\xe9x\\xba\\x7f8\\xd9\\xdd?x\\xfb\\xea\\xcdf\\x11\\x90h:\\x99\\xff\\xdc\\xcf\\x9f\\xbcu\\xe3\\xf5S\\x14\\x93,e\\xe7v\\xea\\xec\\x81\\x8b\\x9b\\xa7\\xd7\\\\\\x15\\xc8\\xe5\\x9d4\\xeb\\x0f\\xcf\\xdd\\xd1Y\\xd98\\xd3/\\r6\\xee|\\xe0\\xbe\\x95\\x8e\\x8bQ\\x0c)\\x8a\\x90\\xebxvL\\x145\"P\\x88\\xe6\\xa2\"\\x00(B\\x1d%qd\\xe0\\xea&:FS#B\\xe7\\x88\\x19%\\x08\\x92\\xf3L\\x06T\\x858\\x9b\\x94\\x97\\xaf\\xbc\\n\\xc4`\\x88\\x88QU\\xd5\\xb24\\xe9\\xa4L\\xcc\\x1b\\xc3\\x8d:\\xe8d<\\xfa\\xfeko\\xdd\\xb8u\\xb3\\x9b\\xa7\\x9b\\xeb\\xcb\\xc3\\xd5\\xd5\\xff\\xfc{\\xbfq\\xb0\\xb7\\xfb\\xe2\\xdf\\xfd\\xfd\\xe7\\xff\\xf0\\xb3w<\\xf4P\\xdfC\\xaf\\xbb&\\xa0\\xe7\\xef\\xbc\\xf0\\xe2k\\xaf}\\xe7\\xf5\\xfe\\xbd\\xf7\\xf8t\\xb0\\t\\xc5|\\xbe(\\x0f\\xeb\\xabU\\xc0\\xab\\x97\\xbe\\xb3\\xba\\xf9D4\\x06$f\\x9f&Y\\x13+\\x89\"\\x12D\\xd5\\x11\\x19\\xa2c\\x04 4\\xb3\\x18j\\xb4\\x88\\xa8Y\\x92\\x89\\n1T\\xd5\\xc2\\xd4\\x90\\x9d\\xf7\\xae*\\xaa\\xef\\xbe\\xfa\\xfa{\\x1e{\\xe2\\xc3\\x1f~\\xf2h<Z\\xdf:\\xf3\\xaf\\xff\\xcd\\xbf\\x1bnt\\x01\\xc1\\x11!\"\\x13;\\xef\\x00\\xa0\\x9b\\xa5Y\\x9e\\x0e\\xfa\\x9d\\xb2\\x98\\x83\\xeap}-qn<:\\xda\\xdf\\xdb\\x8b1\\xdcs\\xff\\xbd\\x9bk\\xab\\x87\\xd7\\xdf\\xf9\\xb3\\xa3\\x9d_\\xf8\\xd8co\\xee\\x1e\\x9e\\xda>}~\\xb3\\x7f\\xee\\xdc\\xd9\\xcf~\\xf1\\xa5\\x87\\x1e\\xbc\\xb0;\\x0e\\x17N\\xaf\\xc6\\x8a_\\xbf~t\\xf6\\x9e;\\x97\\x97\\xba\\xa2j\\xa8\\x1a\\xabF\\xcc\\x00\\x11\\x819I\\x10\\x01!\\x84\\x9a\\x9fz\\xeaI$F\\xa24\\xcd\\xbd\\xcf\\x0cYU\\x01(\\xaa\"1;\\xc7\\xce]z\\xfd\\xad/\\xfe\\xf9s7o\\xef>\\xf7\\xdcs\\xa7On\\xfe\\xf0\\xfb\\xde{\\xf2\\xc4\\x89\\xeb\\xd7\\xdf\\xdc\\xdb\\xbd\\x9d8vL\\x84\\xd0\\xedd\\x84\\xb8\\xb168\\xbd\\xbd\\x95\\xe7\\x1e\\x0c\\r\\xac\\xa8\\xea\\xcd\\xf55\\x95\\x90w\\xf2\\xa7?\\xfa4\\x98\\xad\\xac,\\x9bA9\\x1a\\x7f\\xef\\x9d\\xeb\\xaf\\xbey\\xe5G\\x1f\\xbd\\xafv\\xbd\\x9f\\xf9\\xe5\\xcf$\\xfd\\xe1\\x17\\x9f\\xbf\\x14V\\xef\\xfe\\xdbW\\xdezu\\xb7\\xb99\\t3\\xe2\\xadS\\'\\x10\\x91\\x88\\x89<\\xba\\x84)eB\\x97$fF\\x8e\\xcc\\xc0\\xd09\\x00\\xd0\\x18\\x88]T#m\\x00\\xd0T\\x99\\xc9T\\x8dhZ\\x84/\\xfc\\xf1\\x97\\xf7\\xf6\\xf6O\\x9f\\xdaj\\x82t:\\xf9\\xaf\\xfe\\xdb\\xffPW\\xd5\\xc7\\x7f\\xfcc7o\\xbc\\xb34\\xe8\\x19\\xa0\\x8a\\xb0s\\xab+}S8sz\\x9b\\x08\\xeb\\xdaJm\\x0c,\\xcf\\x92\\x10\\xeb\\xd4\\xbb<q\\x9e\\xa9\\xac\\x8bYh\\xde\\xff\\xa1\\x0f\\xbe\\xfa\\xd2\\xb7N\\xad\\xad}\\xfb\\xf2\\x95O\\xff\\xfa\\xff\\xfc\\xd3\\xcf\\xfeN\\x98\\xed\\xfe\\xefg_\\x1e\\x9e\\xbbP\\xd4\\xc5\\xc5\\x87\\x1e@\\x00\\x151\\x0b\\xa0\\xd6\\x981\\xa2)\\x10\\x93\\x02\\x90c3\\x00\\xc4\\x10\\x14\\x11\\x9cs\\x8e\\x98\\x883\\x03@4\\x00&\\x00c\\x87\\xa6\\xecH\\xd4>\\xf7\\xf9/\\rW\\xfa\\xdbkw\\x8cf\\x8b\\xc7\\xef\\xbf\\x10\\xaa\\xc5\\xfe\\x89\\xb5\\xb7\\xae\\xbc\\xf9\\xf2+[y\\xe2\\xce\\x9c\\xdc\\x8e1\\x1a\\x82\\x88\\xae,-\\xd7!\\xa8I\\xbd\\xa8\\x1b\\x11\\xefp\\xd0\\xc9\\x97\\xfa\\xfd&T\\xf3\\xc5\\xa2\\x9fg\\x97^}\\xe5\\xe1\\xfb\\xee\\xfe\\xc6\\x8b\\xaf\\xfc\\x9fg\\x9e\\xd9X^\\xee\\xe5\\x9d3[\\x1b\\xe9]w>\\xfe\\xd8#\\x9f\\xff\\xd2W\\x1b1\\xf2\\x0cfM]\\x01\\x1a\\x18\\xa9i\\x13kvY\\x13K\\x00\\xb6\\xc6\\x00\\xc0\\xcc\\x08\\x11\\xc0\\xcc\\xd0P\\xc0\\x88\\x9f\\xf8\\xc0\\x07\\xc4TE\\x04@\\xc5\\xd40J\\x14D\"~\\xe5\\x95K\\xb3\\xd1\\xc1\\x7f\\xfc\\xa5\\x8f,-\\xf5\\x8b\\xa3\\x83\\xf5\\x9e;5\\\\Z\\x94\\xf3\\x8f<\\xf9\\xd4\\xef\\xff\\xe1g\\x8b\\xa2\\x98\\xcd\\xa7MS\\x0f\\xba\\xbd\\xdb;\\xbb\\xa6\\xb2<\\x18,\\xca\\x12TE\\xb4\\t!\\xf1L\\x84y\\x9a\\x94Usr{k\\xb4{\\xf3\\xbd\\x0f\\xdf\\xbdu\\xf2\\xf43_\\xf9\\xda\\xd7\\xbe\\xfe\\x9c\\xa9\\xad\\x9f\\xd8~\\xea\\x03\\xef\\x9f\\x16\\xf5\\xb5\\xdb\\xb7P\\xccL$Vh*\\xa2\\x06\\x08\\x00\\x12k\\x02@d35S\\x024\\x15Si\\x7f\\x01\\x14\\xa3E\\xa7&(\\x80\\xe4@\\x14L\\x11\\x19\\xd0,\\xca\\xee\\xfe\\xc1\\xe57._\\x18\\xae<z\\xefpob\\xab[[\\xfd$n\\xaf\\xf0|\\x9a\\x15G\\xd7\\x93\\xbaL|2\\x9b\\x8c-\\xcb\\x9a\\xba\\x9e\\xcfgQ\\xa5;\\x18\\x94e\\xe9\\x88\\xc9!\\xa8\\xcef3\\xd18\\\\\\x1b\\x0e\\x97\\x07\\x9d$\\x19t\\xb3\\xe9\\xf8\\xb0\\xd3\\xb3\\x7f\\xf5+?\\xff{\\xff\\xa3\\xb3\\xb1\\xb1r\\xf9\\xca[\\xa2\\xf1\\xca\\xd5kD\\x04\\x86\\x06h\\x94\\xa8\\x91A4\\x11\\x00\\x00\\xf0-\\x7f4\\xaa\\x04\\x08\\xa0\\x00\\x86H\\x06\\xd8\\xa2\\xaeH\\xe0\\x8f}\\xeci0C\\x02\"bb\"dbf>{\\xe6|7M?x\\xef\\xf2z\\x8f\\xde\\xb8qx~{c{\\xd8\\xdf\\x1c\\xaeTu}\\xee\\xfc\\x9d`a<]8\\xf6h\\xd6\\xcds4;8:H\\x98Ub\\x8c!q\\t\\x98\\xed\\xef\\x1f\\xce\\xe6\\x8b\\xb2*\\x97\\xba\\xf9\\xdar\\xef\\x91\\xf3k\\xdb\\xeb\\xdd\\xe1\\x99\\x8b\\t\\xe9\\xd9\\xf3\\x17\\xde\\xf7\\xd8#\\xcb+ku(\\x98\\x99\\x88\\t\\t\\t\\x11\\xc8\\x08\\x99\\x18\\x89\\xd1\\xb1\\x01\\x10\\x18\\x11{\\x9f0\\x11\\x12:\\xe7\\x10\\x81\\x10\\x15\\x00\\x90\\x98<?\\xf1\\xc4\\x0f\\xb3s\\x8e\\x18\\x11\\xbd\\xf7j\\xd6\\xd4\\x8b\\x9f\\xfa\\x89O>\\xfc\\xc8\\xc3O<\\xf6\\xa0\\x16\\x87\\xab\\x9d\\xd2\\'\\xddS\\x9b\\xcb\\'\\xd6\\xb2\\xd9\\xe1\\x81O\\\\C\\xcb\\xa7Om\\xcen_\\x99L\\x0b\\x97v;\\x9d|m}m2\\x99\\x94U5\\xe8\\x0f\\xf2,\\x13\\x91:\\x0439\\x1aM\\x8e\\xa6\\xb3\\x8f\\xbf\\xff\\xa1~\\'[\\xe9\\xb9\\xb3\\xab\\xae\\xb3\\xbc\\xd1\\xc1\\x9a\\xf2\\x81O\\xd2\\xf5\\x8d\\xed+o_m\\x9a \\x1a\\x9b\\x18TM\\xcc\\xa2H\\x8cQ\\xd5bT\\x11U\\xa0(\\x1a$D\\x15U\\x8dQ\\xd44J@$3U\\x15\\xfe\\xc2\\x1f\\xfc\\xee\\xad\\xbd\\xd1\\xcd\\xdb\\xb7\\xb5m\\x04\\xb3G\\x1ex\\xcf\\xec\\xfa\\xdb\\xf7\\xdcu\\xee\\xcb\\xcf\\xfc\\xc5\\xdd\\xa7\\x96\\x96\\xba\\x98f\\xc9\\xee\\xee~\\x82\\xbaX\\x8c\\xd3\\xac\\x97\\xf4W.\\xde\\xff\\xd0\\xa7~\\xe2\\xa3\\x9f\\xfc\\xf8\\xd3\\x1f}\\xfaC\\xd7\\xf7\\xc6/}\\xe7;\\xb3\\xf9\\xbc\\n\\xc1\\x11\\xa9H\\x88\\xb1\\xa8\\xab\\xaa\\xa8\\x8a\\xba\\xa2P\\xfe\\xfag\\xfe\\xc1b^\\x93T[\\x03\\xb7v\\xee\\xe2\\xd5\\xd7_\\xbbp\\xf7\\xf9ko\\xbe\\xfe\\xe5\\xe7_\\xd0\\xd8\\xa0#Sc\"\\x00@0D\\x04\\x00\\x03\\x04PD03\\x00\\xa0\\xd6\\xda\\x00\\x00\\xa0!\"\\x92\\xa9\\x01\"\\x009\\xcf\\xc9/\\xfd\\xe2?\\xbb\\xfa\\x8d\\xe7\\x0e*\\x9dOfw\\x9d9}\\xfb\\xd6\\xdb\\x17\\x1f\\xff\\xa1/=\\xfb\\x95\\xd7\\xae\\xef\\xdf\\xdb\\xb9\\x95o\\x0c\\x97\\x96:\\xdd\\xdc\\xe7\\xdd\\xbc\\x93z\\xf4\\xd0\\xdb\\xd8\\xc8\\x06\\xeb\\xcf>\\xfb\\xbcV\\xf3\\xd5\\xad\\xe1?\\xfd\\xd4\\'\\x90\\xec\\xd7~\\xf3\\xbfv\\xfa\\xdd\\xe9d\"\\xa1\\xfc\\xe5O\\xff\\xcb\\xaf~\\xf5\\xafBlN\\xaf\\r\\x9e|\\xe8\\xbe3\\x9b\\xfd7\\xde>\\x18di\\xd5\\x84\\x18\\xb0?\\xdc<<Z\\xcc\\x02\\xaaE\\xef\\xbd\\xa9\\x99\\x03551\\x03@\\x03\\x89\\xb1\\te\\x9a\\xf5[\\xcd1D\\xb0\\xd6`\\x03\\x99\\x89\\xa9*\\x00\\xa2I\\x04U\\xf7\\x9f\\xfe\\xcbo\\xbf\\xff\\xc2\\xf6\\x03g\\xb7OP\\xf0[yQ\\xec\\x14\\xc5\\xf47\\x7f\\xff\\xcf\\x16u\\x14\\x95\\x95\\x93\\x17\\xaf\\\\\\xbb\\xf6\\xde\\xfb{\\xab\\xc3\\xe1d\\x7f\\xa7\\xe3\\xa1\\x08qu\\xeb\\xd4\\xe5\\xbf\\x7f\\xf1\\xc7?\\xfe\\x14d\\xddr1\\xbb~\\xf3\\xe6O\\xff\\xe4\\xd3\\xf7\\xdcy\\xf2\\x99?\\xff\\xd2\\x9d\\x0f=q\\xf6\\xdc\\xb9sw\\xdc\\xf1\\xc1\\'>p\\xed\\xcd\\xef\\x9f\\xe8\\xc9\\x80\\xca\\xd0\\x94N\\x8b\\xa31mln\\x8b\\xd1\\xa8$\\x9d\\\\5\\xc64I\\x99I5*x\\x14\\xf1\\x0e\\xcd\\xcc\\x0c\\x9cO\\xd2,W5\\x03PS\\x0440&\\x10\\x11AD`d3\\x03d\\x07\\x84\\x0e\\x90\\xfe\\xe6\\x8d[\\xcf\\xbdv\\xd39&\\x93\\xa8\\x08\\xc4\\x8e\\xcc\\'~mi\\xc34\\x12`SU\\x16\\x9a\\xe1\\xc0\\x1d\\xce\\x8b\\xfb\\xde\\xf7\\xc9\\t%\\xf7\\xde\\xb1\\xf5\\xado\\xbe\\xf0\\xe2\\x8d\\xf9\\xbd\\x0f>\\x90p\\xce\\xda\\x9c?u\\xea3\\xff\\xe2\\xd3u\\xd9t\\x96\\xd7\\x01\\xa3&\\xf8\\xd1\\x0f?\\xd9wa\\xef\\xd65G{\\xcd\\xf4\\xc8wVW\\xb6N\\x7f\\xe5\\xf9\\x17(\\x94\\x17\\xef\\xbb\\xf8\\xc7\\xcf\\x7f-\\xcf\\xd2\\x18\\xc5\\x00E#\\x00D\\x89\\xd8^] \"\\xb4.LAML\\x89\\x08\\x00\\x1c\\xb3!\\xb5\\x06\\xd8\\xd4\\xccTT\\x1d1&\\xc4\\xc4dj\\x84\\xec\\x11\\x11\\x11\\xc0\\x10\\xe1`ogy\\xebG\\x17\\xbbW\\xc7G\\xe3\\xad\\xa5\\x8e\\xd9\\x92\\xdb\\xfc\\xa9\\xe5;?\\xf0\\xd6\\xd7\\xbf\\xfc\\xd2\\xceh\\xb1\\xbf\\xb3#\\x83[\\xcf}]\\xcdT\\xd5\\x80\\xbd\\xe33\\xc3\\x15\\x7fk\\xff\\xdc\\xb9s\\xc3\\x95\\x81g\\xad\\x84V\\x96\\xba\\x89\\xcc\\xee81\\x98\\x07\\xbb1g*\\x0e\\x1f\\x7f\\xf0\\xbe\\xaf^\\xba\\xccL*bf\\x00J\\xc8\\x80@\\xccm\\x1di\\x8cQ\\x84\\x88\\x00\\xd01\\x1f7\\x87jTSk\\xc0\\xa0M\\x14\\x80\\x99\\x993C&TQB40S\\x00\\x10\"632\\xe1\\xee\\tkl^\\x05\\x0f\\xb3\\xcd\\xc7\\x7f\\xae\\x93\\x0ff7\\xbf\\x7f\\xf9\\xda\\xce\\xf7n\\x97L9B\\x8dH\\x04H\\xec\\x88\\x10\\xc0\\xae\\xed\\x1f\"\\xe0\\x1b\\xbb\\xafdLk\\xcb\\x83<\\xcf\\xb6w\\x9f\\xeb=|\\xd7\\xb9\\x93\\xcb\\xb7\\xa6\\xc9[\\xd7o\\xfe\\xf0\\xc3\\xf7\\xad\\xdfq\\xff[\\xcf|\\x0b\\x00\\xd4\\x0c\\x00T!J\\xe5ZB6\\x00\\xf4\\xad\\xc7\\x03\\x00\\x00\\x0b1 \\x80\\x9a\\xe9\\xf1\\x0cF\"TUfB\\xc46\\x80(\\x11\\x91IL\\x11\\x10\\xcd\\x00QU\\x10\\x00\\xd01\\xb8\\xe1\\x1d\\x8f\\xdex\\xf3\\x1b\\xbd\\x81\\x93PW\\xf3kIw\\xfd\\x8d\\xdd\\xc23\\x02\\xbc;\\xd5\\x01\\x01L\\xd4\\x10\\x80\\x00\\x15\\x8c\\x88j\\xb5[G\\xe3F\\xe8\\xdc\\x89\\xb5\\xf9|\\x0e\\xd2\\xccb\\xef\\xd1\\x8b\\xe7z)sB\\x93\\xd9\\xbc\\xd3\\xed\\x88(\"\\x00\"\\x93W0\\xa4\\x84\\x8e\\xcf\\xaa\\x80h\\xaa\\xed\\x9360\\x00`b\\x00m\\xd5\\xb3=z\\x94\\x08\\x16\\x9c* \\x18\\x1eO>4D4\\x05\\x80h\\xb0\\xba\\xb6*\\x8b\\xd1\\xa0\\xd7\\xa9\"f\\xe7?\\xe2\\xbb\\x83\\xaa,\\xae_\\xbfU5!\\xf1\\x0e\\xe08\\x8d@\\xa4\\n\\x00\\x80\\x08z\\xfc\\x04\\xda\\xef\\xc0LO\\x9d>\\xe1\\xca\\xd1\\xa2\\xa8\\xaf\\x15\\x94\\xee\\xee.\\x9f\\x196\\x8b\\x91Y$\\x14@4#3h\\x17\\x87\\x06(\\xa6\\xff_u\\xd8\\xf1\\x91L\\x01\\xd0,\\x9a)@$bDPU@DL\\x9d\\xc6\\x08\\x88\\x88\\xa0j\\x80\\x80m\\x07\\x01h\\xd4;N\\x9f\\x8c\\xa3\\xdd\\xa3\\xd9\\xa4\\x97q\\x9c\\xec\\xa2\\xef\\xf3b\\xfc\\xe5o\\xbc\\xec\\x98\\x01\\x10\\x00\\x8f\\xb5\\xd8Z\\x10l\\x19\\xeb\\xf8\\xf4\\x88\\x04\\xa01\\x84\\xc1\\xfa}ar=\\xc1\\xee+W\\xea\\x8d\\xe5\\xaai\\xa2w\\x89\\x82\\x8b\\x82f`\\x16\\xdb\\xc8\\x01\\x11\\x8f\\x01\\xc1\\x90\\xd0\\x00\\x10I\\xb5\\xbdX2\\xb5\\x16\"\\x18\\xc0T\\xb5=!\\x80\\x9a\\x9aCB\\xd3\\x08F\\x00\\xc6\\x80\\x86\\x06j\\x00P\\x87\\xf8C\\'\\x96\\x1c\\x07!\\x98,\\xe6\\xe5\\xa2\\x94\\xfa\\xb5W\\xde\\xda\\xdb9<J\\x9dS\\x11C\\x03@\\x15@lm\\x86\\x99a\\x88\\xa2bbf\\xdaF\\x87\\xf9`\\xb5\\x9e\\x1c\\xdc.\\xe2+\\xef\\\\\\x7fp\\xb3\\xe3\\x933.\\xeb\\xce\\xe7U\\xaf\\x9b\\xb7`\\xd3F\\x8e\\xc7-\\x81\\x06\\x16Ch\\x01\\x0eA\\xcc\\x8c\\x90\\x1c\\x93\\x19\\x03\\x02\"\\x19\\x18\\xc2\\xbbZ\\x04\\xe6\\x10\\x91\\\\\\x82\\x86\\x8cj\\xa6\\x8c\\x08\\xac\\xb1\\x91\\xf7=p\\xf7\\xf6j\\xc7T\\xbf\\xfa\\xc2\\xa5\\x9f\\xba\\xff\\x9e\\x95\\xb3\\xef\\x99\\xee\\\\\\xf9\\xdc\\x0bW\\x1b\\xc1\\x18ELUQ\\xcd@MA\\x11LZnW\\x030$&CQy\\xf0\\xae\\x93\\xd5\\xf4(6ri\\xa7\\xf0D7\\xf6\\'\\x80\\xce\\xe5\\xe9\\xd1hQ\\x04H\\x13Z_\\xee:&h\\xd1\\x0c\\x0c\\x0c\\x08\\x81\\xc8\\x01(\\x11!83\\x03\\x14UDD\\xc06\\x15\\x08\\xa8`\\x06\\x06`\\xe6D\\x15\\xcc\\x10\\xda\\xa4\\xa3\"\\x80\\x91 \\x7f\\xf8\\xd1{\\xfd`\\xe3\\xa5w\\xae\\xfbr\\xb2r\\xc7\\x13\\xd0L\\xff\\xe0\\x99\\x17o\\x1e\\x16L\\xf8n\\x91\\x00\\x80\\x01\\x10\\x00\"aK\\x01D\\x88\\x00\\n& MS\\xafe\\xb1.\\xab\\xac\\xeb\\xff\\xfe\\xcd\\xa3\\x14\\x9b\\x9d\\x19\\x95\\xf5b\\x00\\xf6\\xc8\\xbd\\'\\xe6\\x8d\\x11!\\x11\\x81\\x81\\x81\\x19\"\\x01Z\\x8b\\x12\\x06\\x80\\xd4\\xca\\x94\\x99\\x811!\\x1a\\x88)\\xb6IRi\\x9f\\x9c!\\x00\\x11\\x18\\x81!\\x11\\xa0\\xb5\\xa0\\x17\\xa2\\xfc\\xec\\xd3\\x8f\\xf9f\\xd6\\x10\\xfd\\xde\\xe7\\x9e\\xf9\\xd4O\\xffL\\xd2\\x1b\\xfe\\xed\\xb7_\\xfb\\xcb\\xef\\xee\\xa6\\x9e\\x9dc\\xcf\\x9c8\\x87\\xcc\\x9e\\x13f\\xe2\\xf6\\x97\\rDD\\xd5D\\xc5T\\xd1\\x00\\\\\\xdaI<\\xc42\\xa6\\xbd\\x1b\\x93\\xc69\\'\\x9c\\x9a\\xcb\\x81\\xf3\\xd5\\xe5\\x1e\\x81\\x12\\x82\\xaa\\x18\\xe8\\x0fl\\n\\x13!\\x00\\x12\\xb6=\\xf6\\xeeG\\xc5b\\x9b[\\x003\\xd5\\xb6\\xad\\x11\\x11\\x08]\\x13\\x04\\t\\xe7\\xd3\\xa2\\x89\\xd2\\xef\\xa6\\x9eb\\x88\\xe2\\xa77\\xbb\\'\\x1f\\xfd\\x93\\xbf\\xf8\\xda\\xc7.\\x9eN\\xaai-\\xfe\\xb7\\xfe\\xe4\\xefzy\\xa2\\n\\x88\\xda\\xa8\\x19\\xc0R7\\x8bQ\\x00\\x89\\x10\\xd54\\x04\\x8dbjA\\xcc\\x10\\x90\\x10C-\\x0f\\xde}\\xbe\\xd3\\xd3\\xef^\\xdf3\\x95A\\xaf+*\\xa3y\\xbd\\x15e0Xin\\x1d\\xbd+d\\xd0J\\x08\\x02\\x1a\\x8a\\xb5v\\xeb\\xdd\\x89\\x0b\\x00`@\\xc4@\\xc6\\x80\\x06\\xa6\\xd6\\xb2\\x9d\\xb5\\xf4\\xea\\xd4\\x14\\x05\\xbb]\\xdfQWVa\\x11\\xa5\\n\\xd2\\xe9\\xf7\\x95\\xe0\\xdb\\xaf]\\xfa\\xc7\\xef\\xb9\\xbb\\x9e\\xec\\xfd\\xdd\\xd5Q\\x15\\x14Y\\x10I\\xc4No\\x0c\\x92\\x94];![%=\\xae*\\x10\\x85\\x10\\xa2\\x88\\xed\\x1d\\xcd\\xa7\\x12.\\x9e?\\xc9\\\\\\x7f\\xef\\x85\\xdb`\\xba(\\xc2\\xa0\\x97,\\x8a\\x1a\\x10]\\xd6\\x17\\x89\\xad\\xe8\\x01\\x02\\x02\\x99I+A\\xc7z\\x84\\xd6FE\\x08\\xaa\\xa6\\xc7\\x92\\n\\x88\\x80\\x00\\xc4\\xdc\\xea\\xaci}\\\\\\xd1&\\x82\\xa0\\x9d\\xcc\\xad\\x0c\\xba+\\xfd<\\n\\x1eT\\xb4sT\\xdew\\xcf\\x89\\xd9d\\xfc\\xd2k\\xef$\\x9e\\xc0LTz\\xb9\\xcbR\"\\x00\\xd3wk\\x14~\\xd0Q\\x80`i\\xe2:\\xb9_\\xea\\xa7\\x1fz\\xe8B\\xc2\\x86\\xbdS\\xef\\xec\\x1c-\\xf7\\xd2i\\xd1\\x18\\xe0\\xcb\\xdf\\xb9T\\x8d\\xc7\\xdb\\'O\"\"\\x13!\\x01\\x9a\\xb5\\xf2\\t`\\x88(\\x12TUDE\\x14\\x00DM\\r\\x00\\x80\\x99\\xbcg\"\\x12\\xd5\\x10B\\x14\\t1\\xaa9RQ\\xd1\\xa8\\x06\"&\\xaa14!\\xc4\\x18\\xca\\x9d\\xa3\\x91E\\x98\\x1d\\xee\\xdf\\x9aUo\\xef\\x1cI\\x8cU\\x1d\\x12\\x82\\x95AR7u\\x1d\\xea\\xaa\\xae\\xeb\\xaan\\x9a\\xa6\\xaaC\\xfboU7u\\xd34M\\x08!z\\xa6o\\xbe\\xf2\\xeax\\xb6\\x18\\x1d\\xde\\x9e-\\x16\\xa7\\xb7\\x97\\xba)]\\xbf=\\xf9\\xfa[\\x87\\xaf^\\xba\\xf4\\xc4\\x07\\xdf_\\x15\\x85DA@&2\\x00\"bf\"K\\x13\\xcf\\x8cD@\\x88\\xda~L\\x0c4\\x84\\xd0\\xd4\\x8dIT5\\x11\\x89\"\\xaa\\x16E\\x9c\\x99\\xb4\\xb2\\xc5\\xcc\\xaa\\x86\\x04\\x80\\x929\\x1d\\xf9\\xfe\\x99U_\\x8d\\xf7\\xbf\\x7f\\xcb\\x1d\\x8eg\\xa2:\\\\\\xe9\\xac\\xf433S3l\\x19\\x17\\xa0*K\"AdD\\x06\\xf2-P\\xb5\\x89>\\x0c0.j\\x17J\\x04\\xd0 [k\\xbd\\xb2\\x9e\\xdc:\\x9c}\\xf1\\x99\\xe7\\x9b:~\\xe2\\'?1:\\xda\\xf9\\xe6\\xcb\\xdfc\\xcflm\\x0e\\x95\\x80\\xedX(\\xcd\\xcc\\x98\\x11\\x81D\" *\\x01\\x18D=v\\x07?\\x18\\xd5\\x8e\\x88\\xc1\\x14\\x00\\x8f\\xc9\\xc4 a\\xac\\x1b[\\xdd\\xdc\\xba\\xef\\xec\\x06v\\x06\\xdf|\\xfd\\x8dE\\x19\\xce\\x9fXJ\\x12\\x17c\\xabjD\\x84\\xcc\\x08\\x88\\x8e253@\\xd3\\xa0RF\\x150Q\\xc5`\\x19* \\x03\\xa6\\x83EY%\\xae\\x83\\x84\\xe7\\xb7\\x07u#\\xcf\\xbfz\\xed\\xc9G\\xee\\xff\\xc8c\\x17M\\xd6\\xb6\\xba\\xf0\\xf9g_\\xeews\\x04<\\xee\\x04 j\\xc9\\n\\x11M\\x80\\x1c\\xb3\\x03\\x00F\\xd0c\\xce0j\\t\\xd5LD\\x1d\\x1e\\x8fr\\x03\\xa0\\x96\\x04\\xaa\\xa8\\xc4\\xc9f\\xdc}\\xef#\\xf7Q8\\xba\\xf4\\xce\\xed;O\\xaee\\xa9\\x8b\\xa2\\xed\\xb0\\x0045\\x03E\\x03h\\x8aC\\x97vM\\xcc\\xb17\\xe4$M\\x1aQ\\x8f\\x94\\x00m\\xad\\xa4X\\x87\\xcd\\xb3[\\xbf\\xf6\\x99\\x9f\\xfd\\xc23\\x7f\\xf3\\xc6;\\xbb\\x8e\\xd1;\\xbbxv\\xf9\\xbf}\\xee\\x7f\\xfd\\xd9_v\\x97\\xbb\\xdd7\\x0f\\xe6\\xeb\\xc3-\\x15m\\x0fO\\xcc\\xd1\\x04\\r\\x19\\xa1\\xb5\\xed\\xc7\\x9e\\x12\\x14\\x14\\x11\\r\\x01\\x11L\\xad\\xd5m3\\x04~\\xfc\\xf1G\\xf1\\xf8Ljjh\\xe2@\\x9f\\xfb\\xf6w\\xfe\\xfa\\xd9g/\\x9e=\\xb9>\\xdc\\xfc\\xf2K\\x977\\x97Sk\\xf5\\x12\\xc9\\xb31\\xfe\\x80v\\x8d\\x93.#\\x93O\\t\\x91\\x88\\x10\\xb0\\xfd3\\xb3,\\xf1\\x7f\\xf4\\x7f\\x9f\\xfd\\xd8\\xc3\\x9b\\xdf}\\xf9\\xd5\\x95\\x14\\xbe\\xfd\\xceN\\x9a0\\x180B\\x7fi\\t|\\xb7\\x82\\xac\\xd7\\x1f\\xb4\\xb5n\\n\\xaa\\n\\xaa\\x08F\\x08\\x82\\x86\\n\\xa6Q\\xad\\x94\\x18T\"\\x12\\x82\\xb5\\xc3XZU\"\\x03$\\xe6G\\x1f}\\xc4\\xcc\\xda\\xfc\\xb0)\\x80\"\\x8aO\\xb2\\x98t\\xb7;iF\\xfc\\xcf\\xff\\xd1\\xd3\\xdf\\xbb\\xb6\\xb3\\x98\\x17D\\xc0d`lh\\x88\\xc6\\x84D\\xc0\\x08\\x88\\xcch\\x80\\xca\\xe8\\x1c!;B\\x04f\\xf4l\\xfd^\\xfa\\xd7/\\xbe\\xfa\\xca\\xf5\\x9bo\\xeeNzy\\xd6\\xdas30 3le\\x17\\x00\\x82\\xa8\\x02\\xa8\\xb5\\xfdij\\x00\\xda\\x82\\x05\\x8a\\xb6\\x04DF\\xacj\\x08\\xb2\\x98\\x1f\\x99V\\x0cAd\\x11\\x9b\\xc0\\x8f=\\xf6\\x08\"0\"\\x00\\x10\\x01\\x80\\xa1\\x81\\xa0\\xa5\\xcc\\x7f\\xf4\\xb5\\xbf=\\xbb<\\xd8\\xbf\\xf5v\\xd9\\x94\\xfb\\xb3\\xc0-\\xb4\\xa09f4\\r\\xb1\\x00\\x8b1\\x96D\\x8e\\xda\\t\\x8a\\x08\\xa0\\xf4n}\"\\x80w\\xce\\xa5y\\x9a\\xf6\\xd2$aD\"R8\\x86\\x10\\xc0\\x96\\x93)*\\x10\\x82\\x8a\\x98\\x9a\\x1c\\x93\\xb4F;v\\x8c\\xa6\\xa0\\x80\\xaah\\xa2\\xa6&\\n\\xe4r\\xa4\\xdc0UK\\xd8g\\xce\\x14\\x04\\r\\r\\x0c\\xc1\\x8c\\x10\\xc0P\\x19XT\\x1f\\xbcp\\xd73\\xaf_\\x06\\xf2y\\x963y\\xd0\\x88D\\x06\\xa6\\x12\\xd5b\\xe2\\xbb`\\x00\\t \\x10\\x9a\\x00\\xa0ZD@Uh=\\x07\\x10\\x8a\\x08 1\\x81\\x19\\x00\\x92\\xa8\"\\x82\\xa19r\\xa2\\xed\\x16\\x10PA\\x01\\x90\\x89\\x00P\\xdb\\x92G\\xd3\\x08D\\nh\\xa6d\\xf8\\x03\\x97\\x00\\xd8R;\\xb6\\x81\\xb62jfX\\x83\\x02\\x18\\x99\\x1c\\x03\\x99\\t\\x909\\x9f\\xfa$\\x05:\\xc6t1\\x00\\x93\\x16\\x81\\x11HU\\x0c\\x15\\x05\\xd1\\x08\\x08\\x11\\x14\\xe1\\xd8\\xaf2\\x80\\x11\\x80\\x82c\\x0f\\xa0\\xa6@\\x8e,J{\\x19\\xd1\\xee|\\x98\\x19\\xc1\\xc4\\x8c\\x98Abk\\xeb\\x98\\xd1\\x0cU\\x15\\x99\\xda\\xb5\\x10\"\\xb4\\xbaMl*\\xa8\\x12\\xa1\\x95X8fo\\x07\\x00\\x00B\\x86\\x00\\x8a \\xaa\\xc6\\x98\\x00\\x98\\x89\\t\\x18\\x11\\x83\\xb6\\x04\\x18\\xeb\\xba`\\xe44\\xef\\x02\\xa0\\x81\\x8a(\\x1a\\x03\\xaa\\x81\\xa0\\x10\\x90\\xb5\\xd5\\x81@Q\\x14\\x19\\x99\\xc94zdr\\x1cE\\xd8\\xbbV\\xbf\\x01\\xd0\\x0c\\x99A\\xa5}\\xa0\\xc2\\x8e\\xd4\\x14\\x15\\xed\\xb8\\x92\\x11L\\xa1\\xb5\\xfa\\xa0b\\xe8\\x18\\x89P\\xd1\\x00\\x9dFS\\x03U535pDf\\xc6\\x80f\\x06H\\x8e\\x15\\xa2E\\x02 \\xa2\\xf6E\\t\"\\xd2\\x18\\xeaj\\x9e\\xa4\\x89)\\xa8\\x054\\xd7\\xaeW\\x15\\xe5\\xd8[\\xa0\\x9a@T#4\\x83\\xd6bk\\x88\\x11\\x01\\x03\\n\"2\\xb3\\x99\\x10&\\x06\\xc2\\xccp\\x1c\\x08z\\xef$FQ``#\\x00 \\x04\\x05Bg$\\xa6QL\\x14\\x99\\x11\\xcdD\\x00\\t\\xc8\\x10\\x18<y\\x89QA\\x9d\\x803ED%Td\\xa7f\\xec\\x0c,1T\\x04\\x03d3\\x8812\\xb9\\xbc\\xbb\\x1cC\\x08\\xb1$j\\x8b\\xeax&\\xb4\\xc5\\xdd\\xf2\\n\\x02\\xa8\\xb5Tg\\n\\x00\\x08Q\\x14\\x01\\x00)Deb\\xa4\\n\\x91 \\x1c/\\x99\\x89P$\\xb6W\\x13\\nL\\xd4J\\xa9\\x99\\x02\\xa1!\\x12\\xb32\\xa1\\xa8\\x89\\x01\\x82\\x99b0!\\xc4 uT%@3s\"\\xb5cRc\\xd3@H\\x86`\\x10U\\xc1qk\\xb7\\x8d\\xc9U\\xd5\\xc29\\xef\\x9cc\\xcc\\xa26\\xde1\\x91kB$0&\\x17U\\xc1\\x00\\x10\\x88\\x11\\xd4\\x14\\x10\\xd0\\x00L\\xc5\\x10\\xd9\\xd4\\xdah\\xab&0\\x021\\x11\\x01!#S\\x0cA\\x0c\\x88\\x98P\\x11b\\x03D\\x80-]\\xb6^\\x18\\xc0\\x0c\\x89\\xc8\\x08\\x10\\x95\\x8c\\x94\\x94\\x01!FM\\x98\\xcc(\\xaa8\\xefX5\\xc6P\\x00hT\\xf3\\xc8\\xc8\\x88\\xe4\\xd5\\x92v\\xda\\x91B\\x9a\\xe4\\xed\\xfb\\x07@\\xdes*\"\"F\\xad\\x9b\\x8e\\x11\\xb9\\xf5a \\xd1\\x80\\x91\\xdbE,\\x1a\\xa3\\x1d{\\x10@\\x00L<\\xb4=\\x85FjfQZ\\xcc<\\xc6N@BU0\\x01\\x02P\\x00R\\x03\\x04C\\x10t,Q\\x91\\xd0\\x82\\x01\\x1a\\x9a!\\xa0\\x08\\x10)!\\xba\\x18\\x83\\xc5h\\xaaj\\xea\\xbcG\\xf6\\xeeX\\xab\"\\x92\\'4\\x002\\x05T5\\x00b\\x17\\x9a\\xc8\\x8e\\x10\\tL\\r\\x81\\x88MAM\\r\\x90\\\\k\\x98\\xc4L\\x1d2\\xb9\\xc4\\x00\\x14\\x05\\x11\\xcc\\xd0\\xd4\\x90Z{\\xab\\xa2@\\x10\\x89X\\r\\r\\x84\\x91EM\\xd1\\x109\\x8a0b\\x14A\\x82V?b\\xa8[\\xda!FDR\\x11\"\\xa2\\xf6>\\t\\xc01y\\xc8X\\xa3\\x033D\\x94 \\x81\\\\\\x9e\\xa6A\\x83\\x87\\xd0De\\xf4\\xc8\\xac\\x06\\x88h`\\xdeS+6\\x86t\\x1c\\x15\\x92\\x98\\xb4\\x89/\\x16c\\xef\\x1d\\x01GlZE\\xf5\\x0e\\xcd\\xd8T\\x88\\x18\\xcc\\x18\\xdb\\xdbee\\xf6j\\x02f\\x0cd\\xa6\\x84\\x88\\xc8\\xaa\\xe2\\x91\\x14\\xcc\\xb5\\xd6\\x1bMM]\\xdb\\xc6\\x88\\xaa\\x11\\xcd\\x88\\x08\\xad\\xddd\\x1b\\x0085DqD^D\\x90\\x90|\\xf4D\\xa2\\x81\\r\\x1bi\\xbc\\xcf\\xccLL\\x19\\x1d\\x98\\xa1\\xa1\\x01\\x81\\x19\\xa2\\x82\\x91\\x11\\x99\\x189%s\\x84f\\x06\\xbd\\xde\\x10\\xc0\\xec\\xb8.\\xd0y\\x8eA\\x91\\x14\\x91E\\xd5L\\r\\x08\\xc0\\x08-\\xa8\\x02\\x00\\x13\\x88\\xb4o\\xa6\\xa1\\xc4HD\\xd1\\xe4\\x18\\xa6\\xcdT\\x0c\\x1d\\x82Z#f\\xa0\\xad|E\\r\\xef\\x0e=@Dg\\x86b\\xc2\\x88Hdj\\x88N\\x14\\xd5\\x145 g10\\x80!\\x81\\xa2\\xa0Ax\\xf7&\"\\xa8\"`\\xfb2\\x93\\xb6[ECb\\x12\\x89f$\\x00\\xf5\\xc5\\x801\\x00\\x00\\x008IDAT\\xdc\\x1a\\x0bQ\"D0QaC%\\x06UDTE\\xb5\\xc8H\\x95\\x8agV\\x110C\\x04\\x11m\\x17\\x89\\xed\"\\xe5\\xb8a@Z\\x01U\\x115!\\xa2v+\\xa1j\\x06\\xf6\\xff\\x001\\xd2\\xa6(dM\\xf4m\\x00\\x00\\x00\\x00IEND\\xaeB`\\x82'"
            ]
          },
          "metadata": {},
          "execution_count": 80
        }
      ]
    },
    {
      "cell_type": "code",
      "source": [
        "import cv2\n",
        "imgfile = cv2.imread('00001.png')"
      ],
      "metadata": {
        "id": "2gLJJ83KdVHW"
      },
      "execution_count": 82,
      "outputs": []
    },
    {
      "cell_type": "code",
      "source": [
        "from google.colab.patches import cv2_imshow\n",
        "cv2_imshow(imgfile)"
      ],
      "metadata": {
        "colab": {
          "base_uri": "https://localhost:8080/",
          "height": 81
        },
        "id": "IFNoUckhdvZ5",
        "outputId": "648553d0-6a85-40b6-8569-11ced776a5cd"
      },
      "execution_count": 84,
      "outputs": [
        {
          "output_type": "display_data",
          "data": {
            "image/png": "[encoded data removed]",
            "text/plain": [
              "<PIL.Image.Image image mode=RGB size=64x64 at 0x7F9BD68AD690>"
            ]
          },
          "metadata": {}
        }
      ]
    },
    {
      "cell_type": "code",
      "source": [
        ""
      ],
      "metadata": {
        "id": "EK6zMYB5eBlK"
      },
      "execution_count": null,
      "outputs": []
    }
  ]
}