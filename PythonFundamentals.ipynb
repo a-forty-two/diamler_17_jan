{
  "nbformat": 4,
  "nbformat_minor": 0,
  "metadata": {
    "colab": {
      "name": "PythonFundamentals.ipynb",
      "provenance": []
    },
    "kernelspec": {
      "name": "python3",
      "display_name": "Python 3"
    },
    "language_info": {
      "name": "python"
    }
  },
  "cells": [
    {
      "cell_type": "code",
      "execution_count": 1,
      "metadata": {
        "id": "5cK-se0hNSE7"
      },
      "outputs": [],
      "source": [
        "def fnname(args1, args2):\n",
        "  # do something\n",
        "  return args1+args2\n"
      ]
    },
    {
      "cell_type": "code",
      "source": [
        "# Series and Propagation\n",
        "# constructor styles:\n",
        "#  1) __init__ -> initialization very similar to C++ style constructors \n",
        "#  2) __iter__ -> init as an ITERATOR instead \n",
        "# next = num_prev1 + num_prev2 \n",
        "class Fibonacci:\n",
        "  def __iter__(this): # first arg is ALWAYS an object referring to itself\n",
        "    this.n1 = -1\n",
        "    this.n2 = 1\n",
        "    return this \n",
        "  def __next__(this):\n",
        "    this.n3 = this.n1 + this.n2\n",
        "    this.n1 = this.n2\n",
        "    this.n2 = this.n3 \n",
        "    return this.n3\n",
        "\n"
      ],
      "metadata": {
        "id": "O5kI0nvmN3kR"
      },
      "execution_count": 2,
      "outputs": []
    },
    {
      "cell_type": "code",
      "source": [
        "sequence = Fibonacci()\n",
        "seq = iter(sequence)"
      ],
      "metadata": {
        "id": "BmxLPpUkPZ5d"
      },
      "execution_count": 7,
      "outputs": []
    },
    {
      "cell_type": "code",
      "source": [
        "next(seq)"
      ],
      "metadata": {
        "colab": {
          "base_uri": "https://localhost:8080/"
        },
        "id": "YEC41nX5PqNF",
        "outputId": "d43ad9d1-d603-4222-b75b-57fb4974df90"
      },
      "execution_count": 8,
      "outputs": [
        {
          "output_type": "execute_result",
          "data": {
            "text/plain": [
              "0"
            ]
          },
          "metadata": {},
          "execution_count": 8
        }
      ]
    },
    {
      "cell_type": "code",
      "source": [
        "for i in range(20):\n",
        "  print(next(seq), end=' ')"
      ],
      "metadata": {
        "colab": {
          "base_uri": "https://localhost:8080/"
        },
        "id": "q1FCfYpFP5wF",
        "outputId": "eaf0dc36-abcd-4dd3-bc63-04729a8d4ad0"
      },
      "execution_count": 9,
      "outputs": [
        {
          "output_type": "stream",
          "name": "stdout",
          "text": [
            "1 1 2 3 5 8 13 21 34 55 89 144 233 377 610 987 1597 2584 4181 6765 "
          ]
        }
      ]
    },
    {
      "cell_type": "code",
      "source": [
        "# no polymorphism:\n",
        "def pikachu(abc):\n",
        "  return abc+1\n",
        "\n",
        "def pikachu():\n",
        "  print(\"bye bye world\")"
      ],
      "metadata": {
        "id": "VGiPOIkwP-iG"
      },
      "execution_count": 10,
      "outputs": []
    },
    {
      "cell_type": "code",
      "source": [
        "# we expect error on below\n",
        "pikachu(123)"
      ],
      "metadata": {
        "colab": {
          "base_uri": "https://localhost:8080/",
          "height": 184
        },
        "id": "7vr0SOVHQXlQ",
        "outputId": "cdf2caba-9ebc-4ee6-8595-706e3995a737"
      },
      "execution_count": 11,
      "outputs": [
        {
          "output_type": "error",
          "ename": "TypeError",
          "evalue": "ignored",
          "traceback": [
            "\u001b[0;31m---------------------------------------------------------------------------\u001b[0m",
            "\u001b[0;31mTypeError\u001b[0m                                 Traceback (most recent call last)",
            "\u001b[0;32m<ipython-input-11-dbfce278defa>\u001b[0m in \u001b[0;36m<module>\u001b[0;34m()\u001b[0m\n\u001b[1;32m      1\u001b[0m \u001b[0;31m# we expect error on below\u001b[0m\u001b[0;34m\u001b[0m\u001b[0;34m\u001b[0m\u001b[0;34m\u001b[0m\u001b[0m\n\u001b[0;32m----> 2\u001b[0;31m \u001b[0mpikachu\u001b[0m\u001b[0;34m(\u001b[0m\u001b[0;36m123\u001b[0m\u001b[0;34m)\u001b[0m\u001b[0;34m\u001b[0m\u001b[0;34m\u001b[0m\u001b[0m\n\u001b[0m",
            "\u001b[0;31mTypeError\u001b[0m: pikachu() takes 0 positional arguments but 1 was given"
          ]
        }
      ]
    },
    {
      "cell_type": "code",
      "source": [
        "pikachu()"
      ],
      "metadata": {
        "colab": {
          "base_uri": "https://localhost:8080/"
        },
        "id": "-MoUmK0iQcb-",
        "outputId": "fb9bad30-0648-47c2-a28b-1e02d8699590"
      },
      "execution_count": 13,
      "outputs": [
        {
          "output_type": "stream",
          "name": "stdout",
          "text": [
            "bye bye world\n"
          ]
        }
      ]
    },
    {
      "cell_type": "code",
      "source": [
        "# default args can be used\n",
        "def pikachu(a, b=1):\n",
        "  print(b+a)"
      ],
      "metadata": {
        "id": "UObTUtSLQipb"
      },
      "execution_count": 14,
      "outputs": []
    },
    {
      "cell_type": "code",
      "source": [
        "pikachu(42,1)"
      ],
      "metadata": {
        "colab": {
          "base_uri": "https://localhost:8080/"
        },
        "id": "eIhcJIDzQ2kH",
        "outputId": "eee0720f-3de9-49ef-c6ae-6b35299751eb"
      },
      "execution_count": 17,
      "outputs": [
        {
          "output_type": "stream",
          "name": "stdout",
          "text": [
            "43\n"
          ]
        }
      ]
    },
    {
      "cell_type": "code",
      "source": [
        "pikachu(42)"
      ],
      "metadata": {
        "colab": {
          "base_uri": "https://localhost:8080/"
        },
        "id": "To9CWuiWQ3k3",
        "outputId": "fff2d919-4a57-43a1-bba5-547e2aa42a4e"
      },
      "execution_count": 16,
      "outputs": [
        {
          "output_type": "stream",
          "name": "stdout",
          "text": [
            "43\n"
          ]
        }
      ]
    },
    {
      "cell_type": "code",
      "source": [
        ""
      ],
      "metadata": {
        "id": "C6cczlCSQ4kJ"
      },
      "execution_count": null,
      "outputs": []
    }
  ]
}