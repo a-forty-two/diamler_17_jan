{
  "nbformat": 4,
  "nbformat_minor": 0,
  "metadata": {
    "colab": {
      "name": "Errors and Metrics.ipynb",
      "provenance": [],
      "authorship_tag": "ABX9TyMoAPrSl4Onf/US+gJzbyNS",
      "include_colab_link": true
    },
    "kernelspec": {
      "name": "python3",
      "display_name": "Python 3"
    },
    "language_info": {
      "name": "python"
    }
  },
  "cells": [
    {
      "cell_type": "markdown",
      "metadata": {
        "id": "view-in-github",
        "colab_type": "text"
      },
      "source": [
        "<a href=\"https://colab.research.google.com/github/a-forty-two/diamler_17_jan/blob/main/00%20Errors_and_Metrics.ipynb\" target=\"_parent\"><img src=\"https://colab.research.google.com/assets/colab-badge.svg\" alt=\"Open In Colab\"/></a>"
      ]
    },
    {
      "cell_type": "code",
      "execution_count": 1,
      "metadata": {
        "id": "0I_h25mIKH2y"
      },
      "outputs": [],
      "source": [
        "# input-> dataset\n",
        "# identify-> Input Features (X) and Output Label (Y)\n",
        "# output-> after ML-> ML Equation \n",
        "# y=mx + c-> regression \n",
        "# y<=mx + c; y> mx+c-> binary classification\n",
        "# usage-> ML equation-> PREDICT the values"
      ]
    },
    {
      "cell_type": "code",
      "source": [
        "# divide-> training and scoring \n",
        "# training-> to teach the model\n",
        "# scoring-> to test the model "
      ],
      "metadata": {
        "id": "4q5NwVbAMLlW"
      },
      "execution_count": 2,
      "outputs": []
    },
    {
      "cell_type": "code",
      "source": [
        "# once the model is ready-> predictions P emerging out of equation\n",
        "\n",
        "# the difference between our known results (from Score dataset)\n",
        "# and the predictions P is called ERROR \n"
      ],
      "metadata": {
        "id": "RWeDfnQFMS_c"
      },
      "execution_count": 3,
      "outputs": []
    },
    {
      "cell_type": "code",
      "source": [
        "# ytest = [0,1,0,1,-1,-1]\n",
        "# P = [0,-1,0,-1,1,1]\n",
        "# difference between ytest and P\n",
        "# ytest-P = [ 0-0, 1-(-1), 0-0, 1-(-1), -1-(+1), -1-(+1) ]\n",
        "# ytest-P = [0, 2, 0, 2, -2, -2]\n",
        "# total error= 0+2+0+2-2-2?\n",
        "# Does this mean my total error was 0?"
      ],
      "metadata": {
        "id": "x18puxFNM95g"
      },
      "execution_count": 4,
      "outputs": []
    },
    {
      "cell_type": "code",
      "source": [
        "# Zero Error is impossible and it has ALREADY been observed that\n",
        "# our error is most surely not NULL! "
      ],
      "metadata": {
        "id": "3buZO7A6Nes9"
      },
      "execution_count": 5,
      "outputs": []
    },
    {
      "cell_type": "code",
      "source": [
        "# 2 approaches\n",
        "# 1st- Absolute Values\n",
        "# 2nd- Square the Values"
      ],
      "metadata": {
        "id": "X1g5ahIINthf"
      },
      "execution_count": 7,
      "outputs": []
    },
    {
      "cell_type": "code",
      "source": [
        "# 1st Absolute Values\n",
        "# ytest = [0,1,0,1,-1,-1]\n",
        "# P = [0,-1,0,-1,1,1]\n",
        "# ytest_abs = | ytest - P | = [0, 2, 0, 2 , 2, 2]\n",
        "# Absolute Error= 0+2+0+2+2+2 = 8\n",
        "# Mean Absolute Error= absolute error/N = 8/6 = 1.3333\n",
        "# 7X1 = 7 +- 1.3333"
      ],
      "metadata": {
        "id": "bMjl_AQeNwmq"
      },
      "execution_count": 8,
      "outputs": []
    },
    {
      "cell_type": "code",
      "source": [
        "# Square the values\n",
        "# ytest = [0,1,0,1,-1,-1]\n",
        "# P = [0,-1,0,-1,1,1]\n",
        "# Squared Errors = [0, 4, 0, 4, 4, 4]\n",
        "# Total Suquared Errors = 16\n",
        "# Mean Squared Error = TotalSquaredError/N = 16/6 = 2.666\n",
        "# Root Mean Squared Error = root(MeanSquaredError)"
      ],
      "metadata": {
        "id": "8ta1PZO0O7dE"
      },
      "execution_count": null,
      "outputs": []
    },
    {
      "cell_type": "code",
      "source": [
        "from sklearn.metrics import mean_squared_error, mean_absolute_error\n",
        "\n",
        "ytest = [0,1,0,1,-1,-1]\n",
        "P = [0,-1,0,-1,1,1]\n"
      ],
      "metadata": {
        "id": "RaMfE1IuPsFw"
      },
      "execution_count": 9,
      "outputs": []
    },
    {
      "cell_type": "code",
      "source": [
        "mean_absolute_error(ytest, P)"
      ],
      "metadata": {
        "colab": {
          "base_uri": "https://localhost:8080/"
        },
        "id": "MikOVoXmPqFP",
        "outputId": "67328844-06c9-4171-c48c-031e4a2769c9"
      },
      "execution_count": 10,
      "outputs": [
        {
          "output_type": "execute_result",
          "data": {
            "text/plain": [
              "1.3333333333333333"
            ]
          },
          "metadata": {},
          "execution_count": 10
        }
      ]
    },
    {
      "cell_type": "code",
      "source": [
        "mean_squared_error(ytest, P)"
      ],
      "metadata": {
        "colab": {
          "base_uri": "https://localhost:8080/"
        },
        "id": "3K2qWWsHPusF",
        "outputId": "e112fbd2-f512-4e0b-c7cf-899c3d2ab320"
      },
      "execution_count": 11,
      "outputs": [
        {
          "output_type": "execute_result",
          "data": {
            "text/plain": [
              "2.6666666666666665"
            ]
          },
          "metadata": {},
          "execution_count": 11
        }
      ]
    },
    {
      "cell_type": "code",
      "source": [
        "# root mean squared error\n",
        "mean_squared_error(ytest,P, squared=False)"
      ],
      "metadata": {
        "colab": {
          "base_uri": "https://localhost:8080/"
        },
        "id": "D3DWxnXoPy8W",
        "outputId": "b1c24d18-1b1e-40e9-ab59-8f3c65e31f11"
      },
      "execution_count": 13,
      "outputs": [
        {
          "output_type": "execute_result",
          "data": {
            "text/plain": [
              "1.632993161855452"
            ]
          },
          "metadata": {},
          "execution_count": 13
        }
      ]
    },
    {
      "cell_type": "code",
      "source": [
        ""
      ],
      "metadata": {
        "id": "ddFleBlxQMlx"
      },
      "execution_count": null,
      "outputs": []
    }
  ]
}