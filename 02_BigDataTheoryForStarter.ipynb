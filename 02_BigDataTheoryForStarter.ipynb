{
  "nbformat": 4,
  "nbformat_minor": 0,
  "metadata": {
    "colab": {
      "name": "02 BigDataTheoryForStarter.ipynb",
      "provenance": [],
      "authorship_tag": "ABX9TyNJ8qc4fiTq4bk8lciLyLxv",
      "include_colab_link": true
    },
    "kernelspec": {
      "name": "python3",
      "display_name": "Python 3"
    },
    "language_info": {
      "name": "python"
    }
  },
  "cells": [
    {
      "cell_type": "markdown",
      "metadata": {
        "id": "view-in-github",
        "colab_type": "text"
      },
      "source": [
        "<a href=\"https://colab.research.google.com/github/a-forty-two/diamler_17_jan/blob/main/02_BigDataTheoryForStarter.ipynb\" target=\"_parent\"><img src=\"https://colab.research.google.com/assets/colab-badge.svg\" alt=\"Open In Colab\"/></a>"
      ]
    },
    {
      "cell_type": "code",
      "execution_count": 1,
      "metadata": {
        "id": "nc1B9bes1RJC"
      },
      "outputs": [],
      "source": [
        "# TSA-> Univariate, Multivariate\n",
        "# x axis-> always time=> time series analysis \n",
        "# this series may also be index! \n",
        "# Weather prediction, Time to Live (TTL), expiry dates, maintenance windows\n",
        "# Boundary that fits into the data-> if your data is sparse-> leads to classification\n",
        "# if your data is dense and vector-> leads to regression\n",
        "# Linear regression-> dense data-> continue the regression and predict more values\n",
        "# Linear regression-> sparse data-> classify new points above or below the curve!\n"
      ]
    },
    {
      "cell_type": "code",
      "source": [
        ""
      ],
      "metadata": {
        "id": "9ge3vqwc2Tvv"
      },
      "execution_count": null,
      "outputs": []
    },
    {
      "cell_type": "code",
      "source": [
        "# sharding -> breaking into partial files \n",
        "# Colossus-> distributed storage using sharding\n",
        "# Colossus-> HDFS -> file format: apache parquet "
      ],
      "metadata": {
        "id": "Ch3Rupc-4PjE"
      },
      "execution_count": null,
      "outputs": []
    },
    {
      "cell_type": "code",
      "source": [
        "#        small- imperative ----- big data- declarative   \n",
        "# a=1   a=?       1               ok\n",
        "# b=2   b=?       2               ok\n",
        "# c=a+b. c=?      3               ok\n",
        "# print(c) ?      \"3\"             optimize->build the graph()-> exceute()->3\n",
        "\n",
        "# imperative -> compilation/interpret \n",
        "# you tell how to do and what to do\n",
        "# python-> precompiled c++ and then interpreted \n",
        "# C++/C-> interpreted assembly which is compiled \n",
        "# examples: all programming \n",
        "\n",
        "# declarative-> Build an execution methodology \n",
        "# you tell computer what to do; computer has to figure out how to do\n",
        "# data structure-> Directed Acyclic Graph\n",
        "# contains directions (start and ending point)\n",
        "# contain NO CYCLES (no loops! will not run infinitely)\n",
        "# examples: TensorFlow, DialogFlow, Airflow, Spark/DataBricks, Apache Beam\n",
        "# HTML"
      ],
      "metadata": {
        "id": "t1YCHoNe4ikJ"
      },
      "execution_count": null,
      "outputs": []
    }
  ]
}