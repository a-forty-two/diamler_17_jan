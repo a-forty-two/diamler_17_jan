{
  "nbformat": 4,
  "nbformat_minor": 0,
  "metadata": {
    "colab": {
      "name": "00 List Comprehension.ipynb",
      "provenance": [],
      "authorship_tag": "ABX9TyMLkczgcZUXEkmiPH2bG3Fm",
      "include_colab_link": true
    },
    "kernelspec": {
      "name": "python3",
      "display_name": "Python 3"
    },
    "language_info": {
      "name": "python"
    }
  },
  "cells": [
    {
      "cell_type": "markdown",
      "metadata": {
        "id": "view-in-github",
        "colab_type": "text"
      },
      "source": [
        "<a href=\"https://colab.research.google.com/github/a-forty-two/diamler_17_jan/blob/main/00_List_Comprehension.ipynb\" target=\"_parent\"><img src=\"https://colab.research.google.com/assets/colab-badge.svg\" alt=\"Open In Colab\"/></a>"
      ]
    },
    {
      "cell_type": "code",
      "execution_count": 1,
      "metadata": {
        "id": "StPDIw6594T-"
      },
      "outputs": [],
      "source": [
        "# lambda-> 1 line execution (also ETL)\n",
        "# list comprehension -> (ETL of LISTS)uses lambda style 1 line execution\n",
        "#       -> objective is to loop over a dataset and generate data \n",
        "#       -> Extract from a list, transform within a column, load the resulting\n",
        "#             list anywhere"
      ]
    },
    {
      "cell_type": "code",
      "source": [
        "odds = range(1,25, 2)"
      ],
      "metadata": {
        "id": "-hRLpKx0-b4c"
      },
      "execution_count": 2,
      "outputs": []
    },
    {
      "cell_type": "code",
      "source": [
        "for i in odds:\n",
        "  print(i, end=\" \")"
      ],
      "metadata": {
        "colab": {
          "base_uri": "https://localhost:8080/"
        },
        "id": "3smtk6LI-kpy",
        "outputId": "69961e1f-49c5-4af9-d28a-10dfb5bc3592"
      },
      "execution_count": 4,
      "outputs": [
        {
          "output_type": "stream",
          "name": "stdout",
          "text": [
            "1 3 5 7 9 11 13 15 17 19 21 23 "
          ]
        }
      ]
    },
    {
      "cell_type": "code",
      "source": [
        "# Transformation\n",
        "# syntax-> [ How_to_tx_individual_row for_loop_original_data ]\n",
        "even = [ odd+1 for odd in odds]"
      ],
      "metadata": {
        "id": "unRx9GxN-lY7"
      },
      "execution_count": 5,
      "outputs": []
    },
    {
      "cell_type": "code",
      "source": [
        "even"
      ],
      "metadata": {
        "colab": {
          "base_uri": "https://localhost:8080/"
        },
        "id": "-a2PqALG_Hty",
        "outputId": "3cfe6c8a-194f-41a0-f003-0b8b41b19118"
      },
      "execution_count": 6,
      "outputs": [
        {
          "output_type": "execute_result",
          "data": {
            "text/plain": [
              "[2, 4, 6, 8, 10, 12, 14, 16, 18, 20, 22, 24]"
            ]
          },
          "metadata": {},
          "execution_count": 6
        }
      ]
    },
    {
      "cell_type": "code",
      "source": [
        "# conditional tranformations\n",
        "square_div_by_5 = [ odd*odd if odd%5==0 else None for odd in odds]"
      ],
      "metadata": {
        "id": "ITGgDDNJ_IzY"
      },
      "execution_count": 9,
      "outputs": []
    },
    {
      "cell_type": "code",
      "source": [
        "square_div_by_5"
      ],
      "metadata": {
        "colab": {
          "base_uri": "https://localhost:8080/"
        },
        "id": "bnCP8FZ6_ncR",
        "outputId": "9503169b-2c73-4fe7-9e70-5201ad42c67b"
      },
      "execution_count": 10,
      "outputs": [
        {
          "output_type": "execute_result",
          "data": {
            "text/plain": [
              "[None, None, 25, None, None, None, None, 225, None, None, None, None]"
            ]
          },
          "metadata": {},
          "execution_count": 10
        }
      ]
    },
    {
      "cell_type": "code",
      "source": [
        "#dictionary comprehension \n",
        "nums = { 1:2, \"pikachu\":\"shaktiman\", True:False, 0.14:3.14}\n"
      ],
      "metadata": {
        "id": "2OSrowrM_pJ2"
      },
      "execution_count": 11,
      "outputs": []
    },
    {
      "cell_type": "code",
      "source": [
        "opposite_nums = { value:key for key,value in nums.items()}"
      ],
      "metadata": {
        "id": "2aUKANlrAzKW"
      },
      "execution_count": 12,
      "outputs": []
    },
    {
      "cell_type": "code",
      "source": [
        "opposite_nums"
      ],
      "metadata": {
        "colab": {
          "base_uri": "https://localhost:8080/"
        },
        "id": "G0qH5gnwBHmu",
        "outputId": "eeb897ed-a8df-4eba-ac69-41779518bfb7"
      },
      "execution_count": 13,
      "outputs": [
        {
          "output_type": "execute_result",
          "data": {
            "text/plain": [
              "{3.14: 0.14, False: 1, 'shaktiman': 'pikachu'}"
            ]
          },
          "metadata": {},
          "execution_count": 13
        }
      ]
    },
    {
      "cell_type": "code",
      "source": [
        "word_thes = {1:\"hello\", 2:'bye', 3:'world', 4:'sun'}"
      ],
      "metadata": {
        "id": "HfTGIR-WBIvI"
      },
      "execution_count": 22,
      "outputs": []
    },
    {
      "cell_type": "code",
      "source": [
        "# enter a new term- bird -> position 0, and word-> 1"
      ],
      "metadata": {
        "id": "C88tpbekBgnQ"
      },
      "execution_count": 16,
      "outputs": []
    },
    {
      "cell_type": "code",
      "source": [
        "# enter a new element\n",
        "# shift all the keys by 1 position"
      ],
      "metadata": {
        "id": "rgTtNO9vBnua"
      },
      "execution_count": 17,
      "outputs": []
    },
    {
      "cell_type": "code",
      "source": [
        ""
      ],
      "metadata": {
        "id": "MSUqlkLkBuW6"
      },
      "execution_count": 18,
      "outputs": []
    },
    {
      "cell_type": "code",
      "source": [
        "word_thes = { k+1:v for k,v in word_thes.items()}"
      ],
      "metadata": {
        "id": "2uU7o5KJBzCz"
      },
      "execution_count": 23,
      "outputs": []
    },
    {
      "cell_type": "code",
      "source": [
        "word_thes[0] = \"bird\"\n",
        "word_thes[1] = \"word\""
      ],
      "metadata": {
        "id": "IWK1IKXfB8x0"
      },
      "execution_count": 24,
      "outputs": []
    },
    {
      "cell_type": "code",
      "source": [
        "word_thes"
      ],
      "metadata": {
        "colab": {
          "base_uri": "https://localhost:8080/"
        },
        "id": "Dwcm6msMB_kb",
        "outputId": "8733a9da-683b-4239-83e4-81713e327481"
      },
      "execution_count": 25,
      "outputs": [
        {
          "output_type": "execute_result",
          "data": {
            "text/plain": [
              "{0: 'bird', 1: 'word', 2: 'hello', 3: 'bye', 4: 'world', 5: 'sun'}"
            ]
          },
          "metadata": {},
          "execution_count": 25
        }
      ]
    },
    {
      "cell_type": "code",
      "source": [
        ""
      ],
      "metadata": {
        "id": "XZN93B9vCBNY"
      },
      "execution_count": null,
      "outputs": []
    }
  ]
}